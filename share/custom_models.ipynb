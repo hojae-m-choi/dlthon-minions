{
 "cells": [
  {
   "cell_type": "markdown",
   "id": "f178b641",
   "metadata": {
    "id": "a63262ad"
   },
   "source": [
    "# 데이터"
   ]
  },
  {
   "cell_type": "code",
   "execution_count": 1,
   "id": "3fc654e7",
   "metadata": {
    "id": "cf7ba9f6"
   },
   "outputs": [],
   "source": [
    "# 라이브러리 불러오기\n",
    "import os\n",
    "import numpy as np\n",
    "import pandas as pd\n",
    "import matplotlib.pyplot as plt\n",
    "import seaborn as sns\n",
    "import tensorflow as tf\n",
    "from tensorflow import keras\n",
    "\n",
    "import re\n",
    "from collections import Counter\n",
    "import sentencepiece as spm\n",
    "from konlpy.tag import Okt\n",
    "from konlpy.tag import Mecab\n",
    "import csv \n",
    "from tensorflow.keras.preprocessing.sequence import pad_sequences\n",
    "from sklearn.model_selection import train_test_split\n",
    "\n",
    "from tensorflow.keras.models import Sequential\n",
    "import tensorflow_addons as tfa\n",
    "from itertools import combinations\n",
    "from sklearn.metrics import (\n",
    "    accuracy_score, \n",
    "    precision_score, \n",
    "    recall_score, \n",
    "    f1_score, \n",
    "    confusion_matrix\n",
    ")"
   ]
  },
  {
   "cell_type": "code",
   "execution_count": 2,
   "id": "b22f94be",
   "metadata": {
    "id": "SlAOhRs09rt2"
   },
   "outputs": [],
   "source": [
    "# 한글 폰트에 문제가 생겼을 때\n",
    "\n",
    "# 한글 폰트 설치\n",
    "!apt-get update -qq\n",
    "!apt-get install -qq fonts-nanum\n",
    "\n",
    "# 설치한 폰트를 matplotlib에서 사용할 수 있도록 설정\n",
    "import matplotlib.font_manager as fm\n",
    "import matplotlib.pyplot as plt\n",
    "\n",
    "# 나눔 폰트 경로 설정\n",
    "font_path = '/usr/share/fonts/truetype/nanum/NanumGothic.ttf'\n",
    "\n",
    "# 폰트 매니저에 폰트 추가\n",
    "fm.fontManager.addfont(font_path)\n",
    "plt.rc('font', family='NanumGothic')  # 폰트 설정"
   ]
  },
  {
   "cell_type": "markdown",
   "id": "aff7f43e",
   "metadata": {
    "id": "482d4066"
   },
   "source": [
    "## 데이터 업로드"
   ]
  },
  {
   "cell_type": "markdown",
   "id": "38fdadf6",
   "metadata": {
    "id": "7ae4fc0d"
   },
   "source": [
    "#### 학습 데이터 불러오기\n",
    "\n",
    "프롬프트로 생성된 '일반 대화' 합성 데이터와 원본 데이터가 합쳐진 파일"
   ]
  },
  {
   "cell_type": "code",
   "execution_count": 3,
   "id": "0978a175",
   "metadata": {
    "id": "b13d6792"
   },
   "outputs": [],
   "source": [
    "train_data_path =\"/aiffel/aiffel/dlthon-minions/share/data/conversations.csv\"\n",
    "train_data = pd.read_csv(train_data_path)\n",
    "# 원본 데이터 저장\n",
    "origin_data = train_data"
   ]
  },
  {
   "cell_type": "code",
   "execution_count": 4,
   "id": "c3fac56f",
   "metadata": {
    "colab": {
     "base_uri": "https://localhost:8080/",
     "height": 362
    },
    "id": "960aefbc",
    "outputId": "0a63c37c-ea2e-465c-830f-f36405289505"
   },
   "outputs": [
    {
     "data": {
      "text/html": [
       "<div>\n",
       "<style scoped>\n",
       "    .dataframe tbody tr th:only-of-type {\n",
       "        vertical-align: middle;\n",
       "    }\n",
       "\n",
       "    .dataframe tbody tr th {\n",
       "        vertical-align: top;\n",
       "    }\n",
       "\n",
       "    .dataframe thead th {\n",
       "        text-align: right;\n",
       "    }\n",
       "</style>\n",
       "<table border=\"1\" class=\"dataframe\">\n",
       "  <thead>\n",
       "    <tr style=\"text-align: right;\">\n",
       "      <th></th>\n",
       "      <th>idx</th>\n",
       "      <th>class</th>\n",
       "      <th>conversation</th>\n",
       "    </tr>\n",
       "  </thead>\n",
       "  <tbody>\n",
       "    <tr>\n",
       "      <th>3634</th>\n",
       "      <td>3634</td>\n",
       "      <td>갈취 대화</td>\n",
       "      <td>야 담배 하나만.\\n네?\\n거기 담배 내놔봐.\\n나한테 맡겨놓으셨어요?\\n내놔라고....</td>\n",
       "    </tr>\n",
       "    <tr>\n",
       "      <th>1610</th>\n",
       "      <td>1610</td>\n",
       "      <td>갈취 대화</td>\n",
       "      <td>씨 시계 좋아보인다. 어디서 샀어?\\n 지난 번에 면세점에서 샀어요? 예뻐요?\\n ...</td>\n",
       "    </tr>\n",
       "    <tr>\n",
       "      <th>2715</th>\n",
       "      <td>2715</td>\n",
       "      <td>협박 대화</td>\n",
       "      <td>어머 이게 누구야 오랜만이네\\n아니 너는?\\n너? 그때 니가 덜맞았나보네 정신을 못...</td>\n",
       "    </tr>\n",
       "    <tr>\n",
       "      <th>4272</th>\n",
       "      <td>4272</td>\n",
       "      <td>일반 대화</td>\n",
       "      <td>요리하는 거 즐겨?\\n응, 새로운 요리 도전하는 게 재밌어.\\n요즘 무슨 취미 있어...</td>\n",
       "    </tr>\n",
       "    <tr>\n",
       "      <th>67</th>\n",
       "      <td>67</td>\n",
       "      <td>협박 대화</td>\n",
       "      <td>이 버튼 하나면 건물이 무너질 겁니다.\\n뭐라고?\\n십 년 전 성당에서처럼 달려보시...</td>\n",
       "    </tr>\n",
       "    <tr>\n",
       "      <th>1223</th>\n",
       "      <td>1223</td>\n",
       "      <td>갈취 대화</td>\n",
       "      <td>현우야 나 7만원만 빌려주라\\n 동우야 저번에도 10만원 빌렸잖아\\n 야 현우야 그...</td>\n",
       "    </tr>\n",
       "    <tr>\n",
       "      <th>1701</th>\n",
       "      <td>1701</td>\n",
       "      <td>협박 대화</td>\n",
       "      <td>야 넌 죽어야돼 알어?\\n 무슨 말이야 내가 뭘 했다고?\\n정말 몰라서 물어 니가 ...</td>\n",
       "    </tr>\n",
       "    <tr>\n",
       "      <th>2416</th>\n",
       "      <td>2416</td>\n",
       "      <td>일반 대화</td>\n",
       "      <td>여행 가고 싶다.\\n그러게, 빨리 계획 세우자.\\n휴가 언제 가?\\n다음 달에 가....</td>\n",
       "    </tr>\n",
       "    <tr>\n",
       "      <th>3364</th>\n",
       "      <td>3364</td>\n",
       "      <td>협박 대화</td>\n",
       "      <td>운전을 그렇게 하면 어떡해???\\n아저씨 왜 반말하세요?\\n나보다 어리니깐 반말하지...</td>\n",
       "    </tr>\n",
       "    <tr>\n",
       "      <th>2709</th>\n",
       "      <td>2709</td>\n",
       "      <td>기타 괴롭힘 대화</td>\n",
       "      <td>왜 이렇게 안내려 오죠?\\n15층에서 누가 잡고 있나봐요.\\n에이. 바쁜데. 왜 이...</td>\n",
       "    </tr>\n",
       "  </tbody>\n",
       "</table>\n",
       "</div>"
      ],
      "text/plain": [
       "       idx      class                                       conversation\n",
       "3634  3634      갈취 대화  야 담배 하나만.\\n네?\\n거기 담배 내놔봐.\\n나한테 맡겨놓으셨어요?\\n내놔라고....\n",
       "1610  1610      갈취 대화  씨 시계 좋아보인다. 어디서 샀어?\\n 지난 번에 면세점에서 샀어요? 예뻐요?\\n ...\n",
       "2715  2715      협박 대화  어머 이게 누구야 오랜만이네\\n아니 너는?\\n너? 그때 니가 덜맞았나보네 정신을 못...\n",
       "4272  4272      일반 대화  요리하는 거 즐겨?\\n응, 새로운 요리 도전하는 게 재밌어.\\n요즘 무슨 취미 있어...\n",
       "67      67      협박 대화  이 버튼 하나면 건물이 무너질 겁니다.\\n뭐라고?\\n십 년 전 성당에서처럼 달려보시...\n",
       "1223  1223      갈취 대화  현우야 나 7만원만 빌려주라\\n 동우야 저번에도 10만원 빌렸잖아\\n 야 현우야 그...\n",
       "1701  1701      협박 대화  야 넌 죽어야돼 알어?\\n 무슨 말이야 내가 뭘 했다고?\\n정말 몰라서 물어 니가 ...\n",
       "2416  2416      일반 대화  여행 가고 싶다.\\n그러게, 빨리 계획 세우자.\\n휴가 언제 가?\\n다음 달에 가....\n",
       "3364  3364      협박 대화  운전을 그렇게 하면 어떡해???\\n아저씨 왜 반말하세요?\\n나보다 어리니깐 반말하지...\n",
       "2709  2709  기타 괴롭힘 대화  왜 이렇게 안내려 오죠?\\n15층에서 누가 잡고 있나봐요.\\n에이. 바쁜데. 왜 이..."
      ]
     },
     "execution_count": 4,
     "metadata": {},
     "output_type": "execute_result"
    }
   ],
   "source": [
    "train_data.sample(10)"
   ]
  },
  {
   "cell_type": "code",
   "execution_count": 5,
   "id": "556596c5",
   "metadata": {
    "colab": {
     "base_uri": "https://localhost:8080/"
    },
    "id": "662ed8cb",
    "outputId": "bf7af049-16d1-411f-e51b-7e2388e895c9"
   },
   "outputs": [
    {
     "name": "stdout",
     "output_type": "stream",
     "text": [
      "<class 'pandas.core.frame.DataFrame'>\n",
      "RangeIndex: 4950 entries, 0 to 4949\n",
      "Data columns (total 3 columns):\n",
      " #   Column        Non-Null Count  Dtype \n",
      "---  ------        --------------  ----- \n",
      " 0   idx           4950 non-null   int64 \n",
      " 1   class         4950 non-null   object\n",
      " 2   conversation  4950 non-null   object\n",
      "dtypes: int64(1), object(2)\n",
      "memory usage: 116.1+ KB\n"
     ]
    }
   ],
   "source": [
    "train_data.info()"
   ]
  },
  {
   "cell_type": "markdown",
   "id": "847d8842",
   "metadata": {
    "id": "a2dc1dd9"
   },
   "source": [
    "## 전처리"
   ]
  },
  {
   "cell_type": "markdown",
   "id": "09fbe11e",
   "metadata": {
    "id": "01b2fd43"
   },
   "source": [
    "### 기본 전처리"
   ]
  },
  {
   "cell_type": "markdown",
   "id": "83ac2578",
   "metadata": {
    "id": "OYxUovemAv20"
   },
   "source": [
    "#### 중복값 여부 찾아보기"
   ]
  },
  {
   "cell_type": "code",
   "execution_count": 6,
   "id": "96181d60",
   "metadata": {
    "colab": {
     "base_uri": "https://localhost:8080/",
     "height": 89
    },
    "id": "cB1L0F_TAi_C",
    "outputId": "b61694e1-9aab-493d-92b0-2d51a5c1a8a8"
   },
   "outputs": [
    {
     "data": {
      "text/html": [
       "<div>\n",
       "<style scoped>\n",
       "    .dataframe tbody tr th:only-of-type {\n",
       "        vertical-align: middle;\n",
       "    }\n",
       "\n",
       "    .dataframe tbody tr th {\n",
       "        vertical-align: top;\n",
       "    }\n",
       "\n",
       "    .dataframe thead th {\n",
       "        text-align: right;\n",
       "    }\n",
       "</style>\n",
       "<table border=\"1\" class=\"dataframe\">\n",
       "  <thead>\n",
       "    <tr style=\"text-align: right;\">\n",
       "      <th></th>\n",
       "      <th>idx</th>\n",
       "      <th>class</th>\n",
       "      <th>conversation</th>\n",
       "    </tr>\n",
       "  </thead>\n",
       "  <tbody>\n",
       "  </tbody>\n",
       "</table>\n",
       "</div>"
      ],
      "text/plain": [
       "Empty DataFrame\n",
       "Columns: [idx, class, conversation]\n",
       "Index: []"
      ]
     },
     "execution_count": 6,
     "metadata": {},
     "output_type": "execute_result"
    }
   ],
   "source": [
    "# 중복값 찾기\n",
    "duplicates = train_data[train_data.duplicated()]\n",
    "duplicates"
   ]
  },
  {
   "cell_type": "markdown",
   "id": "ae3d27f0",
   "metadata": {},
   "source": [
    "중복값 없음"
   ]
  },
  {
   "cell_type": "markdown",
   "id": "c19fef57",
   "metadata": {
    "id": "j0pOinZUARe5"
   },
   "source": [
    "#### 결측치 여부 확인하기"
   ]
  },
  {
   "cell_type": "code",
   "execution_count": 7,
   "id": "15355446",
   "metadata": {
    "colab": {
     "base_uri": "https://localhost:8080/"
    },
    "id": "f5JBxYdiAMVC",
    "outputId": "e600fe25-72c4-47c4-e687-cacd5a91e6f9"
   },
   "outputs": [
    {
     "data": {
      "text/plain": [
       "idx             0\n",
       "class           0\n",
       "conversation    0\n",
       "dtype: int64"
      ]
     },
     "execution_count": 7,
     "metadata": {},
     "output_type": "execute_result"
    }
   ],
   "source": [
    "# 결측치 여부 확인하기\n",
    "train_data.isnull().sum()"
   ]
  },
  {
   "cell_type": "markdown",
   "id": "96ef7440",
   "metadata": {},
   "source": [
    "결측치 없음"
   ]
  },
  {
   "cell_type": "markdown",
   "id": "4658764d",
   "metadata": {
    "id": "5StEP_y9HGHC"
   },
   "source": [
    "#### 클래스 컬럼 인코딩하기"
   ]
  },
  {
   "cell_type": "code",
   "execution_count": 8,
   "id": "2f6fd97b",
   "metadata": {
    "id": "GjX684X4HDdT"
   },
   "outputs": [],
   "source": [
    "# 'class'를 'type'으로 매핑하는 딕셔너리 생성하기\n",
    "class_to_type = {\n",
    "    '협박 대화': 0,\n",
    "    '갈취 대화': 1,\n",
    "    '직장 내 괴롭힘 대화': 2,\n",
    "    '기타 괴롭힘 대화': 3,\n",
    "    '일반 대화': 4\n",
    "}"
   ]
  },
  {
   "cell_type": "code",
   "execution_count": 9,
   "id": "42a9d87a",
   "metadata": {
    "id": "xRYGA8ftH-4V"
   },
   "outputs": [],
   "source": [
    "# 'class' 열을 기반으로 새로운 'type' 열 추가하기\n",
    "train_data['type'] = train_data['class'].map(class_to_type)"
   ]
  },
  {
   "cell_type": "code",
   "execution_count": 10,
   "id": "90047f54",
   "metadata": {
    "colab": {
     "base_uri": "https://localhost:8080/",
     "height": 206
    },
    "id": "EtcFaPyJIHGk",
    "outputId": "d67bb466-6612-4dd5-e289-4031489f5299"
   },
   "outputs": [
    {
     "data": {
      "text/html": [
       "<div>\n",
       "<style scoped>\n",
       "    .dataframe tbody tr th:only-of-type {\n",
       "        vertical-align: middle;\n",
       "    }\n",
       "\n",
       "    .dataframe tbody tr th {\n",
       "        vertical-align: top;\n",
       "    }\n",
       "\n",
       "    .dataframe thead th {\n",
       "        text-align: right;\n",
       "    }\n",
       "</style>\n",
       "<table border=\"1\" class=\"dataframe\">\n",
       "  <thead>\n",
       "    <tr style=\"text-align: right;\">\n",
       "      <th></th>\n",
       "      <th>idx</th>\n",
       "      <th>class</th>\n",
       "      <th>conversation</th>\n",
       "      <th>type</th>\n",
       "    </tr>\n",
       "  </thead>\n",
       "  <tbody>\n",
       "    <tr>\n",
       "      <th>0</th>\n",
       "      <td>0</td>\n",
       "      <td>일반 대화</td>\n",
       "      <td>학교 점심 뭐 나와?\\n주로 한식이 나와.\\n학원 다녀?\\n응, 영어 학원 다녀.\\...</td>\n",
       "      <td>4</td>\n",
       "    </tr>\n",
       "    <tr>\n",
       "      <th>1</th>\n",
       "      <td>1</td>\n",
       "      <td>기타 괴롭힘 대화</td>\n",
       "      <td>어이 거기 뒤뚱거리는 놈 \\n나?\\n그래 너 여기 뒤뚱거리는 놈이 너밖에 더 있냐?...</td>\n",
       "      <td>3</td>\n",
       "    </tr>\n",
       "    <tr>\n",
       "      <th>2</th>\n",
       "      <td>2</td>\n",
       "      <td>협박 대화</td>\n",
       "      <td>너 그따위로 운전하면 확 갈아마셔버린다.\\n 뭐라구?\\n 나와 이 자식아. 미안하단...</td>\n",
       "      <td>0</td>\n",
       "    </tr>\n",
       "    <tr>\n",
       "      <th>3</th>\n",
       "      <td>3</td>\n",
       "      <td>직장 내 괴롭힘 대화</td>\n",
       "      <td>길동씨 이번에 이것좀 처리해요\\n이거 제가 한게 아닌데요\\n팀에서 내가 니가가 어딨...</td>\n",
       "      <td>2</td>\n",
       "    </tr>\n",
       "    <tr>\n",
       "      <th>4</th>\n",
       "      <td>4</td>\n",
       "      <td>일반 대화</td>\n",
       "      <td>비가 많이 오네.\\n우산 가져왔어?\\n날씨가 추워졌어.\\n맞아, 이제 겨울이야.\\n...</td>\n",
       "      <td>4</td>\n",
       "    </tr>\n",
       "  </tbody>\n",
       "</table>\n",
       "</div>"
      ],
      "text/plain": [
       "   idx        class                                       conversation  type\n",
       "0    0        일반 대화  학교 점심 뭐 나와?\\n주로 한식이 나와.\\n학원 다녀?\\n응, 영어 학원 다녀.\\...     4\n",
       "1    1    기타 괴롭힘 대화  어이 거기 뒤뚱거리는 놈 \\n나?\\n그래 너 여기 뒤뚱거리는 놈이 너밖에 더 있냐?...     3\n",
       "2    2        협박 대화  너 그따위로 운전하면 확 갈아마셔버린다.\\n 뭐라구?\\n 나와 이 자식아. 미안하단...     0\n",
       "3    3  직장 내 괴롭힘 대화  길동씨 이번에 이것좀 처리해요\\n이거 제가 한게 아닌데요\\n팀에서 내가 니가가 어딨...     2\n",
       "4    4        일반 대화  비가 많이 오네.\\n우산 가져왔어?\\n날씨가 추워졌어.\\n맞아, 이제 겨울이야.\\n...     4"
      ]
     },
     "execution_count": 10,
     "metadata": {},
     "output_type": "execute_result"
    }
   ],
   "source": [
    "# type 열 추가했는지 확인하기\n",
    "train_data.head()"
   ]
  },
  {
   "cell_type": "code",
   "execution_count": 11,
   "id": "51b0f815",
   "metadata": {
    "id": "A1jo-6qkHstg"
   },
   "outputs": [
    {
     "data": {
      "text/html": [
       "<div>\n",
       "<style scoped>\n",
       "    .dataframe tbody tr th:only-of-type {\n",
       "        vertical-align: middle;\n",
       "    }\n",
       "\n",
       "    .dataframe tbody tr th {\n",
       "        vertical-align: top;\n",
       "    }\n",
       "\n",
       "    .dataframe thead th {\n",
       "        text-align: right;\n",
       "    }\n",
       "</style>\n",
       "<table border=\"1\" class=\"dataframe\">\n",
       "  <thead>\n",
       "    <tr style=\"text-align: right;\">\n",
       "      <th></th>\n",
       "      <th>conversation</th>\n",
       "      <th>type</th>\n",
       "    </tr>\n",
       "  </thead>\n",
       "  <tbody>\n",
       "    <tr>\n",
       "      <th>0</th>\n",
       "      <td>학교 점심 뭐 나와?\\n주로 한식이 나와.\\n학원 다녀?\\n응, 영어 학원 다녀.\\...</td>\n",
       "      <td>4</td>\n",
       "    </tr>\n",
       "    <tr>\n",
       "      <th>1</th>\n",
       "      <td>어이 거기 뒤뚱거리는 놈 \\n나?\\n그래 너 여기 뒤뚱거리는 놈이 너밖에 더 있냐?...</td>\n",
       "      <td>3</td>\n",
       "    </tr>\n",
       "    <tr>\n",
       "      <th>2</th>\n",
       "      <td>너 그따위로 운전하면 확 갈아마셔버린다.\\n 뭐라구?\\n 나와 이 자식아. 미안하단...</td>\n",
       "      <td>0</td>\n",
       "    </tr>\n",
       "    <tr>\n",
       "      <th>3</th>\n",
       "      <td>길동씨 이번에 이것좀 처리해요\\n이거 제가 한게 아닌데요\\n팀에서 내가 니가가 어딨...</td>\n",
       "      <td>2</td>\n",
       "    </tr>\n",
       "    <tr>\n",
       "      <th>4</th>\n",
       "      <td>비가 많이 오네.\\n우산 가져왔어?\\n날씨가 추워졌어.\\n맞아, 이제 겨울이야.\\n...</td>\n",
       "      <td>4</td>\n",
       "    </tr>\n",
       "  </tbody>\n",
       "</table>\n",
       "</div>"
      ],
      "text/plain": [
       "                                        conversation  type\n",
       "0  학교 점심 뭐 나와?\\n주로 한식이 나와.\\n학원 다녀?\\n응, 영어 학원 다녀.\\...     4\n",
       "1  어이 거기 뒤뚱거리는 놈 \\n나?\\n그래 너 여기 뒤뚱거리는 놈이 너밖에 더 있냐?...     3\n",
       "2  너 그따위로 운전하면 확 갈아마셔버린다.\\n 뭐라구?\\n 나와 이 자식아. 미안하단...     0\n",
       "3  길동씨 이번에 이것좀 처리해요\\n이거 제가 한게 아닌데요\\n팀에서 내가 니가가 어딨...     2\n",
       "4  비가 많이 오네.\\n우산 가져왔어?\\n날씨가 추워졌어.\\n맞아, 이제 겨울이야.\\n...     4"
      ]
     },
     "execution_count": 11,
     "metadata": {},
     "output_type": "execute_result"
    }
   ],
   "source": [
    "# 기존 idx, class 컬럼 삭제하기\n",
    "new_train_data = train_data.drop(['idx', 'class'], axis=1)\n",
    "# idx, class 컬럼 삭제했는지 확인하기\n",
    "new_train_data.head()"
   ]
  },
  {
   "cell_type": "code",
   "execution_count": 12,
   "id": "44f4e223",
   "metadata": {
    "id": "bPud0R2yIasN"
   },
   "outputs": [],
   "source": [
    "# new_train_data를 train_data에 덮어 씌우기\n",
    "train_data = new_train_data"
   ]
  },
  {
   "cell_type": "markdown",
   "id": "88e6c308",
   "metadata": {
    "id": "62e949ca"
   },
   "source": [
    "### 텍스트 전처리"
   ]
  },
  {
   "cell_type": "markdown",
   "id": "e1da0831",
   "metadata": {},
   "source": [
    "#### 한글 외 문자 삭제\n",
    "한글, '?', '!', '.', '.', 공백 유지"
   ]
  },
  {
   "cell_type": "code",
   "execution_count": 13,
   "id": "fa6be778",
   "metadata": {},
   "outputs": [],
   "source": [
    "# 전처리 함수\n",
    "def preprocess_sentence(sentence): \n",
    "    # \\n을 공백으로 바꾸기\n",
    "    sentence = re.sub(\"\\n\", \" \", sentence)\n",
    "    \n",
    "    # (ㄱ-ㅎ, ㅏ-ㅣ, \".\", \"?\", \"!\", \",\", ' ')를 제외한 모든 문자를 없애기\n",
    "    sentence = re.sub(\"[^ㄱ-ㅣ가-힣.?!, ]\", \"\", sentence)\n",
    "    \n",
    "    # 단어와 구두점(punctuation) 사이에 공백 추가\n",
    "    sentence = re.sub(r\"([?.!,])\", r\" \\1 \", sentence)\n",
    "    \n",
    "    return sentence"
   ]
  },
  {
   "cell_type": "code",
   "execution_count": 14,
   "id": "6093c5e6",
   "metadata": {},
   "outputs": [
    {
     "data": {
      "text/plain": [
       "0       학교 점심 뭐 나와 ?  주로 한식이 나와 .  학원 다녀 ?  응 ,  영어 학원...\n",
       "1       어이 거기 뒤뚱거리는 놈  나 ?  그래 너 여기 뒤뚱거리는 놈이 너밖에 더 있냐 ...\n",
       "2       너 그따위로 운전하면 확 갈아마셔버린다 .   뭐라구 ?   나와 이 자식아 .  ...\n",
       "3       길동씨 이번에 이것좀 처리해요 이거 제가 한게 아닌데요 팀에서 내가 니가가 어딨어 ...\n",
       "4       비가 많이 오네 .  우산 가져왔어 ?  날씨가 추워졌어 .  맞아 ,  이제 겨울...\n",
       "                              ...                        \n",
       "4945    오 깡패다 니 지금 뭐라했노 말하는것도 깡패네 닌 죽었다 시키야 어디서 건방지게 아...\n",
       "4946    이거 니 주민등록증 아니야 ?  잃어버린줄 알았는데 . 고마워 !  고맙긴 뭘 근데...\n",
       "4947    여행 준비 다 했어 ?  아직 ,  짐 싸는 중이야 .  여행 가방은 다 쌌어 ? ...\n",
       "4948    그거 사줘 안사주면 죽어버릴거야  이러지마 돈없어 나한테 해준게 뭐있어 !  !  ...\n",
       "4949    얘들아 .  이 년 몰골좀 봐 .   야 .  너 좀 씻고다녀 .  우웩 너희가 나...\n",
       "Name: preprocessed, Length: 4950, dtype: object"
      ]
     },
     "execution_count": 14,
     "metadata": {},
     "output_type": "execute_result"
    }
   ],
   "source": [
    "# 전처리 데이터 새로운 column에 저장\n",
    "train_data['preprocessed'] = train_data['conversation'].apply(preprocess_sentence)\n",
    "train_data['preprocessed']"
   ]
  },
  {
   "cell_type": "code",
   "execution_count": 15,
   "id": "5a969703",
   "metadata": {},
   "outputs": [
    {
     "data": {
      "text/html": [
       "<div>\n",
       "<style scoped>\n",
       "    .dataframe tbody tr th:only-of-type {\n",
       "        vertical-align: middle;\n",
       "    }\n",
       "\n",
       "    .dataframe tbody tr th {\n",
       "        vertical-align: top;\n",
       "    }\n",
       "\n",
       "    .dataframe thead th {\n",
       "        text-align: right;\n",
       "    }\n",
       "</style>\n",
       "<table border=\"1\" class=\"dataframe\">\n",
       "  <thead>\n",
       "    <tr style=\"text-align: right;\">\n",
       "      <th></th>\n",
       "      <th>conversation</th>\n",
       "      <th>type</th>\n",
       "    </tr>\n",
       "  </thead>\n",
       "  <tbody>\n",
       "    <tr>\n",
       "      <th>0</th>\n",
       "      <td>학교 점심 뭐 나와 ?  주로 한식이 나와 .  학원 다녀 ?  응 ,  영어 학원...</td>\n",
       "      <td>4</td>\n",
       "    </tr>\n",
       "    <tr>\n",
       "      <th>1</th>\n",
       "      <td>어이 거기 뒤뚱거리는 놈  나 ?  그래 너 여기 뒤뚱거리는 놈이 너밖에 더 있냐 ...</td>\n",
       "      <td>3</td>\n",
       "    </tr>\n",
       "    <tr>\n",
       "      <th>2</th>\n",
       "      <td>너 그따위로 운전하면 확 갈아마셔버린다 .   뭐라구 ?   나와 이 자식아 .  ...</td>\n",
       "      <td>0</td>\n",
       "    </tr>\n",
       "    <tr>\n",
       "      <th>3</th>\n",
       "      <td>길동씨 이번에 이것좀 처리해요 이거 제가 한게 아닌데요 팀에서 내가 니가가 어딨어 ...</td>\n",
       "      <td>2</td>\n",
       "    </tr>\n",
       "    <tr>\n",
       "      <th>4</th>\n",
       "      <td>비가 많이 오네 .  우산 가져왔어 ?  날씨가 추워졌어 .  맞아 ,  이제 겨울...</td>\n",
       "      <td>4</td>\n",
       "    </tr>\n",
       "    <tr>\n",
       "      <th>...</th>\n",
       "      <td>...</td>\n",
       "      <td>...</td>\n",
       "    </tr>\n",
       "    <tr>\n",
       "      <th>4945</th>\n",
       "      <td>오 깡패다 니 지금 뭐라했노 말하는것도 깡패네 닌 죽었다 시키야 어디서 건방지게 아...</td>\n",
       "      <td>0</td>\n",
       "    </tr>\n",
       "    <tr>\n",
       "      <th>4946</th>\n",
       "      <td>이거 니 주민등록증 아니야 ?  잃어버린줄 알았는데 . 고마워 !  고맙긴 뭘 근데...</td>\n",
       "      <td>1</td>\n",
       "    </tr>\n",
       "    <tr>\n",
       "      <th>4947</th>\n",
       "      <td>여행 준비 다 했어 ?  아직 ,  짐 싸는 중이야 .  여행 가방은 다 쌌어 ? ...</td>\n",
       "      <td>4</td>\n",
       "    </tr>\n",
       "    <tr>\n",
       "      <th>4948</th>\n",
       "      <td>그거 사줘 안사주면 죽어버릴거야  이러지마 돈없어 나한테 해준게 뭐있어 !  !  ...</td>\n",
       "      <td>0</td>\n",
       "    </tr>\n",
       "    <tr>\n",
       "      <th>4949</th>\n",
       "      <td>얘들아 .  이 년 몰골좀 봐 .   야 .  너 좀 씻고다녀 .  우웩 너희가 나...</td>\n",
       "      <td>3</td>\n",
       "    </tr>\n",
       "  </tbody>\n",
       "</table>\n",
       "<p>4950 rows × 2 columns</p>\n",
       "</div>"
      ],
      "text/plain": [
       "                                           conversation  type\n",
       "0     학교 점심 뭐 나와 ?  주로 한식이 나와 .  학원 다녀 ?  응 ,  영어 학원...     4\n",
       "1     어이 거기 뒤뚱거리는 놈  나 ?  그래 너 여기 뒤뚱거리는 놈이 너밖에 더 있냐 ...     3\n",
       "2     너 그따위로 운전하면 확 갈아마셔버린다 .   뭐라구 ?   나와 이 자식아 .  ...     0\n",
       "3     길동씨 이번에 이것좀 처리해요 이거 제가 한게 아닌데요 팀에서 내가 니가가 어딨어 ...     2\n",
       "4     비가 많이 오네 .  우산 가져왔어 ?  날씨가 추워졌어 .  맞아 ,  이제 겨울...     4\n",
       "...                                                 ...   ...\n",
       "4945  오 깡패다 니 지금 뭐라했노 말하는것도 깡패네 닌 죽었다 시키야 어디서 건방지게 아...     0\n",
       "4946  이거 니 주민등록증 아니야 ?  잃어버린줄 알았는데 . 고마워 !  고맙긴 뭘 근데...     1\n",
       "4947  여행 준비 다 했어 ?  아직 ,  짐 싸는 중이야 .  여행 가방은 다 쌌어 ? ...     4\n",
       "4948  그거 사줘 안사주면 죽어버릴거야  이러지마 돈없어 나한테 해준게 뭐있어 !  !  ...     0\n",
       "4949  얘들아 .  이 년 몰골좀 봐 .   야 .  너 좀 씻고다녀 .  우웩 너희가 나...     3\n",
       "\n",
       "[4950 rows x 2 columns]"
      ]
     },
     "execution_count": 15,
     "metadata": {},
     "output_type": "execute_result"
    }
   ],
   "source": [
    "# 기존 'conversation' column 전처리한 데이터로 바꾸기\n",
    "train_data['conversation'] = train_data['preprocessed']\n",
    "train_data.drop('preprocessed', axis=1)"
   ]
  },
  {
   "cell_type": "markdown",
   "id": "2545501c",
   "metadata": {},
   "source": [
    "#### 불용어 삭제\n",
    "[불용어 리스트 출처](https://www.ranks.nl/stopwords/korean)"
   ]
  },
  {
   "cell_type": "code",
   "execution_count": 16,
   "id": "c8119fc9",
   "metadata": {},
   "outputs": [],
   "source": [
    "# 불용어 리스트 불러오기\n",
    "stopwords_path = \"/aiffel/aiffel/dlthon-minions/share/preprocess/ko_stopwords.txt\"\n",
    "with open(stopwords_path, 'r', encoding='utf-8') as file:\n",
    "    stopwords = file.read().splitlines()"
   ]
  },
  {
   "cell_type": "markdown",
   "id": "7ebe64a9",
   "metadata": {
    "id": "f2e6fa92"
   },
   "source": [
    "#### 토큰화"
   ]
  },
  {
   "cell_type": "markdown",
   "id": "cb2998dd",
   "metadata": {},
   "source": [
    "```!pip install konlpy```"
   ]
  },
  {
   "cell_type": "code",
   "execution_count": 17,
   "id": "1b1709c9",
   "metadata": {},
   "outputs": [],
   "source": [
    "# 단어사전 크기 20000으로 제한\n",
    "VOCAB_SIZE=20000"
   ]
  },
  {
   "cell_type": "markdown",
   "id": "5316c37b",
   "metadata": {},
   "source": [
    "Okt 토크나이저 활용"
   ]
  },
  {
   "cell_type": "code",
   "execution_count": 18,
   "id": "b36d176c",
   "metadata": {},
   "outputs": [],
   "source": [
    "# Okt로 토큰화\n",
    "tokenizer=Okt()\n",
    "\n",
    "def tokenize(conversation, tokenizer):\n",
    "    return [token for token in tokenizer.morphs(conversation) if token not in stopwords]\n",
    "\n",
    "# 각 conversation을 토큰화하여 새로운 열 'tokenized'에 저장\n",
    "train_data['tokenized'] = train_data['conversation'].apply(lambda x: tokenize(x, tokenizer))"
   ]
  },
  {
   "cell_type": "markdown",
   "id": "d3cb2294",
   "metadata": {},
   "source": [
    "#### 단어사전 생성"
   ]
  },
  {
   "cell_type": "code",
   "execution_count": 19,
   "id": "7f93d836",
   "metadata": {},
   "outputs": [],
   "source": [
    "def create_word_to_index(vocab_path):\n",
    "    # 인코딩에 활용할 단어사전 딕셔너리 생성\n",
    "    word_to_index = {}\n",
    "    with open(vocab_path, 'r') as f:\n",
    "        lines = f.readlines()\n",
    "        for line in lines:\n",
    "            line = line.strip()\n",
    "            tmp = line.split(\": \")\n",
    "            word = tmp[0]\n",
    "            idx = int(tmp[1])\n",
    "            word_to_index.update({word: idx})\n",
    "    return word_to_index"
   ]
  },
  {
   "cell_type": "code",
   "execution_count": 21,
   "id": "857f9565",
   "metadata": {},
   "outputs": [
    {
     "data": {
      "text/plain": [
       "{'<pad>': 0,\n",
       " '<unk>': 1,\n",
       " '.': 2,\n",
       " '?': 3,\n",
       " ',': 4,\n",
       " '!': 5,\n",
       " '내': 6,\n",
       " '해': 7,\n",
       " '뭐': 8,\n",
       " '는': 9,\n",
       " '도': 10,\n",
       " '좋아해': 11,\n",
       " '거': 12,\n",
       " '말': 13,\n",
       " '다': 14,\n",
       " '은': 15,\n",
       " '돈': 16,\n",
       " '친구': 17,\n",
       " '잘': 18,\n",
       " '니': 19,\n",
       " '있어': 20,\n",
       " '랑': 21,\n",
       " '요': 22,\n",
       " '영화': 23,\n",
       " '만': 24,\n",
       " '진짜': 25,\n",
       " '이야': 26,\n",
       " '정말': 27,\n",
       " '죄송합니다': 28,\n",
       " '한': 29,\n",
       " '게': 30,\n",
       " '지금': 31,\n",
       " '할': 32,\n",
       " '고': 33,\n",
       " '하고': 34,\n",
       " '한테': 35,\n",
       " '오늘': 36,\n",
       " '주로': 37,\n",
       " '님': 38,\n",
       " '주말': 39,\n",
       " '그냥': 40,\n",
       " '여행': 41,\n",
       " '돼': 42,\n",
       " '집': 43,\n",
       " '많이': 44,\n",
       " '자주': 45,\n",
       " '제발': 46,\n",
       " '가족': 47,\n",
       " '알': 48,\n",
       " '생각': 49,\n",
       " '거야': 50,\n",
       " '적': 51,\n",
       " '이랑': 52,\n",
       " '하는': 53,\n",
       " '더': 54,\n",
       " '운동': 55,\n",
       " '지': 56,\n",
       " '그렇게': 57,\n",
       " '너무': 58,\n",
       " '했어': 59,\n",
       " '빨리': 60,\n",
       " '회사': 61,\n",
       " '새끼': 62,\n",
       " '씨': 63,\n",
       " '만나': 64,\n",
       " '하면': 65,\n",
       " '아니야': 66,\n",
       " '없어': 67,\n",
       " '걸': 68,\n",
       " '수': 69,\n",
       " '애': 70,\n",
       " '면': 71,\n",
       " '줄': 72,\n",
       " '그런': 73,\n",
       " '이렇게': 74,\n",
       " '그게': 75,\n",
       " '그건': 76,\n",
       " '어제': 77,\n",
       " '서': 78,\n",
       " '이제': 79,\n",
       " '넌': 80,\n",
       " '대리': 81,\n",
       " '인데': 82,\n",
       " '사진': 83,\n",
       " '나도': 84,\n",
       " '엄마': 85,\n",
       " '아침': 86,\n",
       " '다녀': 87,\n",
       " '취미': 88,\n",
       " '부모님': 89,\n",
       " '만원': 90,\n",
       " '싶어': 91,\n",
       " '본': 92,\n",
       " '뭘': 93,\n",
       " '난': 94,\n",
       " '가서': 95,\n",
       " '하지': 96,\n",
       " '얘기': 97,\n",
       " '주': 98,\n",
       " '이야기': 99,\n",
       " '기분': 100,\n",
       " '학교': 101,\n",
       " '소리': 102,\n",
       " '일이': 103,\n",
       " '아직': 104,\n",
       " '라고': 105,\n",
       " '한번': 106,\n",
       " '전': 107,\n",
       " '니까': 108,\n",
       " '그거': 109,\n",
       " '내일': 110,\n",
       " '마다': 111,\n",
       " '보다': 112,\n",
       " '신고': 113,\n",
       " '앞': 114,\n",
       " '준비': 115,\n",
       " '해서': 116,\n",
       " '봤어': 117,\n",
       " '그러게': 118,\n",
       " '없어요': 119,\n",
       " '쳐': 120,\n",
       " '매일': 121,\n",
       " '하겠습니다': 122,\n",
       " '말씀': 123,\n",
       " '날씨': 124,\n",
       " '가고': 125,\n",
       " '김': 126,\n",
       " '들어': 127,\n",
       " '커피': 128,\n",
       " '부장': 129,\n",
       " '자네': 130,\n",
       " '좋은': 131,\n",
       " '미안해': 132,\n",
       " '요즘': 133,\n",
       " '새로운': 134,\n",
       " '다시': 135,\n",
       " '지내': 136,\n",
       " '눈': 137,\n",
       " '아닙니다': 138,\n",
       " '어머니': 139,\n",
       " '달': 140,\n",
       " '등산': 141,\n",
       " '내놔': 142,\n",
       " '선생님': 143,\n",
       " '알겠습니다': 144,\n",
       " '생활': 145,\n",
       " '시': 146,\n",
       " '사귀었어': 147,\n",
       " '인': 148,\n",
       " '같아': 149,\n",
       " '라': 150,\n",
       " '맞아': 151,\n",
       " '휴가': 152,\n",
       " '아버지': 153,\n",
       " '게임': 154,\n",
       " '학원': 155,\n",
       " '해야': 156,\n",
       " '갈': 157,\n",
       " '줘': 158,\n",
       " '같은': 159,\n",
       " '뭔': 160,\n",
       " '이나': 161,\n",
       " '비': 162,\n",
       " '말고': 163,\n",
       " '연락': 164,\n",
       " '머리': 165,\n",
       " '나와': 166,\n",
       " '죽여': 167,\n",
       " '있는': 168,\n",
       " '책': 169,\n",
       " '때문': 170,\n",
       " '점심': 171,\n",
       " '얘': 172,\n",
       " '얼굴': 173,\n",
       " '먹어': 174,\n",
       " '누가': 175,\n",
       " '아니고': 176,\n",
       " '날': 177,\n",
       " '살': 178,\n",
       " '밖에': 179,\n",
       " '저번': 180,\n",
       " '번': 181,\n",
       " '싫어': 182,\n",
       " '저녁': 183,\n",
       " '장난': 184,\n",
       " '냐': 185,\n",
       " '이건': 186,\n",
       " '건': 187,\n",
       " '과장': 188,\n",
       " '아니라': 189,\n",
       " '부탁': 190,\n",
       " '보고': 191,\n",
       " '가방': 192,\n",
       " '죠': 193,\n",
       " '알겠어': 194,\n",
       " '데': 195,\n",
       " '요리': 196,\n",
       " '감상': 197,\n",
       " '하는데': 198,\n",
       " '먹고': 199,\n",
       " '딸': 200,\n",
       " '놈': 201,\n",
       " '계속': 202,\n",
       " '팀': 203,\n",
       " '그만': 204,\n",
       " '특히': 205,\n",
       " '음악': 206,\n",
       " '꼭': 207,\n",
       " '정신': 208,\n",
       " '했는데': 209,\n",
       " '최근': 210,\n",
       " '래': 211,\n",
       " '보러': 212,\n",
       " '하루': 213,\n",
       " '찍는': 214,\n",
       " '옷': 215,\n",
       " '에요': 216,\n",
       " '사장': 217,\n",
       " '일어나': 218,\n",
       " '요가': 219,\n",
       " '작년': 220,\n",
       " '식사': 221,\n",
       " '자연': 222,\n",
       " '한식': 223,\n",
       " '즐거워': 224,\n",
       " '찍어': 225,\n",
       " '계획': 226,\n",
       " '활동': 227,\n",
       " '자꾸': 228,\n",
       " '없는': 229,\n",
       " '산책': 230,\n",
       " '그만해': 231,\n",
       " '이지': 232,\n",
       " '고객': 233,\n",
       " '제주도': 234,\n",
       " '손님': 235,\n",
       " '갑자기': 236,\n",
       " '입니다': 237,\n",
       " '칼': 238,\n",
       " '죄송해요': 239,\n",
       " '하기': 240,\n",
       " '형제자매': 241,\n",
       " '가지': 242,\n",
       " '정도': 243,\n",
       " '제대로': 244,\n",
       " '업무': 245,\n",
       " '어디서': 246,\n",
       " '에도': 247,\n",
       " '생일': 248,\n",
       " '형': 249,\n",
       " '아무': 250,\n",
       " '하라': 251,\n",
       " '오빠': 252,\n",
       " '하네': 253,\n",
       " '분': 254,\n",
       " '큰': 255,\n",
       " '거지': 256,\n",
       " '마세요': 257,\n",
       " '경찰': 258,\n",
       " '아주': 259,\n",
       " '밥': 260,\n",
       " '살려주세요': 261,\n",
       " '손': 262,\n",
       " '아들': 263,\n",
       " '마': 264,\n",
       " '입': 265,\n",
       " '해봐': 266,\n",
       " '잖아': 267,\n",
       " '냄새': 268,\n",
       " '아빠': 269,\n",
       " '개': 270,\n",
       " '밤': 271,\n",
       " '마셔': 272,\n",
       " '이라도': 273,\n",
       " '없어서': 274,\n",
       " '문제': 275,\n",
       " '직장': 276,\n",
       " '미안': 277,\n",
       " '라도': 278,\n",
       " '달라': 279,\n",
       " '돼요': 280,\n",
       " '그걸': 281,\n",
       " '음식': 282,\n",
       " '아니요': 283,\n",
       " '잘못': 284,\n",
       " '이라': 285,\n",
       " '주세요': 286,\n",
       " '번은': 287,\n",
       " '이고': 288,\n",
       " '죽': 289,\n",
       " '속': 290,\n",
       " '자식': 291,\n",
       " '없는데': 292,\n",
       " '하냐': 293,\n",
       " '가요': 294,\n",
       " '사이': 295,\n",
       " '하세요': 296,\n",
       " '끝나고': 297,\n",
       " '몰라': 298,\n",
       " '세': 299,\n",
       " '똑바로': 300,\n",
       " '아냐': 301,\n",
       " '같습니다': 302,\n",
       " '죽어': 303,\n",
       " '말로': 304,\n",
       " '환불': 305,\n",
       " '사과': 306,\n",
       " '수업': 307,\n",
       " '해야지': 308,\n",
       " '동생': 309,\n",
       " '몸': 310,\n",
       " '두': 311,\n",
       " '시험': 312,\n",
       " '건가': 313,\n",
       " '싫으면': 314,\n",
       " '있어요': 315,\n",
       " '일주일': 316,\n",
       " '있는데': 317,\n",
       " '보는': 318,\n",
       " '바람': 319,\n",
       " '뭐라고': 320,\n",
       " '하는거야': 321,\n",
       " '알아서': 322,\n",
       " '타': 323,\n",
       " '나가': 324,\n",
       " '남자': 325,\n",
       " '장님': 326,\n",
       " '약속': 327,\n",
       " '식': 328,\n",
       " '이라고': 329,\n",
       " '돼지': 330,\n",
       " '맛집': 331,\n",
       " '빌려': 332,\n",
       " '행사': 333,\n",
       " '먼저': 334,\n",
       " '거짓말': 335,\n",
       " '든': 336,\n",
       " '이에요': 337,\n",
       " '처리': 338,\n",
       " '올': 339,\n",
       " '가는': 340,\n",
       " '볼까': 341,\n",
       " '해주세요': 342,\n",
       " '같은데': 343,\n",
       " '그러세요': 344,\n",
       " '있지': 345,\n",
       " '원': 346,\n",
       " '대로': 347,\n",
       " '관광': 348,\n",
       " '탐방': 349,\n",
       " '일찍': 350,\n",
       " '과제': 351,\n",
       " '아니에요': 352,\n",
       " '어쩔': 353,\n",
       " '얼른': 354,\n",
       " '카페': 355,\n",
       " '길동': 356,\n",
       " '권': 357,\n",
       " '생신': 358,\n",
       " '해줘': 359,\n",
       " '무서워': 360,\n",
       " '나왔어': 361,\n",
       " '엔': 362,\n",
       " '박': 363,\n",
       " '따': 364,\n",
       " '쟤': 365,\n",
       " '평소': 366,\n",
       " '없습니다': 367,\n",
       " '열심히': 368,\n",
       " '했잖아': 369,\n",
       " '금요일': 370,\n",
       " '대': 371,\n",
       " '지내고': 372,\n",
       " '먹을': 373,\n",
       " '여자': 374,\n",
       " '할거야': 375,\n",
       " '버릴거야': 376,\n",
       " '하셔': 377,\n",
       " '짓': 378,\n",
       " '할게': 379,\n",
       " '계셔': 380,\n",
       " '됐고': 381,\n",
       " '재밌어': 382,\n",
       " '머': 383,\n",
       " '스트레스': 384,\n",
       " '맨날': 385,\n",
       " '조용히': 386,\n",
       " '나오면': 387,\n",
       " '읽거나': 388,\n",
       " '갈래': 389,\n",
       " '퇴근': 390,\n",
       " '이미': 391,\n",
       " '다니시고': 392,\n",
       " '필요한': 393,\n",
       " '한다고': 394,\n",
       " '소설': 395,\n",
       " '다양한': 396,\n",
       " '장르': 397,\n",
       " '하게': 398,\n",
       " '있어서': 399,\n",
       " '에는': 400,\n",
       " '도전': 401,\n",
       " '축구': 402,\n",
       " '쉬거나': 403,\n",
       " '걷는': 404,\n",
       " '다리': 405,\n",
       " '즐겨': 406,\n",
       " '매주': 407,\n",
       " '처럼': 408,\n",
       " '했지': 409,\n",
       " '리': 410,\n",
       " '짜장면': 411,\n",
       " '마음': 412,\n",
       " '운동회': 413,\n",
       " '아닌데': 414,\n",
       " '있습니다': 415,\n",
       " '힐링': 416,\n",
       " '합니다': 417,\n",
       " '자전거': 418,\n",
       " '타는': 419,\n",
       " '싶다': 420,\n",
       " '자리': 421,\n",
       " '이리': 422,\n",
       " '해도': 423,\n",
       " '직원': 424,\n",
       " '절대': 425,\n",
       " '스릴': 426,\n",
       " '중이': 427,\n",
       " '병원': 428,\n",
       " '갔어': 429,\n",
       " '이네': 430,\n",
       " '공유': 431,\n",
       " '나면': 432,\n",
       " '있었어': 433,\n",
       " '읽는': 434,\n",
       " '읽었어': 435,\n",
       " '액션': 436,\n",
       " '넘쳐서': 437,\n",
       " '팝송': 438,\n",
       " '널': 439,\n",
       " '중식': 440,\n",
       " '대신': 441,\n",
       " '아저씨': 442,\n",
       " '장애인': 443,\n",
       " '좋더라': 444,\n",
       " '공부': 445,\n",
       " '일본': 446,\n",
       " '가려고': 447,\n",
       " '짐': 448,\n",
       " '그니까': 449,\n",
       " '맞고': 450,\n",
       " '동아리': 451,\n",
       " '남자친구': 452,\n",
       " '해봤어': 453,\n",
       " '애니메이션': 454,\n",
       " '해외여행': 455,\n",
       " '가본': 456,\n",
       " '갔었어': 457,\n",
       " '쌌어': 458,\n",
       " '챙겼어': 459,\n",
       " '그림': 460,\n",
       " '풍경': 461,\n",
       " '에이': 462,\n",
       " '먹었어': 463,\n",
       " '협박': 464,\n",
       " '남': 465,\n",
       " '드라마': 466,\n",
       " '차': 467,\n",
       " '파스타': 468,\n",
       " '하는거': 469,\n",
       " '보자': 470,\n",
       " '불어': 471,\n",
       " '사정': 472,\n",
       " '유럽': 473,\n",
       " '일로': 474,\n",
       " '인셉션': 475,\n",
       " '선배': 476,\n",
       " '조깅': 477,\n",
       " '디즈니': 478,\n",
       " '러시': 479,\n",
       " '여동생': 480,\n",
       " '일하거나': 481,\n",
       " '보람': 482,\n",
       " '코미디': 483,\n",
       " '웃게': 484,\n",
       " '비빔밥': 485,\n",
       " '주면': 486,\n",
       " '소문': 487,\n",
       " '상사': 488,\n",
       " '확인': 489,\n",
       " '노력': 490,\n",
       " '교복': 491,\n",
       " '원래': 492,\n",
       " '오해': 493,\n",
       " '했습니다': 494,\n",
       " '겁니다': 495,\n",
       " '쉬었어': 496,\n",
       " '넷플릭스': 497,\n",
       " '기묘한': 498,\n",
       " '재밌었어': 499,\n",
       " '화면': 500,\n",
       " '여름': 501,\n",
       " '지갑': 502,\n",
       " '할게요': 503,\n",
       " '김치찌개': 504,\n",
       " '뒤': 505,\n",
       " '마지막': 506,\n",
       " '배워': 507,\n",
       " '좋다': 508,\n",
       " '영화관': 509,\n",
       " '피자': 510,\n",
       " '양식': 511,\n",
       " '간식': 512,\n",
       " '그리는': 513,\n",
       " '재미있어': 514,\n",
       " '찐': 515,\n",
       " '있냐': 516,\n",
       " '가져왔어': 517,\n",
       " '좋네': 518,\n",
       " '친해': 519,\n",
       " '어땠어': 520,\n",
       " '바빴지만': 521,\n",
       " '춤추는': 522,\n",
       " '풀려': 523,\n",
       " '죽겠어': 524,\n",
       " '학기': 525,\n",
       " '한다': 526,\n",
       " '건강해': 527,\n",
       " '보면': 528,\n",
       " '빌려줘': 529,\n",
       " '감동': 530,\n",
       " '말대꾸': 531,\n",
       " '척': 532,\n",
       " '가봤어': 533,\n",
       " '있나': 534,\n",
       " '꺼져': 535,\n",
       " '로맨스': 536,\n",
       " '나들이': 537,\n",
       " '세우자': 538,\n",
       " '일식': 539,\n",
       " '멀었어': 540,\n",
       " '수영': 541,\n",
       " '어렸을': 542,\n",
       " '하늘': 543,\n",
       " '않아': 544,\n",
       " '보기': 545,\n",
       " '가거나': 546,\n",
       " '추억': 547,\n",
       " '싸는': 548,\n",
       " '없이': 549,\n",
       " '과자': 550,\n",
       " '이다': 551,\n",
       " '사실': 552,\n",
       " '편해': 553,\n",
       " '쪽': 554,\n",
       " '많아': 555,\n",
       " '경관': 556,\n",
       " '목숨': 557,\n",
       " '보거나': 558,\n",
       " '없네': 559,\n",
       " '중': 560,\n",
       " '세상': 561,\n",
       " '국내': 562,\n",
       " '아름다워': 563,\n",
       " '먹을래': 564,\n",
       " '병신': 565,\n",
       " '곳': 566,\n",
       " '그래요': 567,\n",
       " '없고': 568,\n",
       " '같아요': 569,\n",
       " '담배': 570,\n",
       " '하자': 571,\n",
       " '남기려고': 572,\n",
       " '토스트': 573,\n",
       " '만났어': 574,\n",
       " '배웠어': 575,\n",
       " '알바': 576,\n",
       " '술': 577,\n",
       " '영어': 578,\n",
       " '건데': 579,\n",
       " '볼': 580,\n",
       " '공포': 581,\n",
       " '일도': 582,\n",
       " '그것': 583,\n",
       " '확': 584,\n",
       " '반': 585,\n",
       " '상쾌해져': 586,\n",
       " '수가': 587,\n",
       " '아이스크림': 588,\n",
       " '습도': 589,\n",
       " '높아': 590,\n",
       " '눅눅해져': 591,\n",
       " '모자': 592,\n",
       " '뻔했어': 593,\n",
       " '헬스장': 594,\n",
       " '마셨어': 595,\n",
       " '드릴게요': 596,\n",
       " '친절해': 597,\n",
       " '맘': 598,\n",
       " '선물': 599,\n",
       " '음료': 600,\n",
       " '과일': 601,\n",
       " '아줌마': 602,\n",
       " '일상': 603,\n",
       " '있잖아': 604,\n",
       " '될': 605,\n",
       " '눈치': 606,\n",
       " '없지': 607,\n",
       " '없으면': 608,\n",
       " '보내': 609,\n",
       " '사랑': 610,\n",
       " '오네': 611,\n",
       " '우산': 612,\n",
       " '이유': 613,\n",
       " '예요': 614,\n",
       " '와서': 615,\n",
       " '않으면': 616,\n",
       " '죽고': 617,\n",
       " '피': 618,\n",
       " '그럴': 619,\n",
       " '겨울': 620,\n",
       " '날아갈': 621,\n",
       " '맑아서': 622,\n",
       " '처음': 623,\n",
       " '하는게': 624,\n",
       " '써': 625,\n",
       " '씩': 626,\n",
       " '에어컨': 627,\n",
       " '선크림': 628,\n",
       " '더워서': 629,\n",
       " '켜야겠어': 630,\n",
       " '추워졌어': 631,\n",
       " '쓰고': 632,\n",
       " '학생': 633,\n",
       " '열정': 634,\n",
       " '발랐어': 635,\n",
       " '들고': 636,\n",
       " '실수': 637,\n",
       " '화창해': 638,\n",
       " '꼴': 639,\n",
       " '입금': 640,\n",
       " '좋게': 641,\n",
       " '끼리': 642,\n",
       " '셔': 643,\n",
       " '케이크': 644,\n",
       " '햇볕': 645,\n",
       " '따갑다': 646,\n",
       " '정리': 647,\n",
       " '미친': 648,\n",
       " '전화': 649,\n",
       " '가만히': 650,\n",
       " '안될까': 651,\n",
       " '남편': 652,\n",
       " '아닌': 653,\n",
       " '월급': 654,\n",
       " '안녕하세요': 655,\n",
       " '그러지': 656,\n",
       " '대체': 657,\n",
       " '뿐': 658,\n",
       " '디저트': 659,\n",
       " '상관': 660,\n",
       " '되네': 661,\n",
       " '바': 662,\n",
       " '나중': 663,\n",
       " '테니스': 664,\n",
       " '상황': 665,\n",
       " '되지': 666,\n",
       " '번만': 667,\n",
       " '나이': 668,\n",
       " '인생': 669,\n",
       " '완전': 670,\n",
       " '문': 671,\n",
       " '용돈': 672,\n",
       " '친절하고': 673,\n",
       " '장기': 674,\n",
       " '주제': 675,\n",
       " '기': 676,\n",
       " '배': 677,\n",
       " '인거': 678,\n",
       " '했다고': 679,\n",
       " '승진': 680,\n",
       " '물건': 681,\n",
       " '공기': 682,\n",
       " '어머': 683,\n",
       " '보고서': 684,\n",
       " '끝': 685,\n",
       " '욕': 686,\n",
       " '명': 687,\n",
       " '무시': 688,\n",
       " '가게': 689,\n",
       " '어차피': 690,\n",
       " '만은': 691,\n",
       " '나를': 692,\n",
       " '아직도': 693,\n",
       " '열': 694,\n",
       " '결혼': 695,\n",
       " '이름': 696,\n",
       " '인가': 697,\n",
       " '이러세요': 698,\n",
       " '안해': 699,\n",
       " '추운': 700,\n",
       " '벌써': 701,\n",
       " '되는': 702,\n",
       " '장': 703,\n",
       " '애가': 704,\n",
       " '되잖아': 705,\n",
       " '놔': 706,\n",
       " '버린다': 707,\n",
       " '인지': 708,\n",
       " '주시': 709,\n",
       " '보': 710,\n",
       " '그쳤네': 711,\n",
       " '맑아졌어': 712,\n",
       " '사와': 713,\n",
       " '신경': 714,\n",
       " '봐요': 715,\n",
       " '감사합니다': 716,\n",
       " '카드': 717,\n",
       " '둬': 718,\n",
       " '인사': 719,\n",
       " '흑': 720,\n",
       " '빌려주라': 721,\n",
       " '째': 722,\n",
       " '두고': 723,\n",
       " '아는': 724,\n",
       " '이러지': 725,\n",
       " '온': 726,\n",
       " '증거': 727,\n",
       " '있으면': 728,\n",
       " '아니잖아': 729,\n",
       " '께': 730,\n",
       " '입고': 731,\n",
       " '하니까': 732,\n",
       " '물': 733,\n",
       " '걱정': 734,\n",
       " '아뇨': 735,\n",
       " '돌려줘': 736,\n",
       " '약': 737,\n",
       " '됐어': 738,\n",
       " '정': 739,\n",
       " '가야': 740,\n",
       " '기회': 741,\n",
       " '가져와': 742,\n",
       " '이냐': 743,\n",
       " '있는거': 744,\n",
       " '겁': 745,\n",
       " '신': 746,\n",
       " '장사': 747,\n",
       " '별로': 748,\n",
       " '행동': 749,\n",
       " '누구세요': 750,\n",
       " '그러지마': 751,\n",
       " '없다고': 752,\n",
       " '하지말고': 753,\n",
       " '이세': 754,\n",
       " '웃기': 755,\n",
       " '힘들어': 756,\n",
       " '대학': 757,\n",
       " '드릴': 758,\n",
       " '고마워': 759,\n",
       " '없잖아': 760,\n",
       " '될까': 761,\n",
       " '회식': 762,\n",
       " '존나': 763,\n",
       " '해결': 764,\n",
       " '가봐': 765,\n",
       " '죄': 766,\n",
       " '신입': 767,\n",
       " '하시면': 768,\n",
       " '도대체': 769,\n",
       " '옆': 770,\n",
       " '야근': 771,\n",
       " '가만': 772,\n",
       " '빵': 773,\n",
       " '뒤져서': 774,\n",
       " '간': 775,\n",
       " '부모': 776,\n",
       " '연차': 777,\n",
       " '다음주': 778,\n",
       " '그런거': 779,\n",
       " '번호': 780,\n",
       " '싶지': 781,\n",
       " '받고': 782,\n",
       " '영상': 783,\n",
       " '핸드폰': 784,\n",
       " '교육': 785,\n",
       " '주고': 786,\n",
       " '대화': 787,\n",
       " '이면': 788,\n",
       " '쓰레기': 789,\n",
       " '저리': 790,\n",
       " '아가씨': 791,\n",
       " '없다': 792,\n",
       " '길': 793,\n",
       " '라는': 794,\n",
       " '하려고': 795,\n",
       " '능력': 796,\n",
       " '있다고': 797,\n",
       " '기억': 798,\n",
       " '새': 799,\n",
       " '된': 800,\n",
       " '하니': 801,\n",
       " '어딨어': 802,\n",
       " '꺼': 803,\n",
       " '그러냐': 804,\n",
       " '기다려': 805,\n",
       " '음': 806,\n",
       " '가면': 807,\n",
       " '했다': 808,\n",
       " '손가락': 809,\n",
       " '개인': 810,\n",
       " '먹으면': 811,\n",
       " '살려줘': 812,\n",
       " '피해': 813,\n",
       " '이래서': 814,\n",
       " '수도': 815,\n",
       " '주머니': 816,\n",
       " '받아': 817,\n",
       " '하시는': 818,\n",
       " '하잖아': 819,\n",
       " '아니지': 820,\n",
       " '봐도': 821,\n",
       " '테': 822,\n",
       " '신발': 823,\n",
       " '여보': 824,\n",
       " '인턴': 825,\n",
       " '현금': 826,\n",
       " '되면': 827,\n",
       " '그런게': 828,\n",
       " '불': 829,\n",
       " '폰': 830,\n",
       " '갖고': 831,\n",
       " '평생': 832,\n",
       " '요새': 833,\n",
       " '대답': 834,\n",
       " '최대한': 835,\n",
       " '부분': 836,\n",
       " '보여': 837,\n",
       " '언니': 838,\n",
       " '어서': 839,\n",
       " '보지': 840,\n",
       " '방법': 841,\n",
       " '할머니': 842,\n",
       " '없는데요': 843,\n",
       " '이러면': 844,\n",
       " '미리': 845,\n",
       " '점': 846,\n",
       " '아무리': 847,\n",
       " '간다': 848,\n",
       " '다야': 849,\n",
       " '싶으면': 850,\n",
       " '수정': 851,\n",
       " '값': 852,\n",
       " '프로젝트': 853,\n",
       " '안보': 854,\n",
       " '어휴': 855,\n",
       " '아까': 856,\n",
       " '되게': 857,\n",
       " '새로': 858,\n",
       " '아파': 859,\n",
       " '봤는데': 860,\n",
       " '엄청': 861,\n",
       " '가자': 862,\n",
       " '했냐': 863,\n",
       " '알겠어요': 864,\n",
       " '신지': 865,\n",
       " '께서': 866,\n",
       " '가라': 867,\n",
       " '마무리': 868,\n",
       " '오랜': 869,\n",
       " '여자친구': 870,\n",
       " '대가리': 871,\n",
       " '형님': 872,\n",
       " '미쳤어': 873,\n",
       " '그러는거야': 874,\n",
       " '그치': 875,\n",
       " '같아서': 876,\n",
       " '발': 877,\n",
       " '필요': 878,\n",
       " '버리고': 879,\n",
       " '아닌가': 880,\n",
       " '위': 881,\n",
       " '이딴': 882,\n",
       " '운전': 883,\n",
       " '임마': 884,\n",
       " '드리겠습니다': 885,\n",
       " '총': 886,\n",
       " '어머님': 887,\n",
       " '역시': 888,\n",
       " '안되는': 889,\n",
       " '안녕': 890,\n",
       " '내려': 891,\n",
       " '보니': 892,\n",
       " '사원': 893,\n",
       " '누나': 894,\n",
       " '배달': 895,\n",
       " '자료': 896,\n",
       " '돈좀': 897,\n",
       " '모르는': 898,\n",
       " '서류': 899,\n",
       " '출근': 900,\n",
       " '별': 901,\n",
       " '죄송하면': 902,\n",
       " '계좌': 903,\n",
       " '있고': 904,\n",
       " '사용': 905,\n",
       " '한거야': 906,\n",
       " '회의': 907,\n",
       " '안됩니다': 908,\n",
       " '해줄게': 909,\n",
       " '네네': 910,\n",
       " '항상': 911,\n",
       " '넵': 912,\n",
       " '없나': 913,\n",
       " '싶어서': 914,\n",
       " '생긴': 915,\n",
       " '싫은데': 916,\n",
       " '글': 917,\n",
       " '잔': 918,\n",
       " '여보세요': 919,\n",
       " '화장실': 920,\n",
       " '아닌가요': 921,\n",
       " '시작': 922,\n",
       " '주임': 923,\n",
       " '받은': 924,\n",
       " '시키는': 925,\n",
       " '다시는': 926,\n",
       " '사고': 927,\n",
       " '준': 928,\n",
       " '야야': 929,\n",
       " '싫어요': 930,\n",
       " '제일': 931,\n",
       " '하신': 932,\n",
       " '인정': 933,\n",
       " '말아줘': 934,\n",
       " '솔직히': 935,\n",
       " '싶냐': 936,\n",
       " '이러지마': 937,\n",
       " '인가요': 938,\n",
       " '작성': 939,\n",
       " '금방': 940,\n",
       " '맛': 941,\n",
       " '거리': 942,\n",
       " '소': 943,\n",
       " '잖아요': 944,\n",
       " '성적': 945,\n",
       " '안되는데': 946,\n",
       " '괜찮아': 947,\n",
       " '똑같이': 948,\n",
       " '해라': 949,\n",
       " '라면': 950,\n",
       " '뭔가': 951,\n",
       " '서로': 952,\n",
       " '봐주세요': 953,\n",
       " '억': 954,\n",
       " '니야': 955,\n",
       " '지랄': 956,\n",
       " '표정': 957,\n",
       " '누군지': 958,\n",
       " '데리': 959,\n",
       " '했나': 960,\n",
       " '통': 961,\n",
       " '방금': 962,\n",
       " '있을': 963,\n",
       " '봐야': 964,\n",
       " '정보': 965,\n",
       " '있네': 966,\n",
       " '듣고': 967,\n",
       " '때려': 968,\n",
       " '라서': 969,\n",
       " '그러고': 970,\n",
       " '고생': 971,\n",
       " '오면': 972,\n",
       " '어떻': 973,\n",
       " '시계': 974,\n",
       " '리가': 975,\n",
       " '생겨서': 976,\n",
       " '직접': 977,\n",
       " '만이': 978,\n",
       " '바보': 979,\n",
       " '부서': 980,\n",
       " '편하게': 981,\n",
       " '으': 982,\n",
       " '중요한': 983,\n",
       " '우린': 984,\n",
       " '만들어': 985,\n",
       " '보네': 986,\n",
       " '되는데': 987,\n",
       " '그러는데': 988,\n",
       " '죄송하지만': 989,\n",
       " '불러': 990,\n",
       " '빼': 991,\n",
       " '목소리': 992,\n",
       " '할까': 993,\n",
       " '상': 994,\n",
       " '말아주세요': 995,\n",
       " '쓰면': 996,\n",
       " '있나요': 997,\n",
       " '오래': 998,\n",
       " '맞지': 999,\n",
       " ...}"
      ]
     },
     "execution_count": 21,
     "metadata": {},
     "output_type": "execute_result"
    }
   ],
   "source": [
    "vocab_path = '/aiffel/aiffel/dlthon-minions/share/preprocess/vocab.txt'\n",
    "word_to_index=create_word_to_index(vocab_path)\n",
    "word_to_index"
   ]
  },
  {
   "cell_type": "markdown",
   "id": "8f9264d8",
   "metadata": {},
   "source": [
    "#### 정수인코딩"
   ]
  },
  {
   "cell_type": "code",
   "execution_count": 22,
   "id": "da00a265",
   "metadata": {},
   "outputs": [],
   "source": [
    "# 'tokenized' 열의 데이터를 정수 인코딩\n",
    "def encode_tokens(tokens, word_to_index):\n",
    "    unk_index = word_to_index['<unk>']\n",
    "    return [word_to_index.get(token, unk_index) for token in tokens]\n",
    "\n",
    "train_data['encoded'] = train_data['tokenized'].apply(lambda x: encode_tokens(x, word_to_index))"
   ]
  },
  {
   "cell_type": "code",
   "execution_count": 23,
   "id": "89bdc7d2",
   "metadata": {
    "scrolled": true
   },
   "outputs": [
    {
     "data": {
      "text/html": [
       "<div>\n",
       "<style scoped>\n",
       "    .dataframe tbody tr th:only-of-type {\n",
       "        vertical-align: middle;\n",
       "    }\n",
       "\n",
       "    .dataframe tbody tr th {\n",
       "        vertical-align: top;\n",
       "    }\n",
       "\n",
       "    .dataframe thead th {\n",
       "        text-align: right;\n",
       "    }\n",
       "</style>\n",
       "<table border=\"1\" class=\"dataframe\">\n",
       "  <thead>\n",
       "    <tr style=\"text-align: right;\">\n",
       "      <th></th>\n",
       "      <th>conversation</th>\n",
       "      <th>type</th>\n",
       "      <th>preprocessed</th>\n",
       "      <th>tokenized</th>\n",
       "      <th>encoded</th>\n",
       "    </tr>\n",
       "  </thead>\n",
       "  <tbody>\n",
       "    <tr>\n",
       "      <th>1079</th>\n",
       "      <td>이사님 이 사진 .  모르지 않으실텐데요 ?  이 .  이건 .   이사님이 여기까...</td>\n",
       "      <td>1</td>\n",
       "      <td>이사님 이 사진 .  모르지 않으실텐데요 ?  이 .  이건 .   이사님이 여기까...</td>\n",
       "      <td>[이사, 님, 사진, ., 모르지, 않으실텐데요, ?, ., 이건, ., 이사, 님...</td>\n",
       "      <td>[1566, 38, 83, 2, 2231, 15447, 3, 2, 186, 2, 1...</td>\n",
       "    </tr>\n",
       "    <tr>\n",
       "      <th>2834</th>\n",
       "      <td>거기 김대리 .  나랑 잠깐 얘기 좀 해 .  네 알겠습니다 .  자기 요새 회사 ...</td>\n",
       "      <td>2</td>\n",
       "      <td>거기 김대리 .  나랑 잠깐 얘기 좀 해 .  네 알겠습니다 .  자기 요새 회사 ...</td>\n",
       "      <td>[김, 대리, ., 랑, 얘기, 해, ., 알겠습니다, ., 요새, 회사, 내, 안...</td>\n",
       "      <td>[126, 81, 2, 21, 97, 7, 2, 144, 2, 833, 61, 6,...</td>\n",
       "    </tr>\n",
       "    <tr>\n",
       "      <th>2302</th>\n",
       "      <td>너 왜 그렇게 생겼냐 ?  몸에서 시궁창 냄새는 왜 나는거야 ?  왜 갑자기 시비야...</td>\n",
       "      <td>3</td>\n",
       "      <td>너 왜 그렇게 생겼냐 ?  몸에서 시궁창 냄새는 왜 나는거야 ?  왜 갑자기 시비야...</td>\n",
       "      <td>[그렇게, 생겼냐, ?, 몸, 시궁창, 냄새, 는, 나는거야, ?, 갑자기, 시비,...</td>\n",
       "      <td>[57, 2067, 3, 310, 3920, 268, 9, 18908, 3, 236...</td>\n",
       "    </tr>\n",
       "  </tbody>\n",
       "</table>\n",
       "</div>"
      ],
      "text/plain": [
       "                                           conversation  type  \\\n",
       "1079  이사님 이 사진 .  모르지 않으실텐데요 ?  이 .  이건 .   이사님이 여기까...     1   \n",
       "2834  거기 김대리 .  나랑 잠깐 얘기 좀 해 .  네 알겠습니다 .  자기 요새 회사 ...     2   \n",
       "2302  너 왜 그렇게 생겼냐 ?  몸에서 시궁창 냄새는 왜 나는거야 ?  왜 갑자기 시비야...     3   \n",
       "\n",
       "                                           preprocessed  \\\n",
       "1079  이사님 이 사진 .  모르지 않으실텐데요 ?  이 .  이건 .   이사님이 여기까...   \n",
       "2834  거기 김대리 .  나랑 잠깐 얘기 좀 해 .  네 알겠습니다 .  자기 요새 회사 ...   \n",
       "2302  너 왜 그렇게 생겼냐 ?  몸에서 시궁창 냄새는 왜 나는거야 ?  왜 갑자기 시비야...   \n",
       "\n",
       "                                              tokenized  \\\n",
       "1079  [이사, 님, 사진, ., 모르지, 않으실텐데요, ?, ., 이건, ., 이사, 님...   \n",
       "2834  [김, 대리, ., 랑, 얘기, 해, ., 알겠습니다, ., 요새, 회사, 내, 안...   \n",
       "2302  [그렇게, 생겼냐, ?, 몸, 시궁창, 냄새, 는, 나는거야, ?, 갑자기, 시비,...   \n",
       "\n",
       "                                                encoded  \n",
       "1079  [1566, 38, 83, 2, 2231, 15447, 3, 2, 186, 2, 1...  \n",
       "2834  [126, 81, 2, 21, 97, 7, 2, 144, 2, 833, 61, 6,...  \n",
       "2302  [57, 2067, 3, 310, 3920, 268, 9, 18908, 3, 236...  "
      ]
     },
     "execution_count": 23,
     "metadata": {},
     "output_type": "execute_result"
    }
   ],
   "source": [
    "train_data.sample(3)"
   ]
  },
  {
   "cell_type": "markdown",
   "id": "c491ee14",
   "metadata": {
    "id": "e970c394"
   },
   "source": [
    "## 전처리 후 분석"
   ]
  },
  {
   "cell_type": "markdown",
   "id": "1dd22f91",
   "metadata": {},
   "source": [
    "#### 패딩 적용"
   ]
  },
  {
   "cell_type": "code",
   "execution_count": 24,
   "id": "0115420f",
   "metadata": {},
   "outputs": [],
   "source": [
    "# 대화 최대 길이 150으로 설정\n",
    "MAX_LENGTH = 150"
   ]
  },
  {
   "cell_type": "code",
   "execution_count": 25,
   "id": "aa243006",
   "metadata": {},
   "outputs": [],
   "source": [
    "X = pad_sequences(train_data['encoded'], maxlen=MAX_LENGTH, padding='post', truncating='post')"
   ]
  },
  {
   "cell_type": "markdown",
   "id": "4b417e2a",
   "metadata": {
    "id": "0b636ead"
   },
   "source": [
    "## 데이터 분할"
   ]
  },
  {
   "cell_type": "code",
   "execution_count": 26,
   "id": "3b851055",
   "metadata": {},
   "outputs": [
    {
     "name": "stdout",
     "output_type": "stream",
     "text": [
      "훈련 데이터의 개수 : 3960\n",
      "훈련 레이블의 개수 : 3960\n",
      "검증 데이터의 개수 : 495\n",
      "검증 레이블의 개수 : 495\n",
      "테스트 데이터의 개수 : 495\n",
      "테스트 레이블의 개수 : 495\n"
     ]
    }
   ],
   "source": [
    "y = train_data['type']\n",
    "\n",
    "X_train, X_val, y_train, y_val = train_test_split(X, y, test_size=0.2, shuffle=True, random_state=42)\n",
    "X_val, X_test, y_val, y_test = train_test_split(X_val, y_val, test_size=0.5, shuffle=True, random_state=42)\n",
    "\n",
    "print('훈련 데이터의 개수 :', len(X_train))\n",
    "print('훈련 레이블의 개수 :', len(y_train))\n",
    "print('검증 데이터의 개수 :', len(X_val))\n",
    "print('검증 레이블의 개수 :', len(y_val))\n",
    "print('테스트 데이터의 개수 :', len(X_test))\n",
    "print('테스트 레이블의 개수 :', len(y_test))"
   ]
  },
  {
   "cell_type": "code",
   "execution_count": 27,
   "id": "ea793704",
   "metadata": {},
   "outputs": [
    {
     "data": {
      "text/plain": [
       "[(4, 116), (3, 115), (0, 95), (1, 89), (2, 80)]"
      ]
     },
     "execution_count": 27,
     "metadata": {},
     "output_type": "execute_result"
    }
   ],
   "source": [
    "# 테스트 데이터셋 클래스 불균형 확인\n",
    "counter = Counter(y_test)\n",
    "counter.most_common()"
   ]
  },
  {
   "cell_type": "markdown",
   "id": "204abd6e",
   "metadata": {},
   "source": [
    "# 모델링"
   ]
  },
  {
   "cell_type": "code",
   "execution_count": 28,
   "id": "8005b257",
   "metadata": {},
   "outputs": [
    {
     "name": "stdout",
     "output_type": "stream",
     "text": [
      "Requirement already satisfied: wandb==0.16.0 in /opt/conda/lib/python3.9/site-packages (0.16.0)\n",
      "Requirement already satisfied: requests<3,>=2.0.0 in /opt/conda/lib/python3.9/site-packages (from wandb==0.16.0) (2.26.0)\n",
      "Requirement already satisfied: protobuf!=4.21.0,<5,>=3.15.0 in /opt/conda/lib/python3.9/site-packages (from wandb==0.16.0) (3.19.1)\n",
      "Requirement already satisfied: Click!=8.0.0,>=7.1 in /opt/conda/lib/python3.9/site-packages (from wandb==0.16.0) (8.0.3)\n",
      "Requirement already satisfied: sentry-sdk>=1.0.0 in /opt/conda/lib/python3.9/site-packages (from wandb==0.16.0) (2.6.0)\n",
      "Requirement already satisfied: typing-extensions in /opt/conda/lib/python3.9/site-packages (from wandb==0.16.0) (4.0.1)\n",
      "Requirement already satisfied: PyYAML in /opt/conda/lib/python3.9/site-packages (from wandb==0.16.0) (6.0)\n",
      "Requirement already satisfied: GitPython!=3.1.29,>=1.0.0 in /opt/conda/lib/python3.9/site-packages (from wandb==0.16.0) (3.1.43)\n",
      "Requirement already satisfied: setproctitle in /opt/conda/lib/python3.9/site-packages (from wandb==0.16.0) (1.3.3)\n",
      "Requirement already satisfied: appdirs>=1.4.3 in /opt/conda/lib/python3.9/site-packages (from wandb==0.16.0) (1.4.4)\n",
      "Requirement already satisfied: docker-pycreds>=0.4.0 in /opt/conda/lib/python3.9/site-packages (from wandb==0.16.0) (0.4.0)\n",
      "Requirement already satisfied: psutil>=5.0.0 in /opt/conda/lib/python3.9/site-packages (from wandb==0.16.0) (5.8.0)\n",
      "Requirement already satisfied: setuptools in /opt/conda/lib/python3.9/site-packages (from wandb==0.16.0) (59.4.0)\n",
      "Requirement already satisfied: six>=1.4.0 in /opt/conda/lib/python3.9/site-packages (from docker-pycreds>=0.4.0->wandb==0.16.0) (1.16.0)\n",
      "Requirement already satisfied: gitdb<5,>=4.0.1 in /opt/conda/lib/python3.9/site-packages (from GitPython!=3.1.29,>=1.0.0->wandb==0.16.0) (4.0.11)\n",
      "Requirement already satisfied: charset-normalizer~=2.0.0 in /opt/conda/lib/python3.9/site-packages (from requests<3,>=2.0.0->wandb==0.16.0) (2.0.8)\n",
      "Requirement already satisfied: urllib3<1.27,>=1.21.1 in /opt/conda/lib/python3.9/site-packages (from requests<3,>=2.0.0->wandb==0.16.0) (1.26.19)\n",
      "Requirement already satisfied: certifi>=2017.4.17 in /opt/conda/lib/python3.9/site-packages (from requests<3,>=2.0.0->wandb==0.16.0) (2021.10.8)\n",
      "Requirement already satisfied: idna<4,>=2.5 in /opt/conda/lib/python3.9/site-packages (from requests<3,>=2.0.0->wandb==0.16.0) (2.10)\n",
      "Requirement already satisfied: smmap<6,>=3.0.1 in /opt/conda/lib/python3.9/site-packages (from gitdb<5,>=4.0.1->GitPython!=3.1.29,>=1.0.0->wandb==0.16.0) (5.0.1)\n",
      "\u001b[33mWARNING: Running pip as the 'root' user can result in broken permissions and conflicting behaviour with the system package manager. It is recommended to use a virtual environment instead: https://pip.pypa.io/warnings/venv\u001b[0m\n"
     ]
    }
   ],
   "source": [
    "!pip install wandb==0.16.0"
   ]
  },
  {
   "cell_type": "code",
   "execution_count": 29,
   "id": "1a3c08f0",
   "metadata": {},
   "outputs": [
    {
     "name": "stderr",
     "output_type": "stream",
     "text": [
      "\u001b[34m\u001b[1mwandb\u001b[0m: Currently logged in as: \u001b[33m4rldur0\u001b[0m (\u001b[33m4-rldur0\u001b[0m). Use \u001b[1m`wandb login --relogin`\u001b[0m to force relogin\n",
      "\u001b[34m\u001b[1mwandb\u001b[0m: \u001b[33mWARNING\u001b[0m If you're specifying your api key in code, ensure this code is not shared publicly.\n",
      "\u001b[34m\u001b[1mwandb\u001b[0m: \u001b[33mWARNING\u001b[0m Consider setting the WANDB_API_KEY environment variable, or running `wandb login` from the command line.\n",
      "\u001b[34m\u001b[1mwandb\u001b[0m: Appending key for api.wandb.ai to your netrc file: /aiffel/.netrc\n"
     ]
    },
    {
     "data": {
      "text/plain": [
       "True"
      ]
     },
     "execution_count": 29,
     "metadata": {},
     "output_type": "execute_result"
    }
   ],
   "source": [
    "import wandb\n",
    "\n",
    "key = ''    # 개인 키 추가\n",
    "wandb.login(key = key)"
   ]
  },
  {
   "cell_type": "code",
   "execution_count": 30,
   "id": "8d8bf6a1",
   "metadata": {},
   "outputs": [],
   "source": [
    "sweep_config = {\n",
    "    \"name\": \"sweep_test_nlp\",\n",
    "    \"metric\": {\"name\": \"val_loss\", \"goal\": \"minimize\"},\n",
    "    \"method\": \"random\",\n",
    "    \"parameters\": {\n",
    "        \"learning_rate\" : {\n",
    "            \"min\" : 0.01,\n",
    "            \"max\" : 0.1\n",
    "            },\n",
    "        \"epoch\" : {\n",
    "            \"distribution\" : \"int_uniform\",\n",
    "            \"min\" : 5,\n",
    "            \"max\" : 10\n",
    "            },\n",
    "        \"batch_size\": {\n",
    "            \"values\": [16, 32, 64]\n",
    "            },\n",
    "        \"optimizer\": {\n",
    "            \"values\": [\"adam\", \"rmsprop\"]\n",
    "            },\n",
    "        \"dropout_rate\":{\n",
    "            \"values\": [0.1, 0.2, 0.3]\n",
    "            }\n",
    "        }\n",
    "    }\n",
    "\n",
    "default_config = {\n",
    "        \"vocab\" : VOCAB_SIZE,\n",
    "        \"embeddings\" : 128,\n",
    "        \"units_128\" : 128,\n",
    "        \"units_256\" : 256,\n",
    "        \"units_512\" : 512,\n",
    "        \"units_1024\" : 1024,\n",
    "        \"units_2048\" : 2048,\n",
    "        \"kernel_3\" : 3,\n",
    "        \"kernel_5\" : 5,\n",
    "        \"class_num\" : 5,\n",
    "        \"loss\" : \"sparse_categorical_crossentropy\",\n",
    "        \"metrics\" : [\"accuracy\"],\n",
    "    }"
   ]
  },
  {
   "cell_type": "code",
   "execution_count": 31,
   "id": "f7c35d48",
   "metadata": {},
   "outputs": [],
   "source": [
    "def build_model_baseline(config):\n",
    "    model=keras.models.Sequential()\n",
    "    model.add(keras.layers.Embedding(config.vocab, config.embeddings))\n",
    "    model.add(keras.layers.GRU(units = config.units_256, return_sequences = True))\n",
    "    model.add(keras.layers.GRU(units = config.units_512))\n",
    "    model.add(keras.layers.Dense(config.units_1024, activation='relu'))\n",
    "    model.add(keras.layers.Dense(config.class_num, activation='softmax'))  \n",
    "    return model"
   ]
  },
  {
   "cell_type": "code",
   "execution_count": 32,
   "id": "b19309b0",
   "metadata": {},
   "outputs": [],
   "source": [
    "def build_model_1DCNN(config):\n",
    "    model = keras.models.Sequential()\n",
    "    model.add(keras.layers.Embedding(config.vocab, config.embeddings))\n",
    "    model.add(keras.layers.Conv1D(config.embeddings, config.kernel_5, activation='relu'))\n",
    "    model.add(keras.layers.MaxPooling1D(pool_size=4))\n",
    "    model.add(keras.layers.GlobalMaxPooling1D())\n",
    "    model.add(keras.layers.Dense(config.units_128, activation='relu'))\n",
    "    model.add(keras.layers.Dense(config.class_num, activation='softmax')) \n",
    "    return model"
   ]
  },
  {
   "cell_type": "code",
   "execution_count": 33,
   "id": "ef74319b",
   "metadata": {},
   "outputs": [],
   "source": [
    "def build_model_1DCNN_GRU(config):\n",
    "    model = keras.models.Sequential()\n",
    "    model.add(keras.layers.Embedding(config.vocab, config.embeddings))\n",
    "    model.add(keras.layers.SpatialDropout1D(config.dropout_rate))\n",
    "    model.add(keras.layers.Conv1D(config.embeddings, config.kernel_5, activation='relu'))\n",
    "    model.add(keras.layers.MaxPooling1D(pool_size=4))\n",
    "    model.add(keras.layers.GRU(config.units_128, dropout=config.dropout_rate, recurrent_dropout=config.dropout_rate))\n",
    "    model.add(keras.layers.Dense(config.class_num, activation='softmax'))\n",
    "    return model"
   ]
  },
  {
   "cell_type": "code",
   "execution_count": 34,
   "id": "53b3fcaf",
   "metadata": {},
   "outputs": [],
   "source": [
    "import numpy as np\n",
    "import matplotlib.pyplot as plt\n",
    "import seaborn as sns\n",
    "from tensorflow import keras\n",
    "import wandb\n",
    "\n",
    "# heatmap으로 비교 결과를 그려주는 함수\n",
    "def plot_table(cm):\n",
    "    title = \"Overall Prediction Result\"\n",
    "    # 실제 클래스명으로 변환\n",
    "    classes = [\n",
    "        '협박 대화',\n",
    "        '갈취 대화',\n",
    "        '직장 내 괴롭힘 대화',\n",
    "        '기타 괴롭힘 대화',\n",
    "        '일반 대화'\n",
    "    ]\n",
    "    plt.figure(figsize=(10, 7))\n",
    "    sns.heatmap(cm, annot=True, fmt=\"d\", cmap=\"Blues\", xticklabels=classes, yticklabels=classes, annot_kws={'size': 30})\n",
    "    plt.xlabel('Predicted')\n",
    "    plt.ylabel('Actual')\n",
    "    plt.title(title)\n",
    "    return plt\n",
    "\n",
    "# epoch이 모두 끝나면 각 클래스별 GT와 예측값을 비교한 표 시각화\n",
    "# 5x5의 표의 [i,j]의 위치는 실제값은 i번째 클래스이고, 예측값은 j번째 클래스임을 나타냄\n",
    "class CompareResultsCallback(keras.callbacks.Callback):\n",
    "    def __init__(self, X_test, y_test, class_num):\n",
    "        super().__init__()\n",
    "        self.X_test = X_test\n",
    "        self.y_test = y_test\n",
    "        self.class_num = class_num\n",
    "        # 전체 표 초기화\n",
    "        self.table = np.zeros((self.class_num, self.class_num), dtype=np.int32)\n",
    "\n",
    "    def on_epoch_end(self, epoch, logs=None):\n",
    "        # 마지막 epoch에서만 계산\n",
    "        if epoch == self.params['epochs'] - 1:  \n",
    "            pred_test = self.model.predict(self.X_test).argmax(axis=1)\n",
    "            self.y_test = np.array(self.y_test)\n",
    "            pred_test = np.array(pred_test)\n",
    "            \n",
    "            # 5개의 클래스에서 두 개씩 뽑아내어 비교\n",
    "            # 실제값이 class_a일 때, 예측값을 claas_b로 예측한 횟수\n",
    "            for class_a in range(self.class_num):\n",
    "                for class_b in range(self.class_num):\n",
    "                    num = len(np.where((self.y_test == class_a) & (pred_test == class_b))[0])\n",
    "                    self.table[class_a, class_b] += num\n",
    "\n",
    "            # 표 그리기\n",
    "            cm_plot = plot_table(self.table)\n",
    "            \n",
    "            # wandb에 로그로 저장\n",
    "            cm_image = wandb.Image(cm_plot)\n",
    "            wandb.log({\"Overall Prediction Result\": cm_image})\n"
   ]
  },
  {
   "cell_type": "code",
   "execution_count": 35,
   "id": "29be58d3",
   "metadata": {},
   "outputs": [],
   "source": [
    "# 학습 함수 정의\n",
    "# CompareResultsCallback 테스트 데이터셋을 활용하므로 인자로 넣어줌\n",
    "def train(default_config, X_test, y_test):\n",
    "\n",
    "    wandb.init(config = default_config)\n",
    "    config = wandb.config\n",
    "    \n",
    "    keras.backend.clear_session()\n",
    "\n",
    "    # Model\n",
    "    model = build_model_1DCNN_GRU(config)\n",
    "\n",
    "    # Compile\n",
    "    model.compile(optimizer = config.optimizer,\n",
    "                  loss = config.loss,\n",
    "                  metrics = config.metrics)\n",
    "    \n",
    "    # confunsion matrix 그리는 콜백\n",
    "    cm_callback = CompareResultsCallback(X_test, y_test, config.class_num)\n",
    "    \n",
    "    # 학습\n",
    "    history = model.fit(X_train, y_train,\n",
    "              epochs = config.epoch,\n",
    "              batch_size = config.batch_size,\n",
    "              validation_data = (X_val, y_val),\n",
    "              callbacks=[wandb.keras.WandbCallback(), cm_callback])\n",
    "    \n",
    "    # test dataset으로 accuracy 계산    \n",
    "    test_loss, test_accuracy = model.evaluate(X_test, y_test, verbose=2)\n",
    "    pred_test = model.predict(X_test).argmax(axis=1)\n",
    "    # test dataset으로 f1 score 계산\n",
    "    f1_score_res = f1_score(y_test, pred_test, average='micro')\n",
    "\n",
    "    # wandb에 log 추가\n",
    "    wandb.log({\n",
    "        \"Test Accuracy Rate\": test_accuracy,\n",
    "        \"Test F1 Score\": f1_score_res,\n",
    "        \"Test Error Rate\": 1 - test_accuracy\n",
    "    })\n",
    "    \n",
    "    return history"
   ]
  },
  {
   "cell_type": "code",
   "execution_count": 36,
   "id": "f4dac585",
   "metadata": {
    "scrolled": false
   },
   "outputs": [
    {
     "name": "stdout",
     "output_type": "stream",
     "text": [
      "Create sweep with ID: 9g1wgepq\n",
      "Sweep URL: https://wandb.ai/aiffel_minions/DLthon_1DCNN_GRU/sweeps/9g1wgepq\n"
     ]
    },
    {
     "name": "stderr",
     "output_type": "stream",
     "text": [
      "\u001b[34m\u001b[1mwandb\u001b[0m: Agent Starting Run: mb5hb8im with config:\n",
      "\u001b[34m\u001b[1mwandb\u001b[0m: \tbatch_size: 32\n",
      "\u001b[34m\u001b[1mwandb\u001b[0m: \tdropout_rate: 0.2\n",
      "\u001b[34m\u001b[1mwandb\u001b[0m: \tepoch: 8\n",
      "\u001b[34m\u001b[1mwandb\u001b[0m: \tlearning_rate: 0.09082498426904162\n",
      "\u001b[34m\u001b[1mwandb\u001b[0m: \toptimizer: adam\n",
      "\u001b[34m\u001b[1mwandb\u001b[0m: Currently logged in as: \u001b[33m4rldur0\u001b[0m (\u001b[33maiffel_minions\u001b[0m). Use \u001b[1m`wandb login --relogin`\u001b[0m to force relogin\n"
     ]
    },
    {
     "data": {
      "text/html": [
       "wandb version 0.17.3 is available!  To upgrade, please run:\n",
       " $ pip install wandb --upgrade"
      ],
      "text/plain": [
       "<IPython.core.display.HTML object>"
      ]
     },
     "metadata": {},
     "output_type": "display_data"
    },
    {
     "data": {
      "text/html": [
       "Tracking run with wandb version 0.16.0"
      ],
      "text/plain": [
       "<IPython.core.display.HTML object>"
      ]
     },
     "metadata": {},
     "output_type": "display_data"
    },
    {
     "data": {
      "text/html": [
       "Run data is saved locally in <code>/aiffel/aiffel/dlthon-minions/dlthon-kevin/wandb/run-20240626_060754-mb5hb8im</code>"
      ],
      "text/plain": [
       "<IPython.core.display.HTML object>"
      ]
     },
     "metadata": {},
     "output_type": "display_data"
    },
    {
     "data": {
      "text/html": [
       "Syncing run <strong><a href='https://wandb.ai/aiffel_minions/DLthon_1DCNN_GRU/runs/mb5hb8im' target=\"_blank\">glorious-sweep-1</a></strong> to <a href='https://wandb.ai/aiffel_minions/DLthon_1DCNN_GRU' target=\"_blank\">Weights & Biases</a> (<a href='https://wandb.me/run' target=\"_blank\">docs</a>)<br/>Sweep page: <a href='https://wandb.ai/aiffel_minions/DLthon_1DCNN_GRU/sweeps/9g1wgepq' target=\"_blank\">https://wandb.ai/aiffel_minions/DLthon_1DCNN_GRU/sweeps/9g1wgepq</a>"
      ],
      "text/plain": [
       "<IPython.core.display.HTML object>"
      ]
     },
     "metadata": {},
     "output_type": "display_data"
    },
    {
     "data": {
      "text/html": [
       " View project at <a href='https://wandb.ai/aiffel_minions/DLthon_1DCNN_GRU' target=\"_blank\">https://wandb.ai/aiffel_minions/DLthon_1DCNN_GRU</a>"
      ],
      "text/plain": [
       "<IPython.core.display.HTML object>"
      ]
     },
     "metadata": {},
     "output_type": "display_data"
    },
    {
     "data": {
      "text/html": [
       " View sweep at <a href='https://wandb.ai/aiffel_minions/DLthon_1DCNN_GRU/sweeps/9g1wgepq' target=\"_blank\">https://wandb.ai/aiffel_minions/DLthon_1DCNN_GRU/sweeps/9g1wgepq</a>"
      ],
      "text/plain": [
       "<IPython.core.display.HTML object>"
      ]
     },
     "metadata": {},
     "output_type": "display_data"
    },
    {
     "data": {
      "text/html": [
       " View run at <a href='https://wandb.ai/aiffel_minions/DLthon_1DCNN_GRU/runs/mb5hb8im' target=\"_blank\">https://wandb.ai/aiffel_minions/DLthon_1DCNN_GRU/runs/mb5hb8im</a>"
      ],
      "text/plain": [
       "<IPython.core.display.HTML object>"
      ]
     },
     "metadata": {},
     "output_type": "display_data"
    },
    {
     "name": "stdout",
     "output_type": "stream",
     "text": [
      "WARNING:tensorflow:Layer gru will not use cuDNN kernels since it doesn't meet the criteria. It will use a generic GPU kernel as fallback when running on GPU.\n"
     ]
    },
    {
     "name": "stderr",
     "output_type": "stream",
     "text": [
      "\u001b[34m\u001b[1mwandb\u001b[0m: \u001b[33mWARNING\u001b[0m The save_model argument by default saves the model in the HDF5 format that cannot save custom objects like subclassed models and custom layers. This behavior will be deprecated in a future release in favor of the SavedModel format. Meanwhile, the HDF5 model is saved as W&B files and the SavedModel as W&B Artifacts.\n"
     ]
    },
    {
     "name": "stdout",
     "output_type": "stream",
     "text": [
      "Epoch 1/8\n",
      "124/124 [==============================] - 22s 136ms/step - loss: 1.5926 - accuracy: 0.2121 - val_loss: 1.2326 - val_accuracy: 0.3980\n",
      "INFO:tensorflow:Assets written to: /aiffel/aiffel/dlthon-minions/dlthon-kevin/wandb/run-20240626_060754-mb5hb8im/files/model-best/assets\n"
     ]
    },
    {
     "name": "stderr",
     "output_type": "stream",
     "text": [
      "\u001b[34m\u001b[1mwandb\u001b[0m: Adding directory to artifact (/aiffel/aiffel/dlthon-minions/dlthon-kevin/wandb/run-20240626_060754-mb5hb8im/files/model-best)... Done. 0.1s\n"
     ]
    },
    {
     "name": "stdout",
     "output_type": "stream",
     "text": [
      "Epoch 2/8\n",
      "124/124 [==============================] - 16s 128ms/step - loss: 0.9597 - accuracy: 0.5487 - val_loss: 0.7657 - val_accuracy: 0.6444\n",
      "INFO:tensorflow:Assets written to: /aiffel/aiffel/dlthon-minions/dlthon-kevin/wandb/run-20240626_060754-mb5hb8im/files/model-best/assets\n"
     ]
    },
    {
     "name": "stderr",
     "output_type": "stream",
     "text": [
      "\u001b[34m\u001b[1mwandb\u001b[0m: Adding directory to artifact (/aiffel/aiffel/dlthon-minions/dlthon-kevin/wandb/run-20240626_060754-mb5hb8im/files/model-best)... Done. 0.1s\n"
     ]
    },
    {
     "name": "stdout",
     "output_type": "stream",
     "text": [
      "Epoch 3/8\n",
      "124/124 [==============================] - 16s 129ms/step - loss: 0.7081 - accuracy: 0.7003 - val_loss: 0.7630 - val_accuracy: 0.7030\n",
      "INFO:tensorflow:Assets written to: /aiffel/aiffel/dlthon-minions/dlthon-kevin/wandb/run-20240626_060754-mb5hb8im/files/model-best/assets\n"
     ]
    },
    {
     "name": "stderr",
     "output_type": "stream",
     "text": [
      "\u001b[34m\u001b[1mwandb\u001b[0m: Adding directory to artifact (/aiffel/aiffel/dlthon-minions/dlthon-kevin/wandb/run-20240626_060754-mb5hb8im/files/model-best)... Done. 0.1s\n"
     ]
    },
    {
     "name": "stdout",
     "output_type": "stream",
     "text": [
      "Epoch 4/8\n",
      "124/124 [==============================] - 16s 129ms/step - loss: 0.4330 - accuracy: 0.8394 - val_loss: 0.7573 - val_accuracy: 0.7212\n",
      "INFO:tensorflow:Assets written to: /aiffel/aiffel/dlthon-minions/dlthon-kevin/wandb/run-20240626_060754-mb5hb8im/files/model-best/assets\n"
     ]
    },
    {
     "name": "stderr",
     "output_type": "stream",
     "text": [
      "\u001b[34m\u001b[1mwandb\u001b[0m: Adding directory to artifact (/aiffel/aiffel/dlthon-minions/dlthon-kevin/wandb/run-20240626_060754-mb5hb8im/files/model-best)... Done. 0.1s\n"
     ]
    },
    {
     "name": "stdout",
     "output_type": "stream",
     "text": [
      "Epoch 5/8\n",
      "124/124 [==============================] - 16s 127ms/step - loss: 0.2277 - accuracy: 0.9316 - val_loss: 0.8689 - val_accuracy: 0.7515\n",
      "Epoch 6/8\n",
      "124/124 [==============================] - 16s 129ms/step - loss: 0.0862 - accuracy: 0.9765 - val_loss: 1.0681 - val_accuracy: 0.7556\n",
      "Epoch 7/8\n",
      "124/124 [==============================] - 16s 128ms/step - loss: 0.0338 - accuracy: 0.9912 - val_loss: 1.1939 - val_accuracy: 0.7616\n",
      "Epoch 8/8\n",
      "124/124 [==============================] - 16s 129ms/step - loss: 0.0235 - accuracy: 0.9937 - val_loss: 1.0276 - val_accuracy: 0.7899\n",
      "16/16 - 0s - loss: 0.8712 - accuracy: 0.7919\n"
     ]
    },
    {
     "data": {
      "application/vnd.jupyter.widget-view+json": {
       "model_id": "",
       "version_major": 2,
       "version_minor": 0
      },
      "text/plain": [
       "VBox(children=(Label(value='159.977 MB of 159.977 MB uploaded (0.043 MB deduped)\\r'), FloatProgress(value=1.0,…"
      ]
     },
     "metadata": {},
     "output_type": "display_data"
    },
    {
     "data": {
      "text/html": [
       "<style>\n",
       "    table.wandb td:nth-child(1) { padding: 0 10px; text-align: left ; width: auto;} td:nth-child(2) {text-align: left ; width: 100%}\n",
       "    .wandb-row { display: flex; flex-direction: row; flex-wrap: wrap; justify-content: flex-start; width: 100% }\n",
       "    .wandb-col { display: flex; flex-direction: column; flex-basis: 100%; flex: 1; padding: 10px; }\n",
       "    </style>\n",
       "<div class=\"wandb-row\"><div class=\"wandb-col\"><h3>Run history:</h3><br/><table class=\"wandb\"><tr><td>Test Accuracy Rate</td><td>▁</td></tr><tr><td>Test Error Rate</td><td>▁</td></tr><tr><td>Test F1 Score</td><td>▁</td></tr><tr><td>accuracy</td><td>▁▄▅▇▇███</td></tr><tr><td>epoch</td><td>▁▂▃▄▅▆▇█</td></tr><tr><td>loss</td><td>█▅▄▃▂▁▁▁</td></tr><tr><td>val_accuracy</td><td>▁▅▆▇▇▇▇█</td></tr><tr><td>val_loss</td><td>█▁▁▁▃▆▇▅</td></tr></table><br/></div><div class=\"wandb-col\"><h3>Run summary:</h3><br/><table class=\"wandb\"><tr><td>Test Accuracy Rate</td><td>0.79192</td></tr><tr><td>Test Error Rate</td><td>0.20808</td></tr><tr><td>Test F1 Score</td><td>0.79192</td></tr><tr><td>accuracy</td><td>0.99369</td></tr><tr><td>best_epoch</td><td>3</td></tr><tr><td>best_val_loss</td><td>0.75732</td></tr><tr><td>epoch</td><td>7</td></tr><tr><td>loss</td><td>0.0235</td></tr><tr><td>val_accuracy</td><td>0.7899</td></tr><tr><td>val_loss</td><td>1.02761</td></tr></table><br/></div></div>"
      ],
      "text/plain": [
       "<IPython.core.display.HTML object>"
      ]
     },
     "metadata": {},
     "output_type": "display_data"
    },
    {
     "data": {
      "text/html": [
       " View run <strong style=\"color:#cdcd00\">glorious-sweep-1</strong> at: <a href='https://wandb.ai/aiffel_minions/DLthon_1DCNN_GRU/runs/mb5hb8im' target=\"_blank\">https://wandb.ai/aiffel_minions/DLthon_1DCNN_GRU/runs/mb5hb8im</a><br/>Synced 5 W&B file(s), 2 media file(s), 16 artifact file(s) and 1 other file(s)"
      ],
      "text/plain": [
       "<IPython.core.display.HTML object>"
      ]
     },
     "metadata": {},
     "output_type": "display_data"
    },
    {
     "data": {
      "text/html": [
       "Find logs at: <code>./wandb/run-20240626_060754-mb5hb8im/logs</code>"
      ],
      "text/plain": [
       "<IPython.core.display.HTML object>"
      ]
     },
     "metadata": {},
     "output_type": "display_data"
    },
    {
     "name": "stderr",
     "output_type": "stream",
     "text": [
      "\u001b[34m\u001b[1mwandb\u001b[0m: Agent Starting Run: 49jh6zzq with config:\n",
      "\u001b[34m\u001b[1mwandb\u001b[0m: \tbatch_size: 16\n",
      "\u001b[34m\u001b[1mwandb\u001b[0m: \tdropout_rate: 0.3\n",
      "\u001b[34m\u001b[1mwandb\u001b[0m: \tepoch: 10\n",
      "\u001b[34m\u001b[1mwandb\u001b[0m: \tlearning_rate: 0.03203355864532872\n",
      "\u001b[34m\u001b[1mwandb\u001b[0m: \toptimizer: adam\n"
     ]
    },
    {
     "data": {
      "text/html": [
       "wandb version 0.17.3 is available!  To upgrade, please run:\n",
       " $ pip install wandb --upgrade"
      ],
      "text/plain": [
       "<IPython.core.display.HTML object>"
      ]
     },
     "metadata": {},
     "output_type": "display_data"
    },
    {
     "data": {
      "text/html": [
       "Tracking run with wandb version 0.16.0"
      ],
      "text/plain": [
       "<IPython.core.display.HTML object>"
      ]
     },
     "metadata": {},
     "output_type": "display_data"
    },
    {
     "data": {
      "text/html": [
       "Run data is saved locally in <code>/aiffel/aiffel/dlthon-minions/dlthon-kevin/wandb/run-20240626_061041-49jh6zzq</code>"
      ],
      "text/plain": [
       "<IPython.core.display.HTML object>"
      ]
     },
     "metadata": {},
     "output_type": "display_data"
    },
    {
     "data": {
      "text/html": [
       "Syncing run <strong><a href='https://wandb.ai/aiffel_minions/DLthon_1DCNN_GRU/runs/49jh6zzq' target=\"_blank\">vital-sweep-2</a></strong> to <a href='https://wandb.ai/aiffel_minions/DLthon_1DCNN_GRU' target=\"_blank\">Weights & Biases</a> (<a href='https://wandb.me/run' target=\"_blank\">docs</a>)<br/>Sweep page: <a href='https://wandb.ai/aiffel_minions/DLthon_1DCNN_GRU/sweeps/9g1wgepq' target=\"_blank\">https://wandb.ai/aiffel_minions/DLthon_1DCNN_GRU/sweeps/9g1wgepq</a>"
      ],
      "text/plain": [
       "<IPython.core.display.HTML object>"
      ]
     },
     "metadata": {},
     "output_type": "display_data"
    },
    {
     "data": {
      "text/html": [
       " View project at <a href='https://wandb.ai/aiffel_minions/DLthon_1DCNN_GRU' target=\"_blank\">https://wandb.ai/aiffel_minions/DLthon_1DCNN_GRU</a>"
      ],
      "text/plain": [
       "<IPython.core.display.HTML object>"
      ]
     },
     "metadata": {},
     "output_type": "display_data"
    },
    {
     "data": {
      "text/html": [
       " View sweep at <a href='https://wandb.ai/aiffel_minions/DLthon_1DCNN_GRU/sweeps/9g1wgepq' target=\"_blank\">https://wandb.ai/aiffel_minions/DLthon_1DCNN_GRU/sweeps/9g1wgepq</a>"
      ],
      "text/plain": [
       "<IPython.core.display.HTML object>"
      ]
     },
     "metadata": {},
     "output_type": "display_data"
    },
    {
     "data": {
      "text/html": [
       " View run at <a href='https://wandb.ai/aiffel_minions/DLthon_1DCNN_GRU/runs/49jh6zzq' target=\"_blank\">https://wandb.ai/aiffel_minions/DLthon_1DCNN_GRU/runs/49jh6zzq</a>"
      ],
      "text/plain": [
       "<IPython.core.display.HTML object>"
      ]
     },
     "metadata": {},
     "output_type": "display_data"
    },
    {
     "name": "stdout",
     "output_type": "stream",
     "text": [
      "WARNING:tensorflow:Layer gru will not use cuDNN kernels since it doesn't meet the criteria. It will use a generic GPU kernel as fallback when running on GPU.\n",
      "Epoch 1/10\n",
      "248/248 [==============================] - 36s 132ms/step - loss: 1.5067 - accuracy: 0.2543 - val_loss: 1.1388 - val_accuracy: 0.3818\n",
      "INFO:tensorflow:Assets written to: /aiffel/aiffel/dlthon-minions/dlthon-kevin/wandb/run-20240626_061041-49jh6zzq/files/model-best/assets\n"
     ]
    },
    {
     "name": "stderr",
     "output_type": "stream",
     "text": [
      "\u001b[34m\u001b[1mwandb\u001b[0m: Adding directory to artifact (/aiffel/aiffel/dlthon-minions/dlthon-kevin/wandb/run-20240626_061041-49jh6zzq/files/model-best)... Done. 0.1s\n"
     ]
    },
    {
     "name": "stdout",
     "output_type": "stream",
     "text": [
      "Epoch 2/10\n",
      "248/248 [==============================] - 32s 130ms/step - loss: 1.1248 - accuracy: 0.4058 - val_loss: 1.0936 - val_accuracy: 0.3838\n",
      "INFO:tensorflow:Assets written to: /aiffel/aiffel/dlthon-minions/dlthon-kevin/wandb/run-20240626_061041-49jh6zzq/files/model-best/assets\n"
     ]
    },
    {
     "name": "stderr",
     "output_type": "stream",
     "text": [
      "\u001b[34m\u001b[1mwandb\u001b[0m: Adding directory to artifact (/aiffel/aiffel/dlthon-minions/dlthon-kevin/wandb/run-20240626_061041-49jh6zzq/files/model-best)... Done. 0.1s\n"
     ]
    },
    {
     "name": "stdout",
     "output_type": "stream",
     "text": [
      "Epoch 3/10\n",
      "248/248 [==============================] - 32s 130ms/step - loss: 1.0787 - accuracy: 0.4750 - val_loss: 1.0259 - val_accuracy: 0.5010\n",
      "INFO:tensorflow:Assets written to: /aiffel/aiffel/dlthon-minions/dlthon-kevin/wandb/run-20240626_061041-49jh6zzq/files/model-best/assets\n"
     ]
    },
    {
     "name": "stderr",
     "output_type": "stream",
     "text": [
      "\u001b[34m\u001b[1mwandb\u001b[0m: Adding directory to artifact (/aiffel/aiffel/dlthon-minions/dlthon-kevin/wandb/run-20240626_061041-49jh6zzq/files/model-best)... Done. 0.1s\n"
     ]
    },
    {
     "name": "stdout",
     "output_type": "stream",
     "text": [
      "Epoch 4/10\n",
      "248/248 [==============================] - 32s 131ms/step - loss: 0.7459 - accuracy: 0.6881 - val_loss: 0.9981 - val_accuracy: 0.6081\n",
      "INFO:tensorflow:Assets written to: /aiffel/aiffel/dlthon-minions/dlthon-kevin/wandb/run-20240626_061041-49jh6zzq/files/model-best/assets\n"
     ]
    },
    {
     "name": "stderr",
     "output_type": "stream",
     "text": [
      "\u001b[34m\u001b[1mwandb\u001b[0m: Adding directory to artifact (/aiffel/aiffel/dlthon-minions/dlthon-kevin/wandb/run-20240626_061041-49jh6zzq/files/model-best)... Done. 0.1s\n"
     ]
    },
    {
     "name": "stdout",
     "output_type": "stream",
     "text": [
      "Epoch 5/10\n",
      "248/248 [==============================] - 33s 131ms/step - loss: 0.4311 - accuracy: 0.8396 - val_loss: 1.0945 - val_accuracy: 0.6303\n",
      "Epoch 6/10\n",
      "248/248 [==============================] - 32s 130ms/step - loss: 0.2282 - accuracy: 0.9164 - val_loss: 1.4366 - val_accuracy: 0.6242\n",
      "Epoch 7/10\n",
      "248/248 [==============================] - 32s 130ms/step - loss: 0.1151 - accuracy: 0.9621 - val_loss: 1.7825 - val_accuracy: 0.6283\n",
      "Epoch 8/10\n",
      "248/248 [==============================] - 32s 130ms/step - loss: 0.0792 - accuracy: 0.9725 - val_loss: 1.8267 - val_accuracy: 0.6323\n",
      "Epoch 9/10\n",
      "248/248 [==============================] - 32s 129ms/step - loss: 0.0727 - accuracy: 0.9785 - val_loss: 2.0737 - val_accuracy: 0.6465\n",
      "Epoch 10/10\n",
      "248/248 [==============================] - 32s 129ms/step - loss: 0.0502 - accuracy: 0.9798 - val_loss: 2.2545 - val_accuracy: 0.6485\n",
      "16/16 - 0s - loss: 1.9432 - accuracy: 0.6788\n"
     ]
    },
    {
     "data": {
      "application/vnd.jupyter.widget-view+json": {
       "model_id": "",
       "version_major": 2,
       "version_minor": 0
      },
      "text/plain": [
       "VBox(children=(Label(value='159.978 MB of 159.978 MB uploaded (0.043 MB deduped)\\r'), FloatProgress(value=1.0,…"
      ]
     },
     "metadata": {},
     "output_type": "display_data"
    },
    {
     "data": {
      "text/html": [
       "<style>\n",
       "    table.wandb td:nth-child(1) { padding: 0 10px; text-align: left ; width: auto;} td:nth-child(2) {text-align: left ; width: 100%}\n",
       "    .wandb-row { display: flex; flex-direction: row; flex-wrap: wrap; justify-content: flex-start; width: 100% }\n",
       "    .wandb-col { display: flex; flex-direction: column; flex-basis: 100%; flex: 1; padding: 10px; }\n",
       "    </style>\n",
       "<div class=\"wandb-row\"><div class=\"wandb-col\"><h3>Run history:</h3><br/><table class=\"wandb\"><tr><td>Test Accuracy Rate</td><td>▁</td></tr><tr><td>Test Error Rate</td><td>▁</td></tr><tr><td>Test F1 Score</td><td>▁</td></tr><tr><td>accuracy</td><td>▁▂▃▅▇▇████</td></tr><tr><td>epoch</td><td>▁▂▃▃▄▅▆▆▇█</td></tr><tr><td>loss</td><td>█▆▆▄▃▂▁▁▁▁</td></tr><tr><td>val_accuracy</td><td>▁▁▄▇█▇▇███</td></tr><tr><td>val_loss</td><td>▂▂▁▁▂▃▅▆▇█</td></tr></table><br/></div><div class=\"wandb-col\"><h3>Run summary:</h3><br/><table class=\"wandb\"><tr><td>Test Accuracy Rate</td><td>0.67879</td></tr><tr><td>Test Error Rate</td><td>0.32121</td></tr><tr><td>Test F1 Score</td><td>0.67879</td></tr><tr><td>accuracy</td><td>0.9798</td></tr><tr><td>best_epoch</td><td>3</td></tr><tr><td>best_val_loss</td><td>0.99805</td></tr><tr><td>epoch</td><td>9</td></tr><tr><td>loss</td><td>0.05022</td></tr><tr><td>val_accuracy</td><td>0.64848</td></tr><tr><td>val_loss</td><td>2.25453</td></tr></table><br/></div></div>"
      ],
      "text/plain": [
       "<IPython.core.display.HTML object>"
      ]
     },
     "metadata": {},
     "output_type": "display_data"
    },
    {
     "data": {
      "text/html": [
       " View run <strong style=\"color:#cdcd00\">vital-sweep-2</strong> at: <a href='https://wandb.ai/aiffel_minions/DLthon_1DCNN_GRU/runs/49jh6zzq' target=\"_blank\">https://wandb.ai/aiffel_minions/DLthon_1DCNN_GRU/runs/49jh6zzq</a><br/>Synced 5 W&B file(s), 2 media file(s), 16 artifact file(s) and 1 other file(s)"
      ],
      "text/plain": [
       "<IPython.core.display.HTML object>"
      ]
     },
     "metadata": {},
     "output_type": "display_data"
    },
    {
     "data": {
      "text/html": [
       "Find logs at: <code>./wandb/run-20240626_061041-49jh6zzq/logs</code>"
      ],
      "text/plain": [
       "<IPython.core.display.HTML object>"
      ]
     },
     "metadata": {},
     "output_type": "display_data"
    },
    {
     "name": "stderr",
     "output_type": "stream",
     "text": [
      "\u001b[34m\u001b[1mwandb\u001b[0m: Agent Starting Run: 8ldnvmh2 with config:\n",
      "\u001b[34m\u001b[1mwandb\u001b[0m: \tbatch_size: 32\n",
      "\u001b[34m\u001b[1mwandb\u001b[0m: \tdropout_rate: 0.2\n",
      "\u001b[34m\u001b[1mwandb\u001b[0m: \tepoch: 9\n",
      "\u001b[34m\u001b[1mwandb\u001b[0m: \tlearning_rate: 0.06830183796359636\n",
      "\u001b[34m\u001b[1mwandb\u001b[0m: \toptimizer: rmsprop\n"
     ]
    },
    {
     "data": {
      "text/html": [
       "wandb version 0.17.3 is available!  To upgrade, please run:\n",
       " $ pip install wandb --upgrade"
      ],
      "text/plain": [
       "<IPython.core.display.HTML object>"
      ]
     },
     "metadata": {},
     "output_type": "display_data"
    },
    {
     "data": {
      "text/html": [
       "Tracking run with wandb version 0.16.0"
      ],
      "text/plain": [
       "<IPython.core.display.HTML object>"
      ]
     },
     "metadata": {},
     "output_type": "display_data"
    },
    {
     "data": {
      "text/html": [
       "Run data is saved locally in <code>/aiffel/aiffel/dlthon-minions/dlthon-kevin/wandb/run-20240626_061636-8ldnvmh2</code>"
      ],
      "text/plain": [
       "<IPython.core.display.HTML object>"
      ]
     },
     "metadata": {},
     "output_type": "display_data"
    },
    {
     "data": {
      "text/html": [
       "Syncing run <strong><a href='https://wandb.ai/aiffel_minions/DLthon_1DCNN_GRU/runs/8ldnvmh2' target=\"_blank\">hardy-sweep-3</a></strong> to <a href='https://wandb.ai/aiffel_minions/DLthon_1DCNN_GRU' target=\"_blank\">Weights & Biases</a> (<a href='https://wandb.me/run' target=\"_blank\">docs</a>)<br/>Sweep page: <a href='https://wandb.ai/aiffel_minions/DLthon_1DCNN_GRU/sweeps/9g1wgepq' target=\"_blank\">https://wandb.ai/aiffel_minions/DLthon_1DCNN_GRU/sweeps/9g1wgepq</a>"
      ],
      "text/plain": [
       "<IPython.core.display.HTML object>"
      ]
     },
     "metadata": {},
     "output_type": "display_data"
    },
    {
     "data": {
      "text/html": [
       " View project at <a href='https://wandb.ai/aiffel_minions/DLthon_1DCNN_GRU' target=\"_blank\">https://wandb.ai/aiffel_minions/DLthon_1DCNN_GRU</a>"
      ],
      "text/plain": [
       "<IPython.core.display.HTML object>"
      ]
     },
     "metadata": {},
     "output_type": "display_data"
    },
    {
     "data": {
      "text/html": [
       " View sweep at <a href='https://wandb.ai/aiffel_minions/DLthon_1DCNN_GRU/sweeps/9g1wgepq' target=\"_blank\">https://wandb.ai/aiffel_minions/DLthon_1DCNN_GRU/sweeps/9g1wgepq</a>"
      ],
      "text/plain": [
       "<IPython.core.display.HTML object>"
      ]
     },
     "metadata": {},
     "output_type": "display_data"
    },
    {
     "data": {
      "text/html": [
       " View run at <a href='https://wandb.ai/aiffel_minions/DLthon_1DCNN_GRU/runs/8ldnvmh2' target=\"_blank\">https://wandb.ai/aiffel_minions/DLthon_1DCNN_GRU/runs/8ldnvmh2</a>"
      ],
      "text/plain": [
       "<IPython.core.display.HTML object>"
      ]
     },
     "metadata": {},
     "output_type": "display_data"
    },
    {
     "name": "stdout",
     "output_type": "stream",
     "text": [
      "WARNING:tensorflow:Layer gru will not use cuDNN kernels since it doesn't meet the criteria. It will use a generic GPU kernel as fallback when running on GPU.\n",
      "Epoch 1/9\n",
      "124/124 [==============================] - 19s 133ms/step - loss: 1.4590 - accuracy: 0.2735 - val_loss: 1.0915 - val_accuracy: 0.3838\n",
      "INFO:tensorflow:Assets written to: /aiffel/aiffel/dlthon-minions/dlthon-kevin/wandb/run-20240626_061636-8ldnvmh2/files/model-best/assets\n"
     ]
    },
    {
     "name": "stderr",
     "output_type": "stream",
     "text": [
      "\u001b[34m\u001b[1mwandb\u001b[0m: Adding directory to artifact (/aiffel/aiffel/dlthon-minions/dlthon-kevin/wandb/run-20240626_061636-8ldnvmh2/files/model-best)... Done. 0.1s\n"
     ]
    },
    {
     "name": "stdout",
     "output_type": "stream",
     "text": [
      "Epoch 2/9\n",
      "124/124 [==============================] - 16s 128ms/step - loss: 0.9933 - accuracy: 0.5222 - val_loss: 0.9049 - val_accuracy: 0.5535\n",
      "INFO:tensorflow:Assets written to: /aiffel/aiffel/dlthon-minions/dlthon-kevin/wandb/run-20240626_061636-8ldnvmh2/files/model-best/assets\n"
     ]
    },
    {
     "name": "stderr",
     "output_type": "stream",
     "text": [
      "\u001b[34m\u001b[1mwandb\u001b[0m: Adding directory to artifact (/aiffel/aiffel/dlthon-minions/dlthon-kevin/wandb/run-20240626_061636-8ldnvmh2/files/model-best)... Done. 0.1s\n"
     ]
    },
    {
     "name": "stdout",
     "output_type": "stream",
     "text": [
      "Epoch 3/9\n",
      "124/124 [==============================] - 16s 128ms/step - loss: 0.6467 - accuracy: 0.6866 - val_loss: 0.6335 - val_accuracy: 0.7091\n",
      "INFO:tensorflow:Assets written to: /aiffel/aiffel/dlthon-minions/dlthon-kevin/wandb/run-20240626_061636-8ldnvmh2/files/model-best/assets\n"
     ]
    },
    {
     "name": "stderr",
     "output_type": "stream",
     "text": [
      "\u001b[34m\u001b[1mwandb\u001b[0m: Adding directory to artifact (/aiffel/aiffel/dlthon-minions/dlthon-kevin/wandb/run-20240626_061636-8ldnvmh2/files/model-best)... Done. 0.1s\n"
     ]
    },
    {
     "name": "stdout",
     "output_type": "stream",
     "text": [
      "Epoch 4/9\n",
      "124/124 [==============================] - 16s 128ms/step - loss: 0.4781 - accuracy: 0.7783 - val_loss: 0.5985 - val_accuracy: 0.7596\n",
      "INFO:tensorflow:Assets written to: /aiffel/aiffel/dlthon-minions/dlthon-kevin/wandb/run-20240626_061636-8ldnvmh2/files/model-best/assets\n"
     ]
    },
    {
     "name": "stderr",
     "output_type": "stream",
     "text": [
      "\u001b[34m\u001b[1mwandb\u001b[0m: Adding directory to artifact (/aiffel/aiffel/dlthon-minions/dlthon-kevin/wandb/run-20240626_061636-8ldnvmh2/files/model-best)... Done. 0.1s\n"
     ]
    },
    {
     "name": "stdout",
     "output_type": "stream",
     "text": [
      "Epoch 5/9\n",
      "124/124 [==============================] - 16s 129ms/step - loss: 0.3169 - accuracy: 0.8861 - val_loss: 0.5886 - val_accuracy: 0.7960\n",
      "INFO:tensorflow:Assets written to: /aiffel/aiffel/dlthon-minions/dlthon-kevin/wandb/run-20240626_061636-8ldnvmh2/files/model-best/assets\n"
     ]
    },
    {
     "name": "stderr",
     "output_type": "stream",
     "text": [
      "\u001b[34m\u001b[1mwandb\u001b[0m: Adding directory to artifact (/aiffel/aiffel/dlthon-minions/dlthon-kevin/wandb/run-20240626_061636-8ldnvmh2/files/model-best)... Done. 0.1s\n"
     ]
    },
    {
     "name": "stdout",
     "output_type": "stream",
     "text": [
      "Epoch 6/9\n",
      "124/124 [==============================] - 16s 129ms/step - loss: 0.1793 - accuracy: 0.9439 - val_loss: 0.7024 - val_accuracy: 0.8101\n",
      "Epoch 7/9\n",
      "124/124 [==============================] - 16s 126ms/step - loss: 0.0998 - accuracy: 0.9694 - val_loss: 0.6161 - val_accuracy: 0.8343\n",
      "Epoch 8/9\n",
      "124/124 [==============================] - 16s 126ms/step - loss: 0.0678 - accuracy: 0.9785 - val_loss: 0.6996 - val_accuracy: 0.8303\n",
      "Epoch 9/9\n",
      "124/124 [==============================] - 16s 128ms/step - loss: 0.0478 - accuracy: 0.9851 - val_loss: 0.6701 - val_accuracy: 0.8242\n",
      "16/16 - 0s - loss: 0.5833 - accuracy: 0.8545\n"
     ]
    },
    {
     "data": {
      "application/vnd.jupyter.widget-view+json": {
       "model_id": "",
       "version_major": 2,
       "version_minor": 0
      },
      "text/plain": [
       "VBox(children=(Label(value='129.296 MB of 129.296 MB uploaded (0.057 MB deduped)\\r'), FloatProgress(value=1.0,…"
      ]
     },
     "metadata": {},
     "output_type": "display_data"
    },
    {
     "data": {
      "text/html": [
       "<style>\n",
       "    table.wandb td:nth-child(1) { padding: 0 10px; text-align: left ; width: auto;} td:nth-child(2) {text-align: left ; width: 100%}\n",
       "    .wandb-row { display: flex; flex-direction: row; flex-wrap: wrap; justify-content: flex-start; width: 100% }\n",
       "    .wandb-col { display: flex; flex-direction: column; flex-basis: 100%; flex: 1; padding: 10px; }\n",
       "    </style>\n",
       "<div class=\"wandb-row\"><div class=\"wandb-col\"><h3>Run history:</h3><br/><table class=\"wandb\"><tr><td>Test Accuracy Rate</td><td>▁</td></tr><tr><td>Test Error Rate</td><td>▁</td></tr><tr><td>Test F1 Score</td><td>▁</td></tr><tr><td>accuracy</td><td>▁▃▅▆▇████</td></tr><tr><td>epoch</td><td>▁▂▃▄▅▅▆▇█</td></tr><tr><td>loss</td><td>█▆▄▃▂▂▁▁▁</td></tr><tr><td>val_accuracy</td><td>▁▄▆▇▇████</td></tr><tr><td>val_loss</td><td>█▅▂▁▁▃▁▃▂</td></tr></table><br/></div><div class=\"wandb-col\"><h3>Run summary:</h3><br/><table class=\"wandb\"><tr><td>Test Accuracy Rate</td><td>0.85455</td></tr><tr><td>Test Error Rate</td><td>0.14545</td></tr><tr><td>Test F1 Score</td><td>0.85455</td></tr><tr><td>accuracy</td><td>0.9851</td></tr><tr><td>best_epoch</td><td>4</td></tr><tr><td>best_val_loss</td><td>0.58861</td></tr><tr><td>epoch</td><td>8</td></tr><tr><td>loss</td><td>0.04784</td></tr><tr><td>val_accuracy</td><td>0.82424</td></tr><tr><td>val_loss</td><td>0.67009</td></tr></table><br/></div></div>"
      ],
      "text/plain": [
       "<IPython.core.display.HTML object>"
      ]
     },
     "metadata": {},
     "output_type": "display_data"
    },
    {
     "data": {
      "text/html": [
       " View run <strong style=\"color:#cdcd00\">hardy-sweep-3</strong> at: <a href='https://wandb.ai/aiffel_minions/DLthon_1DCNN_GRU/runs/8ldnvmh2' target=\"_blank\">https://wandb.ai/aiffel_minions/DLthon_1DCNN_GRU/runs/8ldnvmh2</a><br/>Synced 5 W&B file(s), 2 media file(s), 20 artifact file(s) and 1 other file(s)"
      ],
      "text/plain": [
       "<IPython.core.display.HTML object>"
      ]
     },
     "metadata": {},
     "output_type": "display_data"
    },
    {
     "data": {
      "text/html": [
       "Find logs at: <code>./wandb/run-20240626_061636-8ldnvmh2/logs</code>"
      ],
      "text/plain": [
       "<IPython.core.display.HTML object>"
      ]
     },
     "metadata": {},
     "output_type": "display_data"
    },
    {
     "name": "stderr",
     "output_type": "stream",
     "text": [
      "\u001b[34m\u001b[1mwandb\u001b[0m: Agent Starting Run: 6w34i7ed with config:\n",
      "\u001b[34m\u001b[1mwandb\u001b[0m: \tbatch_size: 64\n",
      "\u001b[34m\u001b[1mwandb\u001b[0m: \tdropout_rate: 0.2\n",
      "\u001b[34m\u001b[1mwandb\u001b[0m: \tepoch: 10\n",
      "\u001b[34m\u001b[1mwandb\u001b[0m: \tlearning_rate: 0.02111047317868229\n",
      "\u001b[34m\u001b[1mwandb\u001b[0m: \toptimizer: rmsprop\n"
     ]
    },
    {
     "data": {
      "text/html": [
       "wandb version 0.17.3 is available!  To upgrade, please run:\n",
       " $ pip install wandb --upgrade"
      ],
      "text/plain": [
       "<IPython.core.display.HTML object>"
      ]
     },
     "metadata": {},
     "output_type": "display_data"
    },
    {
     "data": {
      "text/html": [
       "Tracking run with wandb version 0.16.0"
      ],
      "text/plain": [
       "<IPython.core.display.HTML object>"
      ]
     },
     "metadata": {},
     "output_type": "display_data"
    },
    {
     "data": {
      "text/html": [
       "Run data is saved locally in <code>/aiffel/aiffel/dlthon-minions/dlthon-kevin/wandb/run-20240626_061934-6w34i7ed</code>"
      ],
      "text/plain": [
       "<IPython.core.display.HTML object>"
      ]
     },
     "metadata": {},
     "output_type": "display_data"
    },
    {
     "data": {
      "text/html": [
       "Syncing run <strong><a href='https://wandb.ai/aiffel_minions/DLthon_1DCNN_GRU/runs/6w34i7ed' target=\"_blank\">rural-sweep-4</a></strong> to <a href='https://wandb.ai/aiffel_minions/DLthon_1DCNN_GRU' target=\"_blank\">Weights & Biases</a> (<a href='https://wandb.me/run' target=\"_blank\">docs</a>)<br/>Sweep page: <a href='https://wandb.ai/aiffel_minions/DLthon_1DCNN_GRU/sweeps/9g1wgepq' target=\"_blank\">https://wandb.ai/aiffel_minions/DLthon_1DCNN_GRU/sweeps/9g1wgepq</a>"
      ],
      "text/plain": [
       "<IPython.core.display.HTML object>"
      ]
     },
     "metadata": {},
     "output_type": "display_data"
    },
    {
     "data": {
      "text/html": [
       " View project at <a href='https://wandb.ai/aiffel_minions/DLthon_1DCNN_GRU' target=\"_blank\">https://wandb.ai/aiffel_minions/DLthon_1DCNN_GRU</a>"
      ],
      "text/plain": [
       "<IPython.core.display.HTML object>"
      ]
     },
     "metadata": {},
     "output_type": "display_data"
    },
    {
     "data": {
      "text/html": [
       " View sweep at <a href='https://wandb.ai/aiffel_minions/DLthon_1DCNN_GRU/sweeps/9g1wgepq' target=\"_blank\">https://wandb.ai/aiffel_minions/DLthon_1DCNN_GRU/sweeps/9g1wgepq</a>"
      ],
      "text/plain": [
       "<IPython.core.display.HTML object>"
      ]
     },
     "metadata": {},
     "output_type": "display_data"
    },
    {
     "data": {
      "text/html": [
       " View run at <a href='https://wandb.ai/aiffel_minions/DLthon_1DCNN_GRU/runs/6w34i7ed' target=\"_blank\">https://wandb.ai/aiffel_minions/DLthon_1DCNN_GRU/runs/6w34i7ed</a>"
      ],
      "text/plain": [
       "<IPython.core.display.HTML object>"
      ]
     },
     "metadata": {},
     "output_type": "display_data"
    },
    {
     "name": "stdout",
     "output_type": "stream",
     "text": [
      "WARNING:tensorflow:Layer gru will not use cuDNN kernels since it doesn't meet the criteria. It will use a generic GPU kernel as fallback when running on GPU.\n",
      "Epoch 1/10\n",
      "62/62 [==============================] - 11s 146ms/step - loss: 1.6070 - accuracy: 0.2063 - val_loss: 1.5841 - val_accuracy: 0.2444\n",
      "INFO:tensorflow:Assets written to: /aiffel/aiffel/dlthon-minions/dlthon-kevin/wandb/run-20240626_061934-6w34i7ed/files/model-best/assets\n"
     ]
    },
    {
     "name": "stderr",
     "output_type": "stream",
     "text": [
      "\u001b[34m\u001b[1mwandb\u001b[0m: Adding directory to artifact (/aiffel/aiffel/dlthon-minions/dlthon-kevin/wandb/run-20240626_061934-6w34i7ed/files/model-best)... Done. 0.1s\n"
     ]
    },
    {
     "name": "stdout",
     "output_type": "stream",
     "text": [
      "Epoch 2/10\n",
      "62/62 [==============================] - 8s 132ms/step - loss: 1.2026 - accuracy: 0.3927 - val_loss: 1.0922 - val_accuracy: 0.4061\n",
      "INFO:tensorflow:Assets written to: /aiffel/aiffel/dlthon-minions/dlthon-kevin/wandb/run-20240626_061934-6w34i7ed/files/model-best/assets\n"
     ]
    },
    {
     "name": "stderr",
     "output_type": "stream",
     "text": [
      "\u001b[34m\u001b[1mwandb\u001b[0m: Adding directory to artifact (/aiffel/aiffel/dlthon-minions/dlthon-kevin/wandb/run-20240626_061934-6w34i7ed/files/model-best)... Done. 0.1s\n"
     ]
    },
    {
     "name": "stdout",
     "output_type": "stream",
     "text": [
      "Epoch 3/10\n",
      "62/62 [==============================] - 8s 132ms/step - loss: 1.0963 - accuracy: 0.4444 - val_loss: 0.9518 - val_accuracy: 0.5798\n",
      "INFO:tensorflow:Assets written to: /aiffel/aiffel/dlthon-minions/dlthon-kevin/wandb/run-20240626_061934-6w34i7ed/files/model-best/assets\n"
     ]
    },
    {
     "name": "stderr",
     "output_type": "stream",
     "text": [
      "\u001b[34m\u001b[1mwandb\u001b[0m: Adding directory to artifact (/aiffel/aiffel/dlthon-minions/dlthon-kevin/wandb/run-20240626_061934-6w34i7ed/files/model-best)... Done. 0.1s\n"
     ]
    },
    {
     "name": "stdout",
     "output_type": "stream",
     "text": [
      "Epoch 4/10\n",
      "62/62 [==============================] - 8s 130ms/step - loss: 0.8032 - accuracy: 0.6093 - val_loss: 0.8146 - val_accuracy: 0.6444\n",
      "INFO:tensorflow:Assets written to: /aiffel/aiffel/dlthon-minions/dlthon-kevin/wandb/run-20240626_061934-6w34i7ed/files/model-best/assets\n"
     ]
    },
    {
     "name": "stderr",
     "output_type": "stream",
     "text": [
      "\u001b[34m\u001b[1mwandb\u001b[0m: Adding directory to artifact (/aiffel/aiffel/dlthon-minions/dlthon-kevin/wandb/run-20240626_061934-6w34i7ed/files/model-best)... Done. 0.1s\n"
     ]
    },
    {
     "name": "stdout",
     "output_type": "stream",
     "text": [
      "Epoch 5/10\n",
      "62/62 [==============================] - 8s 131ms/step - loss: 0.5731 - accuracy: 0.7495 - val_loss: 0.7450 - val_accuracy: 0.6970\n",
      "INFO:tensorflow:Assets written to: /aiffel/aiffel/dlthon-minions/dlthon-kevin/wandb/run-20240626_061934-6w34i7ed/files/model-best/assets\n"
     ]
    },
    {
     "name": "stderr",
     "output_type": "stream",
     "text": [
      "\u001b[34m\u001b[1mwandb\u001b[0m: Adding directory to artifact (/aiffel/aiffel/dlthon-minions/dlthon-kevin/wandb/run-20240626_061934-6w34i7ed/files/model-best)... Done. 0.1s\n"
     ]
    },
    {
     "name": "stdout",
     "output_type": "stream",
     "text": [
      "Epoch 6/10\n",
      "62/62 [==============================] - 8s 132ms/step - loss: 0.3316 - accuracy: 0.8826 - val_loss: 0.7631 - val_accuracy: 0.7414\n",
      "Epoch 7/10\n",
      "62/62 [==============================] - 8s 129ms/step - loss: 0.1838 - accuracy: 0.9394 - val_loss: 0.5521 - val_accuracy: 0.8303\n",
      "INFO:tensorflow:Assets written to: /aiffel/aiffel/dlthon-minions/dlthon-kevin/wandb/run-20240626_061934-6w34i7ed/files/model-best/assets\n"
     ]
    },
    {
     "name": "stderr",
     "output_type": "stream",
     "text": [
      "\u001b[34m\u001b[1mwandb\u001b[0m: Adding directory to artifact (/aiffel/aiffel/dlthon-minions/dlthon-kevin/wandb/run-20240626_061934-6w34i7ed/files/model-best)... Done. 0.1s\n"
     ]
    },
    {
     "name": "stdout",
     "output_type": "stream",
     "text": [
      "Epoch 8/10\n",
      "62/62 [==============================] - 8s 130ms/step - loss: 0.0949 - accuracy: 0.9702 - val_loss: 0.6650 - val_accuracy: 0.8343\n",
      "Epoch 9/10\n",
      "62/62 [==============================] - 8s 131ms/step - loss: 0.0545 - accuracy: 0.9826 - val_loss: 0.7081 - val_accuracy: 0.8242\n",
      "Epoch 10/10\n",
      "62/62 [==============================] - 8s 129ms/step - loss: 0.0441 - accuracy: 0.9848 - val_loss: 0.6960 - val_accuracy: 0.8242\n",
      "16/16 - 0s - loss: 0.6295 - accuracy: 0.8444\n"
     ]
    },
    {
     "data": {
      "application/vnd.jupyter.widget-view+json": {
       "model_id": "",
       "version_major": 2,
       "version_minor": 0
      },
      "text/plain": [
       "VBox(children=(Label(value='150.959 MB of 150.959 MB uploaded (0.072 MB deduped)\\r'), FloatProgress(value=1.0,…"
      ]
     },
     "metadata": {},
     "output_type": "display_data"
    },
    {
     "data": {
      "text/html": [
       "<style>\n",
       "    table.wandb td:nth-child(1) { padding: 0 10px; text-align: left ; width: auto;} td:nth-child(2) {text-align: left ; width: 100%}\n",
       "    .wandb-row { display: flex; flex-direction: row; flex-wrap: wrap; justify-content: flex-start; width: 100% }\n",
       "    .wandb-col { display: flex; flex-direction: column; flex-basis: 100%; flex: 1; padding: 10px; }\n",
       "    </style>\n",
       "<div class=\"wandb-row\"><div class=\"wandb-col\"><h3>Run history:</h3><br/><table class=\"wandb\"><tr><td>Test Accuracy Rate</td><td>▁</td></tr><tr><td>Test Error Rate</td><td>▁</td></tr><tr><td>Test F1 Score</td><td>▁</td></tr><tr><td>accuracy</td><td>▁▃▃▅▆▇████</td></tr><tr><td>epoch</td><td>▁▂▃▃▄▅▆▆▇█</td></tr><tr><td>loss</td><td>█▆▆▄▃▂▂▁▁▁</td></tr><tr><td>val_accuracy</td><td>▁▃▅▆▆▇████</td></tr><tr><td>val_loss</td><td>█▅▄▃▂▂▁▂▂▂</td></tr></table><br/></div><div class=\"wandb-col\"><h3>Run summary:</h3><br/><table class=\"wandb\"><tr><td>Test Accuracy Rate</td><td>0.84444</td></tr><tr><td>Test Error Rate</td><td>0.15556</td></tr><tr><td>Test F1 Score</td><td>0.84444</td></tr><tr><td>accuracy</td><td>0.98485</td></tr><tr><td>best_epoch</td><td>6</td></tr><tr><td>best_val_loss</td><td>0.55208</td></tr><tr><td>epoch</td><td>9</td></tr><tr><td>loss</td><td>0.04415</td></tr><tr><td>val_accuracy</td><td>0.82424</td></tr><tr><td>val_loss</td><td>0.69597</td></tr></table><br/></div></div>"
      ],
      "text/plain": [
       "<IPython.core.display.HTML object>"
      ]
     },
     "metadata": {},
     "output_type": "display_data"
    },
    {
     "data": {
      "text/html": [
       " View run <strong style=\"color:#cdcd00\">rural-sweep-4</strong> at: <a href='https://wandb.ai/aiffel_minions/DLthon_1DCNN_GRU/runs/6w34i7ed' target=\"_blank\">https://wandb.ai/aiffel_minions/DLthon_1DCNN_GRU/runs/6w34i7ed</a><br/>Synced 5 W&B file(s), 2 media file(s), 24 artifact file(s) and 1 other file(s)"
      ],
      "text/plain": [
       "<IPython.core.display.HTML object>"
      ]
     },
     "metadata": {},
     "output_type": "display_data"
    },
    {
     "data": {
      "text/html": [
       "Find logs at: <code>./wandb/run-20240626_061934-6w34i7ed/logs</code>"
      ],
      "text/plain": [
       "<IPython.core.display.HTML object>"
      ]
     },
     "metadata": {},
     "output_type": "display_data"
    },
    {
     "name": "stderr",
     "output_type": "stream",
     "text": [
      "\u001b[34m\u001b[1mwandb\u001b[0m: Agent Starting Run: pvzjy6u3 with config:\n",
      "\u001b[34m\u001b[1mwandb\u001b[0m: \tbatch_size: 16\n",
      "\u001b[34m\u001b[1mwandb\u001b[0m: \tdropout_rate: 0.3\n",
      "\u001b[34m\u001b[1mwandb\u001b[0m: \tepoch: 5\n",
      "\u001b[34m\u001b[1mwandb\u001b[0m: \tlearning_rate: 0.0956842072714973\n",
      "\u001b[34m\u001b[1mwandb\u001b[0m: \toptimizer: rmsprop\n"
     ]
    },
    {
     "data": {
      "text/html": [
       "wandb version 0.17.3 is available!  To upgrade, please run:\n",
       " $ pip install wandb --upgrade"
      ],
      "text/plain": [
       "<IPython.core.display.HTML object>"
      ]
     },
     "metadata": {},
     "output_type": "display_data"
    },
    {
     "data": {
      "text/html": [
       "Tracking run with wandb version 0.16.0"
      ],
      "text/plain": [
       "<IPython.core.display.HTML object>"
      ]
     },
     "metadata": {},
     "output_type": "display_data"
    },
    {
     "data": {
      "text/html": [
       "Run data is saved locally in <code>/aiffel/aiffel/dlthon-minions/dlthon-kevin/wandb/run-20240626_062136-pvzjy6u3</code>"
      ],
      "text/plain": [
       "<IPython.core.display.HTML object>"
      ]
     },
     "metadata": {},
     "output_type": "display_data"
    },
    {
     "data": {
      "text/html": [
       "Syncing run <strong><a href='https://wandb.ai/aiffel_minions/DLthon_1DCNN_GRU/runs/pvzjy6u3' target=\"_blank\">gallant-sweep-5</a></strong> to <a href='https://wandb.ai/aiffel_minions/DLthon_1DCNN_GRU' target=\"_blank\">Weights & Biases</a> (<a href='https://wandb.me/run' target=\"_blank\">docs</a>)<br/>Sweep page: <a href='https://wandb.ai/aiffel_minions/DLthon_1DCNN_GRU/sweeps/9g1wgepq' target=\"_blank\">https://wandb.ai/aiffel_minions/DLthon_1DCNN_GRU/sweeps/9g1wgepq</a>"
      ],
      "text/plain": [
       "<IPython.core.display.HTML object>"
      ]
     },
     "metadata": {},
     "output_type": "display_data"
    },
    {
     "data": {
      "text/html": [
       " View project at <a href='https://wandb.ai/aiffel_minions/DLthon_1DCNN_GRU' target=\"_blank\">https://wandb.ai/aiffel_minions/DLthon_1DCNN_GRU</a>"
      ],
      "text/plain": [
       "<IPython.core.display.HTML object>"
      ]
     },
     "metadata": {},
     "output_type": "display_data"
    },
    {
     "data": {
      "text/html": [
       " View sweep at <a href='https://wandb.ai/aiffel_minions/DLthon_1DCNN_GRU/sweeps/9g1wgepq' target=\"_blank\">https://wandb.ai/aiffel_minions/DLthon_1DCNN_GRU/sweeps/9g1wgepq</a>"
      ],
      "text/plain": [
       "<IPython.core.display.HTML object>"
      ]
     },
     "metadata": {},
     "output_type": "display_data"
    },
    {
     "data": {
      "text/html": [
       " View run at <a href='https://wandb.ai/aiffel_minions/DLthon_1DCNN_GRU/runs/pvzjy6u3' target=\"_blank\">https://wandb.ai/aiffel_minions/DLthon_1DCNN_GRU/runs/pvzjy6u3</a>"
      ],
      "text/plain": [
       "<IPython.core.display.HTML object>"
      ]
     },
     "metadata": {},
     "output_type": "display_data"
    },
    {
     "name": "stdout",
     "output_type": "stream",
     "text": [
      "WARNING:tensorflow:Layer gru will not use cuDNN kernels since it doesn't meet the criteria. It will use a generic GPU kernel as fallback when running on GPU.\n",
      "Epoch 1/5\n",
      "248/248 [==============================] - 35s 133ms/step - loss: 1.4100 - accuracy: 0.2947 - val_loss: 1.0909 - val_accuracy: 0.4020\n",
      "INFO:tensorflow:Assets written to: /aiffel/aiffel/dlthon-minions/dlthon-kevin/wandb/run-20240626_062136-pvzjy6u3/files/model-best/assets\n"
     ]
    },
    {
     "name": "stderr",
     "output_type": "stream",
     "text": [
      "\u001b[34m\u001b[1mwandb\u001b[0m: Adding directory to artifact (/aiffel/aiffel/dlthon-minions/dlthon-kevin/wandb/run-20240626_062136-pvzjy6u3/files/model-best)... Done. 0.1s\n"
     ]
    },
    {
     "name": "stdout",
     "output_type": "stream",
     "text": [
      "Epoch 2/5\n",
      "248/248 [==============================] - 32s 128ms/step - loss: 1.0644 - accuracy: 0.4717 - val_loss: 0.8748 - val_accuracy: 0.6040\n",
      "INFO:tensorflow:Assets written to: /aiffel/aiffel/dlthon-minions/dlthon-kevin/wandb/run-20240626_062136-pvzjy6u3/files/model-best/assets\n"
     ]
    },
    {
     "name": "stderr",
     "output_type": "stream",
     "text": [
      "\u001b[34m\u001b[1mwandb\u001b[0m: Adding directory to artifact (/aiffel/aiffel/dlthon-minions/dlthon-kevin/wandb/run-20240626_062136-pvzjy6u3/files/model-best)... Done. 0.1s\n"
     ]
    },
    {
     "name": "stdout",
     "output_type": "stream",
     "text": [
      "Epoch 3/5\n",
      "248/248 [==============================] - 32s 127ms/step - loss: 0.7218 - accuracy: 0.6831 - val_loss: 0.8070 - val_accuracy: 0.6323\n",
      "INFO:tensorflow:Assets written to: /aiffel/aiffel/dlthon-minions/dlthon-kevin/wandb/run-20240626_062136-pvzjy6u3/files/model-best/assets\n"
     ]
    },
    {
     "name": "stderr",
     "output_type": "stream",
     "text": [
      "\u001b[34m\u001b[1mwandb\u001b[0m: Adding directory to artifact (/aiffel/aiffel/dlthon-minions/dlthon-kevin/wandb/run-20240626_062136-pvzjy6u3/files/model-best)... Done. 0.1s\n"
     ]
    },
    {
     "name": "stdout",
     "output_type": "stream",
     "text": [
      "Epoch 4/5\n",
      "248/248 [==============================] - 32s 128ms/step - loss: 0.4913 - accuracy: 0.7939 - val_loss: 0.5450 - val_accuracy: 0.8020\n",
      "INFO:tensorflow:Assets written to: /aiffel/aiffel/dlthon-minions/dlthon-kevin/wandb/run-20240626_062136-pvzjy6u3/files/model-best/assets\n"
     ]
    },
    {
     "name": "stderr",
     "output_type": "stream",
     "text": [
      "\u001b[34m\u001b[1mwandb\u001b[0m: Adding directory to artifact (/aiffel/aiffel/dlthon-minions/dlthon-kevin/wandb/run-20240626_062136-pvzjy6u3/files/model-best)... Done. 0.1s\n"
     ]
    },
    {
     "name": "stdout",
     "output_type": "stream",
     "text": [
      "Epoch 5/5\n",
      "248/248 [==============================] - 32s 127ms/step - loss: 0.3128 - accuracy: 0.8891 - val_loss: 0.5273 - val_accuracy: 0.8444\n",
      "INFO:tensorflow:Assets written to: /aiffel/aiffel/dlthon-minions/dlthon-kevin/wandb/run-20240626_062136-pvzjy6u3/files/model-best/assets\n"
     ]
    },
    {
     "name": "stderr",
     "output_type": "stream",
     "text": [
      "\u001b[34m\u001b[1mwandb\u001b[0m: Adding directory to artifact (/aiffel/aiffel/dlthon-minions/dlthon-kevin/wandb/run-20240626_062136-pvzjy6u3/files/model-best)... Done. 0.1s\n"
     ]
    },
    {
     "name": "stdout",
     "output_type": "stream",
     "text": [
      "16/16 - 0s - loss: 0.5034 - accuracy: 0.8465\n"
     ]
    },
    {
     "data": {
      "application/vnd.jupyter.widget-view+json": {
       "model_id": "",
       "version_major": 2,
       "version_minor": 0
      },
      "text/plain": [
       "VBox(children=(Label(value='129.298 MB of 129.298 MB uploaded (0.057 MB deduped)\\r'), FloatProgress(value=1.0,…"
      ]
     },
     "metadata": {},
     "output_type": "display_data"
    },
    {
     "data": {
      "text/html": [
       "<style>\n",
       "    table.wandb td:nth-child(1) { padding: 0 10px; text-align: left ; width: auto;} td:nth-child(2) {text-align: left ; width: 100%}\n",
       "    .wandb-row { display: flex; flex-direction: row; flex-wrap: wrap; justify-content: flex-start; width: 100% }\n",
       "    .wandb-col { display: flex; flex-direction: column; flex-basis: 100%; flex: 1; padding: 10px; }\n",
       "    </style>\n",
       "<div class=\"wandb-row\"><div class=\"wandb-col\"><h3>Run history:</h3><br/><table class=\"wandb\"><tr><td>Test Accuracy Rate</td><td>▁</td></tr><tr><td>Test Error Rate</td><td>▁</td></tr><tr><td>Test F1 Score</td><td>▁</td></tr><tr><td>accuracy</td><td>▁▃▆▇█</td></tr><tr><td>epoch</td><td>▁▃▅▆█</td></tr><tr><td>loss</td><td>█▆▄▂▁</td></tr><tr><td>val_accuracy</td><td>▁▄▅▇█</td></tr><tr><td>val_loss</td><td>█▅▄▁▁</td></tr></table><br/></div><div class=\"wandb-col\"><h3>Run summary:</h3><br/><table class=\"wandb\"><tr><td>Test Accuracy Rate</td><td>0.84646</td></tr><tr><td>Test Error Rate</td><td>0.15354</td></tr><tr><td>Test F1 Score</td><td>0.84646</td></tr><tr><td>accuracy</td><td>0.88914</td></tr><tr><td>best_epoch</td><td>4</td></tr><tr><td>best_val_loss</td><td>0.52734</td></tr><tr><td>epoch</td><td>4</td></tr><tr><td>loss</td><td>0.31278</td></tr><tr><td>val_accuracy</td><td>0.84444</td></tr><tr><td>val_loss</td><td>0.52734</td></tr></table><br/></div></div>"
      ],
      "text/plain": [
       "<IPython.core.display.HTML object>"
      ]
     },
     "metadata": {},
     "output_type": "display_data"
    },
    {
     "data": {
      "text/html": [
       " View run <strong style=\"color:#cdcd00\">gallant-sweep-5</strong> at: <a href='https://wandb.ai/aiffel_minions/DLthon_1DCNN_GRU/runs/pvzjy6u3' target=\"_blank\">https://wandb.ai/aiffel_minions/DLthon_1DCNN_GRU/runs/pvzjy6u3</a><br/>Synced 5 W&B file(s), 2 media file(s), 20 artifact file(s) and 1 other file(s)"
      ],
      "text/plain": [
       "<IPython.core.display.HTML object>"
      ]
     },
     "metadata": {},
     "output_type": "display_data"
    },
    {
     "data": {
      "text/html": [
       "Find logs at: <code>./wandb/run-20240626_062136-pvzjy6u3/logs</code>"
      ],
      "text/plain": [
       "<IPython.core.display.HTML object>"
      ]
     },
     "metadata": {},
     "output_type": "display_data"
    },
    {
     "name": "stderr",
     "output_type": "stream",
     "text": [
      "\u001b[34m\u001b[1mwandb\u001b[0m: Agent Starting Run: 2thvhleu with config:\n",
      "\u001b[34m\u001b[1mwandb\u001b[0m: \tbatch_size: 16\n",
      "\u001b[34m\u001b[1mwandb\u001b[0m: \tdropout_rate: 0.2\n",
      "\u001b[34m\u001b[1mwandb\u001b[0m: \tepoch: 10\n",
      "\u001b[34m\u001b[1mwandb\u001b[0m: \tlearning_rate: 0.09214419039367552\n",
      "\u001b[34m\u001b[1mwandb\u001b[0m: \toptimizer: adam\n"
     ]
    },
    {
     "data": {
      "text/html": [
       "wandb version 0.17.3 is available!  To upgrade, please run:\n",
       " $ pip install wandb --upgrade"
      ],
      "text/plain": [
       "<IPython.core.display.HTML object>"
      ]
     },
     "metadata": {},
     "output_type": "display_data"
    },
    {
     "data": {
      "text/html": [
       "Tracking run with wandb version 0.16.0"
      ],
      "text/plain": [
       "<IPython.core.display.HTML object>"
      ]
     },
     "metadata": {},
     "output_type": "display_data"
    },
    {
     "data": {
      "text/html": [
       "Run data is saved locally in <code>/aiffel/aiffel/dlthon-minions/dlthon-kevin/wandb/run-20240626_062449-2thvhleu</code>"
      ],
      "text/plain": [
       "<IPython.core.display.HTML object>"
      ]
     },
     "metadata": {},
     "output_type": "display_data"
    },
    {
     "data": {
      "text/html": [
       "Syncing run <strong><a href='https://wandb.ai/aiffel_minions/DLthon_1DCNN_GRU/runs/2thvhleu' target=\"_blank\">light-sweep-6</a></strong> to <a href='https://wandb.ai/aiffel_minions/DLthon_1DCNN_GRU' target=\"_blank\">Weights & Biases</a> (<a href='https://wandb.me/run' target=\"_blank\">docs</a>)<br/>Sweep page: <a href='https://wandb.ai/aiffel_minions/DLthon_1DCNN_GRU/sweeps/9g1wgepq' target=\"_blank\">https://wandb.ai/aiffel_minions/DLthon_1DCNN_GRU/sweeps/9g1wgepq</a>"
      ],
      "text/plain": [
       "<IPython.core.display.HTML object>"
      ]
     },
     "metadata": {},
     "output_type": "display_data"
    },
    {
     "data": {
      "text/html": [
       " View project at <a href='https://wandb.ai/aiffel_minions/DLthon_1DCNN_GRU' target=\"_blank\">https://wandb.ai/aiffel_minions/DLthon_1DCNN_GRU</a>"
      ],
      "text/plain": [
       "<IPython.core.display.HTML object>"
      ]
     },
     "metadata": {},
     "output_type": "display_data"
    },
    {
     "data": {
      "text/html": [
       " View sweep at <a href='https://wandb.ai/aiffel_minions/DLthon_1DCNN_GRU/sweeps/9g1wgepq' target=\"_blank\">https://wandb.ai/aiffel_minions/DLthon_1DCNN_GRU/sweeps/9g1wgepq</a>"
      ],
      "text/plain": [
       "<IPython.core.display.HTML object>"
      ]
     },
     "metadata": {},
     "output_type": "display_data"
    },
    {
     "data": {
      "text/html": [
       " View run at <a href='https://wandb.ai/aiffel_minions/DLthon_1DCNN_GRU/runs/2thvhleu' target=\"_blank\">https://wandb.ai/aiffel_minions/DLthon_1DCNN_GRU/runs/2thvhleu</a>"
      ],
      "text/plain": [
       "<IPython.core.display.HTML object>"
      ]
     },
     "metadata": {},
     "output_type": "display_data"
    },
    {
     "name": "stdout",
     "output_type": "stream",
     "text": [
      "WARNING:tensorflow:Layer gru will not use cuDNN kernels since it doesn't meet the criteria. It will use a generic GPU kernel as fallback when running on GPU.\n",
      "Epoch 1/10\n",
      "248/248 [==============================] - 35s 130ms/step - loss: 1.3722 - accuracy: 0.3136 - val_loss: 1.0941 - val_accuracy: 0.3697\n",
      "INFO:tensorflow:Assets written to: /aiffel/aiffel/dlthon-minions/dlthon-kevin/wandb/run-20240626_062449-2thvhleu/files/model-best/assets\n"
     ]
    },
    {
     "name": "stderr",
     "output_type": "stream",
     "text": [
      "\u001b[34m\u001b[1mwandb\u001b[0m: Adding directory to artifact (/aiffel/aiffel/dlthon-minions/dlthon-kevin/wandb/run-20240626_062449-2thvhleu/files/model-best)... Done. 0.1s\n"
     ]
    },
    {
     "name": "stdout",
     "output_type": "stream",
     "text": [
      "Epoch 2/10\n",
      "248/248 [==============================] - 31s 127ms/step - loss: 0.9191 - accuracy: 0.5636 - val_loss: 0.8148 - val_accuracy: 0.5980\n",
      "INFO:tensorflow:Assets written to: /aiffel/aiffel/dlthon-minions/dlthon-kevin/wandb/run-20240626_062449-2thvhleu/files/model-best/assets\n"
     ]
    },
    {
     "name": "stderr",
     "output_type": "stream",
     "text": [
      "\u001b[34m\u001b[1mwandb\u001b[0m: Adding directory to artifact (/aiffel/aiffel/dlthon-minions/dlthon-kevin/wandb/run-20240626_062449-2thvhleu/files/model-best)... Done. 0.1s\n"
     ]
    },
    {
     "name": "stdout",
     "output_type": "stream",
     "text": [
      "Epoch 3/10\n",
      "248/248 [==============================] - 31s 126ms/step - loss: 0.5887 - accuracy: 0.7439 - val_loss: 0.7802 - val_accuracy: 0.6848\n",
      "INFO:tensorflow:Assets written to: /aiffel/aiffel/dlthon-minions/dlthon-kevin/wandb/run-20240626_062449-2thvhleu/files/model-best/assets\n"
     ]
    },
    {
     "name": "stderr",
     "output_type": "stream",
     "text": [
      "\u001b[34m\u001b[1mwandb\u001b[0m: Adding directory to artifact (/aiffel/aiffel/dlthon-minions/dlthon-kevin/wandb/run-20240626_062449-2thvhleu/files/model-best)... Done. 0.1s\n"
     ]
    },
    {
     "name": "stdout",
     "output_type": "stream",
     "text": [
      "Epoch 4/10\n",
      "248/248 [==============================] - 31s 126ms/step - loss: 0.3594 - accuracy: 0.8540 - val_loss: 0.8559 - val_accuracy: 0.6828\n",
      "Epoch 5/10\n",
      "248/248 [==============================] - 31s 126ms/step - loss: 0.2353 - accuracy: 0.9056 - val_loss: 0.8341 - val_accuracy: 0.7414\n",
      "Epoch 6/10\n",
      "248/248 [==============================] - 31s 126ms/step - loss: 0.1595 - accuracy: 0.9470 - val_loss: 1.0534 - val_accuracy: 0.7354\n",
      "Epoch 7/10\n",
      "248/248 [==============================] - 31s 126ms/step - loss: 0.0989 - accuracy: 0.9705 - val_loss: 1.0860 - val_accuracy: 0.7515\n",
      "Epoch 8/10\n",
      "248/248 [==============================] - 32s 128ms/step - loss: 0.0794 - accuracy: 0.9745 - val_loss: 1.2392 - val_accuracy: 0.7333\n",
      "Epoch 9/10\n",
      "248/248 [==============================] - 31s 126ms/step - loss: 0.0620 - accuracy: 0.9818 - val_loss: 1.3814 - val_accuracy: 0.7354\n",
      "Epoch 10/10\n",
      "248/248 [==============================] - 32s 127ms/step - loss: 0.0471 - accuracy: 0.9826 - val_loss: 1.3192 - val_accuracy: 0.7556\n",
      "16/16 - 0s - loss: 1.2672 - accuracy: 0.7657\n"
     ]
    },
    {
     "data": {
      "application/vnd.jupyter.widget-view+json": {
       "model_id": "",
       "version_major": 2,
       "version_minor": 0
      },
      "text/plain": [
       "VBox(children=(Label(value='127.847 MB of 127.847 MB uploaded (0.029 MB deduped)\\r'), FloatProgress(value=1.0,…"
      ]
     },
     "metadata": {},
     "output_type": "display_data"
    },
    {
     "data": {
      "text/html": [
       "<style>\n",
       "    table.wandb td:nth-child(1) { padding: 0 10px; text-align: left ; width: auto;} td:nth-child(2) {text-align: left ; width: 100%}\n",
       "    .wandb-row { display: flex; flex-direction: row; flex-wrap: wrap; justify-content: flex-start; width: 100% }\n",
       "    .wandb-col { display: flex; flex-direction: column; flex-basis: 100%; flex: 1; padding: 10px; }\n",
       "    </style>\n",
       "<div class=\"wandb-row\"><div class=\"wandb-col\"><h3>Run history:</h3><br/><table class=\"wandb\"><tr><td>Test Accuracy Rate</td><td>▁</td></tr><tr><td>Test Error Rate</td><td>▁</td></tr><tr><td>Test F1 Score</td><td>▁</td></tr><tr><td>accuracy</td><td>▁▄▆▇▇█████</td></tr><tr><td>epoch</td><td>▁▂▃▃▄▅▆▆▇█</td></tr><tr><td>loss</td><td>█▆▄▃▂▂▁▁▁▁</td></tr><tr><td>val_accuracy</td><td>▁▅▇▇██████</td></tr><tr><td>val_loss</td><td>▅▁▁▂▂▄▅▆█▇</td></tr></table><br/></div><div class=\"wandb-col\"><h3>Run summary:</h3><br/><table class=\"wandb\"><tr><td>Test Accuracy Rate</td><td>0.76566</td></tr><tr><td>Test Error Rate</td><td>0.23434</td></tr><tr><td>Test F1 Score</td><td>0.76566</td></tr><tr><td>accuracy</td><td>0.98258</td></tr><tr><td>best_epoch</td><td>2</td></tr><tr><td>best_val_loss</td><td>0.78023</td></tr><tr><td>epoch</td><td>9</td></tr><tr><td>loss</td><td>0.04706</td></tr><tr><td>val_accuracy</td><td>0.75556</td></tr><tr><td>val_loss</td><td>1.3192</td></tr></table><br/></div></div>"
      ],
      "text/plain": [
       "<IPython.core.display.HTML object>"
      ]
     },
     "metadata": {},
     "output_type": "display_data"
    },
    {
     "data": {
      "text/html": [
       " View run <strong style=\"color:#cdcd00\">light-sweep-6</strong> at: <a href='https://wandb.ai/aiffel_minions/DLthon_1DCNN_GRU/runs/2thvhleu' target=\"_blank\">https://wandb.ai/aiffel_minions/DLthon_1DCNN_GRU/runs/2thvhleu</a><br/>Synced 5 W&B file(s), 2 media file(s), 12 artifact file(s) and 1 other file(s)"
      ],
      "text/plain": [
       "<IPython.core.display.HTML object>"
      ]
     },
     "metadata": {},
     "output_type": "display_data"
    },
    {
     "data": {
      "text/html": [
       "Find logs at: <code>./wandb/run-20240626_062449-2thvhleu/logs</code>"
      ],
      "text/plain": [
       "<IPython.core.display.HTML object>"
      ]
     },
     "metadata": {},
     "output_type": "display_data"
    },
    {
     "name": "stderr",
     "output_type": "stream",
     "text": [
      "\u001b[34m\u001b[1mwandb\u001b[0m: Agent Starting Run: mvdvg1xg with config:\n",
      "\u001b[34m\u001b[1mwandb\u001b[0m: \tbatch_size: 64\n",
      "\u001b[34m\u001b[1mwandb\u001b[0m: \tdropout_rate: 0.2\n",
      "\u001b[34m\u001b[1mwandb\u001b[0m: \tepoch: 9\n",
      "\u001b[34m\u001b[1mwandb\u001b[0m: \tlearning_rate: 0.05634193011844724\n",
      "\u001b[34m\u001b[1mwandb\u001b[0m: \toptimizer: rmsprop\n"
     ]
    },
    {
     "data": {
      "text/html": [
       "wandb version 0.17.3 is available!  To upgrade, please run:\n",
       " $ pip install wandb --upgrade"
      ],
      "text/plain": [
       "<IPython.core.display.HTML object>"
      ]
     },
     "metadata": {},
     "output_type": "display_data"
    },
    {
     "data": {
      "text/html": [
       "Tracking run with wandb version 0.16.0"
      ],
      "text/plain": [
       "<IPython.core.display.HTML object>"
      ]
     },
     "metadata": {},
     "output_type": "display_data"
    },
    {
     "data": {
      "text/html": [
       "Run data is saved locally in <code>/aiffel/aiffel/dlthon-minions/dlthon-kevin/wandb/run-20240626_063029-mvdvg1xg</code>"
      ],
      "text/plain": [
       "<IPython.core.display.HTML object>"
      ]
     },
     "metadata": {},
     "output_type": "display_data"
    },
    {
     "data": {
      "text/html": [
       "Syncing run <strong><a href='https://wandb.ai/aiffel_minions/DLthon_1DCNN_GRU/runs/mvdvg1xg' target=\"_blank\">noble-sweep-7</a></strong> to <a href='https://wandb.ai/aiffel_minions/DLthon_1DCNN_GRU' target=\"_blank\">Weights & Biases</a> (<a href='https://wandb.me/run' target=\"_blank\">docs</a>)<br/>Sweep page: <a href='https://wandb.ai/aiffel_minions/DLthon_1DCNN_GRU/sweeps/9g1wgepq' target=\"_blank\">https://wandb.ai/aiffel_minions/DLthon_1DCNN_GRU/sweeps/9g1wgepq</a>"
      ],
      "text/plain": [
       "<IPython.core.display.HTML object>"
      ]
     },
     "metadata": {},
     "output_type": "display_data"
    },
    {
     "data": {
      "text/html": [
       " View project at <a href='https://wandb.ai/aiffel_minions/DLthon_1DCNN_GRU' target=\"_blank\">https://wandb.ai/aiffel_minions/DLthon_1DCNN_GRU</a>"
      ],
      "text/plain": [
       "<IPython.core.display.HTML object>"
      ]
     },
     "metadata": {},
     "output_type": "display_data"
    },
    {
     "data": {
      "text/html": [
       " View sweep at <a href='https://wandb.ai/aiffel_minions/DLthon_1DCNN_GRU/sweeps/9g1wgepq' target=\"_blank\">https://wandb.ai/aiffel_minions/DLthon_1DCNN_GRU/sweeps/9g1wgepq</a>"
      ],
      "text/plain": [
       "<IPython.core.display.HTML object>"
      ]
     },
     "metadata": {},
     "output_type": "display_data"
    },
    {
     "data": {
      "text/html": [
       " View run at <a href='https://wandb.ai/aiffel_minions/DLthon_1DCNN_GRU/runs/mvdvg1xg' target=\"_blank\">https://wandb.ai/aiffel_minions/DLthon_1DCNN_GRU/runs/mvdvg1xg</a>"
      ],
      "text/plain": [
       "<IPython.core.display.HTML object>"
      ]
     },
     "metadata": {},
     "output_type": "display_data"
    },
    {
     "name": "stdout",
     "output_type": "stream",
     "text": [
      "WARNING:tensorflow:Layer gru will not use cuDNN kernels since it doesn't meet the criteria. It will use a generic GPU kernel as fallback when running on GPU.\n",
      "Epoch 1/9\n",
      "62/62 [==============================] - 11s 144ms/step - loss: 1.5635 - accuracy: 0.2424 - val_loss: 1.1914 - val_accuracy: 0.4687\n",
      "INFO:tensorflow:Assets written to: /aiffel/aiffel/dlthon-minions/dlthon-kevin/wandb/run-20240626_063029-mvdvg1xg/files/model-best/assets\n"
     ]
    },
    {
     "name": "stderr",
     "output_type": "stream",
     "text": [
      "\u001b[34m\u001b[1mwandb\u001b[0m: Adding directory to artifact (/aiffel/aiffel/dlthon-minions/dlthon-kevin/wandb/run-20240626_063029-mvdvg1xg/files/model-best)... Done. 0.1s\n"
     ]
    },
    {
     "name": "stdout",
     "output_type": "stream",
     "text": [
      "Epoch 2/9\n",
      "62/62 [==============================] - 8s 132ms/step - loss: 1.1492 - accuracy: 0.4157 - val_loss: 1.0377 - val_accuracy: 0.5172\n",
      "INFO:tensorflow:Assets written to: /aiffel/aiffel/dlthon-minions/dlthon-kevin/wandb/run-20240626_063029-mvdvg1xg/files/model-best/assets\n"
     ]
    },
    {
     "name": "stderr",
     "output_type": "stream",
     "text": [
      "\u001b[34m\u001b[1mwandb\u001b[0m: Adding directory to artifact (/aiffel/aiffel/dlthon-minions/dlthon-kevin/wandb/run-20240626_063029-mvdvg1xg/files/model-best)... Done. 0.1s\n"
     ]
    },
    {
     "name": "stdout",
     "output_type": "stream",
     "text": [
      "Epoch 3/9\n",
      "62/62 [==============================] - 8s 129ms/step - loss: 1.0234 - accuracy: 0.5285 - val_loss: 0.8825 - val_accuracy: 0.6263\n",
      "INFO:tensorflow:Assets written to: /aiffel/aiffel/dlthon-minions/dlthon-kevin/wandb/run-20240626_063029-mvdvg1xg/files/model-best/assets\n"
     ]
    },
    {
     "name": "stderr",
     "output_type": "stream",
     "text": [
      "\u001b[34m\u001b[1mwandb\u001b[0m: Adding directory to artifact (/aiffel/aiffel/dlthon-minions/dlthon-kevin/wandb/run-20240626_063029-mvdvg1xg/files/model-best)... Done. 0.1s\n"
     ]
    },
    {
     "name": "stdout",
     "output_type": "stream",
     "text": [
      "Epoch 4/9\n",
      "62/62 [==============================] - 8s 130ms/step - loss: 0.8192 - accuracy: 0.6311 - val_loss: 0.8395 - val_accuracy: 0.6081\n",
      "INFO:tensorflow:Assets written to: /aiffel/aiffel/dlthon-minions/dlthon-kevin/wandb/run-20240626_063029-mvdvg1xg/files/model-best/assets\n"
     ]
    },
    {
     "name": "stderr",
     "output_type": "stream",
     "text": [
      "\u001b[34m\u001b[1mwandb\u001b[0m: Adding directory to artifact (/aiffel/aiffel/dlthon-minions/dlthon-kevin/wandb/run-20240626_063029-mvdvg1xg/files/model-best)... Done. 0.1s\n"
     ]
    },
    {
     "name": "stdout",
     "output_type": "stream",
     "text": [
      "Epoch 5/9\n",
      "62/62 [==============================] - 8s 131ms/step - loss: 0.6546 - accuracy: 0.7268 - val_loss: 0.9634 - val_accuracy: 0.6040\n",
      "Epoch 6/9\n",
      "62/62 [==============================] - 8s 129ms/step - loss: 0.5038 - accuracy: 0.7997 - val_loss: 1.0146 - val_accuracy: 0.6444\n",
      "Epoch 7/9\n",
      "62/62 [==============================] - 8s 128ms/step - loss: 0.3642 - accuracy: 0.8568 - val_loss: 0.8847 - val_accuracy: 0.7030\n",
      "Epoch 8/9\n",
      "62/62 [==============================] - 8s 129ms/step - loss: 0.2535 - accuracy: 0.9109 - val_loss: 1.1077 - val_accuracy: 0.6545\n",
      "Epoch 9/9\n",
      "62/62 [==============================] - 8s 129ms/step - loss: 0.1732 - accuracy: 0.9394 - val_loss: 1.0950 - val_accuracy: 0.7273\n",
      "16/16 - 0s - loss: 1.1980 - accuracy: 0.7071\n"
     ]
    },
    {
     "data": {
      "application/vnd.jupyter.widget-view+json": {
       "model_id": "",
       "version_major": 2,
       "version_minor": 0
      },
      "text/plain": [
       "VBox(children=(Label(value='107.638 MB of 107.638 MB uploaded (0.043 MB deduped)\\r'), FloatProgress(value=1.0,…"
      ]
     },
     "metadata": {},
     "output_type": "display_data"
    },
    {
     "data": {
      "text/html": [
       "<style>\n",
       "    table.wandb td:nth-child(1) { padding: 0 10px; text-align: left ; width: auto;} td:nth-child(2) {text-align: left ; width: 100%}\n",
       "    .wandb-row { display: flex; flex-direction: row; flex-wrap: wrap; justify-content: flex-start; width: 100% }\n",
       "    .wandb-col { display: flex; flex-direction: column; flex-basis: 100%; flex: 1; padding: 10px; }\n",
       "    </style>\n",
       "<div class=\"wandb-row\"><div class=\"wandb-col\"><h3>Run history:</h3><br/><table class=\"wandb\"><tr><td>Test Accuracy Rate</td><td>▁</td></tr><tr><td>Test Error Rate</td><td>▁</td></tr><tr><td>Test F1 Score</td><td>▁</td></tr><tr><td>accuracy</td><td>▁▃▄▅▆▇▇██</td></tr><tr><td>epoch</td><td>▁▂▃▄▅▅▆▇█</td></tr><tr><td>loss</td><td>█▆▅▄▃▃▂▁▁</td></tr><tr><td>val_accuracy</td><td>▁▂▅▅▅▆▇▆█</td></tr><tr><td>val_loss</td><td>█▅▂▁▃▄▂▆▆</td></tr></table><br/></div><div class=\"wandb-col\"><h3>Run summary:</h3><br/><table class=\"wandb\"><tr><td>Test Accuracy Rate</td><td>0.70707</td></tr><tr><td>Test Error Rate</td><td>0.29293</td></tr><tr><td>Test F1 Score</td><td>0.70707</td></tr><tr><td>accuracy</td><td>0.93939</td></tr><tr><td>best_epoch</td><td>3</td></tr><tr><td>best_val_loss</td><td>0.8395</td></tr><tr><td>epoch</td><td>8</td></tr><tr><td>loss</td><td>0.17318</td></tr><tr><td>val_accuracy</td><td>0.72727</td></tr><tr><td>val_loss</td><td>1.09498</td></tr></table><br/></div></div>"
      ],
      "text/plain": [
       "<IPython.core.display.HTML object>"
      ]
     },
     "metadata": {},
     "output_type": "display_data"
    },
    {
     "data": {
      "text/html": [
       " View run <strong style=\"color:#cdcd00\">noble-sweep-7</strong> at: <a href='https://wandb.ai/aiffel_minions/DLthon_1DCNN_GRU/runs/mvdvg1xg' target=\"_blank\">https://wandb.ai/aiffel_minions/DLthon_1DCNN_GRU/runs/mvdvg1xg</a><br/>Synced 5 W&B file(s), 2 media file(s), 16 artifact file(s) and 1 other file(s)"
      ],
      "text/plain": [
       "<IPython.core.display.HTML object>"
      ]
     },
     "metadata": {},
     "output_type": "display_data"
    },
    {
     "data": {
      "text/html": [
       "Find logs at: <code>./wandb/run-20240626_063029-mvdvg1xg/logs</code>"
      ],
      "text/plain": [
       "<IPython.core.display.HTML object>"
      ]
     },
     "metadata": {},
     "output_type": "display_data"
    },
    {
     "name": "stderr",
     "output_type": "stream",
     "text": [
      "\u001b[34m\u001b[1mwandb\u001b[0m: Agent Starting Run: izyo91f9 with config:\n",
      "\u001b[34m\u001b[1mwandb\u001b[0m: \tbatch_size: 32\n",
      "\u001b[34m\u001b[1mwandb\u001b[0m: \tdropout_rate: 0.3\n",
      "\u001b[34m\u001b[1mwandb\u001b[0m: \tepoch: 9\n",
      "\u001b[34m\u001b[1mwandb\u001b[0m: \tlearning_rate: 0.03227754651276052\n",
      "\u001b[34m\u001b[1mwandb\u001b[0m: \toptimizer: rmsprop\n"
     ]
    },
    {
     "data": {
      "text/html": [
       "wandb version 0.17.3 is available!  To upgrade, please run:\n",
       " $ pip install wandb --upgrade"
      ],
      "text/plain": [
       "<IPython.core.display.HTML object>"
      ]
     },
     "metadata": {},
     "output_type": "display_data"
    },
    {
     "data": {
      "text/html": [
       "Tracking run with wandb version 0.16.0"
      ],
      "text/plain": [
       "<IPython.core.display.HTML object>"
      ]
     },
     "metadata": {},
     "output_type": "display_data"
    },
    {
     "data": {
      "text/html": [
       "Run data is saved locally in <code>/aiffel/aiffel/dlthon-minions/dlthon-kevin/wandb/run-20240626_063211-izyo91f9</code>"
      ],
      "text/plain": [
       "<IPython.core.display.HTML object>"
      ]
     },
     "metadata": {},
     "output_type": "display_data"
    },
    {
     "data": {
      "text/html": [
       "Syncing run <strong><a href='https://wandb.ai/aiffel_minions/DLthon_1DCNN_GRU/runs/izyo91f9' target=\"_blank\">northern-sweep-8</a></strong> to <a href='https://wandb.ai/aiffel_minions/DLthon_1DCNN_GRU' target=\"_blank\">Weights & Biases</a> (<a href='https://wandb.me/run' target=\"_blank\">docs</a>)<br/>Sweep page: <a href='https://wandb.ai/aiffel_minions/DLthon_1DCNN_GRU/sweeps/9g1wgepq' target=\"_blank\">https://wandb.ai/aiffel_minions/DLthon_1DCNN_GRU/sweeps/9g1wgepq</a>"
      ],
      "text/plain": [
       "<IPython.core.display.HTML object>"
      ]
     },
     "metadata": {},
     "output_type": "display_data"
    },
    {
     "data": {
      "text/html": [
       " View project at <a href='https://wandb.ai/aiffel_minions/DLthon_1DCNN_GRU' target=\"_blank\">https://wandb.ai/aiffel_minions/DLthon_1DCNN_GRU</a>"
      ],
      "text/plain": [
       "<IPython.core.display.HTML object>"
      ]
     },
     "metadata": {},
     "output_type": "display_data"
    },
    {
     "data": {
      "text/html": [
       " View sweep at <a href='https://wandb.ai/aiffel_minions/DLthon_1DCNN_GRU/sweeps/9g1wgepq' target=\"_blank\">https://wandb.ai/aiffel_minions/DLthon_1DCNN_GRU/sweeps/9g1wgepq</a>"
      ],
      "text/plain": [
       "<IPython.core.display.HTML object>"
      ]
     },
     "metadata": {},
     "output_type": "display_data"
    },
    {
     "data": {
      "text/html": [
       " View run at <a href='https://wandb.ai/aiffel_minions/DLthon_1DCNN_GRU/runs/izyo91f9' target=\"_blank\">https://wandb.ai/aiffel_minions/DLthon_1DCNN_GRU/runs/izyo91f9</a>"
      ],
      "text/plain": [
       "<IPython.core.display.HTML object>"
      ]
     },
     "metadata": {},
     "output_type": "display_data"
    },
    {
     "name": "stdout",
     "output_type": "stream",
     "text": [
      "WARNING:tensorflow:Layer gru will not use cuDNN kernels since it doesn't meet the criteria. It will use a generic GPU kernel as fallback when running on GPU.\n",
      "Epoch 1/9\n",
      "124/124 [==============================] - 19s 136ms/step - loss: 1.4540 - accuracy: 0.2760 - val_loss: 1.0780 - val_accuracy: 0.4788\n",
      "INFO:tensorflow:Assets written to: /aiffel/aiffel/dlthon-minions/dlthon-kevin/wandb/run-20240626_063211-izyo91f9/files/model-best/assets\n"
     ]
    },
    {
     "name": "stderr",
     "output_type": "stream",
     "text": [
      "\u001b[34m\u001b[1mwandb\u001b[0m: Adding directory to artifact (/aiffel/aiffel/dlthon-minions/dlthon-kevin/wandb/run-20240626_063211-izyo91f9/files/model-best)... Done. 0.1s\n"
     ]
    },
    {
     "name": "stdout",
     "output_type": "stream",
     "text": [
      "Epoch 2/9\n",
      "124/124 [==============================] - 16s 129ms/step - loss: 1.1103 - accuracy: 0.4442 - val_loss: 0.9526 - val_accuracy: 0.5293\n",
      "INFO:tensorflow:Assets written to: /aiffel/aiffel/dlthon-minions/dlthon-kevin/wandb/run-20240626_063211-izyo91f9/files/model-best/assets\n"
     ]
    },
    {
     "name": "stderr",
     "output_type": "stream",
     "text": [
      "\u001b[34m\u001b[1mwandb\u001b[0m: Adding directory to artifact (/aiffel/aiffel/dlthon-minions/dlthon-kevin/wandb/run-20240626_063211-izyo91f9/files/model-best)... Done. 0.1s\n"
     ]
    },
    {
     "name": "stdout",
     "output_type": "stream",
     "text": [
      "Epoch 3/9\n",
      "124/124 [==============================] - 16s 127ms/step - loss: 0.7820 - accuracy: 0.6424 - val_loss: 0.9291 - val_accuracy: 0.5657\n",
      "INFO:tensorflow:Assets written to: /aiffel/aiffel/dlthon-minions/dlthon-kevin/wandb/run-20240626_063211-izyo91f9/files/model-best/assets\n"
     ]
    },
    {
     "name": "stderr",
     "output_type": "stream",
     "text": [
      "\u001b[34m\u001b[1mwandb\u001b[0m: Adding directory to artifact (/aiffel/aiffel/dlthon-minions/dlthon-kevin/wandb/run-20240626_063211-izyo91f9/files/model-best)... Done. 0.1s\n"
     ]
    },
    {
     "name": "stdout",
     "output_type": "stream",
     "text": [
      "Epoch 4/9\n",
      "124/124 [==============================] - 16s 126ms/step - loss: 0.4937 - accuracy: 0.8159 - val_loss: 0.6515 - val_accuracy: 0.7697\n",
      "INFO:tensorflow:Assets written to: /aiffel/aiffel/dlthon-minions/dlthon-kevin/wandb/run-20240626_063211-izyo91f9/files/model-best/assets\n"
     ]
    },
    {
     "name": "stderr",
     "output_type": "stream",
     "text": [
      "\u001b[34m\u001b[1mwandb\u001b[0m: Adding directory to artifact (/aiffel/aiffel/dlthon-minions/dlthon-kevin/wandb/run-20240626_063211-izyo91f9/files/model-best)... Done. 0.1s\n"
     ]
    },
    {
     "name": "stdout",
     "output_type": "stream",
     "text": [
      "Epoch 5/9\n",
      "124/124 [==============================] - 16s 126ms/step - loss: 0.2961 - accuracy: 0.8997 - val_loss: 0.6690 - val_accuracy: 0.7717\n",
      "Epoch 6/9\n",
      "124/124 [==============================] - 16s 127ms/step - loss: 0.1685 - accuracy: 0.9442 - val_loss: 0.6261 - val_accuracy: 0.8343\n",
      "INFO:tensorflow:Assets written to: /aiffel/aiffel/dlthon-minions/dlthon-kevin/wandb/run-20240626_063211-izyo91f9/files/model-best/assets\n"
     ]
    },
    {
     "name": "stderr",
     "output_type": "stream",
     "text": [
      "\u001b[34m\u001b[1mwandb\u001b[0m: Adding directory to artifact (/aiffel/aiffel/dlthon-minions/dlthon-kevin/wandb/run-20240626_063211-izyo91f9/files/model-best)... Done. 0.1s\n"
     ]
    },
    {
     "name": "stdout",
     "output_type": "stream",
     "text": [
      "Epoch 7/9\n",
      "124/124 [==============================] - 16s 127ms/step - loss: 0.1070 - accuracy: 0.9667 - val_loss: 0.7492 - val_accuracy: 0.8020\n",
      "Epoch 8/9\n",
      "124/124 [==============================] - 16s 127ms/step - loss: 0.0735 - accuracy: 0.9788 - val_loss: 0.7070 - val_accuracy: 0.8283\n",
      "Epoch 9/9\n",
      "124/124 [==============================] - 16s 127ms/step - loss: 0.0433 - accuracy: 0.9869 - val_loss: 0.8495 - val_accuracy: 0.8202\n",
      "16/16 - 0s - loss: 0.8273 - accuracy: 0.8061\n"
     ]
    },
    {
     "data": {
      "application/vnd.jupyter.widget-view+json": {
       "model_id": "",
       "version_major": 2,
       "version_minor": 0
      },
      "text/plain": [
       "VBox(children=(Label(value='129.299 MB of 129.299 MB uploaded (0.057 MB deduped)\\r'), FloatProgress(value=1.0,…"
      ]
     },
     "metadata": {},
     "output_type": "display_data"
    },
    {
     "data": {
      "text/html": [
       "<style>\n",
       "    table.wandb td:nth-child(1) { padding: 0 10px; text-align: left ; width: auto;} td:nth-child(2) {text-align: left ; width: 100%}\n",
       "    .wandb-row { display: flex; flex-direction: row; flex-wrap: wrap; justify-content: flex-start; width: 100% }\n",
       "    .wandb-col { display: flex; flex-direction: column; flex-basis: 100%; flex: 1; padding: 10px; }\n",
       "    </style>\n",
       "<div class=\"wandb-row\"><div class=\"wandb-col\"><h3>Run history:</h3><br/><table class=\"wandb\"><tr><td>Test Accuracy Rate</td><td>▁</td></tr><tr><td>Test Error Rate</td><td>▁</td></tr><tr><td>Test F1 Score</td><td>▁</td></tr><tr><td>accuracy</td><td>▁▃▅▆▇████</td></tr><tr><td>epoch</td><td>▁▂▃▄▅▅▆▇█</td></tr><tr><td>loss</td><td>█▆▅▃▂▂▁▁▁</td></tr><tr><td>val_accuracy</td><td>▁▂▃▇▇█▇██</td></tr><tr><td>val_loss</td><td>█▆▆▁▂▁▃▂▄</td></tr></table><br/></div><div class=\"wandb-col\"><h3>Run summary:</h3><br/><table class=\"wandb\"><tr><td>Test Accuracy Rate</td><td>0.80606</td></tr><tr><td>Test Error Rate</td><td>0.19394</td></tr><tr><td>Test F1 Score</td><td>0.80606</td></tr><tr><td>accuracy</td><td>0.98687</td></tr><tr><td>best_epoch</td><td>5</td></tr><tr><td>best_val_loss</td><td>0.62613</td></tr><tr><td>epoch</td><td>8</td></tr><tr><td>loss</td><td>0.04332</td></tr><tr><td>val_accuracy</td><td>0.8202</td></tr><tr><td>val_loss</td><td>0.84949</td></tr></table><br/></div></div>"
      ],
      "text/plain": [
       "<IPython.core.display.HTML object>"
      ]
     },
     "metadata": {},
     "output_type": "display_data"
    },
    {
     "data": {
      "text/html": [
       " View run <strong style=\"color:#cdcd00\">northern-sweep-8</strong> at: <a href='https://wandb.ai/aiffel_minions/DLthon_1DCNN_GRU/runs/izyo91f9' target=\"_blank\">https://wandb.ai/aiffel_minions/DLthon_1DCNN_GRU/runs/izyo91f9</a><br/>Synced 5 W&B file(s), 2 media file(s), 20 artifact file(s) and 1 other file(s)"
      ],
      "text/plain": [
       "<IPython.core.display.HTML object>"
      ]
     },
     "metadata": {},
     "output_type": "display_data"
    },
    {
     "data": {
      "text/html": [
       "Find logs at: <code>./wandb/run-20240626_063211-izyo91f9/logs</code>"
      ],
      "text/plain": [
       "<IPython.core.display.HTML object>"
      ]
     },
     "metadata": {},
     "output_type": "display_data"
    },
    {
     "name": "stderr",
     "output_type": "stream",
     "text": [
      "\u001b[34m\u001b[1mwandb\u001b[0m: Agent Starting Run: nbj6carj with config:\n",
      "\u001b[34m\u001b[1mwandb\u001b[0m: \tbatch_size: 16\n",
      "\u001b[34m\u001b[1mwandb\u001b[0m: \tdropout_rate: 0.1\n",
      "\u001b[34m\u001b[1mwandb\u001b[0m: \tepoch: 8\n",
      "\u001b[34m\u001b[1mwandb\u001b[0m: \tlearning_rate: 0.060331017858116925\n",
      "\u001b[34m\u001b[1mwandb\u001b[0m: \toptimizer: rmsprop\n"
     ]
    },
    {
     "data": {
      "text/html": [
       "wandb version 0.17.3 is available!  To upgrade, please run:\n",
       " $ pip install wandb --upgrade"
      ],
      "text/plain": [
       "<IPython.core.display.HTML object>"
      ]
     },
     "metadata": {},
     "output_type": "display_data"
    },
    {
     "data": {
      "text/html": [
       "Tracking run with wandb version 0.16.0"
      ],
      "text/plain": [
       "<IPython.core.display.HTML object>"
      ]
     },
     "metadata": {},
     "output_type": "display_data"
    },
    {
     "data": {
      "text/html": [
       "Run data is saved locally in <code>/aiffel/aiffel/dlthon-minions/dlthon-kevin/wandb/run-20240626_063509-nbj6carj</code>"
      ],
      "text/plain": [
       "<IPython.core.display.HTML object>"
      ]
     },
     "metadata": {},
     "output_type": "display_data"
    },
    {
     "data": {
      "text/html": [
       "Syncing run <strong><a href='https://wandb.ai/aiffel_minions/DLthon_1DCNN_GRU/runs/nbj6carj' target=\"_blank\">leafy-sweep-9</a></strong> to <a href='https://wandb.ai/aiffel_minions/DLthon_1DCNN_GRU' target=\"_blank\">Weights & Biases</a> (<a href='https://wandb.me/run' target=\"_blank\">docs</a>)<br/>Sweep page: <a href='https://wandb.ai/aiffel_minions/DLthon_1DCNN_GRU/sweeps/9g1wgepq' target=\"_blank\">https://wandb.ai/aiffel_minions/DLthon_1DCNN_GRU/sweeps/9g1wgepq</a>"
      ],
      "text/plain": [
       "<IPython.core.display.HTML object>"
      ]
     },
     "metadata": {},
     "output_type": "display_data"
    },
    {
     "data": {
      "text/html": [
       " View project at <a href='https://wandb.ai/aiffel_minions/DLthon_1DCNN_GRU' target=\"_blank\">https://wandb.ai/aiffel_minions/DLthon_1DCNN_GRU</a>"
      ],
      "text/plain": [
       "<IPython.core.display.HTML object>"
      ]
     },
     "metadata": {},
     "output_type": "display_data"
    },
    {
     "data": {
      "text/html": [
       " View sweep at <a href='https://wandb.ai/aiffel_minions/DLthon_1DCNN_GRU/sweeps/9g1wgepq' target=\"_blank\">https://wandb.ai/aiffel_minions/DLthon_1DCNN_GRU/sweeps/9g1wgepq</a>"
      ],
      "text/plain": [
       "<IPython.core.display.HTML object>"
      ]
     },
     "metadata": {},
     "output_type": "display_data"
    },
    {
     "data": {
      "text/html": [
       " View run at <a href='https://wandb.ai/aiffel_minions/DLthon_1DCNN_GRU/runs/nbj6carj' target=\"_blank\">https://wandb.ai/aiffel_minions/DLthon_1DCNN_GRU/runs/nbj6carj</a>"
      ],
      "text/plain": [
       "<IPython.core.display.HTML object>"
      ]
     },
     "metadata": {},
     "output_type": "display_data"
    },
    {
     "name": "stdout",
     "output_type": "stream",
     "text": [
      "WARNING:tensorflow:Layer gru will not use cuDNN kernels since it doesn't meet the criteria. It will use a generic GPU kernel as fallback when running on GPU.\n",
      "Epoch 1/8\n",
      "248/248 [==============================] - 35s 132ms/step - loss: 1.3416 - accuracy: 0.3217 - val_loss: 1.0449 - val_accuracy: 0.4929\n",
      "INFO:tensorflow:Assets written to: /aiffel/aiffel/dlthon-minions/dlthon-kevin/wandb/run-20240626_063509-nbj6carj/files/model-best/assets\n"
     ]
    },
    {
     "name": "stderr",
     "output_type": "stream",
     "text": [
      "\u001b[34m\u001b[1mwandb\u001b[0m: Adding directory to artifact (/aiffel/aiffel/dlthon-minions/dlthon-kevin/wandb/run-20240626_063509-nbj6carj/files/model-best)... Done. 0.1s\n"
     ]
    },
    {
     "name": "stdout",
     "output_type": "stream",
     "text": [
      "Epoch 2/8\n",
      "248/248 [==============================] - 32s 129ms/step - loss: 0.8058 - accuracy: 0.6237 - val_loss: 0.6885 - val_accuracy: 0.6990\n",
      "INFO:tensorflow:Assets written to: /aiffel/aiffel/dlthon-minions/dlthon-kevin/wandb/run-20240626_063509-nbj6carj/files/model-best/assets\n"
     ]
    },
    {
     "name": "stderr",
     "output_type": "stream",
     "text": [
      "\u001b[34m\u001b[1mwandb\u001b[0m: Adding directory to artifact (/aiffel/aiffel/dlthon-minions/dlthon-kevin/wandb/run-20240626_063509-nbj6carj/files/model-best)... Done. 0.1s\n"
     ]
    },
    {
     "name": "stdout",
     "output_type": "stream",
     "text": [
      "Epoch 3/8\n",
      "248/248 [==============================] - 31s 126ms/step - loss: 0.4546 - accuracy: 0.8270 - val_loss: 0.6060 - val_accuracy: 0.7697\n",
      "INFO:tensorflow:Assets written to: /aiffel/aiffel/dlthon-minions/dlthon-kevin/wandb/run-20240626_063509-nbj6carj/files/model-best/assets\n"
     ]
    },
    {
     "name": "stderr",
     "output_type": "stream",
     "text": [
      "\u001b[34m\u001b[1mwandb\u001b[0m: Adding directory to artifact (/aiffel/aiffel/dlthon-minions/dlthon-kevin/wandb/run-20240626_063509-nbj6carj/files/model-best)... Done. 0.1s\n"
     ]
    },
    {
     "name": "stdout",
     "output_type": "stream",
     "text": [
      "Epoch 4/8\n",
      "248/248 [==============================] - 31s 127ms/step - loss: 0.2614 - accuracy: 0.9066 - val_loss: 0.5631 - val_accuracy: 0.8303\n",
      "INFO:tensorflow:Assets written to: /aiffel/aiffel/dlthon-minions/dlthon-kevin/wandb/run-20240626_063509-nbj6carj/files/model-best/assets\n"
     ]
    },
    {
     "name": "stderr",
     "output_type": "stream",
     "text": [
      "\u001b[34m\u001b[1mwandb\u001b[0m: Adding directory to artifact (/aiffel/aiffel/dlthon-minions/dlthon-kevin/wandb/run-20240626_063509-nbj6carj/files/model-best)... Done. 0.1s\n"
     ]
    },
    {
     "name": "stdout",
     "output_type": "stream",
     "text": [
      "Epoch 5/8\n",
      "248/248 [==============================] - 31s 125ms/step - loss: 0.1458 - accuracy: 0.9518 - val_loss: 0.5602 - val_accuracy: 0.8061\n",
      "INFO:tensorflow:Assets written to: /aiffel/aiffel/dlthon-minions/dlthon-kevin/wandb/run-20240626_063509-nbj6carj/files/model-best/assets\n"
     ]
    },
    {
     "name": "stderr",
     "output_type": "stream",
     "text": [
      "\u001b[34m\u001b[1mwandb\u001b[0m: Adding directory to artifact (/aiffel/aiffel/dlthon-minions/dlthon-kevin/wandb/run-20240626_063509-nbj6carj/files/model-best)... Done. 0.1s\n"
     ]
    },
    {
     "name": "stdout",
     "output_type": "stream",
     "text": [
      "Epoch 6/8\n",
      "248/248 [==============================] - 31s 125ms/step - loss: 0.0782 - accuracy: 0.9773 - val_loss: 0.5511 - val_accuracy: 0.8485\n",
      "INFO:tensorflow:Assets written to: /aiffel/aiffel/dlthon-minions/dlthon-kevin/wandb/run-20240626_063509-nbj6carj/files/model-best/assets\n"
     ]
    },
    {
     "name": "stderr",
     "output_type": "stream",
     "text": [
      "\u001b[34m\u001b[1mwandb\u001b[0m: Adding directory to artifact (/aiffel/aiffel/dlthon-minions/dlthon-kevin/wandb/run-20240626_063509-nbj6carj/files/model-best)... Done. 0.1s\n"
     ]
    },
    {
     "name": "stdout",
     "output_type": "stream",
     "text": [
      "Epoch 7/8\n",
      "248/248 [==============================] - 32s 128ms/step - loss: 0.0402 - accuracy: 0.9871 - val_loss: 0.7258 - val_accuracy: 0.8505\n",
      "Epoch 8/8\n",
      "248/248 [==============================] - 31s 127ms/step - loss: 0.0222 - accuracy: 0.9937 - val_loss: 0.7742 - val_accuracy: 0.8465\n",
      "16/16 - 0s - loss: 0.6395 - accuracy: 0.8768\n"
     ]
    },
    {
     "data": {
      "application/vnd.jupyter.widget-view+json": {
       "model_id": "",
       "version_major": 2,
       "version_minor": 0
      },
      "text/plain": [
       "VBox(children=(Label(value='150.959 MB of 150.959 MB uploaded (0.072 MB deduped)\\r'), FloatProgress(value=1.0,…"
      ]
     },
     "metadata": {},
     "output_type": "display_data"
    },
    {
     "data": {
      "text/html": [
       "<style>\n",
       "    table.wandb td:nth-child(1) { padding: 0 10px; text-align: left ; width: auto;} td:nth-child(2) {text-align: left ; width: 100%}\n",
       "    .wandb-row { display: flex; flex-direction: row; flex-wrap: wrap; justify-content: flex-start; width: 100% }\n",
       "    .wandb-col { display: flex; flex-direction: column; flex-basis: 100%; flex: 1; padding: 10px; }\n",
       "    </style>\n",
       "<div class=\"wandb-row\"><div class=\"wandb-col\"><h3>Run history:</h3><br/><table class=\"wandb\"><tr><td>Test Accuracy Rate</td><td>▁</td></tr><tr><td>Test Error Rate</td><td>▁</td></tr><tr><td>Test F1 Score</td><td>▁</td></tr><tr><td>accuracy</td><td>▁▄▆▇████</td></tr><tr><td>epoch</td><td>▁▂▃▄▅▆▇█</td></tr><tr><td>loss</td><td>█▅▃▂▂▁▁▁</td></tr><tr><td>val_accuracy</td><td>▁▅▆█▇███</td></tr><tr><td>val_loss</td><td>█▃▂▁▁▁▃▄</td></tr></table><br/></div><div class=\"wandb-col\"><h3>Run summary:</h3><br/><table class=\"wandb\"><tr><td>Test Accuracy Rate</td><td>0.87677</td></tr><tr><td>Test Error Rate</td><td>0.12323</td></tr><tr><td>Test F1 Score</td><td>0.87677</td></tr><tr><td>accuracy</td><td>0.99369</td></tr><tr><td>best_epoch</td><td>5</td></tr><tr><td>best_val_loss</td><td>0.55109</td></tr><tr><td>epoch</td><td>7</td></tr><tr><td>loss</td><td>0.02221</td></tr><tr><td>val_accuracy</td><td>0.84646</td></tr><tr><td>val_loss</td><td>0.77424</td></tr></table><br/></div></div>"
      ],
      "text/plain": [
       "<IPython.core.display.HTML object>"
      ]
     },
     "metadata": {},
     "output_type": "display_data"
    },
    {
     "data": {
      "text/html": [
       " View run <strong style=\"color:#cdcd00\">leafy-sweep-9</strong> at: <a href='https://wandb.ai/aiffel_minions/DLthon_1DCNN_GRU/runs/nbj6carj' target=\"_blank\">https://wandb.ai/aiffel_minions/DLthon_1DCNN_GRU/runs/nbj6carj</a><br/>Synced 5 W&B file(s), 2 media file(s), 24 artifact file(s) and 1 other file(s)"
      ],
      "text/plain": [
       "<IPython.core.display.HTML object>"
      ]
     },
     "metadata": {},
     "output_type": "display_data"
    },
    {
     "data": {
      "text/html": [
       "Find logs at: <code>./wandb/run-20240626_063509-nbj6carj/logs</code>"
      ],
      "text/plain": [
       "<IPython.core.display.HTML object>"
      ]
     },
     "metadata": {},
     "output_type": "display_data"
    },
    {
     "name": "stderr",
     "output_type": "stream",
     "text": [
      "\u001b[34m\u001b[1mwandb\u001b[0m: Agent Starting Run: 5y7lqm9x with config:\n",
      "\u001b[34m\u001b[1mwandb\u001b[0m: \tbatch_size: 32\n",
      "\u001b[34m\u001b[1mwandb\u001b[0m: \tdropout_rate: 0.2\n",
      "\u001b[34m\u001b[1mwandb\u001b[0m: \tepoch: 8\n",
      "\u001b[34m\u001b[1mwandb\u001b[0m: \tlearning_rate: 0.0908713239971392\n",
      "\u001b[34m\u001b[1mwandb\u001b[0m: \toptimizer: rmsprop\n"
     ]
    },
    {
     "data": {
      "text/html": [
       "wandb version 0.17.3 is available!  To upgrade, please run:\n",
       " $ pip install wandb --upgrade"
      ],
      "text/plain": [
       "<IPython.core.display.HTML object>"
      ]
     },
     "metadata": {},
     "output_type": "display_data"
    },
    {
     "data": {
      "text/html": [
       "Tracking run with wandb version 0.16.0"
      ],
      "text/plain": [
       "<IPython.core.display.HTML object>"
      ]
     },
     "metadata": {},
     "output_type": "display_data"
    },
    {
     "data": {
      "text/html": [
       "Run data is saved locally in <code>/aiffel/aiffel/dlthon-minions/dlthon-kevin/wandb/run-20240626_063959-5y7lqm9x</code>"
      ],
      "text/plain": [
       "<IPython.core.display.HTML object>"
      ]
     },
     "metadata": {},
     "output_type": "display_data"
    },
    {
     "data": {
      "text/html": [
       "Syncing run <strong><a href='https://wandb.ai/aiffel_minions/DLthon_1DCNN_GRU/runs/5y7lqm9x' target=\"_blank\">floral-sweep-10</a></strong> to <a href='https://wandb.ai/aiffel_minions/DLthon_1DCNN_GRU' target=\"_blank\">Weights & Biases</a> (<a href='https://wandb.me/run' target=\"_blank\">docs</a>)<br/>Sweep page: <a href='https://wandb.ai/aiffel_minions/DLthon_1DCNN_GRU/sweeps/9g1wgepq' target=\"_blank\">https://wandb.ai/aiffel_minions/DLthon_1DCNN_GRU/sweeps/9g1wgepq</a>"
      ],
      "text/plain": [
       "<IPython.core.display.HTML object>"
      ]
     },
     "metadata": {},
     "output_type": "display_data"
    },
    {
     "data": {
      "text/html": [
       " View project at <a href='https://wandb.ai/aiffel_minions/DLthon_1DCNN_GRU' target=\"_blank\">https://wandb.ai/aiffel_minions/DLthon_1DCNN_GRU</a>"
      ],
      "text/plain": [
       "<IPython.core.display.HTML object>"
      ]
     },
     "metadata": {},
     "output_type": "display_data"
    },
    {
     "data": {
      "text/html": [
       " View sweep at <a href='https://wandb.ai/aiffel_minions/DLthon_1DCNN_GRU/sweeps/9g1wgepq' target=\"_blank\">https://wandb.ai/aiffel_minions/DLthon_1DCNN_GRU/sweeps/9g1wgepq</a>"
      ],
      "text/plain": [
       "<IPython.core.display.HTML object>"
      ]
     },
     "metadata": {},
     "output_type": "display_data"
    },
    {
     "data": {
      "text/html": [
       " View run at <a href='https://wandb.ai/aiffel_minions/DLthon_1DCNN_GRU/runs/5y7lqm9x' target=\"_blank\">https://wandb.ai/aiffel_minions/DLthon_1DCNN_GRU/runs/5y7lqm9x</a>"
      ],
      "text/plain": [
       "<IPython.core.display.HTML object>"
      ]
     },
     "metadata": {},
     "output_type": "display_data"
    },
    {
     "name": "stdout",
     "output_type": "stream",
     "text": [
      "WARNING:tensorflow:Layer gru will not use cuDNN kernels since it doesn't meet the criteria. It will use a generic GPU kernel as fallback when running on GPU.\n",
      "Epoch 1/8\n",
      "124/124 [==============================] - 19s 135ms/step - loss: 1.4784 - accuracy: 0.2750 - val_loss: 1.0781 - val_accuracy: 0.4808\n",
      "INFO:tensorflow:Assets written to: /aiffel/aiffel/dlthon-minions/dlthon-kevin/wandb/run-20240626_063959-5y7lqm9x/files/model-best/assets\n"
     ]
    },
    {
     "name": "stderr",
     "output_type": "stream",
     "text": [
      "\u001b[34m\u001b[1mwandb\u001b[0m: Adding directory to artifact (/aiffel/aiffel/dlthon-minions/dlthon-kevin/wandb/run-20240626_063959-5y7lqm9x/files/model-best)... Done. 0.1s\n"
     ]
    },
    {
     "name": "stdout",
     "output_type": "stream",
     "text": [
      "Epoch 2/8\n",
      "124/124 [==============================] - 16s 127ms/step - loss: 1.0877 - accuracy: 0.4616 - val_loss: 0.9621 - val_accuracy: 0.5192\n",
      "INFO:tensorflow:Assets written to: /aiffel/aiffel/dlthon-minions/dlthon-kevin/wandb/run-20240626_063959-5y7lqm9x/files/model-best/assets\n"
     ]
    },
    {
     "name": "stderr",
     "output_type": "stream",
     "text": [
      "\u001b[34m\u001b[1mwandb\u001b[0m: Adding directory to artifact (/aiffel/aiffel/dlthon-minions/dlthon-kevin/wandb/run-20240626_063959-5y7lqm9x/files/model-best)... Done. 0.1s\n"
     ]
    },
    {
     "name": "stdout",
     "output_type": "stream",
     "text": [
      "Epoch 3/8\n",
      "124/124 [==============================] - 16s 127ms/step - loss: 0.8646 - accuracy: 0.5843 - val_loss: 1.0596 - val_accuracy: 0.5091\n",
      "Epoch 4/8\n",
      "124/124 [==============================] - 16s 127ms/step - loss: 0.6608 - accuracy: 0.7043 - val_loss: 1.3732 - val_accuracy: 0.5596\n",
      "Epoch 5/8\n",
      "124/124 [==============================] - 16s 126ms/step - loss: 0.4965 - accuracy: 0.8086 - val_loss: 0.9060 - val_accuracy: 0.6687\n",
      "INFO:tensorflow:Assets written to: /aiffel/aiffel/dlthon-minions/dlthon-kevin/wandb/run-20240626_063959-5y7lqm9x/files/model-best/assets\n"
     ]
    },
    {
     "name": "stderr",
     "output_type": "stream",
     "text": [
      "\u001b[34m\u001b[1mwandb\u001b[0m: Adding directory to artifact (/aiffel/aiffel/dlthon-minions/dlthon-kevin/wandb/run-20240626_063959-5y7lqm9x/files/model-best)... Done. 0.1s\n"
     ]
    },
    {
     "name": "stdout",
     "output_type": "stream",
     "text": [
      "Epoch 6/8\n",
      "124/124 [==============================] - 16s 126ms/step - loss: 0.3207 - accuracy: 0.8851 - val_loss: 0.9882 - val_accuracy: 0.6343\n",
      "Epoch 7/8\n",
      "124/124 [==============================] - 16s 125ms/step - loss: 0.2335 - accuracy: 0.9187 - val_loss: 0.8732 - val_accuracy: 0.7071\n",
      "INFO:tensorflow:Assets written to: /aiffel/aiffel/dlthon-minions/dlthon-kevin/wandb/run-20240626_063959-5y7lqm9x/files/model-best/assets\n"
     ]
    },
    {
     "name": "stderr",
     "output_type": "stream",
     "text": [
      "\u001b[34m\u001b[1mwandb\u001b[0m: Adding directory to artifact (/aiffel/aiffel/dlthon-minions/dlthon-kevin/wandb/run-20240626_063959-5y7lqm9x/files/model-best)... Done. 0.2s\n"
     ]
    },
    {
     "name": "stdout",
     "output_type": "stream",
     "text": [
      "Epoch 8/8\n",
      "124/124 [==============================] - 16s 127ms/step - loss: 0.1402 - accuracy: 0.9563 - val_loss: 0.8607 - val_accuracy: 0.7677\n",
      "INFO:tensorflow:Assets written to: /aiffel/aiffel/dlthon-minions/dlthon-kevin/wandb/run-20240626_063959-5y7lqm9x/files/model-best/assets\n"
     ]
    },
    {
     "name": "stderr",
     "output_type": "stream",
     "text": [
      "\u001b[34m\u001b[1mwandb\u001b[0m: Adding directory to artifact (/aiffel/aiffel/dlthon-minions/dlthon-kevin/wandb/run-20240626_063959-5y7lqm9x/files/model-best)... Done. 0.1s\n"
     ]
    },
    {
     "name": "stdout",
     "output_type": "stream",
     "text": [
      "16/16 - 0s - loss: 0.9594 - accuracy: 0.7556\n"
     ]
    },
    {
     "data": {
      "application/vnd.jupyter.widget-view+json": {
       "model_id": "",
       "version_major": 2,
       "version_minor": 0
      },
      "text/plain": [
       "VBox(children=(Label(value='129.297 MB of 129.297 MB uploaded (0.057 MB deduped)\\r'), FloatProgress(value=1.0,…"
      ]
     },
     "metadata": {},
     "output_type": "display_data"
    },
    {
     "data": {
      "text/html": [
       "<style>\n",
       "    table.wandb td:nth-child(1) { padding: 0 10px; text-align: left ; width: auto;} td:nth-child(2) {text-align: left ; width: 100%}\n",
       "    .wandb-row { display: flex; flex-direction: row; flex-wrap: wrap; justify-content: flex-start; width: 100% }\n",
       "    .wandb-col { display: flex; flex-direction: column; flex-basis: 100%; flex: 1; padding: 10px; }\n",
       "    </style>\n",
       "<div class=\"wandb-row\"><div class=\"wandb-col\"><h3>Run history:</h3><br/><table class=\"wandb\"><tr><td>Test Accuracy Rate</td><td>▁</td></tr><tr><td>Test Error Rate</td><td>▁</td></tr><tr><td>Test F1 Score</td><td>▁</td></tr><tr><td>accuracy</td><td>▁▃▄▅▆▇██</td></tr><tr><td>epoch</td><td>▁▂▃▄▅▆▇█</td></tr><tr><td>loss</td><td>█▆▅▄▃▂▁▁</td></tr><tr><td>val_accuracy</td><td>▁▂▂▃▆▅▇█</td></tr><tr><td>val_loss</td><td>▄▂▄█▂▃▁▁</td></tr></table><br/></div><div class=\"wandb-col\"><h3>Run summary:</h3><br/><table class=\"wandb\"><tr><td>Test Accuracy Rate</td><td>0.75556</td></tr><tr><td>Test Error Rate</td><td>0.24444</td></tr><tr><td>Test F1 Score</td><td>0.75556</td></tr><tr><td>accuracy</td><td>0.95631</td></tr><tr><td>best_epoch</td><td>7</td></tr><tr><td>best_val_loss</td><td>0.86066</td></tr><tr><td>epoch</td><td>7</td></tr><tr><td>loss</td><td>0.14021</td></tr><tr><td>val_accuracy</td><td>0.76768</td></tr><tr><td>val_loss</td><td>0.86066</td></tr></table><br/></div></div>"
      ],
      "text/plain": [
       "<IPython.core.display.HTML object>"
      ]
     },
     "metadata": {},
     "output_type": "display_data"
    },
    {
     "data": {
      "text/html": [
       " View run <strong style=\"color:#cdcd00\">floral-sweep-10</strong> at: <a href='https://wandb.ai/aiffel_minions/DLthon_1DCNN_GRU/runs/5y7lqm9x' target=\"_blank\">https://wandb.ai/aiffel_minions/DLthon_1DCNN_GRU/runs/5y7lqm9x</a><br/>Synced 5 W&B file(s), 2 media file(s), 20 artifact file(s) and 1 other file(s)"
      ],
      "text/plain": [
       "<IPython.core.display.HTML object>"
      ]
     },
     "metadata": {},
     "output_type": "display_data"
    },
    {
     "data": {
      "text/html": [
       "Find logs at: <code>./wandb/run-20240626_063959-5y7lqm9x/logs</code>"
      ],
      "text/plain": [
       "<IPython.core.display.HTML object>"
      ]
     },
     "metadata": {},
     "output_type": "display_data"
    },
    {
     "data": {
      "image/png": "[encoded data removed]",
      "text/plain": [
       "<Figure size 720x504 with 2 Axes>"
      ]
     },
     "metadata": {
      "needs_background": "light"
     },
     "output_type": "display_data"
    },
    {
     "data": {
      "image/png": "[encoded data removed]",
      "text/plain": [
       "<Figure size 720x504 with 2 Axes>"
      ]
     },
     "metadata": {
      "needs_background": "light"
     },
     "output_type": "display_data"
    },
    {
     "data": {
      "image/png": "[encoded data removed]",
      "text/plain": [
       "<Figure size 720x504 with 2 Axes>"
      ]
     },
     "metadata": {
      "needs_background": "light"
     },
     "output_type": "display_data"
    },
    {
     "data": {
      "image/png": "[encoded data removed]",
      "text/plain": [
       "<Figure size 720x504 with 2 Axes>"
      ]
     },
     "metadata": {
      "needs_background": "light"
     },
     "output_type": "display_data"
    },
    {
     "data": {
      "image/png": "[encoded data removed]",
      "text/plain": [
       "<Figure size 720x504 with 2 Axes>"
      ]
     },
     "metadata": {
      "needs_background": "light"
     },
     "output_type": "display_data"
    },
    {
     "data": {
      "image/png": "[encoded data removed]",
      "text/plain": [
       "<Figure size 720x504 with 2 Axes>"
      ]
     },
     "metadata": {
      "needs_background": "light"
     },
     "output_type": "display_data"
    },
    {
     "data": {
      "image/png": "[encoded data removed]",
      "text/plain": [
       "<Figure size 720x504 with 2 Axes>"
      ]
     },
     "metadata": {
      "needs_background": "light"
     },
     "output_type": "display_data"
    },
    {
     "data": {
      "image/png": "[encoded data removed]",
      "text/plain": [
       "<Figure size 720x504 with 2 Axes>"
      ]
     },
     "metadata": {
      "needs_background": "light"
     },
     "output_type": "display_data"
    },
    {
     "data": {
      "image/png": "[encoded data removed]",
      "text/plain": [
       "<Figure size 720x504 with 2 Axes>"
      ]
     },
     "metadata": {
      "needs_background": "light"
     },
     "output_type": "display_data"
    },
    {
     "data": {
      "image/png": "[encoded data removed]",
      "text/plain": [
       "<Figure size 720x504 with 2 Axes>"
      ]
     },
     "metadata": {
      "needs_background": "light"
     },
     "output_type": "display_data"
    }
   ],
   "source": [
    "# train()에 인자가 있으므로 wrapper function 정의\n",
    "def sweep_train():\n",
    "    train(default_config=default_config, X_test=X_test, y_test=y_test)\n",
    "\n",
    "# 팀프로젝트 내에서 sweep 실행\n",
    "sweep_id = wandb.sweep(sweep_config,\n",
    "                       entity = 'aiffel_minions',\n",
    "                       project = 'DLthon_1DCNN_GRU')\n",
    "\n",
    "\n",
    "wandb.agent(sweep_id,\n",
    "            function=sweep_train,\n",
    "            count=10)"
   ]
  }
 ],
 "metadata": {
  "colab": {
   "provenance": []
  },
  "kernelspec": {
   "display_name": "Python 3 (ipykernel)",
   "language": "python",
   "name": "python3"
  },
  "language_info": {
   "codemirror_mode": {
    "name": "ipython",
    "version": 3
   },
   "file_extension": ".py",
   "mimetype": "text/x-python",
   "name": "python",
   "nbconvert_exporter": "python",
   "pygments_lexer": "ipython3",
   "version": "3.9.7"
  }
 },
 "nbformat": 4,
 "nbformat_minor": 5
}
