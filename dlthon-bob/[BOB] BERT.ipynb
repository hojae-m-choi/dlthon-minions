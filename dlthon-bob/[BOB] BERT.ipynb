{
 "cells": [
  {
   "cell_type": "code",
   "execution_count": 1,
   "id": "f0dafbd1",
   "metadata": {},
   "outputs": [],
   "source": [
    "# 라이브러리 불러오기\n",
    "import os\n",
    "import numpy as np\n",
    "import pandas as pd\n",
    "import matplotlib.pyplot as plt\n",
    "import seaborn as sns\n",
    "import tensorflow as tf\n",
    "from tensorflow import keras\n",
    "\n",
    "import re\n",
    "from collections import Counter\n",
    "import sentencepiece as spm\n",
    "from konlpy.tag import Okt\n",
    "from konlpy.tag import Mecab\n",
    "import csv \n",
    "from tensorflow.keras.preprocessing.sequence import pad_sequences\n",
    "from sklearn.model_selection import train_test_split"
   ]
  },
  {
   "cell_type": "code",
   "execution_count": 2,
   "id": "8bd8fcc7",
   "metadata": {},
   "outputs": [],
   "source": [
    "train_data_path =\"/aiffel/aiffel/dlthon-minions/share/data/conversations.csv\"\n",
    "train_data = pd.read_csv(train_data_path)\n",
    "# 원본 데이터 저장\n",
    "origin_data = train_data"
   ]
  },
  {
   "cell_type": "code",
   "execution_count": 3,
   "id": "5f83ad88",
   "metadata": {},
   "outputs": [
    {
     "data": {
      "text/html": [
       "<div>\n",
       "<style scoped>\n",
       "    .dataframe tbody tr th:only-of-type {\n",
       "        vertical-align: middle;\n",
       "    }\n",
       "\n",
       "    .dataframe tbody tr th {\n",
       "        vertical-align: top;\n",
       "    }\n",
       "\n",
       "    .dataframe thead th {\n",
       "        text-align: right;\n",
       "    }\n",
       "</style>\n",
       "<table border=\"1\" class=\"dataframe\">\n",
       "  <thead>\n",
       "    <tr style=\"text-align: right;\">\n",
       "      <th></th>\n",
       "      <th>idx</th>\n",
       "      <th>class</th>\n",
       "      <th>conversation</th>\n",
       "    </tr>\n",
       "  </thead>\n",
       "  <tbody>\n",
       "    <tr>\n",
       "      <th>0</th>\n",
       "      <td>0</td>\n",
       "      <td>일반 대화</td>\n",
       "      <td>학교 점심 뭐 나와?\\n주로 한식이 나와.\\n학원 다녀?\\n응, 영어 학원 다녀.\\...</td>\n",
       "    </tr>\n",
       "    <tr>\n",
       "      <th>1</th>\n",
       "      <td>1</td>\n",
       "      <td>기타 괴롭힘 대화</td>\n",
       "      <td>어이 거기 뒤뚱거리는 놈 \\n나?\\n그래 너 여기 뒤뚱거리는 놈이 너밖에 더 있냐?...</td>\n",
       "    </tr>\n",
       "    <tr>\n",
       "      <th>2</th>\n",
       "      <td>2</td>\n",
       "      <td>협박 대화</td>\n",
       "      <td>너 그따위로 운전하면 확 갈아마셔버린다.\\n 뭐라구?\\n 나와 이 자식아. 미안하단...</td>\n",
       "    </tr>\n",
       "    <tr>\n",
       "      <th>3</th>\n",
       "      <td>3</td>\n",
       "      <td>직장 내 괴롭힘 대화</td>\n",
       "      <td>길동씨 이번에 이것좀 처리해요\\n이거 제가 한게 아닌데요\\n팀에서 내가 니가가 어딨...</td>\n",
       "    </tr>\n",
       "    <tr>\n",
       "      <th>4</th>\n",
       "      <td>4</td>\n",
       "      <td>일반 대화</td>\n",
       "      <td>비가 많이 오네.\\n우산 가져왔어?\\n날씨가 추워졌어.\\n맞아, 이제 겨울이야.\\n...</td>\n",
       "    </tr>\n",
       "    <tr>\n",
       "      <th>5</th>\n",
       "      <td>5</td>\n",
       "      <td>일반 대화</td>\n",
       "      <td>가족은 잘 지내?\\n응, 모두 건강해.\\n가족들과 뭐 해?\\n주로 같이 식사하고 이...</td>\n",
       "    </tr>\n",
       "    <tr>\n",
       "      <th>6</th>\n",
       "      <td>6</td>\n",
       "      <td>기타 괴롭힘 대화</td>\n",
       "      <td>아까 10시에 배민에서 스테이크 덮밥 시켰던 사람인데요\\n 10시요? 벌써 4시간이...</td>\n",
       "    </tr>\n",
       "    <tr>\n",
       "      <th>7</th>\n",
       "      <td>7</td>\n",
       "      <td>직장 내 괴롭힘 대화</td>\n",
       "      <td>안녕하세요 이번에 부서 이동하신 분 맞죠?\\n아! 네. 안녕하세요 .\\n네네. 근데...</td>\n",
       "    </tr>\n",
       "    <tr>\n",
       "      <th>8</th>\n",
       "      <td>8</td>\n",
       "      <td>기타 괴롭힘 대화</td>\n",
       "      <td>너 치마 샀어?\\n응응 이쁘지\\n응 치마는 이쁘긴한데 \\n뭐랄까 종아리 알 때문에 ...</td>\n",
       "    </tr>\n",
       "    <tr>\n",
       "      <th>9</th>\n",
       "      <td>9</td>\n",
       "      <td>협박 대화</td>\n",
       "      <td>야 쟤 잡아\\n넵 알겠습니다.\\n제발 손가락은 자르지 말아주세요\\n야 미친 놈아 내...</td>\n",
       "    </tr>\n",
       "  </tbody>\n",
       "</table>\n",
       "</div>"
      ],
      "text/plain": [
       "   idx        class                                       conversation\n",
       "0    0        일반 대화  학교 점심 뭐 나와?\\n주로 한식이 나와.\\n학원 다녀?\\n응, 영어 학원 다녀.\\...\n",
       "1    1    기타 괴롭힘 대화  어이 거기 뒤뚱거리는 놈 \\n나?\\n그래 너 여기 뒤뚱거리는 놈이 너밖에 더 있냐?...\n",
       "2    2        협박 대화  너 그따위로 운전하면 확 갈아마셔버린다.\\n 뭐라구?\\n 나와 이 자식아. 미안하단...\n",
       "3    3  직장 내 괴롭힘 대화  길동씨 이번에 이것좀 처리해요\\n이거 제가 한게 아닌데요\\n팀에서 내가 니가가 어딨...\n",
       "4    4        일반 대화  비가 많이 오네.\\n우산 가져왔어?\\n날씨가 추워졌어.\\n맞아, 이제 겨울이야.\\n...\n",
       "5    5        일반 대화  가족은 잘 지내?\\n응, 모두 건강해.\\n가족들과 뭐 해?\\n주로 같이 식사하고 이...\n",
       "6    6    기타 괴롭힘 대화  아까 10시에 배민에서 스테이크 덮밥 시켰던 사람인데요\\n 10시요? 벌써 4시간이...\n",
       "7    7  직장 내 괴롭힘 대화  안녕하세요 이번에 부서 이동하신 분 맞죠?\\n아! 네. 안녕하세요 .\\n네네. 근데...\n",
       "8    8    기타 괴롭힘 대화  너 치마 샀어?\\n응응 이쁘지\\n응 치마는 이쁘긴한데 \\n뭐랄까 종아리 알 때문에 ...\n",
       "9    9        협박 대화  야 쟤 잡아\\n넵 알겠습니다.\\n제발 손가락은 자르지 말아주세요\\n야 미친 놈아 내..."
      ]
     },
     "execution_count": 3,
     "metadata": {},
     "output_type": "execute_result"
    }
   ],
   "source": [
    "train_data.head(10)"
   ]
  },
  {
   "cell_type": "code",
   "execution_count": 4,
   "id": "7373128d",
   "metadata": {},
   "outputs": [
    {
     "data": {
      "text/html": [
       "<div>\n",
       "<style scoped>\n",
       "    .dataframe tbody tr th:only-of-type {\n",
       "        vertical-align: middle;\n",
       "    }\n",
       "\n",
       "    .dataframe tbody tr th {\n",
       "        vertical-align: top;\n",
       "    }\n",
       "\n",
       "    .dataframe thead th {\n",
       "        text-align: right;\n",
       "    }\n",
       "</style>\n",
       "<table border=\"1\" class=\"dataframe\">\n",
       "  <thead>\n",
       "    <tr style=\"text-align: right;\">\n",
       "      <th></th>\n",
       "      <th>idx</th>\n",
       "      <th>class</th>\n",
       "      <th>conversation</th>\n",
       "    </tr>\n",
       "  </thead>\n",
       "  <tbody>\n",
       "  </tbody>\n",
       "</table>\n",
       "</div>"
      ],
      "text/plain": [
       "Empty DataFrame\n",
       "Columns: [idx, class, conversation]\n",
       "Index: []"
      ]
     },
     "execution_count": 4,
     "metadata": {},
     "output_type": "execute_result"
    }
   ],
   "source": [
    "# 중복값 찾기\n",
    "duplicates = train_data[train_data.duplicated()]\n",
    "duplicates"
   ]
  },
  {
   "cell_type": "code",
   "execution_count": 5,
   "id": "00a9448f",
   "metadata": {},
   "outputs": [
    {
     "data": {
      "text/plain": [
       "idx             0\n",
       "class           0\n",
       "conversation    0\n",
       "dtype: int64"
      ]
     },
     "execution_count": 5,
     "metadata": {},
     "output_type": "execute_result"
    }
   ],
   "source": [
    "# 결측치 여부 확인하기\n",
    "train_data.isnull().sum()"
   ]
  },
  {
   "cell_type": "code",
   "execution_count": 6,
   "id": "68d814e4",
   "metadata": {},
   "outputs": [],
   "source": [
    "# 'class'를 'type'으로 매핑하는 딕셔너리 생성하기\n",
    "class_to_type = {\n",
    "    '협박 대화': 0,\n",
    "    '갈취 대화': 1,\n",
    "    '직장 내 괴롭힘 대화': 2,\n",
    "    '기타 괴롭힘 대화': 3,\n",
    "    '일반 대화': 4\n",
    "}"
   ]
  },
  {
   "cell_type": "code",
   "execution_count": 7,
   "id": "183db1af",
   "metadata": {},
   "outputs": [],
   "source": [
    "# 'class' 열을 기반으로 새로운 'type' 열 추가하기\n",
    "train_data['type'] = train_data['class'].map(class_to_type)"
   ]
  },
  {
   "cell_type": "code",
   "execution_count": 8,
   "id": "b59d1ec4",
   "metadata": {},
   "outputs": [
    {
     "data": {
      "text/html": [
       "<div>\n",
       "<style scoped>\n",
       "    .dataframe tbody tr th:only-of-type {\n",
       "        vertical-align: middle;\n",
       "    }\n",
       "\n",
       "    .dataframe tbody tr th {\n",
       "        vertical-align: top;\n",
       "    }\n",
       "\n",
       "    .dataframe thead th {\n",
       "        text-align: right;\n",
       "    }\n",
       "</style>\n",
       "<table border=\"1\" class=\"dataframe\">\n",
       "  <thead>\n",
       "    <tr style=\"text-align: right;\">\n",
       "      <th></th>\n",
       "      <th>idx</th>\n",
       "      <th>class</th>\n",
       "      <th>conversation</th>\n",
       "      <th>type</th>\n",
       "    </tr>\n",
       "  </thead>\n",
       "  <tbody>\n",
       "    <tr>\n",
       "      <th>0</th>\n",
       "      <td>0</td>\n",
       "      <td>일반 대화</td>\n",
       "      <td>학교 점심 뭐 나와?\\n주로 한식이 나와.\\n학원 다녀?\\n응, 영어 학원 다녀.\\...</td>\n",
       "      <td>4</td>\n",
       "    </tr>\n",
       "    <tr>\n",
       "      <th>1</th>\n",
       "      <td>1</td>\n",
       "      <td>기타 괴롭힘 대화</td>\n",
       "      <td>어이 거기 뒤뚱거리는 놈 \\n나?\\n그래 너 여기 뒤뚱거리는 놈이 너밖에 더 있냐?...</td>\n",
       "      <td>3</td>\n",
       "    </tr>\n",
       "    <tr>\n",
       "      <th>2</th>\n",
       "      <td>2</td>\n",
       "      <td>협박 대화</td>\n",
       "      <td>너 그따위로 운전하면 확 갈아마셔버린다.\\n 뭐라구?\\n 나와 이 자식아. 미안하단...</td>\n",
       "      <td>0</td>\n",
       "    </tr>\n",
       "    <tr>\n",
       "      <th>3</th>\n",
       "      <td>3</td>\n",
       "      <td>직장 내 괴롭힘 대화</td>\n",
       "      <td>길동씨 이번에 이것좀 처리해요\\n이거 제가 한게 아닌데요\\n팀에서 내가 니가가 어딨...</td>\n",
       "      <td>2</td>\n",
       "    </tr>\n",
       "    <tr>\n",
       "      <th>4</th>\n",
       "      <td>4</td>\n",
       "      <td>일반 대화</td>\n",
       "      <td>비가 많이 오네.\\n우산 가져왔어?\\n날씨가 추워졌어.\\n맞아, 이제 겨울이야.\\n...</td>\n",
       "      <td>4</td>\n",
       "    </tr>\n",
       "    <tr>\n",
       "      <th>5</th>\n",
       "      <td>5</td>\n",
       "      <td>일반 대화</td>\n",
       "      <td>가족은 잘 지내?\\n응, 모두 건강해.\\n가족들과 뭐 해?\\n주로 같이 식사하고 이...</td>\n",
       "      <td>4</td>\n",
       "    </tr>\n",
       "    <tr>\n",
       "      <th>6</th>\n",
       "      <td>6</td>\n",
       "      <td>기타 괴롭힘 대화</td>\n",
       "      <td>아까 10시에 배민에서 스테이크 덮밥 시켰던 사람인데요\\n 10시요? 벌써 4시간이...</td>\n",
       "      <td>3</td>\n",
       "    </tr>\n",
       "    <tr>\n",
       "      <th>7</th>\n",
       "      <td>7</td>\n",
       "      <td>직장 내 괴롭힘 대화</td>\n",
       "      <td>안녕하세요 이번에 부서 이동하신 분 맞죠?\\n아! 네. 안녕하세요 .\\n네네. 근데...</td>\n",
       "      <td>2</td>\n",
       "    </tr>\n",
       "    <tr>\n",
       "      <th>8</th>\n",
       "      <td>8</td>\n",
       "      <td>기타 괴롭힘 대화</td>\n",
       "      <td>너 치마 샀어?\\n응응 이쁘지\\n응 치마는 이쁘긴한데 \\n뭐랄까 종아리 알 때문에 ...</td>\n",
       "      <td>3</td>\n",
       "    </tr>\n",
       "    <tr>\n",
       "      <th>9</th>\n",
       "      <td>9</td>\n",
       "      <td>협박 대화</td>\n",
       "      <td>야 쟤 잡아\\n넵 알겠습니다.\\n제발 손가락은 자르지 말아주세요\\n야 미친 놈아 내...</td>\n",
       "      <td>0</td>\n",
       "    </tr>\n",
       "  </tbody>\n",
       "</table>\n",
       "</div>"
      ],
      "text/plain": [
       "   idx        class                                       conversation  type\n",
       "0    0        일반 대화  학교 점심 뭐 나와?\\n주로 한식이 나와.\\n학원 다녀?\\n응, 영어 학원 다녀.\\...     4\n",
       "1    1    기타 괴롭힘 대화  어이 거기 뒤뚱거리는 놈 \\n나?\\n그래 너 여기 뒤뚱거리는 놈이 너밖에 더 있냐?...     3\n",
       "2    2        협박 대화  너 그따위로 운전하면 확 갈아마셔버린다.\\n 뭐라구?\\n 나와 이 자식아. 미안하단...     0\n",
       "3    3  직장 내 괴롭힘 대화  길동씨 이번에 이것좀 처리해요\\n이거 제가 한게 아닌데요\\n팀에서 내가 니가가 어딨...     2\n",
       "4    4        일반 대화  비가 많이 오네.\\n우산 가져왔어?\\n날씨가 추워졌어.\\n맞아, 이제 겨울이야.\\n...     4\n",
       "5    5        일반 대화  가족은 잘 지내?\\n응, 모두 건강해.\\n가족들과 뭐 해?\\n주로 같이 식사하고 이...     4\n",
       "6    6    기타 괴롭힘 대화  아까 10시에 배민에서 스테이크 덮밥 시켰던 사람인데요\\n 10시요? 벌써 4시간이...     3\n",
       "7    7  직장 내 괴롭힘 대화  안녕하세요 이번에 부서 이동하신 분 맞죠?\\n아! 네. 안녕하세요 .\\n네네. 근데...     2\n",
       "8    8    기타 괴롭힘 대화  너 치마 샀어?\\n응응 이쁘지\\n응 치마는 이쁘긴한데 \\n뭐랄까 종아리 알 때문에 ...     3\n",
       "9    9        협박 대화  야 쟤 잡아\\n넵 알겠습니다.\\n제발 손가락은 자르지 말아주세요\\n야 미친 놈아 내...     0"
      ]
     },
     "execution_count": 8,
     "metadata": {},
     "output_type": "execute_result"
    }
   ],
   "source": [
    "# type 열 추가했는지 확인하기\n",
    "train_data.head(10)"
   ]
  },
  {
   "cell_type": "code",
   "execution_count": 9,
   "id": "3c39c22a",
   "metadata": {},
   "outputs": [
    {
     "data": {
      "text/html": [
       "<div>\n",
       "<style scoped>\n",
       "    .dataframe tbody tr th:only-of-type {\n",
       "        vertical-align: middle;\n",
       "    }\n",
       "\n",
       "    .dataframe tbody tr th {\n",
       "        vertical-align: top;\n",
       "    }\n",
       "\n",
       "    .dataframe thead th {\n",
       "        text-align: right;\n",
       "    }\n",
       "</style>\n",
       "<table border=\"1\" class=\"dataframe\">\n",
       "  <thead>\n",
       "    <tr style=\"text-align: right;\">\n",
       "      <th></th>\n",
       "      <th>conversation</th>\n",
       "      <th>type</th>\n",
       "    </tr>\n",
       "  </thead>\n",
       "  <tbody>\n",
       "    <tr>\n",
       "      <th>0</th>\n",
       "      <td>학교 점심 뭐 나와?\\n주로 한식이 나와.\\n학원 다녀?\\n응, 영어 학원 다녀.\\...</td>\n",
       "      <td>4</td>\n",
       "    </tr>\n",
       "    <tr>\n",
       "      <th>1</th>\n",
       "      <td>어이 거기 뒤뚱거리는 놈 \\n나?\\n그래 너 여기 뒤뚱거리는 놈이 너밖에 더 있냐?...</td>\n",
       "      <td>3</td>\n",
       "    </tr>\n",
       "    <tr>\n",
       "      <th>2</th>\n",
       "      <td>너 그따위로 운전하면 확 갈아마셔버린다.\\n 뭐라구?\\n 나와 이 자식아. 미안하단...</td>\n",
       "      <td>0</td>\n",
       "    </tr>\n",
       "    <tr>\n",
       "      <th>3</th>\n",
       "      <td>길동씨 이번에 이것좀 처리해요\\n이거 제가 한게 아닌데요\\n팀에서 내가 니가가 어딨...</td>\n",
       "      <td>2</td>\n",
       "    </tr>\n",
       "    <tr>\n",
       "      <th>4</th>\n",
       "      <td>비가 많이 오네.\\n우산 가져왔어?\\n날씨가 추워졌어.\\n맞아, 이제 겨울이야.\\n...</td>\n",
       "      <td>4</td>\n",
       "    </tr>\n",
       "    <tr>\n",
       "      <th>5</th>\n",
       "      <td>가족은 잘 지내?\\n응, 모두 건강해.\\n가족들과 뭐 해?\\n주로 같이 식사하고 이...</td>\n",
       "      <td>4</td>\n",
       "    </tr>\n",
       "    <tr>\n",
       "      <th>6</th>\n",
       "      <td>아까 10시에 배민에서 스테이크 덮밥 시켰던 사람인데요\\n 10시요? 벌써 4시간이...</td>\n",
       "      <td>3</td>\n",
       "    </tr>\n",
       "    <tr>\n",
       "      <th>7</th>\n",
       "      <td>안녕하세요 이번에 부서 이동하신 분 맞죠?\\n아! 네. 안녕하세요 .\\n네네. 근데...</td>\n",
       "      <td>2</td>\n",
       "    </tr>\n",
       "    <tr>\n",
       "      <th>8</th>\n",
       "      <td>너 치마 샀어?\\n응응 이쁘지\\n응 치마는 이쁘긴한데 \\n뭐랄까 종아리 알 때문에 ...</td>\n",
       "      <td>3</td>\n",
       "    </tr>\n",
       "    <tr>\n",
       "      <th>9</th>\n",
       "      <td>야 쟤 잡아\\n넵 알겠습니다.\\n제발 손가락은 자르지 말아주세요\\n야 미친 놈아 내...</td>\n",
       "      <td>0</td>\n",
       "    </tr>\n",
       "  </tbody>\n",
       "</table>\n",
       "</div>"
      ],
      "text/plain": [
       "                                        conversation  type\n",
       "0  학교 점심 뭐 나와?\\n주로 한식이 나와.\\n학원 다녀?\\n응, 영어 학원 다녀.\\...     4\n",
       "1  어이 거기 뒤뚱거리는 놈 \\n나?\\n그래 너 여기 뒤뚱거리는 놈이 너밖에 더 있냐?...     3\n",
       "2  너 그따위로 운전하면 확 갈아마셔버린다.\\n 뭐라구?\\n 나와 이 자식아. 미안하단...     0\n",
       "3  길동씨 이번에 이것좀 처리해요\\n이거 제가 한게 아닌데요\\n팀에서 내가 니가가 어딨...     2\n",
       "4  비가 많이 오네.\\n우산 가져왔어?\\n날씨가 추워졌어.\\n맞아, 이제 겨울이야.\\n...     4\n",
       "5  가족은 잘 지내?\\n응, 모두 건강해.\\n가족들과 뭐 해?\\n주로 같이 식사하고 이...     4\n",
       "6  아까 10시에 배민에서 스테이크 덮밥 시켰던 사람인데요\\n 10시요? 벌써 4시간이...     3\n",
       "7  안녕하세요 이번에 부서 이동하신 분 맞죠?\\n아! 네. 안녕하세요 .\\n네네. 근데...     2\n",
       "8  너 치마 샀어?\\n응응 이쁘지\\n응 치마는 이쁘긴한데 \\n뭐랄까 종아리 알 때문에 ...     3\n",
       "9  야 쟤 잡아\\n넵 알겠습니다.\\n제발 손가락은 자르지 말아주세요\\n야 미친 놈아 내...     0"
      ]
     },
     "execution_count": 9,
     "metadata": {},
     "output_type": "execute_result"
    }
   ],
   "source": [
    "# 기존 idx, class 컬럼 삭제하기\n",
    "train_data = train_data.drop(['idx', 'class'], axis=1)\n",
    "# idx, class 컬럼 삭제했는지 확인하기\n",
    "train_data.head(10)"
   ]
  },
  {
   "cell_type": "code",
   "execution_count": 10,
   "id": "e01fd27e",
   "metadata": {},
   "outputs": [
    {
     "data": {
      "text/html": [
       "<div>\n",
       "<style scoped>\n",
       "    .dataframe tbody tr th:only-of-type {\n",
       "        vertical-align: middle;\n",
       "    }\n",
       "\n",
       "    .dataframe tbody tr th {\n",
       "        vertical-align: top;\n",
       "    }\n",
       "\n",
       "    .dataframe thead th {\n",
       "        text-align: right;\n",
       "    }\n",
       "</style>\n",
       "<table border=\"1\" class=\"dataframe\">\n",
       "  <thead>\n",
       "    <tr style=\"text-align: right;\">\n",
       "      <th></th>\n",
       "      <th>conversation</th>\n",
       "      <th>type</th>\n",
       "    </tr>\n",
       "  </thead>\n",
       "  <tbody>\n",
       "    <tr>\n",
       "      <th>0</th>\n",
       "      <td>학교 점심 뭐 나와?\\n주로 한식이 나와.\\n학원 다녀?\\n응, 영어 학원 다녀.\\...</td>\n",
       "      <td>4</td>\n",
       "    </tr>\n",
       "    <tr>\n",
       "      <th>1</th>\n",
       "      <td>어이 거기 뒤뚱거리는 놈 \\n나?\\n그래 너 여기 뒤뚱거리는 놈이 너밖에 더 있냐?...</td>\n",
       "      <td>3</td>\n",
       "    </tr>\n",
       "    <tr>\n",
       "      <th>2</th>\n",
       "      <td>너 그따위로 운전하면 확 갈아마셔버린다.\\n 뭐라구?\\n 나와 이 자식아. 미안하단...</td>\n",
       "      <td>0</td>\n",
       "    </tr>\n",
       "    <tr>\n",
       "      <th>3</th>\n",
       "      <td>길동씨 이번에 이것좀 처리해요\\n이거 제가 한게 아닌데요\\n팀에서 내가 니가가 어딨...</td>\n",
       "      <td>2</td>\n",
       "    </tr>\n",
       "    <tr>\n",
       "      <th>4</th>\n",
       "      <td>비가 많이 오네.\\n우산 가져왔어?\\n날씨가 추워졌어.\\n맞아, 이제 겨울이야.\\n...</td>\n",
       "      <td>4</td>\n",
       "    </tr>\n",
       "    <tr>\n",
       "      <th>5</th>\n",
       "      <td>가족은 잘 지내?\\n응, 모두 건강해.\\n가족들과 뭐 해?\\n주로 같이 식사하고 이...</td>\n",
       "      <td>4</td>\n",
       "    </tr>\n",
       "    <tr>\n",
       "      <th>6</th>\n",
       "      <td>아까 10시에 배민에서 스테이크 덮밥 시켰던 사람인데요\\n 10시요? 벌써 4시간이...</td>\n",
       "      <td>3</td>\n",
       "    </tr>\n",
       "    <tr>\n",
       "      <th>7</th>\n",
       "      <td>안녕하세요 이번에 부서 이동하신 분 맞죠?\\n아! 네. 안녕하세요 .\\n네네. 근데...</td>\n",
       "      <td>2</td>\n",
       "    </tr>\n",
       "    <tr>\n",
       "      <th>8</th>\n",
       "      <td>너 치마 샀어?\\n응응 이쁘지\\n응 치마는 이쁘긴한데 \\n뭐랄까 종아리 알 때문에 ...</td>\n",
       "      <td>3</td>\n",
       "    </tr>\n",
       "    <tr>\n",
       "      <th>9</th>\n",
       "      <td>야 쟤 잡아\\n넵 알겠습니다.\\n제발 손가락은 자르지 말아주세요\\n야 미친 놈아 내...</td>\n",
       "      <td>0</td>\n",
       "    </tr>\n",
       "  </tbody>\n",
       "</table>\n",
       "</div>"
      ],
      "text/plain": [
       "                                        conversation  type\n",
       "0  학교 점심 뭐 나와?\\n주로 한식이 나와.\\n학원 다녀?\\n응, 영어 학원 다녀.\\...     4\n",
       "1  어이 거기 뒤뚱거리는 놈 \\n나?\\n그래 너 여기 뒤뚱거리는 놈이 너밖에 더 있냐?...     3\n",
       "2  너 그따위로 운전하면 확 갈아마셔버린다.\\n 뭐라구?\\n 나와 이 자식아. 미안하단...     0\n",
       "3  길동씨 이번에 이것좀 처리해요\\n이거 제가 한게 아닌데요\\n팀에서 내가 니가가 어딨...     2\n",
       "4  비가 많이 오네.\\n우산 가져왔어?\\n날씨가 추워졌어.\\n맞아, 이제 겨울이야.\\n...     4\n",
       "5  가족은 잘 지내?\\n응, 모두 건강해.\\n가족들과 뭐 해?\\n주로 같이 식사하고 이...     4\n",
       "6  아까 10시에 배민에서 스테이크 덮밥 시켰던 사람인데요\\n 10시요? 벌써 4시간이...     3\n",
       "7  안녕하세요 이번에 부서 이동하신 분 맞죠?\\n아! 네. 안녕하세요 .\\n네네. 근데...     2\n",
       "8  너 치마 샀어?\\n응응 이쁘지\\n응 치마는 이쁘긴한데 \\n뭐랄까 종아리 알 때문에 ...     3\n",
       "9  야 쟤 잡아\\n넵 알겠습니다.\\n제발 손가락은 자르지 말아주세요\\n야 미친 놈아 내...     0"
      ]
     },
     "execution_count": 10,
     "metadata": {},
     "output_type": "execute_result"
    }
   ],
   "source": [
    "# idx, class 컬럼 삭제했는지 확인하기\n",
    "train_data.head(10)"
   ]
  },
  {
   "cell_type": "code",
   "execution_count": 11,
   "id": "fe159293",
   "metadata": {},
   "outputs": [],
   "source": [
    "# 전처리 함수 정의하기\n",
    "def preprocess_sentence(sentence): \n",
    "    # \\n을 공백으로 바꾸기\n",
    "    sentence = re.sub(\"\\n\", \" \", sentence)\n",
    "    \n",
    "    # (ㄱ-ㅎ, ㅏ-ㅣ, \".\", \"?\", \"!\", \",\", ' ')를 제외한 모든 문자를 없애기\n",
    "    sentence = re.sub(\"[^ㄱ-ㅣ가-힣.?!, ]\", \"\", sentence)\n",
    "    \n",
    "    # 단어와 구두점(punctuation) 사이에 공백 추가하기\n",
    "    sentence = re.sub(r\"([?.!,])\", r\" \\1 \", sentence)\n",
    "    \n",
    "    return sentence"
   ]
  },
  {
   "cell_type": "code",
   "execution_count": 12,
   "id": "046e9177",
   "metadata": {},
   "outputs": [],
   "source": [
    "# 전처리 데이터 새로운 column에 저장하기\n",
    "train_data['preprocessed'] = train_data['conversation'].apply(preprocess_sentence)"
   ]
  },
  {
   "cell_type": "code",
   "execution_count": 13,
   "id": "3cae3cb0",
   "metadata": {},
   "outputs": [
    {
     "data": {
      "text/html": [
       "<div>\n",
       "<style scoped>\n",
       "    .dataframe tbody tr th:only-of-type {\n",
       "        vertical-align: middle;\n",
       "    }\n",
       "\n",
       "    .dataframe tbody tr th {\n",
       "        vertical-align: top;\n",
       "    }\n",
       "\n",
       "    .dataframe thead th {\n",
       "        text-align: right;\n",
       "    }\n",
       "</style>\n",
       "<table border=\"1\" class=\"dataframe\">\n",
       "  <thead>\n",
       "    <tr style=\"text-align: right;\">\n",
       "      <th></th>\n",
       "      <th>conversation</th>\n",
       "      <th>type</th>\n",
       "    </tr>\n",
       "  </thead>\n",
       "  <tbody>\n",
       "    <tr>\n",
       "      <th>0</th>\n",
       "      <td>학교 점심 뭐 나와 ?  주로 한식이 나와 .  학원 다녀 ?  응 ,  영어 학원...</td>\n",
       "      <td>4</td>\n",
       "    </tr>\n",
       "    <tr>\n",
       "      <th>1</th>\n",
       "      <td>어이 거기 뒤뚱거리는 놈  나 ?  그래 너 여기 뒤뚱거리는 놈이 너밖에 더 있냐 ...</td>\n",
       "      <td>3</td>\n",
       "    </tr>\n",
       "    <tr>\n",
       "      <th>2</th>\n",
       "      <td>너 그따위로 운전하면 확 갈아마셔버린다 .   뭐라구 ?   나와 이 자식아 .  ...</td>\n",
       "      <td>0</td>\n",
       "    </tr>\n",
       "    <tr>\n",
       "      <th>3</th>\n",
       "      <td>길동씨 이번에 이것좀 처리해요 이거 제가 한게 아닌데요 팀에서 내가 니가가 어딨어 ...</td>\n",
       "      <td>2</td>\n",
       "    </tr>\n",
       "    <tr>\n",
       "      <th>4</th>\n",
       "      <td>비가 많이 오네 .  우산 가져왔어 ?  날씨가 추워졌어 .  맞아 ,  이제 겨울...</td>\n",
       "      <td>4</td>\n",
       "    </tr>\n",
       "    <tr>\n",
       "      <th>...</th>\n",
       "      <td>...</td>\n",
       "      <td>...</td>\n",
       "    </tr>\n",
       "    <tr>\n",
       "      <th>4945</th>\n",
       "      <td>오 깡패다 니 지금 뭐라했노 말하는것도 깡패네 닌 죽었다 시키야 어디서 건방지게 아...</td>\n",
       "      <td>0</td>\n",
       "    </tr>\n",
       "    <tr>\n",
       "      <th>4946</th>\n",
       "      <td>이거 니 주민등록증 아니야 ?  잃어버린줄 알았는데 . 고마워 !  고맙긴 뭘 근데...</td>\n",
       "      <td>1</td>\n",
       "    </tr>\n",
       "    <tr>\n",
       "      <th>4947</th>\n",
       "      <td>여행 준비 다 했어 ?  아직 ,  짐 싸는 중이야 .  여행 가방은 다 쌌어 ? ...</td>\n",
       "      <td>4</td>\n",
       "    </tr>\n",
       "    <tr>\n",
       "      <th>4948</th>\n",
       "      <td>그거 사줘 안사주면 죽어버릴거야  이러지마 돈없어 나한테 해준게 뭐있어 !  !  ...</td>\n",
       "      <td>0</td>\n",
       "    </tr>\n",
       "    <tr>\n",
       "      <th>4949</th>\n",
       "      <td>얘들아 .  이 년 몰골좀 봐 .   야 .  너 좀 씻고다녀 .  우웩 너희가 나...</td>\n",
       "      <td>3</td>\n",
       "    </tr>\n",
       "  </tbody>\n",
       "</table>\n",
       "<p>4950 rows × 2 columns</p>\n",
       "</div>"
      ],
      "text/plain": [
       "                                           conversation  type\n",
       "0     학교 점심 뭐 나와 ?  주로 한식이 나와 .  학원 다녀 ?  응 ,  영어 학원...     4\n",
       "1     어이 거기 뒤뚱거리는 놈  나 ?  그래 너 여기 뒤뚱거리는 놈이 너밖에 더 있냐 ...     3\n",
       "2     너 그따위로 운전하면 확 갈아마셔버린다 .   뭐라구 ?   나와 이 자식아 .  ...     0\n",
       "3     길동씨 이번에 이것좀 처리해요 이거 제가 한게 아닌데요 팀에서 내가 니가가 어딨어 ...     2\n",
       "4     비가 많이 오네 .  우산 가져왔어 ?  날씨가 추워졌어 .  맞아 ,  이제 겨울...     4\n",
       "...                                                 ...   ...\n",
       "4945  오 깡패다 니 지금 뭐라했노 말하는것도 깡패네 닌 죽었다 시키야 어디서 건방지게 아...     0\n",
       "4946  이거 니 주민등록증 아니야 ?  잃어버린줄 알았는데 . 고마워 !  고맙긴 뭘 근데...     1\n",
       "4947  여행 준비 다 했어 ?  아직 ,  짐 싸는 중이야 .  여행 가방은 다 쌌어 ? ...     4\n",
       "4948  그거 사줘 안사주면 죽어버릴거야  이러지마 돈없어 나한테 해준게 뭐있어 !  !  ...     0\n",
       "4949  얘들아 .  이 년 몰골좀 봐 .   야 .  너 좀 씻고다녀 .  우웩 너희가 나...     3\n",
       "\n",
       "[4950 rows x 2 columns]"
      ]
     },
     "execution_count": 13,
     "metadata": {},
     "output_type": "execute_result"
    }
   ],
   "source": [
    "# 기존 'conversation' column 전처리한 데이터로 바꾸기\n",
    "train_data['conversation'] = train_data['preprocessed']\n",
    "train_data.drop('preprocessed', axis=1)"
   ]
  },
  {
   "cell_type": "code",
   "execution_count": 14,
   "id": "7c5bce7d",
   "metadata": {},
   "outputs": [],
   "source": [
    "# 불용어 리스트 불러오기\n",
    "stopwords_path = \"ko_stopwords.txt\"\n",
    "with open(stopwords_path, 'r', encoding='utf-8') as file:\n",
    "    stopwords = file.read().splitlines()"
   ]
  },
  {
   "cell_type": "code",
   "execution_count": 15,
   "id": "9455a295",
   "metadata": {},
   "outputs": [],
   "source": [
    "# 단어사전 크기 20000으로 제한\n",
    "VOCAB_SIZE=20000"
   ]
  },
  {
   "cell_type": "code",
   "execution_count": 16,
   "id": "dd945a2c",
   "metadata": {},
   "outputs": [],
   "source": [
    "# Okt로 토큰화\n",
    "tokenizer=Okt()\n",
    "#tokenizer=Mecab()\n",
    "\n",
    "def tokenize(conversation, tokenizer):\n",
    "    return [token for token in tokenizer.morphs(conversation) if token not in stopwords]"
   ]
  },
  {
   "cell_type": "code",
   "execution_count": 17,
   "id": "fa3863cb",
   "metadata": {},
   "outputs": [],
   "source": [
    "# 각 conversation을 토큰화하여 새로운 열 'tokenized'에 저장\n",
    "train_data['tokenized'] = train_data['conversation'].apply(lambda x: tokenize(x, tokenizer))"
   ]
  },
  {
   "cell_type": "code",
   "execution_count": 18,
   "id": "81edfd4d",
   "metadata": {},
   "outputs": [],
   "source": [
    "special_tokens = ['<pad>', '<unk>', '<sos>', '<eos>']"
   ]
  },
  {
   "cell_type": "code",
   "execution_count": 19,
   "id": "eacdec59",
   "metadata": {},
   "outputs": [],
   "source": [
    "# 시작 토큰과 종료 토큰을 추가하는 함수 정의\n",
    "def add_special_tokens(tokens):\n",
    "    return [special_tokens[2]] + tokens + [special_tokens[3]]"
   ]
  },
  {
   "cell_type": "code",
   "execution_count": 20,
   "id": "734b48d7",
   "metadata": {},
   "outputs": [],
   "source": [
    "# 'tokenized' 열에 함수 적용하여 시작 토큰과 종료 토큰 추가\n",
    "train_data['tokenized'] = train_data['tokenized'].apply(add_special_tokens)"
   ]
  },
  {
   "cell_type": "code",
   "execution_count": 21,
   "id": "32444197",
   "metadata": {},
   "outputs": [
    {
     "data": {
      "text/plain": [
       "0       [<sos>, 학교, 점심, 뭐, 나와, ?, 주로, 한식, 나와, ., 학원, 다...\n",
       "1       [<sos>, 거기, 뒤뚱거리, 는, 놈, ?, 뒤뚱거리, 는, 놈, 밖에, 더, ...\n",
       "2       [<sos>, 그따위, 운전, 하면, 확, 갈아, 마셔, 버린다, ., 뭐라구, ?...\n",
       "3       [<sos>, 길동, 씨, 것좀, 처리, 거, 한, 게, 아닌데요, 팀, 내, 니,...\n",
       "4       [<sos>, 비, 많이, 오네, ., 우산, 가져왔어, ?, 날씨, 추워졌어, ....\n",
       "                              ...                        \n",
       "4945    [<sos>, 깡패, 다, 니, 지금, 뭐라, 했노, 말, 깡패, 닌, 죽었다, 시...\n",
       "4946    [<sos>, 거, 니, 주민, 등록증, 아니야, ?, 잃어버린줄, 알았는데, .,...\n",
       "4947    [<sos>, 여행, 준비, 다, 했어, ?, 아직, ,, 짐, 싸는, 중이, .,...\n",
       "4948    [<sos>, 그거, 사줘, 안, 사주면, 죽어, 버릴거야, 이러지마, 돈, 없어,...\n",
       "4949    [<sos>, 얘, ., 몰골, ., ., 씻고, 다녀, ., 우웩, 한테, 걸레,...\n",
       "Name: tokenized, Length: 4950, dtype: object"
      ]
     },
     "execution_count": 21,
     "metadata": {},
     "output_type": "execute_result"
    }
   ],
   "source": [
    "# 토큰화된 단어 확인하기\n",
    "train_data['tokenized']"
   ]
  },
  {
   "cell_type": "code",
   "execution_count": 22,
   "id": "7f04d030",
   "metadata": {},
   "outputs": [],
   "source": [
    "# 'tokenized' 열의 모든 토큰을 모아 등장 빈도 계산\n",
    "all_tokens = [token for tokens in train_data['tokenized'] for token in tokens]\n",
    "counter = Counter(all_tokens)\n",
    "# 가장 많이 등장하는 단어 vocab_size 개수만큼 남기기\n",
    "counter = counter.most_common(VOCAB_SIZE)"
   ]
  },
  {
   "cell_type": "code",
   "execution_count": 23,
   "id": "508afa31",
   "metadata": {},
   "outputs": [],
   "source": [
    "# vocabulary 파일로 저장\n",
    "word_to_index_path = './vocab.txt'\n",
    "\n",
    "def save_word_index(counter):\n",
    "    with open(word_to_index_path, 'w') as f:\n",
    "        for idx, (word, _) in enumerate(counter):\n",
    "            line = f\"{word}: {idx}\\n\"\n",
    "            f.write(line)"
   ]
  },
  {
   "cell_type": "code",
   "execution_count": 24,
   "id": "4db7790a",
   "metadata": {},
   "outputs": [],
   "source": [
    "word_to_index = {token: idx for idx, token in enumerate(special_tokens[:2])}\n",
    "word_to_index.update({token: idx + len(special_tokens[:2]) for idx, (token, _) in enumerate(counter)})"
   ]
  },
  {
   "cell_type": "code",
   "execution_count": 25,
   "id": "72550c6d",
   "metadata": {},
   "outputs": [],
   "source": [
    "# word_to_index"
   ]
  },
  {
   "cell_type": "code",
   "execution_count": 26,
   "id": "dacec798",
   "metadata": {},
   "outputs": [],
   "source": [
    "# 'tokenized' 열의 데이터를 정수 인코딩\n",
    "def encode_tokens(tokens, word_to_index):\n",
    "    unk_index = word_to_index['<unk>']\n",
    "    return [word_to_index.get(token, unk_index) for token in tokens]"
   ]
  },
  {
   "cell_type": "code",
   "execution_count": 27,
   "id": "92ca8e6c",
   "metadata": {},
   "outputs": [],
   "source": [
    "train_data['encoded'] = train_data['tokenized'].apply(lambda x: encode_tokens(x, word_to_index))"
   ]
  },
  {
   "cell_type": "code",
   "execution_count": 28,
   "id": "54a0d6d0",
   "metadata": {},
   "outputs": [
    {
     "data": {
      "text/html": [
       "<div>\n",
       "<style scoped>\n",
       "    .dataframe tbody tr th:only-of-type {\n",
       "        vertical-align: middle;\n",
       "    }\n",
       "\n",
       "    .dataframe tbody tr th {\n",
       "        vertical-align: top;\n",
       "    }\n",
       "\n",
       "    .dataframe thead th {\n",
       "        text-align: right;\n",
       "    }\n",
       "</style>\n",
       "<table border=\"1\" class=\"dataframe\">\n",
       "  <thead>\n",
       "    <tr style=\"text-align: right;\">\n",
       "      <th></th>\n",
       "      <th>conversation</th>\n",
       "      <th>type</th>\n",
       "      <th>preprocessed</th>\n",
       "      <th>tokenized</th>\n",
       "      <th>encoded</th>\n",
       "    </tr>\n",
       "  </thead>\n",
       "  <tbody>\n",
       "    <tr>\n",
       "      <th>0</th>\n",
       "      <td>학교 점심 뭐 나와 ?  주로 한식이 나와 .  학원 다녀 ?  응 ,  영어 학원...</td>\n",
       "      <td>4</td>\n",
       "      <td>학교 점심 뭐 나와 ?  주로 한식이 나와 .  학원 다녀 ?  응 ,  영어 학원...</td>\n",
       "      <td>[&lt;sos&gt;, 학교, 점심, 뭐, 나와, ?, 주로, 한식, 나와, ., 학원, 다...</td>\n",
       "      <td>[5, 106, 177, 10, 172, 3, 41, 229, 172, 2, 161...</td>\n",
       "    </tr>\n",
       "    <tr>\n",
       "      <th>1</th>\n",
       "      <td>어이 거기 뒤뚱거리는 놈  나 ?  그래 너 여기 뒤뚱거리는 놈이 너밖에 더 있냐 ...</td>\n",
       "      <td>3</td>\n",
       "      <td>어이 거기 뒤뚱거리는 놈  나 ?  그래 너 여기 뒤뚱거리는 놈이 너밖에 더 있냐 ...</td>\n",
       "      <td>[&lt;sos&gt;, 거기, 뒤뚱거리, 는, 놈, ?, 뒤뚱거리, 는, 놈, 밖에, 더, ...</td>\n",
       "      <td>[5, 231, 6386, 11, 207, 3, 6386, 11, 207, 185,...</td>\n",
       "    </tr>\n",
       "    <tr>\n",
       "      <th>2</th>\n",
       "      <td>너 그따위로 운전하면 확 갈아마셔버린다 .   뭐라구 ?   나와 이 자식아 .  ...</td>\n",
       "      <td>0</td>\n",
       "      <td>너 그따위로 운전하면 확 갈아마셔버린다 .   뭐라구 ?   나와 이 자식아 .  ...</td>\n",
       "      <td>[&lt;sos&gt;, 그따위, 운전, 하면, 확, 갈아, 마셔, 버린다, ., 뭐라구, ?...</td>\n",
       "      <td>[5, 1337, 890, 70, 591, 3555, 279, 714, 2, 524...</td>\n",
       "    </tr>\n",
       "    <tr>\n",
       "      <th>3</th>\n",
       "      <td>길동씨 이번에 이것좀 처리해요 이거 제가 한게 아닌데요 팀에서 내가 니가가 어딨어 ...</td>\n",
       "      <td>2</td>\n",
       "      <td>길동씨 이번에 이것좀 처리해요 이거 제가 한게 아닌데요 팀에서 내가 니가가 어딨어 ...</td>\n",
       "      <td>[&lt;sos&gt;, 길동, 씨, 것좀, 처리, 거, 한, 게, 아닌데요, 팀, 내, 니,...</td>\n",
       "      <td>[5, 363, 68, 1308, 345, 15, 33, 34, 1309, 209,...</td>\n",
       "    </tr>\n",
       "    <tr>\n",
       "      <th>4</th>\n",
       "      <td>비가 많이 오네 .  우산 가져왔어 ?  날씨가 추워졌어 .  맞아 ,  이제 겨울...</td>\n",
       "      <td>4</td>\n",
       "      <td>비가 많이 오네 .  우산 가져왔어 ?  날씨가 추워졌어 .  맞아 ,  이제 겨울...</td>\n",
       "      <td>[&lt;sos&gt;, 비, 많이, 오네, ., 우산, 가져왔어, ?, 날씨, 추워졌어, ....</td>\n",
       "      <td>[5, 168, 49, 618, 2, 619, 524, 3, 130, 638, 2,...</td>\n",
       "    </tr>\n",
       "    <tr>\n",
       "      <th>5</th>\n",
       "      <td>가족은 잘 지내 ?  응 ,  모두 건강해 .  가족들과 뭐 해 ?  주로 같이 식...</td>\n",
       "      <td>4</td>\n",
       "      <td>가족은 잘 지내 ?  응 ,  모두 건강해 .  가족들과 뭐 해 ?  주로 같이 식...</td>\n",
       "      <td>[&lt;sos&gt;, 가족, 은, 잘, 지내, ?, ,, 건강해, ., 가족, 뭐, 해, ...</td>\n",
       "      <td>[5, 52, 19, 22, 142, 3, 4, 534, 2, 52, 10, 9, ...</td>\n",
       "    </tr>\n",
       "    <tr>\n",
       "      <th>6</th>\n",
       "      <td>아까 시에 배민에서 스테이크 덮밥 시켰던 사람인데요  시요 ?  벌써 시간이나 지났...</td>\n",
       "      <td>3</td>\n",
       "      <td>아까 시에 배민에서 스테이크 덮밥 시켰던 사람인데요  시요 ?  벌써 시간이나 지났...</td>\n",
       "      <td>[&lt;sos&gt;, 아까, 시, 배민, 스테이크, 덮, 밥, 시켰던, 사람, 인데, 요,...</td>\n",
       "      <td>[5, 863, 152, 8249, 8250, 8251, 267, 12239, 47...</td>\n",
       "    </tr>\n",
       "    <tr>\n",
       "      <th>7</th>\n",
       "      <td>안녕하세요 이번에 부서 이동하신 분 맞죠 ?  아 !  네 .  안녕하세요  .  ...</td>\n",
       "      <td>2</td>\n",
       "      <td>안녕하세요 이번에 부서 이동하신 분 맞죠 ?  아 !  네 .  안녕하세요  .  ...</td>\n",
       "      <td>[&lt;sos&gt;, 안녕하세요, 부서, 이동, 하신, 분, 맞죠, ?, !, ., 안녕하...</td>\n",
       "      <td>[5, 662, 987, 3952, 939, 261, 1880, 3, 7, 2, 6...</td>\n",
       "    </tr>\n",
       "    <tr>\n",
       "      <th>8</th>\n",
       "      <td>너 치마 샀어 ?  응응 이쁘지 응 치마는 이쁘긴한데  뭐랄까 종아리 알 때문에 좀...</td>\n",
       "      <td>3</td>\n",
       "      <td>너 치마 샀어 ?  응응 이쁘지 응 치마는 이쁘긴한데  뭐랄까 종아리 알 때문에 좀...</td>\n",
       "      <td>[&lt;sos&gt;, 치마, 샀어, ?, 응응, 이쁘지, 치마, 는, 이쁘, 긴한데, 뭐랄...</td>\n",
       "      <td>[5, 1161, 1502, 3, 2279, 4495, 1161, 11, 6392,...</td>\n",
       "    </tr>\n",
       "    <tr>\n",
       "      <th>9</th>\n",
       "      <td>야 쟤 잡아 넵 알겠습니다 .  제발 손가락은 자르지 말아주세요 야 미친 놈아 내가...</td>\n",
       "      <td>0</td>\n",
       "      <td>야 쟤 잡아 넵 알겠습니다 .  제발 손가락은 자르지 말아주세요 야 미친 놈아 내가...</td>\n",
       "      <td>[&lt;sos&gt;, 쟤, 잡아, 넵, 알겠습니다, ., 제발, 손가락, 은, 자르지, 말...</td>\n",
       "      <td>[5, 372, 1212, 919, 150, 2, 51, 816, 19, 8261,...</td>\n",
       "    </tr>\n",
       "  </tbody>\n",
       "</table>\n",
       "</div>"
      ],
      "text/plain": [
       "                                        conversation  type  \\\n",
       "0  학교 점심 뭐 나와 ?  주로 한식이 나와 .  학원 다녀 ?  응 ,  영어 학원...     4   \n",
       "1  어이 거기 뒤뚱거리는 놈  나 ?  그래 너 여기 뒤뚱거리는 놈이 너밖에 더 있냐 ...     3   \n",
       "2  너 그따위로 운전하면 확 갈아마셔버린다 .   뭐라구 ?   나와 이 자식아 .  ...     0   \n",
       "3  길동씨 이번에 이것좀 처리해요 이거 제가 한게 아닌데요 팀에서 내가 니가가 어딨어 ...     2   \n",
       "4  비가 많이 오네 .  우산 가져왔어 ?  날씨가 추워졌어 .  맞아 ,  이제 겨울...     4   \n",
       "5  가족은 잘 지내 ?  응 ,  모두 건강해 .  가족들과 뭐 해 ?  주로 같이 식...     4   \n",
       "6  아까 시에 배민에서 스테이크 덮밥 시켰던 사람인데요  시요 ?  벌써 시간이나 지났...     3   \n",
       "7  안녕하세요 이번에 부서 이동하신 분 맞죠 ?  아 !  네 .  안녕하세요  .  ...     2   \n",
       "8  너 치마 샀어 ?  응응 이쁘지 응 치마는 이쁘긴한데  뭐랄까 종아리 알 때문에 좀...     3   \n",
       "9  야 쟤 잡아 넵 알겠습니다 .  제발 손가락은 자르지 말아주세요 야 미친 놈아 내가...     0   \n",
       "\n",
       "                                        preprocessed  \\\n",
       "0  학교 점심 뭐 나와 ?  주로 한식이 나와 .  학원 다녀 ?  응 ,  영어 학원...   \n",
       "1  어이 거기 뒤뚱거리는 놈  나 ?  그래 너 여기 뒤뚱거리는 놈이 너밖에 더 있냐 ...   \n",
       "2  너 그따위로 운전하면 확 갈아마셔버린다 .   뭐라구 ?   나와 이 자식아 .  ...   \n",
       "3  길동씨 이번에 이것좀 처리해요 이거 제가 한게 아닌데요 팀에서 내가 니가가 어딨어 ...   \n",
       "4  비가 많이 오네 .  우산 가져왔어 ?  날씨가 추워졌어 .  맞아 ,  이제 겨울...   \n",
       "5  가족은 잘 지내 ?  응 ,  모두 건강해 .  가족들과 뭐 해 ?  주로 같이 식...   \n",
       "6  아까 시에 배민에서 스테이크 덮밥 시켰던 사람인데요  시요 ?  벌써 시간이나 지났...   \n",
       "7  안녕하세요 이번에 부서 이동하신 분 맞죠 ?  아 !  네 .  안녕하세요  .  ...   \n",
       "8  너 치마 샀어 ?  응응 이쁘지 응 치마는 이쁘긴한데  뭐랄까 종아리 알 때문에 좀...   \n",
       "9  야 쟤 잡아 넵 알겠습니다 .  제발 손가락은 자르지 말아주세요 야 미친 놈아 내가...   \n",
       "\n",
       "                                           tokenized  \\\n",
       "0  [<sos>, 학교, 점심, 뭐, 나와, ?, 주로, 한식, 나와, ., 학원, 다...   \n",
       "1  [<sos>, 거기, 뒤뚱거리, 는, 놈, ?, 뒤뚱거리, 는, 놈, 밖에, 더, ...   \n",
       "2  [<sos>, 그따위, 운전, 하면, 확, 갈아, 마셔, 버린다, ., 뭐라구, ?...   \n",
       "3  [<sos>, 길동, 씨, 것좀, 처리, 거, 한, 게, 아닌데요, 팀, 내, 니,...   \n",
       "4  [<sos>, 비, 많이, 오네, ., 우산, 가져왔어, ?, 날씨, 추워졌어, ....   \n",
       "5  [<sos>, 가족, 은, 잘, 지내, ?, ,, 건강해, ., 가족, 뭐, 해, ...   \n",
       "6  [<sos>, 아까, 시, 배민, 스테이크, 덮, 밥, 시켰던, 사람, 인데, 요,...   \n",
       "7  [<sos>, 안녕하세요, 부서, 이동, 하신, 분, 맞죠, ?, !, ., 안녕하...   \n",
       "8  [<sos>, 치마, 샀어, ?, 응응, 이쁘지, 치마, 는, 이쁘, 긴한데, 뭐랄...   \n",
       "9  [<sos>, 쟤, 잡아, 넵, 알겠습니다, ., 제발, 손가락, 은, 자르지, 말...   \n",
       "\n",
       "                                             encoded  \n",
       "0  [5, 106, 177, 10, 172, 3, 41, 229, 172, 2, 161...  \n",
       "1  [5, 231, 6386, 11, 207, 3, 6386, 11, 207, 185,...  \n",
       "2  [5, 1337, 890, 70, 591, 3555, 279, 714, 2, 524...  \n",
       "3  [5, 363, 68, 1308, 345, 15, 33, 34, 1309, 209,...  \n",
       "4  [5, 168, 49, 618, 2, 619, 524, 3, 130, 638, 2,...  \n",
       "5  [5, 52, 19, 22, 142, 3, 4, 534, 2, 52, 10, 9, ...  \n",
       "6  [5, 863, 152, 8249, 8250, 8251, 267, 12239, 47...  \n",
       "7  [5, 662, 987, 3952, 939, 261, 1880, 3, 7, 2, 6...  \n",
       "8  [5, 1161, 1502, 3, 2279, 4495, 1161, 11, 6392,...  \n",
       "9  [5, 372, 1212, 919, 150, 2, 51, 816, 19, 8261,...  "
      ]
     },
     "execution_count": 28,
     "metadata": {},
     "output_type": "execute_result"
    }
   ],
   "source": [
    "train_data.head(10)"
   ]
  },
  {
   "cell_type": "code",
   "execution_count": 29,
   "id": "48eb3f00",
   "metadata": {},
   "outputs": [
    {
     "name": "stdout",
     "output_type": "stream",
     "text": [
      "Max Length: 311\n",
      "Min Length: 14\n",
      "Average Length: 77.63575757575758\n",
      "Standard Deviation: 31.53093869760893\n"
     ]
    },
    {
     "data": {
      "image/png": "[encoded data removed]",
      "text/plain": [
       "<Figure size 432x288 with 1 Axes>"
      ]
     },
     "metadata": {
      "needs_background": "light"
     },
     "output_type": "display_data"
    }
   ],
   "source": [
    "# 'encoded' 열의 각 리스트의 길이 계산\n",
    "lengths = train_data['encoded'].apply(len)\n",
    "\n",
    "print(f\"Max Length: {lengths.max()}\")\n",
    "print(f\"Min Length: {lengths.min()}\")\n",
    "print(f\"Average Length: {lengths.mean()}\")\n",
    "print(f\"Standard Deviation: {lengths.std()}\")\n",
    "\n",
    "# 길이 분포 시각화\n",
    "plt.hist(lengths, bins=50, color='skyblue')\n",
    "plt.show()"
   ]
  },
  {
   "cell_type": "code",
   "execution_count": 30,
   "id": "a7b59619",
   "metadata": {},
   "outputs": [],
   "source": [
    "# 대화 최대 길이 128으로 설정\n",
    "MAX_LENGTH = 128"
   ]
  },
  {
   "cell_type": "code",
   "execution_count": 31,
   "id": "61390ec0",
   "metadata": {},
   "outputs": [],
   "source": [
    "X = pad_sequences(train_data['encoded'], maxlen=MAX_LENGTH, padding='post', truncating='post')\n",
    "y = train_data['type']"
   ]
  },
  {
   "cell_type": "code",
   "execution_count": 32,
   "id": "66b231e6",
   "metadata": {},
   "outputs": [
    {
     "name": "stdout",
     "output_type": "stream",
     "text": [
      "Number of training data: 3960\n",
      "Number of training labels: 3960\n",
      "Number of validation data: 495\n",
      "Number of validation labels: 495\n",
      "Number of test data: 495\n",
      "Number of test labels: 495\n"
     ]
    }
   ],
   "source": [
    "X_train, X_val, y_train, y_val = train_test_split(X, y, test_size=0.2, \n",
    "                                                  shuffle=True, random_state=42)\n",
    "X_val, X_test, y_val, y_test = train_test_split(X_val, y_val, test_size=0.5, \n",
    "                                                shuffle=True, random_state=42)\n",
    "\n",
    "print('Number of training data:', len(X_train))\n",
    "print('Number of training labels:', len(y_train))\n",
    "print('Number of validation data:', len(X_val))\n",
    "print('Number of validation labels:', len(y_val))\n",
    "print('Number of test data:', len(X_test))\n",
    "print('Number of test labels:', len(y_test))"
   ]
  },
  {
   "cell_type": "code",
   "execution_count": 33,
   "id": "9999529f",
   "metadata": {},
   "outputs": [
    {
     "name": "stdout",
     "output_type": "stream",
     "text": [
      "Requirement already satisfied: wandb==0.16.0 in /opt/conda/lib/python3.9/site-packages (0.16.0)\n",
      "Requirement already satisfied: docker-pycreds>=0.4.0 in /opt/conda/lib/python3.9/site-packages (from wandb==0.16.0) (0.4.0)\n",
      "Requirement already satisfied: requests<3,>=2.0.0 in /opt/conda/lib/python3.9/site-packages (from wandb==0.16.0) (2.26.0)\n",
      "Requirement already satisfied: psutil>=5.0.0 in /opt/conda/lib/python3.9/site-packages (from wandb==0.16.0) (5.8.0)\n",
      "Requirement already satisfied: Click!=8.0.0,>=7.1 in /opt/conda/lib/python3.9/site-packages (from wandb==0.16.0) (8.0.3)\n",
      "Requirement already satisfied: typing-extensions in /opt/conda/lib/python3.9/site-packages (from wandb==0.16.0) (4.0.1)\n",
      "Requirement already satisfied: setuptools in /opt/conda/lib/python3.9/site-packages (from wandb==0.16.0) (59.4.0)\n",
      "Requirement already satisfied: setproctitle in /opt/conda/lib/python3.9/site-packages (from wandb==0.16.0) (1.3.3)\n",
      "Requirement already satisfied: appdirs>=1.4.3 in /opt/conda/lib/python3.9/site-packages (from wandb==0.16.0) (1.4.4)\n",
      "Requirement already satisfied: protobuf!=4.21.0,<5,>=3.15.0 in /opt/conda/lib/python3.9/site-packages (from wandb==0.16.0) (3.19.1)\n",
      "Requirement already satisfied: GitPython!=3.1.29,>=1.0.0 in /opt/conda/lib/python3.9/site-packages (from wandb==0.16.0) (3.1.43)\n",
      "Requirement already satisfied: PyYAML in /opt/conda/lib/python3.9/site-packages (from wandb==0.16.0) (6.0)\n",
      "Requirement already satisfied: sentry-sdk>=1.0.0 in /opt/conda/lib/python3.9/site-packages (from wandb==0.16.0) (2.6.0)\n",
      "Requirement already satisfied: six>=1.4.0 in /opt/conda/lib/python3.9/site-packages (from docker-pycreds>=0.4.0->wandb==0.16.0) (1.16.0)\n",
      "Requirement already satisfied: gitdb<5,>=4.0.1 in /opt/conda/lib/python3.9/site-packages (from GitPython!=3.1.29,>=1.0.0->wandb==0.16.0) (4.0.11)\n",
      "Requirement already satisfied: charset-normalizer~=2.0.0 in /opt/conda/lib/python3.9/site-packages (from requests<3,>=2.0.0->wandb==0.16.0) (2.0.8)\n",
      "Requirement already satisfied: idna<4,>=2.5 in /opt/conda/lib/python3.9/site-packages (from requests<3,>=2.0.0->wandb==0.16.0) (2.10)\n",
      "Requirement already satisfied: urllib3<1.27,>=1.21.1 in /opt/conda/lib/python3.9/site-packages (from requests<3,>=2.0.0->wandb==0.16.0) (1.26.19)\n",
      "Requirement already satisfied: certifi>=2017.4.17 in /opt/conda/lib/python3.9/site-packages (from requests<3,>=2.0.0->wandb==0.16.0) (2021.10.8)\n",
      "Requirement already satisfied: smmap<6,>=3.0.1 in /opt/conda/lib/python3.9/site-packages (from gitdb<5,>=4.0.1->GitPython!=3.1.29,>=1.0.0->wandb==0.16.0) (5.0.1)\n",
      "\u001b[33mWARNING: Running pip as the 'root' user can result in broken permissions and conflicting behaviour with the system package manager. It is recommended to use a virtual environment instead: https://pip.pypa.io/warnings/venv\u001b[0m\n"
     ]
    }
   ],
   "source": [
    "!pip install wandb==0.16.0"
   ]
  },
  {
   "cell_type": "code",
   "execution_count": 34,
   "id": "776a90f0",
   "metadata": {},
   "outputs": [],
   "source": [
    "import wandb"
   ]
  },
  {
   "cell_type": "code",
   "execution_count": 35,
   "id": "8cbca0c6",
   "metadata": {},
   "outputs": [
    {
     "name": "stderr",
     "output_type": "stream",
     "text": [
      "\u001b[34m\u001b[1mwandb\u001b[0m: Currently logged in as: \u001b[33mgodaebbang\u001b[0m (\u001b[33mletsgodaebbang\u001b[0m). Use \u001b[1m`wandb login --relogin`\u001b[0m to force relogin\n",
      "\u001b[34m\u001b[1mwandb\u001b[0m: \u001b[33mWARNING\u001b[0m If you're specifying your api key in code, ensure this code is not shared publicly.\n",
      "\u001b[34m\u001b[1mwandb\u001b[0m: \u001b[33mWARNING\u001b[0m Consider setting the WANDB_API_KEY environment variable, or running `wandb login` from the command line.\n",
      "\u001b[34m\u001b[1mwandb\u001b[0m: Appending key for api.wandb.ai to your netrc file: /aiffel/.netrc\n"
     ]
    },
    {
     "data": {
      "text/plain": [
       "True"
      ]
     },
     "execution_count": 35,
     "metadata": {},
     "output_type": "execute_result"
    }
   ],
   "source": [
    "wandb.login(key='8902458a7c74dce41823129a9fbd1f98e223198d')"
   ]
  },
  {
   "cell_type": "code",
   "execution_count": 36,
   "id": "02694adc",
   "metadata": {},
   "outputs": [],
   "source": [
    "import wandb\n",
    "import torch\n",
    "from torch import nn\n",
    "from torch.utils.data import DataLoader, TensorDataset\n",
    "from sklearn.model_selection import train_test_split\n",
    "from sklearn.metrics import f1_score, confusion_matrix\n",
    "import numpy as np\n",
    "import seaborn as sns\n",
    "import matplotlib.pyplot as plt\n",
    "from transformers import BertModel, BertTokenizer, BertConfig"
   ]
  },
  {
   "cell_type": "code",
   "execution_count": 37,
   "id": "78c647a3",
   "metadata": {},
   "outputs": [],
   "source": [
    "class CompareResultsCallback:\n",
    "    def __init__(self, test_loader, y_test, class_num):\n",
    "        self.test_loader = test_loader\n",
    "        self.y_test = y_test\n",
    "        self.class_num = class_num\n",
    "\n",
    "    def plot_confusion_matrix(self, model, device):\n",
    "        model.eval()\n",
    "        pred_test = []\n",
    "        with torch.no_grad():\n",
    "            for X_test_batch, y_test_batch in self.test_loader:\n",
    "                X_test_batch = X_test_batch.to(device)\n",
    "                logits = model(X_test_batch)[1]\n",
    "                pred = logits.argmax(dim=-1)\n",
    "                pred_test.extend(pred.cpu().numpy())\n",
    "\n",
    "        cm = confusion_matrix(self.y_test, pred_test)\n",
    "        plt.figure(figsize=(10, 7))\n",
    "        sns.heatmap(cm, annot=True, fmt=\"d\", cmap=\"Blues\")\n",
    "        plt.xlabel('Predicted')\n",
    "        plt.ylabel('True')\n",
    "        plt.show()\n",
    "\n",
    "    def __call__(self, model, device):\n",
    "        self.plot_confusion_matrix(model, device)"
   ]
  },
  {
   "cell_type": "code",
   "execution_count": 38,
   "id": "2e7d9dc1",
   "metadata": {},
   "outputs": [],
   "source": [
    "class BertForSequenceClassification(nn.Module):\n",
    "    def __init__(self, num_labels):\n",
    "        super(BertForSequenceClassification, self).__init__()\n",
    "        self.num_labels = num_labels\n",
    "        self.config = BertConfig.from_pretrained(\"bert-base-multilingual-cased\", num_labels=num_labels)\n",
    "        self.bert = BertModel.from_pretrained(\"bert-base-multilingual-cased\", config=self.config)\n",
    "        self.dropout = nn.Dropout(0.1)\n",
    "        self.classifier = nn.Linear(self.config.hidden_size, num_labels)\n",
    "        \n",
    "    def forward(self, input_ids, attention_mask=None, labels=None):\n",
    "        outputs = self.bert(input_ids, attention_mask=attention_mask)\n",
    "        pooled_output = outputs[1]  # [CLS] 토큰의 출력 사용\n",
    "        pooled_output = self.dropout(pooled_output)\n",
    "        logits = self.classifier(pooled_output)\n",
    "        \n",
    "        loss = None\n",
    "        if labels is not None:\n",
    "            loss_fct = nn.CrossEntropyLoss()\n",
    "            loss = loss_fct(logits.view(-1, self.num_labels), labels.view(-1))\n",
    "        \n",
    "        return loss, logits"
   ]
  },
  {
   "cell_type": "code",
   "execution_count": 39,
   "id": "45d9efc4",
   "metadata": {},
   "outputs": [],
   "source": [
    "def prepare_dataloaders(X_train, y_train, X_val, y_val, X_test, y_test, batch_size):\n",
    "    X_train, y_train = np.array(X_train), np.array(y_train)\n",
    "    X_val, y_val = np.array(X_val), np.array(y_val)\n",
    "    X_test, y_test = np.array(X_test), np.array(y_test)\n",
    "\n",
    "    train_dataset = TensorDataset(torch.tensor(X_train, dtype=torch.long), torch.tensor(y_train, dtype=torch.long))\n",
    "    val_dataset = TensorDataset(torch.tensor(X_val, dtype=torch.long), torch.tensor(y_val, dtype=torch.long))\n",
    "    test_dataset = TensorDataset(torch.tensor(X_test, dtype=torch.long), torch.tensor(y_test, dtype=torch.long))\n",
    "    \n",
    "    train_loader = DataLoader(train_dataset, batch_size=batch_size, shuffle=True)\n",
    "    val_loader = DataLoader(val_dataset, batch_size=batch_size, shuffle=False)\n",
    "    test_loader = DataLoader(test_dataset, batch_size=batch_size, shuffle=False)\n",
    "    \n",
    "    return train_loader, val_loader, test_loader"
   ]
  },
  {
   "cell_type": "code",
   "execution_count": 40,
   "id": "6e1c3250",
   "metadata": {},
   "outputs": [],
   "source": [
    "def get_optimizer(optimizer_name, parameters, learning_rate):\n",
    "    if optimizer_name == \"adam\":\n",
    "        return torch.optim.Adam(parameters, lr=learning_rate)\n",
    "    elif optimizer_name == \"sgd\":\n",
    "        return torch.optim.SGD(parameters, lr=learning_rate)\n",
    "    elif optimizer_name == \"rmsprop\":\n",
    "        return torch.optim.RMSprop(parameters, lr=learning_rate)\n",
    "    else:\n",
    "        raise ValueError(f\"Unknown optimizer: {optimizer_name}\")"
   ]
  },
  {
   "cell_type": "code",
   "execution_count": 41,
   "id": "1c64eb5b",
   "metadata": {},
   "outputs": [],
   "source": [
    "def train(default_config, X_train, y_train, X_val, y_val, X_test, y_test):\n",
    "    wandb.init(config=default_config)\n",
    "    config = wandb.config\n",
    "\n",
    "    train_loader, val_loader, test_loader = prepare_dataloaders(X_train, y_train, X_val, y_val, X_test, y_test, config.batch_size)\n",
    "    \n",
    "    device = torch.device(\"cuda\" if torch.cuda.is_available() else \"cpu\")\n",
    "    model = BertForSequenceClassification(config.class_num).to(device)\n",
    "    optimizer = get_optimizer(config.optimizer, model.parameters(), config.learning_rate)\n",
    "    \n",
    "    cm_callback = CompareResultsCallback(test_loader, y_test, config.class_num)\n",
    "    \n",
    "    for epoch in range(config.epoch):\n",
    "        model.train()\n",
    "        for X_batch, y_batch in train_loader:\n",
    "            X_batch, y_batch = X_batch.to(device), y_batch.to(device)\n",
    "            optimizer.zero_grad()\n",
    "            loss, logits = model(X_batch, labels=y_batch)\n",
    "            loss.backward()\n",
    "            optimizer.step()\n",
    "\n",
    "        model.eval()\n",
    "        val_loss = 0\n",
    "        correct = 0\n",
    "        total = 0\n",
    "        with torch.no_grad():\n",
    "            for X_val_batch, y_val_batch in val_loader:\n",
    "                X_val_batch, y_val_batch = X_val_batch.to(device), y_val_batch.to(device)\n",
    "                loss, logits = model(X_val_batch, labels=y_val_batch)\n",
    "                val_loss += loss.item()\n",
    "                pred = logits.argmax(dim=-1)\n",
    "                correct += (pred == y_val_batch).sum().item()\n",
    "                total += y_val_batch.size(0)\n",
    "\n",
    "        val_loss /= len(val_loader)\n",
    "        accuracy = correct / total\n",
    "\n",
    "        wandb.log({\"val_loss\": val_loss, \"val_accuracy\": accuracy})\n",
    "\n",
    "    # 테스트 단계에서 confusion matrix 그리기\n",
    "    cm_callback(model, device)\n",
    "\n",
    "    model.eval()\n",
    "    test_loss = 0\n",
    "    correct = 0\n",
    "    total = 0\n",
    "    pred_test = []\n",
    "    with torch.no_grad():\n",
    "        for X_test_batch, y_test_batch in test_loader:\n",
    "            X_test_batch, y_test_batch = X_test_batch.to(device), y_test_batch.to(device)\n",
    "            loss, logits = model(X_test_batch, labels=y_test_batch)\n",
    "            test_loss += loss.item()\n",
    "            pred = logits.argmax(dim=-1)\n",
    "            correct += (pred == y_test_batch).sum().item()\n",
    "            total += y_test_batch.size(0)\n",
    "            pred_test.extend(pred.cpu().numpy())\n",
    "\n",
    "    test_loss /= len(test_loader)\n",
    "    test_accuracy = correct / total\n",
    "    f1_score_res = f1_score(y_test, pred_test, average='micro')\n",
    "\n",
    "    wandb.log({\n",
    "        \"Test Accuracy Rate\": test_accuracy,\n",
    "        \"Test F1 Score\": f1_score_res,\n",
    "        \"Test Error Rate\": 1 - test_accuracy\n",
    "    })"
   ]
  },
  {
   "cell_type": "code",
   "execution_count": 42,
   "id": "0c1d5273",
   "metadata": {},
   "outputs": [],
   "source": [
    "def sweep_train():\n",
    "    # 데이터 분할\n",
    "    X_train, X_val, y_train, y_val = train_test_split(X, y, test_size=0.2, shuffle=True, random_state=42)\n",
    "    X_val, X_test, y_val, y_test = train_test_split(X_val, y_val, test_size=0.5, shuffle=True, random_state=42)\n",
    "    \n",
    "    # y 데이터의 최대값 + 1 을 class_num으로 설정\n",
    "    default_config[\"class_num\"] = max(y) + 1\n",
    "    \n",
    "    train(default_config=default_config, X_train=X_train, y_train=y_train, X_val=X_val, y_val=y_val, X_test=X_test, y_test=y_test)"
   ]
  },
  {
   "cell_type": "code",
   "execution_count": 43,
   "id": "cea61411",
   "metadata": {},
   "outputs": [],
   "source": [
    "# 기본 설정\n",
    "default_config = {\n",
    "    \"batch_size\": 32,\n",
    "    \"epoch\": 5,\n",
    "    \"learning_rate\": 0.001,\n",
    "    \"optimizer\": \"adam\",\n",
    "    \"class_num\": 2  # 클래스 수 (필요에 따라 수정)\n",
    "}\n",
    "\n",
    "# 스윕 구성\n",
    "sweep_config = {\n",
    "    'method': 'random',\n",
    "    'parameters': {\n",
    "        'batch_size': {\n",
    "            'values': [16, 32, 64]  # 배치 크기 줄이기\n",
    "        },\n",
    "        'epoch': {\n",
    "            'values': [5, 6, 7, 8, 9, 10]\n",
    "        },\n",
    "        'learning_rate': {\n",
    "            'max': 0.1,\n",
    "            'min': 0.001\n",
    "        },\n",
    "        'optimizer': {\n",
    "            'values': ['adam', 'sgd', 'rmsprop']\n",
    "        }\n",
    "    }\n",
    "}"
   ]
  },
  {
   "cell_type": "code",
   "execution_count": null,
   "id": "90943f3e",
   "metadata": {},
   "outputs": [
    {
     "name": "stdout",
     "output_type": "stream",
     "text": [
      "Create sweep with ID: var4ykl7\n",
      "Sweep URL: https://wandb.ai/aiffel_minions/DLthon_baseline_Bert/sweeps/var4ykl7\n"
     ]
    },
    {
     "name": "stderr",
     "output_type": "stream",
     "text": [
      "\u001b[34m\u001b[1mwandb\u001b[0m: Agent Starting Run: k1c84j51 with config:\n",
      "\u001b[34m\u001b[1mwandb\u001b[0m: \tbatch_size: 32\n",
      "\u001b[34m\u001b[1mwandb\u001b[0m: \tepoch: 8\n",
      "\u001b[34m\u001b[1mwandb\u001b[0m: \tlearning_rate: 0.010106832869722584\n",
      "\u001b[34m\u001b[1mwandb\u001b[0m: \toptimizer: rmsprop\n",
      "\u001b[34m\u001b[1mwandb\u001b[0m: Currently logged in as: \u001b[33mgodaebbang\u001b[0m (\u001b[33maiffel_minions\u001b[0m). Use \u001b[1m`wandb login --relogin`\u001b[0m to force relogin\n"
     ]
    },
    {
     "data": {
      "text/html": [
       "wandb version 0.17.3 is available!  To upgrade, please run:\n",
       " $ pip install wandb --upgrade"
      ],
      "text/plain": [
       "<IPython.core.display.HTML object>"
      ]
     },
     "metadata": {},
     "output_type": "display_data"
    },
    {
     "data": {
      "text/html": [
       "Tracking run with wandb version 0.16.0"
      ],
      "text/plain": [
       "<IPython.core.display.HTML object>"
      ]
     },
     "metadata": {},
     "output_type": "display_data"
    },
    {
     "data": {
      "text/html": [
       "Run data is saved locally in <code>/aiffel/aiffel/dlthon-minions/dlthon-bob/wandb/run-20240626_030550-k1c84j51</code>"
      ],
      "text/plain": [
       "<IPython.core.display.HTML object>"
      ]
     },
     "metadata": {},
     "output_type": "display_data"
    },
    {
     "data": {
      "text/html": [
       "Syncing run <strong><a href='https://wandb.ai/aiffel_minions/DLthon_baseline_Bert/runs/k1c84j51' target=\"_blank\">morning-sweep-1</a></strong> to <a href='https://wandb.ai/aiffel_minions/DLthon_baseline_Bert' target=\"_blank\">Weights & Biases</a> (<a href='https://wandb.me/run' target=\"_blank\">docs</a>)<br/>Sweep page: <a href='https://wandb.ai/aiffel_minions/DLthon_baseline_Bert/sweeps/var4ykl7' target=\"_blank\">https://wandb.ai/aiffel_minions/DLthon_baseline_Bert/sweeps/var4ykl7</a>"
      ],
      "text/plain": [
       "<IPython.core.display.HTML object>"
      ]
     },
     "metadata": {},
     "output_type": "display_data"
    },
    {
     "data": {
      "text/html": [
       " View project at <a href='https://wandb.ai/aiffel_minions/DLthon_baseline_Bert' target=\"_blank\">https://wandb.ai/aiffel_minions/DLthon_baseline_Bert</a>"
      ],
      "text/plain": [
       "<IPython.core.display.HTML object>"
      ]
     },
     "metadata": {},
     "output_type": "display_data"
    },
    {
     "data": {
      "text/html": [
       " View sweep at <a href='https://wandb.ai/aiffel_minions/DLthon_baseline_Bert/sweeps/var4ykl7' target=\"_blank\">https://wandb.ai/aiffel_minions/DLthon_baseline_Bert/sweeps/var4ykl7</a>"
      ],
      "text/plain": [
       "<IPython.core.display.HTML object>"
      ]
     },
     "metadata": {},
     "output_type": "display_data"
    },
    {
     "data": {
      "text/html": [
       " View run at <a href='https://wandb.ai/aiffel_minions/DLthon_baseline_Bert/runs/k1c84j51' target=\"_blank\">https://wandb.ai/aiffel_minions/DLthon_baseline_Bert/runs/k1c84j51</a>"
      ],
      "text/plain": [
       "<IPython.core.display.HTML object>"
      ]
     },
     "metadata": {},
     "output_type": "display_data"
    },
    {
     "name": "stderr",
     "output_type": "stream",
     "text": [
      "Some weights of the model checkpoint at bert-base-multilingual-cased were not used when initializing BertModel: ['cls.predictions.transform.LayerNorm.weight', 'cls.predictions.decoder.weight', 'cls.predictions.transform.dense.bias', 'cls.predictions.transform.LayerNorm.bias', 'cls.seq_relationship.bias', 'cls.predictions.transform.dense.weight', 'cls.seq_relationship.weight', 'cls.predictions.bias']\n",
      "- This IS expected if you are initializing BertModel from the checkpoint of a model trained on another task or with another architecture (e.g. initializing a BertForSequenceClassification model from a BertForPreTraining model).\n",
      "- This IS NOT expected if you are initializing BertModel from the checkpoint of a model that you expect to be exactly identical (initializing a BertForSequenceClassification model from a BertForSequenceClassification model).\n"
     ]
    }
   ],
   "source": [
    "# 스윕 생성 및 에이전트 실행\n",
    "sweep_id = wandb.sweep(sweep_config, \n",
    "                       entity='aiffel_minions', \n",
    "                       project='DLthon_baseline_Bert')\n",
    "wandb.agent(sweep_id, function=sweep_train, count=3)"
   ]
  }
 ],
 "metadata": {
  "kernelspec": {
   "display_name": "Python 3 (ipykernel)",
   "language": "python",
   "name": "python3"
  },
  "language_info": {
   "codemirror_mode": {
    "name": "ipython",
    "version": 3
   },
   "file_extension": ".py",
   "mimetype": "text/x-python",
   "name": "python",
   "nbconvert_exporter": "python",
   "pygments_lexer": "ipython3",
   "version": "3.9.7"
  }
 },
 "nbformat": 4,
 "nbformat_minor": 5
}
