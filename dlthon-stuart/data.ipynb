{
 "cells": [
  {
   "cell_type": "markdown",
<<<<<<< HEAD
   "id": "b3aadbeb",
=======
   "id": "f25cb077",
>>>>>>> 5e39140e2cb83cd422df11d7435d75beb7c529df
   "metadata": {
    "id": "a63262ad"
   },
   "source": [
    "# 데이터"
   ]
  },
  {
   "cell_type": "code",
   "execution_count": 1,
<<<<<<< HEAD
   "id": "a33f07b7",
=======
   "id": "9897a4da",
>>>>>>> 5e39140e2cb83cd422df11d7435d75beb7c529df
   "metadata": {},
   "outputs": [],
   "source": [
    "!pip install konlpy -qq"
   ]
  },
  {
   "cell_type": "code",
   "execution_count": 2,
<<<<<<< HEAD
   "id": "260556ba",
=======
   "id": "953471b1",
>>>>>>> 5e39140e2cb83cd422df11d7435d75beb7c529df
   "metadata": {
    "id": "cf7ba9f6"
   },
   "outputs": [],
   "source": [
    "# 라이브러리 불러오기\n",
    "import os\n",
    "import numpy as np\n",
    "import pandas as pd\n",
    "import matplotlib.pyplot as plt\n",
    "import seaborn as sns\n",
    "import tensorflow as tf\n",
    "from tensorflow import keras\n",
    "\n",
    "import re\n",
    "from collections import Counter\n",
    "import sentencepiece as spm\n",
    "from konlpy.tag import Okt\n",
    "from konlpy.tag import Mecab\n",
    "import csv \n",
    "from tensorflow.keras.preprocessing.sequence import pad_sequences\n",
    "from sklearn.model_selection import train_test_split"
   ]
  },
  {
   "cell_type": "code",
   "execution_count": 3,
<<<<<<< HEAD
   "id": "84053f8f",
=======
   "id": "e294ed10",
>>>>>>> 5e39140e2cb83cd422df11d7435d75beb7c529df
   "metadata": {
    "id": "SlAOhRs09rt2"
   },
   "outputs": [],
   "source": [
    "# 한글 폰트에 문제가 생겼을 때\n",
    "\n",
    "# 한글 폰트 설치\n",
    "!apt-get update -qq\n",
    "!apt-get install -qq fonts-nanum\n",
    "\n",
    "# 설치한 폰트를 matplotlib에서 사용할 수 있도록 설정\n",
    "import matplotlib.font_manager as fm\n",
    "import matplotlib.pyplot as plt\n",
    "\n",
    "# 나눔 폰트 경로 설정\n",
    "font_path = '/usr/share/fonts/truetype/nanum/NanumGothic.ttf'\n",
    "\n",
    "# 폰트 매니저에 폰트 추가\n",
    "fm.fontManager.addfont(font_path)\n",
    "plt.rc('font', family='NanumGothic')  # 폰트 설정"
   ]
  },
  {
   "cell_type": "markdown",
<<<<<<< HEAD
   "id": "3ef53b5e",
=======
   "id": "28f98523",
>>>>>>> 5e39140e2cb83cd422df11d7435d75beb7c529df
   "metadata": {
    "id": "482d4066"
   },
   "source": [
    "## 데이터 업로드"
   ]
  },
  {
   "cell_type": "markdown",
<<<<<<< HEAD
   "id": "56b4f7d7",
=======
   "id": "a7edea20",
>>>>>>> 5e39140e2cb83cd422df11d7435d75beb7c529df
   "metadata": {
    "id": "7ae4fc0d"
   },
   "source": [
    "#### 학습 데이터 불러오기\n",
    "\n",
    "프롬프트로 생성된 '일반 대화' 합성 데이터와 원본 데이터가 합쳐진 파일"
   ]
  },
  {
   "cell_type": "code",
   "execution_count": 4,
<<<<<<< HEAD
   "id": "865ea0f3",
=======
   "id": "fe85f4f3",
>>>>>>> 5e39140e2cb83cd422df11d7435d75beb7c529df
   "metadata": {
    "id": "b13d6792"
   },
   "outputs": [],
   "source": [
    "train_data_path =\"../data/conversations.csv\"\n",
    "train_data = pd.read_csv(train_data_path)\n",
    "# 원본 데이터 저장\n",
    "origin_data = train_data"
   ]
  },
  {
   "cell_type": "code",
   "execution_count": 5,
<<<<<<< HEAD
   "id": "70af274a",
=======
   "id": "61e59dbf",
>>>>>>> 5e39140e2cb83cd422df11d7435d75beb7c529df
   "metadata": {
    "colab": {
     "base_uri": "https://localhost:8080/",
     "height": 362
    },
    "id": "960aefbc",
    "outputId": "0a63c37c-ea2e-465c-830f-f36405289505"
   },
   "outputs": [
    {
     "data": {
      "text/html": [
       "<div>\n",
       "<style scoped>\n",
       "    .dataframe tbody tr th:only-of-type {\n",
       "        vertical-align: middle;\n",
       "    }\n",
       "\n",
       "    .dataframe tbody tr th {\n",
       "        vertical-align: top;\n",
       "    }\n",
       "\n",
       "    .dataframe thead th {\n",
       "        text-align: right;\n",
       "    }\n",
       "</style>\n",
       "<table border=\"1\" class=\"dataframe\">\n",
       "  <thead>\n",
       "    <tr style=\"text-align: right;\">\n",
       "      <th></th>\n",
       "      <th>idx</th>\n",
       "      <th>class</th>\n",
       "      <th>conversation</th>\n",
       "    </tr>\n",
       "  </thead>\n",
       "  <tbody>\n",
       "    <tr>\n",
       "      <th>2781</th>\n",
       "      <td>2781</td>\n",
       "      <td>기타 괴롭힘 대화</td>\n",
       "      <td>너 내욕하고 다닌다며?\\n 무슨말이야? 난 안그랬어?\\n 어디서 거짓말이야? 왕따주...</td>\n",
       "    </tr>\n",
       "    <tr>\n",
       "      <th>872</th>\n",
       "      <td>872</td>\n",
       "      <td>협박 대화</td>\n",
       "      <td>김부장\\n 오셨습니까\\n 내가 시킨거 어떻게 했어 ?\\n 그게.\\n 안했어 ?\\n ...</td>\n",
       "    </tr>\n",
       "    <tr>\n",
       "      <th>4692</th>\n",
       "      <td>4692</td>\n",
       "      <td>갈취 대화</td>\n",
       "      <td>저기요 저 1000원만 주실 수 있나요?\\n네? 제가 왜요?\\n제가 버스비가 없어서...</td>\n",
       "    </tr>\n",
       "    <tr>\n",
       "      <th>4150</th>\n",
       "      <td>4150</td>\n",
       "      <td>기타 괴롭힘 대화</td>\n",
       "      <td>니가 나 따라한다는 애구나?\\n 내가? 나 너 안따라해.\\n머라는거야. 여기 사진 ...</td>\n",
       "    </tr>\n",
       "    <tr>\n",
       "      <th>203</th>\n",
       "      <td>203</td>\n",
       "      <td>기타 괴롭힘 대화</td>\n",
       "      <td>여어 땅끄지 어디 가냐?\\n 남이사 어딜 가든 말든\\n 남이라니 섭하게. 우리 친구...</td>\n",
       "    </tr>\n",
       "    <tr>\n",
       "      <th>289</th>\n",
       "      <td>289</td>\n",
       "      <td>갈취 대화</td>\n",
       "      <td>우와 이거 예쁘다. 머야 이거?\\n엄마가 롤렉스에서 시계 사줬어.\\n우와 이거 엄청...</td>\n",
       "    </tr>\n",
       "    <tr>\n",
       "      <th>4905</th>\n",
       "      <td>4905</td>\n",
       "      <td>기타 괴롭힘 대화</td>\n",
       "      <td>바보야 넌 이것도 모르냐?\\n 모를수도 있지. 그럼 너는 다 아냐?\\n 난 다 알아...</td>\n",
       "    </tr>\n",
       "    <tr>\n",
       "      <th>3905</th>\n",
       "      <td>3905</td>\n",
       "      <td>직장 내 괴롭힘 대화</td>\n",
       "      <td>안녕하십니까 사장님\\n뭔 안녕해 미친놈아 저리 꺼져\\n죄송합니다 사장님\\n그러게 죄...</td>\n",
       "    </tr>\n",
       "    <tr>\n",
       "      <th>3746</th>\n",
       "      <td>3746</td>\n",
       "      <td>갈취 대화</td>\n",
       "      <td>야 앞보고 걸어라\\n아 누구세요?\\n앞에보고 걸어라했다\\n네 걷고있어요\\n너얼마있냐...</td>\n",
       "    </tr>\n",
       "    <tr>\n",
       "      <th>2832</th>\n",
       "      <td>2832</td>\n",
       "      <td>갈취 대화</td>\n",
       "      <td>야 가지고 왔냐?\\n미안해. 아버지가 안 주무셔서 못가지고 나왔어.\\n새끼야. 그럼...</td>\n",
       "    </tr>\n",
       "  </tbody>\n",
       "</table>\n",
       "</div>"
      ],
      "text/plain": [
       "       idx        class                                       conversation\n",
       "2781  2781    기타 괴롭힘 대화  너 내욕하고 다닌다며?\\n 무슨말이야? 난 안그랬어?\\n 어디서 거짓말이야? 왕따주...\n",
       "872    872        협박 대화  김부장\\n 오셨습니까\\n 내가 시킨거 어떻게 했어 ?\\n 그게.\\n 안했어 ?\\n ...\n",
       "4692  4692        갈취 대화  저기요 저 1000원만 주실 수 있나요?\\n네? 제가 왜요?\\n제가 버스비가 없어서...\n",
       "4150  4150    기타 괴롭힘 대화  니가 나 따라한다는 애구나?\\n 내가? 나 너 안따라해.\\n머라는거야. 여기 사진 ...\n",
       "203    203    기타 괴롭힘 대화  여어 땅끄지 어디 가냐?\\n 남이사 어딜 가든 말든\\n 남이라니 섭하게. 우리 친구...\n",
       "289    289        갈취 대화  우와 이거 예쁘다. 머야 이거?\\n엄마가 롤렉스에서 시계 사줬어.\\n우와 이거 엄청...\n",
       "4905  4905    기타 괴롭힘 대화  바보야 넌 이것도 모르냐?\\n 모를수도 있지. 그럼 너는 다 아냐?\\n 난 다 알아...\n",
       "3905  3905  직장 내 괴롭힘 대화  안녕하십니까 사장님\\n뭔 안녕해 미친놈아 저리 꺼져\\n죄송합니다 사장님\\n그러게 죄...\n",
       "3746  3746        갈취 대화  야 앞보고 걸어라\\n아 누구세요?\\n앞에보고 걸어라했다\\n네 걷고있어요\\n너얼마있냐...\n",
       "2832  2832        갈취 대화  야 가지고 왔냐?\\n미안해. 아버지가 안 주무셔서 못가지고 나왔어.\\n새끼야. 그럼..."
      ]
     },
     "execution_count": 5,
     "metadata": {},
     "output_type": "execute_result"
    }
   ],
   "source": [
    "train_data.sample(10)"
   ]
  },
  {
   "cell_type": "code",
   "execution_count": 6,
<<<<<<< HEAD
   "id": "581fd9ee",
=======
   "id": "e816db15",
>>>>>>> 5e39140e2cb83cd422df11d7435d75beb7c529df
   "metadata": {
    "colab": {
     "base_uri": "https://localhost:8080/"
    },
    "id": "662ed8cb",
    "outputId": "bf7af049-16d1-411f-e51b-7e2388e895c9"
   },
   "outputs": [
    {
     "name": "stdout",
     "output_type": "stream",
     "text": [
      "<class 'pandas.core.frame.DataFrame'>\n",
      "RangeIndex: 4950 entries, 0 to 4949\n",
      "Data columns (total 3 columns):\n",
      " #   Column        Non-Null Count  Dtype \n",
      "---  ------        --------------  ----- \n",
      " 0   idx           4950 non-null   int64 \n",
      " 1   class         4950 non-null   object\n",
      " 2   conversation  4950 non-null   object\n",
      "dtypes: int64(1), object(2)\n",
      "memory usage: 116.1+ KB\n"
     ]
    }
   ],
   "source": [
    "train_data.info()"
   ]
  },
  {
   "cell_type": "markdown",
<<<<<<< HEAD
   "id": "698839a3",
=======
   "id": "b1cfb0ff",
>>>>>>> 5e39140e2cb83cd422df11d7435d75beb7c529df
   "metadata": {
    "id": "daad0be9"
   },
   "source": [
    "## Augmentation"
   ]
  },
  {
   "cell_type": "markdown",
<<<<<<< HEAD
   "id": "acba0ee2",
=======
   "id": "3e592cc5",
>>>>>>> 5e39140e2cb83cd422df11d7435d75beb7c529df
   "metadata": {
    "id": "48b08735"
   },
   "source": [
    "## EDA"
   ]
  },
  {
   "cell_type": "code",
   "execution_count": 7,
<<<<<<< HEAD
   "id": "87a1c37d",
=======
   "id": "c1d511bb",
>>>>>>> 5e39140e2cb83cd422df11d7435d75beb7c529df
   "metadata": {
    "colab": {
     "base_uri": "https://localhost:8080/"
    },
    "id": "6ilpz-Cj86KD",
    "outputId": "b72bbfd4-de19-4fe5-d443-2142e78dc73f"
   },
   "outputs": [
    {
     "data": {
      "text/plain": [
       "class\n",
       "갈취 대화           981\n",
       "기타 괴롭힘 대화      1094\n",
       "일반 대화          1000\n",
       "직장 내 괴롭힘 대화     979\n",
       "협박 대화           896\n",
       "dtype: int64"
      ]
     },
     "execution_count": 7,
     "metadata": {},
     "output_type": "execute_result"
    }
   ],
   "source": [
    "# 클래스 별 대화 확인해보기\n",
    "class_counts = train_data.groupby('class').size()\n",
    "class_counts"
   ]
  },
  {
   "cell_type": "code",
   "execution_count": 8,
<<<<<<< HEAD
   "id": "86b2fa91",
=======
   "id": "b137a199",
>>>>>>> 5e39140e2cb83cd422df11d7435d75beb7c529df
   "metadata": {
    "id": "kZRNBoKk8uLo"
   },
   "outputs": [],
   "source": [
    "# 대화(X)와 레이블(y)로 나누기\n",
    "X_train = train_data['conversation']\n",
    "y_train = train_data['class']"
   ]
  },
  {
   "cell_type": "markdown",
<<<<<<< HEAD
   "id": "e77ef484",
=======
   "id": "a0802470",
>>>>>>> 5e39140e2cb83cd422df11d7435d75beb7c529df
   "metadata": {
    "id": "50394866"
   },
   "source": [
    "#### 길이 분포 확인"
   ]
  },
  {
   "cell_type": "code",
   "execution_count": 9,
<<<<<<< HEAD
   "id": "d9b760d1",
=======
   "id": "79292ba4",
>>>>>>> 5e39140e2cb83cd422df11d7435d75beb7c529df
   "metadata": {
    "colab": {
     "base_uri": "https://localhost:8080/"
    },
    "id": "789c8471",
    "outputId": "edcddeab-5d34-48f1-d839-4bbf3a1af1f1"
   },
   "outputs": [
    {
     "name": "stdout",
     "output_type": "stream",
     "text": [
      "Data Information\n",
      "--------------------------------------------------\n",
      "Conversations : (4950,)\n",
      "Label : (4950,)\n",
      "Label Type: {'일반 대화', '갈취 대화', '협박 대화', '기타 괴롭힘 대화', '직장 내 괴롭힘 대화'}\n",
      "--------------------------------------------------\n",
      "The number of classes : 4\n",
      "--------------------------------------------------\n",
      "Max Length :874\n",
      "Average Length :232.0210101010101\n"
     ]
    }
   ],
   "source": [
    "# 길이 분포 확인하기\n",
    "print('Data Information')\n",
    "print('-'*50)\n",
    "print('Conversations :',X_train.shape)\n",
    "print('Label :',y_train.shape)\n",
    "print('Label Type:', set(y_train))\n",
    "print('-'*50)\n",
    "num_classes = 4\n",
    "print('The number of classes : {}'.format(num_classes))\n",
    "print('-'*50)\n",
    "print('Max Length :{}'.format(max(len(l) for l in X_train)))\n",
    "print('Average Length :{}'.format(sum(map(len, X_train))/len(X_train)))"
   ]
  },
  {
   "cell_type": "markdown",
<<<<<<< HEAD
   "id": "48f98428",
=======
   "id": "a993c8c2",
>>>>>>> 5e39140e2cb83cd422df11d7435d75beb7c529df
   "metadata": {
    "id": "e7831dd6"
   },
   "source": [
    "#### 클래스 별 분포 확인"
   ]
  },
  {
   "cell_type": "code",
   "execution_count": 10,
<<<<<<< HEAD
   "id": "70d486d2",
=======
   "id": "d35a6962",
>>>>>>> 5e39140e2cb83cd422df11d7435d75beb7c529df
   "metadata": {
    "colab": {
     "base_uri": "https://localhost:8080/",
     "height": 456
    },
    "id": "99b138fb",
    "outputId": "99861275-04b9-473b-dc9c-93adea1ccc65"
   },
   "outputs": [
    {
     "data": {
      "image/png": "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\n",
      "text/plain": [
       "<Figure size 1080x360 with 2 Axes>"
      ]
     },
     "metadata": {
      "needs_background": "light"
     },
     "output_type": "display_data"
    }
   ],
   "source": [
    "# 두 서브플롯 생성하기\n",
    "fig, axes = plt.subplots(nrows=1, ncols=2, figsize=(15, 5))\n",
    "\n",
    "# 샘플 길이의 히스토그램\n",
    "axes[0].hist([len(s) for s in X_train], bins=50, color='skyblue')\n",
    "axes[0].set_xlabel('Length of samples')\n",
    "axes[0].set_ylabel('Number of samples')\n",
    "axes[0].set_title('Sample Length Distribution')\n",
    "\n",
    "# 클래스별 샘플 수 플롯\n",
    "sns.countplot(x=y_train, ax=axes[1], palette='pastel')\n",
    "axes[1].set_title('Class Distribution')\n",
    "\n",
    "# 레이아웃 조정하기\n",
    "plt.tight_layout()\n",
    "\n",
    "# 플롯 표시하기\n",
    "plt.show()"
   ]
  },
  {
   "cell_type": "markdown",
<<<<<<< HEAD
   "id": "a68976d4",
=======
   "id": "169d868b",
>>>>>>> 5e39140e2cb83cd422df11d7435d75beb7c529df
   "metadata": {
    "id": "083e9cfa"
   },
   "source": [
    "#### 클래스 별 길이 분포 확인"
   ]
  },
  {
   "cell_type": "code",
   "execution_count": 11,
<<<<<<< HEAD
   "id": "a9f72f4d",
=======
   "id": "2fe977fb",
>>>>>>> 5e39140e2cb83cd422df11d7435d75beb7c529df
   "metadata": {
    "colab": {
     "base_uri": "https://localhost:8080/",
     "height": 707
    },
    "id": "3aea02f8",
    "outputId": "7e8737ff-8668-4128-ffe2-2f19119cf183"
   },
   "outputs": [
    {
     "data": {
      "image/png": "iVBORw0KGgoAAAANSUhEUgAAA3cAAAJZCAYAAAAK4szkAAAAOXRFWHRTb2Z0d2FyZQBNYXRwbG90bGliIHZlcnNpb24zLjQuMywgaHR0cHM6Ly9tYXRwbG90bGliLm9yZy/MnkTPAAAACXBIWXMAAAsTAAALEwEAmpwYAABPgklEQVR4nO3dfZxdZXno/d9FiFGRlwSiIBrj0SAooMj43qocg1W0oNgDPqBVWwmCLxisBSoUEASkpYiitYGnqBijtVXgVGoTNIIi+pxQFI+AQCsKFDUkoCRAIMP1/LHWyM6w98yemb32y9q/7+ezP7PWvdba69qTyVxzrfte647MRJIkSZI02LbqdQCSJEmSpJmzuJMkSZKkGrC4kyRJkqQasLiTJEmSpBqwuJMkSZKkGrC4kyRJkqQasLiTWoiID0fED8rXVxra94mICxvW/zoi/rhhfe+I+Mdy+W0R8cEJzvGVhnP8ICL2i4jdx94/Iq4et//fNOz7mYb2D0bE2zrywSVJkjSQtu51AFK/iYgnAe8FArikof144BvALLb8v7NV2da4PnbhZGsm/n+2V2Y+d9z592w4Zk7ZthdwwbhjXxgRPwA+0cZ5JEnqCxHxZWBhQ9MzgX0y87/Li5vnZ+aPGvafC1xOkZfXZeYbGrZdm5n7tjjPV4BnNDSdANwF/EVmvjsirs7MVzTs/zfAH5ar/5GZR5ftHwTuzswvTvMjS13jH4PSOJm5Afh4RJwIPBd4CEjgg8A/AM8Drh132BkR8Rfl8jbAj9s83SNtxvQT4KURsT3wR8DjgNWZeSdAw7klSeprmfnWseWICIqceXfZ9JiLlZl5D/CyFm83Z4JTeQFVQ8cfVKmJiPhDYKfMPKxcfw1wUma+NSJGgPeNO+RE4LJy+fnA+xu2vT8i/gT4QGb+fzOI6enACuBTwD3ABRHxt5n57em+pyRJPfYO4LuZ+VBD20URcR/wauDJwD83bJsNzAWenZmTXSD1AqqGjvfcSc09Ajy5vKIIsDOQEbEcuHDcvglslZmbM3MzxbCRbNj+qcx86RQLuzeUVwx3aWg7GLgwM7+Smd8AlgJHNGw/qbwXb7cpnEeSpJ6IiEOAIymGSzZ6V2a+PDMfysw7yhz6UuA44P8Cf9JGYTfVWJ5OcetF8OgF1P/ZyXNI3WBxJzWRmVcDNwD/ERHfAw4CTs/MwykKqsc17P5/gA9ExPfKfc8FVs8whG+UieyuhrafAgdFxDYRsRVwKPCjhu2nlQnw5hmeW5KkykTEcyLiSxQXLV+Xmb+bYN8nR8SxEXEJ8CrgScB7IuKlMwjBC6iqLYdlSq1dDvyPzPyzce3bALuPrWTm5eW+zVwJPH6Cc2wdEbMp/i/OA3YDHmy2Y2ZeERHzgX8HdgAuorgXQJKkgRAR2wEfBz6Rmd9pssstwL0N67sD/wmcV67PBV4EjETEummG8Y3MfGdErGlo+ynw3oj4KvAAzS+gfm6a55O6xuJOaq3xqZeNNgDXNzZExBHAnzfZdz7FcJMbW5zju8AqYBPFMJCbmKDXLzNXlPch/AHF8NDnRcQiimEkkiT1tbKX7k0RcWJEnN5klx2BzwFExLOAj1Lk4uOBvYDbytdPmHwEmhdQNXQs7qSJjQ3daLQN456WmZkX8NgnbRER7wQWtHrzzDxifFv5JK/xbYdSPMQlKZLZKEVxdzvFVU6LO0nSwMjM04HHFHcRcTHFfe53ZuZ/RsQBwGhmboqI/5uZe47bf6LTeAFVQ8fiTmrtHoppEJr57wrPu7l8QZGQyMyvAF9pdUA5B8/mVtslSeonEXEK8GbgvnGbNgA/H1vJzPunew4voGoYWdxJLWTmfwK7zvRt2PLJme2c9ybg3eXyKybZfeyYT0w5MkmSeucZwJLM/OEUjml2EXPTFM/rBVTVWmRO6e9OSVMQEY8HZmXmxl7HIklSv4iIwymmQWh239wnMvOfm7RLmoTFnSRJkiTVgPPcSZIkSVIN9PU9dzvttFMuXLiw12FIkiZx7bXX3p2Z83sdh9pnjpWkwTCVHNvXxd3ChQtZs2bN5DtKknoqIn7R6xg0NeZYSRoMU8mxDsuUJEmSpBqwuJMkSZKkGrC4kyRJkqQasLiTJEmSpBqwuJMkSZKkGrC4kyRJkqQasLiTJEmSpBqwuJMkSZKkGrC4kyRJkqQa2LrXAahzzrru7pbbjt9npy5GIklS/Tx86oeats8++ZwuRyJJzdlzJ0mSJEk1YM+dJEkDJiKWAvsCDwGzgKOAlwNLgY3AHZl5bO8ilCT1gj13kiQNkIjYAVicmW/LzD8DbgD2B04ADs7MQ4D7I2L/HoYpSeoBiztJkgbLb4G7ImKXiHgC8AzgV8ANmbmp3OcSYL8exSdJ6hGHZUqSNEAyMyPiIuBoYB1wNcXQzPUNu60Hdhx/bEQsAZYALFiwoPpgJUldZc+dJEkDJCL2Bt6YmSdl5ieAB4C9gLkNu82jKPy2kJnLMnMkM0fmz5/flXglSd1jcSdJ0mDZBYiG9QeAhcCeETGnbDsIuLLLcUmSesxhmZIkDZaVwCsj4gvAJuCJwAeAvYHlEbEBWFvuJ0kaIhZ3kiQNkMxM4CNNNq0uX5KkIeWwTEmSJEmqAYs7SZIkSaoBh2VKkqSh8vCpH2q5bfbJ53QxEknqLHvuJEmSJKkGLO4kSZIkqQYs7iRJkiSpBizuJEmSJKkGLO4kSZIkqQYqe1pmRCwF9gUeAmYBRwEvB5YCG4E7MvPYqs4vSZIkScOkkp67iNgBWJyZb8vMPwNuAPYHTgAOzsxDgPsjYv8qzi9JkiRJw6aqYZm/Be6KiF0i4gnAM4BfATdk5qZyn0uA/cYfGBFLImJNRKxZu3ZtReFJkiRJUr1UUtxlZgIXAUcDRwJXUwzNXN+w23pgxybHLsvMkcwcmT9/fhXhSZIkSVLtVHLPXUTsDbwxM08o1w8G9gLmNuw2D1hXxfklSZIkadhUNSxzFyAa1h8AFgJ7RsScsu0g4MqKzi9JkiRJQ6Wqp2WuBF4ZEV8ANgFPBD4A7A0sj4gNwNpyP0mSJEnSDFVS3JX33H2kyabV5UuSJEmS1EFOYi5JkiRJNVDZJOaambOuu7vltuP32amLkUiS+klE7A58sKHpZcARwCLgUGAUuCYzz+5+dJKkXrK4kyRpgGTmTcB7ACJiFnApcCPwUeD1mZkRcXFELMrMW3oYqiSpyxyWKUnS4HoLRXH3cmBVec87Zdt+PYtKktQTFneSJA2udwIXAzsC6xva15dtW4iIJRGxJiLWrF27tjsRSpK6xuJOkqQBFBGvAX6QmQ8C64C5DZvnlW1byMxlmTmSmSPz58/vUqSSpG6xuJMkaTC9D/hMufxDYHFERLl+IHBVT6KSJPWMD1SRJGnARMTzgTsz826AzLw3Ii4GVkTEZuBH5YNXJElDxOJOkqQBk5k/pui5a2xbAazoTUSSpH7gsExJkiRJqgGLO0mSJEmqAYdlDomzrru75bbj99mpi5FIkiRJqoI9d5IkSZJUAxZ3kiRJklQDFneSJEmSVAMWd5IkSZJUAz5QRZIkqfTwqR/qdQiSNG323EmSJElSDVjcSZIkSVINOCxTkiSpIq2Gec4++ZwuRyJpGNhzJ0mSJEk1YHEnSZIkSTVgcSdJkiRJNWBxJ0mSJEk14ANVJElSLTlnnaRhY8+dJEmSJNWAxZ0kSZIk1YDDMiVJGjAR8SzgI+XqKHAysB9waLl+TWae3aPwho7DPyX1C4s7SZIGSEQEcBZwZGauL9u2Bd4OvD4zMyIujohFmXlLL2OVJHXXlIq7iNgmMzdWFYzac9Z1d/c6BElSh00hx74IuB04oyzqVpfrqzIzy30upejJ26K4i4glwBKABQsWdCp0SVKfmPSeu4j46/LrIcBXI+LTlUclSdIQmGaOXQjsCXwwMw8H9gVeCqxv2Gc9sOP4AzNzWWaOZObI/PnzZxq+JKnPtPNAle3Lr6/IzAOAWRXGI0nSMJlOjr2fopfuwXL9MuBBYG7DPvOAdR2LUpI0ENop7uZFxOeAr5XrT6guHEmShsp0cuy1wIsb1l9CMfxycXk/HsCBwFWdClKSNBjauefuaOBpDTdln1lhPJIkDZMp59jMvCsiVkbECmAjcFtmfi0i5gArImIz8KPMvKm6sCVJ/aid4m474P0RsSkzP4w9d5Ikdcq0cmxmXgBcMK5tBbCi8yFKkgZFO8MyzwQ+DTxcrh9ZXTiSJA0Vc6wkqWPaKe7uzcyfVR6JJEnDxxwrSeqYdoq7J0XEi4GtImJviiEkkiRp5syxkqSOaae4+zBwMLAX8C5gaaURSZI0PMyxkqSOmfSBKpn5W+D4qb5xRDwL+Ei5OgqcDOwHHFquX5OZZ0/1fSVJqovp5lhJkpppWdxFxOVNtgfwUGa+YaI3LefZOQs4MjPXl23bAm8HXp+ZGREXR8Sihsc/S5I0FGaSYyVJaqVlcZeZB8zgfV8E3A6cURZ1q8v1VZmZ5T6XUvTkbVHcRcQSYAnAggULZhCCJEn9aYY5VpKkpiYdlhkRO1MMGVkI/Bj4RGbeM8lhC4E9gQMz88GI+HtgV+CXDfusBxaNPzAzlwHLAEZGRnL8dkmS6mKaOVaSpKbaeaDKRykmSj0UuAL4VBvH3E/RS/dguX4Z8CAwt2GfecC69kOVJKl2ppNjJUlqqp3i7r8y86eZuSkzvwvc1cYx1wIvblh/CcXwy8Xl/XgABwJXTSlaSZLqZTo5VpKkpiYdlglsHxHbZebvyuEjmyc7IDPvioiVEbEC2Ajclplfi4g5wIqI2Az8KDNvmln4kiQNtCnnWEmSWmmnuNsX+EFE3A3sDPw6IlYxyRO9MvMCiqEmjW0rgBUziFd94qzr7m7afvw+O3U5EkkaaNPKsZIkNdPOPHev7UYgkiQNG3OsJKmT2nla5q4U89M9sWwazcxTK41KkqQhYI6VJHVSO8Myz6YYXnlfuT5aXTiSJA0Vc6wkqWPaKe5+nZnfqToQSZKGkDlWktQx7RR3t0XE+4HrgaQYMnJ1tWFJkjQUzLGSpI5pp7h7LnAvsF25vhkw8UiSNHNTzrERcR3ww4b935+ZGRGLgaUUUxDdkZnHVhKxJKlvtVPcbcjM4yuPRJKk4TOdHLsuM9/T2BARAZwAHJCZmyLi9IjYPzNXdSxSSVLf26qNfTZFxJMrj0SSpOEznRw7KyLOjIjlEfGmsm034IbM3FSuXwLsN/7AiFgSEWsiYs3atWunHbQkqT+103O3O/DliBh7gpcTq0qS1BlTzrGZuR9ARMwGvhoRPwV2BNY37La+bBt/7DJgGcDIyEjOPHxJUj9pZxLzt3QjEEmShs1McmxmPhwRq4DnATcCcxs2zwPWzTA8SdKAaWcS872BdwHblE2jmXlUpVENkbOuu7vXIbTUz7FJUh10IMe+DDgRuB3YMyLmlEMzDwKu7GiwkqS+186wzCOBAM4DXgM8sdKIJEkaHlPOsRHxeeAB4EnAJZl5W9l+GrA8IjYAa4GVFcUsSepT7RR3DwKPy8yfAj+NiPMqjkmSpGEx5Rybme9o0b4aWN3h+FSRh0/9UMtts08+p4uRSKqTdp6W+QBwa0R8KCJ2B3auOCZJkoaFOVaS1DHtFHdnAp+imCj1vcDplUYkSdLwMMdKkjqmnWGZu2bmzRGxDHgnxRASSZI0c+ZYPYZDNiVNVzs9d0eUXz8C3AucUVk0kiQNF3OsJKlj2inutomIHYFHMnMF8JuKY5IkaViYYyVJHdPOsMwbgM8Bf16uP1xZNJIkDRdzrCSpYybtucvM8zPzjzPzN+X6ByuPSpKkIWCOlSR1UjvDMiVJkiRJfc7iTpIkSZJqoGVxFxF/Xn49sHvhSJJUf+ZYSVIVJnqgypsiYhNwWEQ8qaF9NDO/UnFckiTVmTlW09JqDjznv5MEEw/LfB/wCDALmD3uJUmSps8cK0nquJY9d5n5C+AXEXFnZl7ZxZgkSao1c6wkqQrtzHN3U0R8AXgKcAdwwtgjmyVJ0oyYYyVJHdNOcXc2cHpm3hwRzwE+Dryr2rAkSRoK5lhJUse0MxXC/Zl5M0Bm/gx4sNqQJEkaGuZYSVLHtFPczR23vn0VgUiSNITMsZKkjmlnWObyiPgmsAbYFzi/2pAkSRoa086xEbE18AXgvsw8MiIWA0uBjcAdmXlsFQH3m1ZTA0jSMJq0uMvM/x0R3wOeDfxtZt5beVSSJA2BGebYE4HPAYdERAAnAAdk5qaIOD0i9s/MVR0PWpLUt9oZlklm3pOZ/8fCTpKkzppOjo2Iwyh6+24um3YDbsjMTeX6JcB+nYxTktT/2hmWKUmS+kRE7APsnJlfioiFZfOOwPqG3daXbeOPXQIsAViwYEHFkaqbJhqeOvvkc7oYiaRemrS4i4gDM/OybgSjwXfWdXe33Hb8Pjt1MRJJ6n/TzLFvBXaIiM8C2wIvBH7Clg9nmQesG39gZi4DlgGMjIzktIKWJPWtdnru3gFY3EmS1HlTzrGZedzYctlzdyLFg1hWRcSccmjmQcCVHYxTkjQA2inu7o6IfwOuATYDo5n58WrDUjdN1NsmSarUTHPsKLA5M0cj4jSKp29uANYCKzsfriSpn7VT3F0MzGpYH60oFkmShs2Mcmxm3g68p1xeDazuXGiSpEHTzlQI3ytv3p6bmd9u942df0eSpIlNN8dKVfMBLdJgmnQqhIg4BfhfwOHl+ifbfO+x+XdmNcy/c3BmHgLcHxH7TydgSZLqYgY5VpKkx2hnnrvtM/OvgN+U67MnO8D5dyRJasuUc6wkSa20U9zNK7+OPTL5MfPmNGqYf+dfG5rbmn+nPH5JRKyJiDVr165tIzxJkgbWlHKsJEkTaeeBKv8YEd8CnhIRLwImGzIy7fl3wDl4JElDZao5VpKkltp5oMqVwGsiYj5wd2ZOWHA5/85jOdWAJKmZqeZYSZImMmlxFxEvAE4F5gD3RMRJmXlrm+/v/DuSJLUwwxwrSdIW2hmWeQpwZGb+KiJ2Bv4OOKydN3f+HUmSJnQK08yx0kxNNN2BpMHUzgNVbs7MXwGUX++oNiRJkoaGOVaS1DHtFHe/i4gXRsSsiPhDWjwIRZIkTZk5VpLUMS2HZUbE5eX2AF5D8ZjmADYCH+9KdJIk1ZA5VpJUhZbFXWYe0M1AJEkaFuZYSVIV2nla5q7A24Enlk2jmXlqpVFJkjQEzLGSpE5q52mZZwMXAPeV66PVhSNJ0lAxx0qSOqad4u7XmfmdqgMZdE5ULkmaBnOsJKlj2inubouI9wPXU9zwPZqZV1cbliRJQ8EcK0nqmHaKu+cC9wLbleubAROPJEkzZ46VJHVMO8Xdhsw8vvJIJEkaPtPKsRHxGWA2sA3FROinRMRiYCnFdAp3ZOaxnQ21dx4+9UO9DmGg+f2Thkc7k5hviognVx6JJEnDZ1o5NjOPzswjMvMw4JkR8RzgBODgzDwEuD8i9u90sJKk/tZOz93uwJcjYuwJXg9l5hsqjEmSpGExoxwbEXOB+cAOwA2ZuancdAlwMLCqc6FKkvrdpMVdZr6lG4FIkjRspptjI+LZwKnAyymGYs4C1jfssh7YsclxS4AlAAsWLJjOqaWWwzxnn3xOlyORNF47k5gfR5E0xoxm5serC0mSpOEw3RybmbcCh0fE1sAK4HxgbsMu84B1TY5bBiwDGBkZyRmELknqQ+0My7yaIvHMAl7Co0/0kiRJMzOjHJuZmyNiFnAbsGdEzCmHZh4EXNnhWCVJfa6dYZnfa1j9dkR8ssJ4JEkaGtPJsRHxQuBYYANFMfgvmfmLiDgNWB4RG4C1wMoqYpYk9a92eu5+r7w6+NSKYlHNnXXd3S23Hb/PTl2MRJL6T7s5NjP/A3hbk/bVwOoKQpMkDYh27rm7vNwvyq//UHVQkiQNA3OsJKmT2hmWeUA3ApGasbdPUp2ZYyVJndSyuIuIw9nyCV5jRjNzeXUhSZJUb+ZYSVIVJuq5Gx23nsAI8CbAxKOOmqiHTpJqyBwrSeq4lsVdZn55bDkitqWYLHUU2LsLcUmSVFvmWElSFdp5oMqhwCHARzPzx9WHJEnScDDHSpI6aatWGyLiWRGxAtguM99i0pEkqTPMsZKkKkzUc/dj4FvAiyPiRWVbAJsz86jKI5Mkqb7MsZKkjpuouNuD5j17428ClyRJU2OOlSR13EQPVLm9m4FIkjQszLGSpCq0vOdOkiRJkjQ4LO4kSZIkqQYs7iRJkiSpBiad506SJEmazMOnfqjlttknn9PFSKThZc+dJEmSJNWAxZ0kSZIk1YDFnSRJkiTVgPfcTdFZ193d6xAkSZIk6TEs7iRJGjAR8ffAI8A84BuZ+cWIWAwsBTYCd2Tmsb2MUZLUfRZ3kiQNmMw8CiAiArgqIpYDJwAHZOamiDg9IvbPzFU9DVSS1FXecydJ0uCaA6wHdgNuyMxNZfslwH7jd46IJRGxJiLWrF27tntRSpK6wuJOkqTBdTpwNrAjRZE3Zn3ZtoXMXJaZI5k5Mn/+/C6FKEnqlsqGZXo/gCRJ1YmIpcB1mXl1RDwHmNuweR6wrjeRSZJ6pbLizvsBJEmqRkQcDWzMzOVl063AnhExpxyaeRBwZc8ClKbg4VM/1LR99snndDkSafB144EqE90PcDCwRXEXEUuAJQALFizoQngaVBNNS3H8Pjt1MRJJ6p6IeDlwPHB5RHy2bD4JOA1YHhEbgLXAyh6FKEnqkW4Ud1O+HwBYBjAyMpJdiE+SpIGRmd8Hml39XF2+JElDqtLizvsB1CutevXs0ZMkSVJdVfa0zInuByjXvR9AkiRJkjqkkp477weQJEmSpO6qpLjzfgBJkiRJ6i4nMZckSZKkGrC4kyRJkqQasLiTJEmSpBroxjx3kiRJ0pQ8fOqHWm6bffI5XYxEGhz23EmSJElSDdhzJ0mS+sJEPTUabP7bSt1hcaehctZ1d7fcdvw+O3UxEkmSJKmzHJYpSZIkSTVgcSdJkiRJNWBxJ0mSJEk14D130gx4D58kSZL6hT13kiRJklQDFneSJEmSVAMOy5QkacBExCzgo8C+mfm6sm0xsBTYCNyRmcf2MMSWnO9MVZro52v2yed0MRKpN+y5kyRp8LwRuIzyIm1EBHACcHBmHgLcHxH79zA+SVIP2HMnTWKih6Z0+v18CIukdmTmpQBFTQfAbsANmbmpXL8EOBhY1XhcRCwBlgAsWLCgG6FKkrrInjtJkgbfjsD6hvX1ZdsWMnNZZo5k5sj8+fO7FpwkqTss7iRJGnzrgLkN6/PKNknSEHFYpiRJg+9WYM+ImFMOzTwIuLLHMUl9xYetaBhY3EmSNLgeBsjM0Yg4DVgeERuAtcDKnkYmSeo6iztJkgZUZr6+YXk1sLqH4UhDpVVPoL2A6iXvuZMkSZKkGrDnrolOP/pekiRJkqpmz50kSZIk1YDFnSRJkiTVgMMyJUmSNFAmmtZAGmb23EmSJElSDVjcSZIkSVINOCxTkiR1nMPmVAf+HGvQDG1x53QHqtp0fsYmOub4fXaaSTgDFYMkSZKmzmGZkiRJklQDQ9tzJ403qL250+lp6/RntbdPkqRqTHdo6OyTz5ny+7U6pptaxdcPsQ0Ce+4kSZIkqQbsuZMkSZJqxofBDCeLO2lADOqw0Vb6ZShnqzgcTipJkgaNwzIlSZIkqQZq33NXt94OaSq6+eCUfjaocXdav/SWqj4c9qW66OTPsv8vHtUP39dOP4hlOnF082Ew9txJkiRJUg10vecuIg4HDgVGgWsy8+xuxyCpe7o1mfsg98553586xRwraSbq2Os4bFMrdLXnLiK2Bd4OHJSZbwb2iohF3YxBkqQ6MsdKkro9LPPlwKrMzHL9UmC/LscgSVIdmWMlacjFozmgCyeLOAyYk5kXlev/E3hJZp7ZsM8SYEm5+hzgZ10LcHI7AYMy9muQYoXBitdYqzNI8Q5SrFB9vM/IzPkVvr8mUYMc265B+783GT9Pf6vb54H6faZh+Dxt59hu33O3Dnhew/q8su33MnMZsKybQbUrItZk5kiv42jHIMUKgxWvsVZnkOIdpFhh8OLVtAx0jm1X3X6W/Tz9rW6fB+r3mfw8W+r2sMwfAosjIsr1A4GruhyDJEl1ZI6VpCHX1Z67zLw3Ii4GVkTEZuBHmXlTN2OQJKmOzLGSpK5PhZCZK4AV3T5vhwzSUJZBihUGK15jrc4gxTtIscLgxatpGPAc2666/Sz7efpb3T4P1O8z+XkadPWBKpIkSZKkanT7njtJkiRJUgUs7iRJkiSpBrp+z10/i4hZwEeBfTPzdWXbYmApsBG4IzOPnai9y/H+PfAIxeOuv5GZX+zXeCPiM8BsYBvg5sw8pV9jLWPYGvgCcF9mHtmvsUbEdRRPyAPYDLw/M7Nf4y1jeBbwkXJ1FDiZYqLlQ8v1azLz7HLfw5u1dynO3YEPNjS9DDgCWNRvsZbnXwrsCzwEzAKOopjUui9/DqRWBi0Xt2OQ8nU7Bi2nt2NQ8n47BvFvg8kMyt8O7aj874vM9FW+gIOAlwBXlOsBfItiUliA04H9W7X3MO4AvjtA8X6eYvLcvo0VOAV4LXBhP39fx35Wm/w89Gu8AXwVmNfQti3wTR69B/ji8hdc0/Ye/czOAv61X2MFdqD4g3Fs/bjy91lf/hz48jXRa1BzcZufbaDydZufqe9zepufYyDyfpufZaD+Nmjj8wzk3w5tfraO/33hsMwGmXlpZv6woWk34IbM3FSuX0JxlaBVe6/MAdYzAPFGxFxgPsUfo30Za0QcBqwBbi6b+vn7OisizoyI5RHxprKtn+N9EXA7cEYZ87spepdWZflbC7i0jKtVey+8pTx/v8b6W+CuiNglIp4APAP4Ff37cyC1NMC5uB0Dk6/bMQg5vR0DlvfbMWh/G0xmUP92aEfH/75wWObEdqT4JTxmfdnWqr1XTgfOpo/jjYhnA6fy6DCxWS1i6mmsEbEPsHNmfikiFpbNfft9zcz9ACJiNvDViPjpBHH1PF5gIbAncGBmPlgOVdoV+OW4uBYBG3hsvIu6FOd47wQOLl/NYupprJmZEXERcDSwDriaPv0/Jk1DP/9Om6q+z9ftGJSc3o5By/vtGMC/DSazkMH826Ed76TDf1/YczexdcDchvV5ZVur9q4r77O5LjOvniCunsebmbdm5uEUP5CHU4zV78dY3wo8JyI+C3wMeAXFFaN+jPX3MvNhYBXwvAni6od476e4AvVguX4Z8GCLuPohXiLiNcAPypj78nsbEXsDb8zMkzLzE8ADwF4tYuqL76s0BX35/26qBiVft2OAcno7BjLvt2OA/jaYzMD97dCOqv6+sLib2K3AnhExp1w/CLhygvauioijgY2Zubxs6ut4ATJzM8UVvttaxNTTWDPzuMw8MjPfQ3Hj7tXA+f0YaxMvA35Ef/8cXAu8uGH9JcAtwOKIiLLtQOAqipvBm7V32/uAz5TLrWLqday7UNyTMOYByiudffpzIE1FP/9Oa8sg5ut29HtOb8eA5/12DMLfBpMZxL8d2lHJ3xcOy2zuYYDMHI2I04DlEbEBWAusLIdAPaa9mwFGxMuB44HLy6tNACcBfRdvRLwQOJaia3k74F8y8xf9+r1tMAps7vOfg89T/CH/JOCSzLytbO/LeDPzrohYGRErKJ7KdVtmfq1MKisiYjPwo8y8qfwcFzdr75aIeD5wZ2beXcZ/b6uYehzrSuCVEfEFYBPwROADwN704c+B1Ka+z8XtGKR83Y4Bzunt6Pu8345B+9tgMoP2t0M7qvz7YuzJK5IkSZKkAeawTEmSJEmqAYs7SZIkSaoBiztJkiRJqgGLO0mSJEmqAYs7SZIkSaoBizvVSkRcXuF7/2vD8r/N4H1eFBGXRsRbOhPZlM497bglScPNHDvpuc2x6jnnuVPdPK7C9358w/LsGbzPa4FzMrMXk2rOJG5J0nAzx07MHKues7hTrUXEbOBciolJ5wJnZuaNEfFV4HaKX8RPBY7LzFsjYm/gROCXFInmucDrgbOA3SLirMw8HtghIs6nmCT0mcCRmblu3LmPAF4N3AfMopj0dX/gj4HnRwSNySciPgrsQDFx71nAHOC9FMl0G+BjmXl7RKwEri9j31Duvz3wZOA9mXlfRKyhmIR0I7AA+IvMvK/hXE+nmED3XooJrz9Ufj0H+A3FBKGfnM73XJI0HMyx5lj1ocz05as2L+CKcetHAW8tl7cH/rlcXg08s1x+KfA35fLXgCeXy88EftbsvYH/AOaUy4dTJJ7G8+4BLG9Y358icQCcAvxBk9i/DTypYf2JFEnwU8AKYGnZ/mPg8eXyl4E3lcvvAg4rl+8Eti6X39hw7BXl1y8BTyuXX0eReH4foy9fvnz58jX+ZY41x/rq/5c9d6q7vYBZEfGCcn3sytpoZv68XP4VxRVHgG0z8zcAmfnziNjiSmGD9Zm5qVy+E3hFk/Ne2bB+FXDMJLEuAU6KiN9RXFU8A7g6M0+PiDcCY59hbWY+WC5voEhEY59th3L5vzJzc7l8K8UwlUbPAt4XEVBcPb0zM1dFxLYR8Wng65l5xSTxSpKGmznWHKs+Y3GnursF+HlmXtLm/vdExFMz878j4tnATg3bYoLjxm+7nuKK4LJy/ZUUVyJbysxbgeMi4q+APwIWAR8pN78GaJUEs0nbHhHxhMx8AHgxjyanMb8Ezs3MX4+L4WsRcQnwHcDEI0maiDnWHKs+Y3Gnutk9Ii4sl68H/gH4dES8geKegK9n5r8DDzUcM1q+AI4DzoqIe4HNwN0N+/02Is4DzqYYg9/seAAy86aI+E5EfJHiyl9QDMtoun9EzAIuKvfdCbgQ+Dvgwoi4B1jPowmm1bkbl28HPlZeNdyBYuhM47EnAudHxHqKp+aeBiykGHYySpF4JElqZI4tmGPVtyKz2QUJSRGxH/DmzPxAr2OZqoi4IjMX9zoOSZKaMcdK1bDnTmoQEa8CDqW4+rYN8Je9jWjaHp58F0mSusccK1XPnjtJkiRJqoGteh2AJEmSJGnmLO4kSZIkqQYs7iRJkiSpBizuJEmSJKkGLO4kSZIkqQYs7iRJkiSpBizuJEmSJKkGLO4kSZIkqQYs7iRJkiSpBizuJEmSJKkGLO4kSZIkqQYs7iRJkiSpBizuJEmSJKkGLO4kSZIkqQYs7iRJkiSpBizuJEmSJKkGLO4kSZIkqQYs7iRJkiSpBizuJEmSJKkGLO4kSZIkqQYs7iRJkiSpBizuJEmSJKkGLO4kSZIkqQYs7iRJkiSpBizuJEmSJKkGLO4kSZIkqQYs7iRJkiSpBizuJEmSJKkGLO4kSZIkqQYs7iRJkiSpBizuJEmSJKkGLO4kSZIkqQYs7iRJkiSpBizuJEmSJKkGLO4kSZIkqQYs7iRJkiSpBizuJEmSJKkGLO4kSZIkqQYs7iRJkiSpBizuJEmSJKkGLO4kSZIkqQYs7iRJkiSpBizuJEmSJKkGLO4kSZIkqQYs7iRJkiSpBizuJEmSJKkGLO4kSZIkqQYs7iRJkiSpBizuJEmSJKkGLO4kSZIkqQYs7iRJkiSpBizuJEmSJKkGLO4kSZIkqQYs7iRJkiSpBizuJEmSJKkGLO4kSZIkqQYs7iRJkiSpBizuJEmSJKkGLO4kSZIkqQYs7iRJkiSpBizuJEmSJKkGLO4kSZIkqQYs7iRJkiSpBizuNFAi4uiI+EHD6zcRMVJue0FEXNiw75vH7fvfEfGWctvbIuKDE5zn6xGxw7i2hRHxuXL56hbHLYiIa8ad97sRsW+5/cKIeEHD/k+PiO+1eN3Q5P2PbXjfrze0P61xfdwxu0bE6objromIHSLiPeX34WkR8eVxx3yrYf93N7RfEhFPa/V9kyTVV0QcNy6/fS8iXlVue1pEXNKw7zsj4vvj9j+63DZZDr5g3HHXRMRfldv+ICI+MW7/z7bIoz+PiFeP2/c54977hQ3bVkXE3BYxfWJcfj8sIp4YESvL7Ssj4okN+7fK12+KiBMn/WZL07R1rwOQpiIzPwN8BiAiHg/8B3BruXlrGn6mM/PrQOMv1O+12reJuU22Nx4zp0V8vwRe1tgWEUcCLwaubXLee4HfAds1ebvRhvfYFvhLIIArGtpPB64BfgrMbvFZng3cmJlHj4trLJbfxxQR7wCOGnf8u8sC70+bxC9JGhKZ+XHg42PrEfEB4HnAlTw2P7wK+GBm/n9N3mrCXJKZRzSuR8Qc4CrgjBbH3l7GEePfqnyNvc87gEU05FHg4Ih4Q2aeRpFHZ7UIa39gz8xsfL8nAY8rVx8HbBUROwH/e1wsu0TED4CvlLGaR1UZf7g0yE4ClmfmvZPtGBEHAxsz88eVR/VYjwCbW2xbANybmQdM9AaZeR9wUnmFcSkwD1gJnJ+ZoxGxcILDo4xhUpn5eeDzEfFM4A+BDcA3M/N+gIjxeVOSNMT2BD7fYlvbuacNjwAPTbD9TcArMnOifcjMz0fEdhQXS0eA/wTOyszb24ghGwu7CXa6G3hZeQH6dcD2wPcz8xaAiPiTNs4lTZvDMjWQIuIo4Aha91Y17vt84CJg9bhN7y+HS7y4gvi2iYhF5epOwPoWu66lSALfafJaHRFPaXjPXSl6Lc8A3lq+719WEPsBwPllbI8HvhkRO3f6PJKkwRUR2wMvBX4wwW57RMRIRLwkIv4wIp4xxXO8oFycKI8C/Bfw7Ra59B3j9v1/gRuBg4EvA/8UHb5yWRaQKylGAd0FfDQi/rST55BasbjTQImIHaO4r+4FFL1ejyt/eT+vxf6HABcCrwSeGxGfi4gF5eZPZeZLWwwZaeWPyqEVu0+y3x7AR8rlZwK/aLZTZv4mM5+Zma+muPK4dWa+unztl5m/bth9BLg8M28se/L+Blg8hdibOYmGoaulI4D3Zua/ZeaXgOXAQQ3bvx4RVyBJGmbHA/+QmaMT7PMa4FDgT4DXAk9u2NbOBdYvll9b5lGAzDw0M/+gzKX3Au9uyKXjexb/R2Yuz8z7M/O7FMXXTO4lf2H5d8ELG9r2A76dmRdl5krgXcCRDdvfXX72V83gvFJTDsvUwIiIbYB/Af4mM79RNv9VROwJbASeMG7/y4CfA4sz87fAn0bEG4DnT+PcO1FcDPn3zHxbRKyZwuGXUdwTN/49/4WiQH0CxfDHrYCnlUkCYAeKJPXvmXkyxT17J0bEPwF3UvTaXTXVzzLOacB3gL9taPsp8NaIOBvYBngDcGbD9jdn5m0zPK8kaUBFxOsoipnJHgxyfma2ypefysy/bbFtvF8D/9gkjj8DllAMffxt2bwr8JWIeJgiv44CDwKvLodt/iIiDqe4sLkvRR6+s804mvmPzHx1RHynoe1nwF9ExKcycx3w/wDXN2y/MDNPmcE5pZYs7jQwMnMj8Oom7f8XICLu49GrfAB/mpn3RvEEr+MoevtmAzdR/JL90QSn+wnwrYi4v1xfy5YF0FTi/teIeEJE7Diu/S0R8QrgbZk5/iEmRMT1mfnShv3vKG9ePxPYEfgmRe8dwKYyxmYeAeZExOMo/s/vCjx9gpA/SlE4/pQioZ6bmde08VElSTVWDl98L3AIcOAkvXZJOUKsPG4esJAir0xJZv5nRGxV3p7Q2P6PwD+Oz5cN8R4H3JGZyxua/xw4GTia4iFrh2Tm2L2BvwYebhHGVuWDXbaieAjabhS9fs3ivSkiTgO+FBHPphgB86E2P640IxZ3GjgR8UfAqU02bQt8lfIpWGVh9xTgG8ApwNkUv7RfDJwFfLjVOTLz/U3O++w2YvtninsDtgOeHhHfp0hw69my8Pz9ITz26V5jmg2b/i/gKeW2A4EDy1sFtqLoIWzmBoohJ9+kKAJ/DVxHw9M4G5VXNk+PYiqIbwNrIuIlwJNavL8kaTh8HrgPeG1mPjjJvt8BPhsRmynyzd0UOeyiiQ4qn878tnL1meVollGK/HUT8E9NDmt1m9Fjcmxm3lMWm1sDz6EowMY2P0TRy9fMv1DcR7eJ4inXNwNfavU5MnNlRPw3Re/m2cAzImJ3ihExUmUs7jRwMvPfgX8f3x7FfHfvG9f8MuDKclqEMasj4hyKe9xmOqxxvHdQ9A6OAg9k5hZPyYyI1zc55s0NN403anbj+S7AzzPz8HHv+0zgU80CKp/c9ZjzRsT47xURcRbwCoqCdGuK3s5fU9zrMNFN85Kk+jsyMx9oZ8expy8329Yi5435PMWFWoCHxp8vxs1bV3pcwy0NjZ4K/FWT9lcBL8rMLXrpIuJKigvFm8YfkJknjW8rp0IY3/Yq4PRxzV+gGPr5nzw6fFSqhMWd6u77wF9HxB9TXEXcTPFgkmOA46b4Xpt5dEqDx/zih98PHW33PaDo0Ws1BKTZcI/fAYubJLEnAFN5MExjLL+PKTOPn+iA8v6GVtM6SJJqbJLCbnx+m0jLfcuCa6ICqNmxv6b507NHaT4MdB3w/YgYP4Ll6cD9TfZvpXGKhoeARzLzSoqphJqKiDdR3B4hVSLamLJDGghRzAH3vsz8s3HtT6cYW/8CHr3n7h8y8yddD1KSJEmqiMWdaqMcQ/+4zGzaqyZJkiTVmcWdJEmSJNWAk5hLkiRJUg309QNVdtppp1y4cGGvw5AkTeLaa6+9OzPn9zoOtc8cK0mDYSo5tq+Lu4ULF7JmzZpehyFJmkRE/KLXMWhqzLGSNBimkmMdlilJkiRJNWBxJ0mSJEk1YHEnSZIkSTVgcSdJkiRJNWBxJ0mSJEk1YHEnSZIkSTVgcSdJkiRJNWBxJ0mSJEk1YHEnSZIkSTWwda8DUOecd895LbcdM/eYLkYiSVLv3bL0xqbti87do8uRSFJ32HMnSZIkSTVgcSdJkiRJNWBxJ0mSJEk1YHEnSZIkSTVgcSdJkiRJNWBxJ0mSJEk1YHEnSZIkSTVgcSdJkiRJNeAk5gNoosnKJUmSJA0niztJkvpURMwCPgrsm5mvK9tOB+YB2wA/ycy/LdufD5wBbADuB5Zk5sM9CVyS1BMOy5QkqX+9EbiMhouxmXliZh6dme8A9o+IbcpNZwBvz8xDgauBd3Y7WElSb1XWcxcRS4F9gYeAWcBRwMuBpcBG4I7MPLaq80uSNOgy81KAiHjMtigaHwEeiIjHA5szc325+RLgk8AF3YlUktQPKum5i4gdgMWZ+bbM/DPgBmB/4ATg4Mw8BLg/Ivav4vySJA2BY4CLMvMRimGa9zZsW1+2bSEilkTEmohYs3bt2u5EKUnqmqqGZf4WuCsidomIJwDPAH4F3JCZm8p9LgH2G3+giUeSpIlFxCHA4zLzn8qmdcDchl3mURR4W8jMZZk5kpkj8+fP70KkkqRuqqS4y8wELgKOBo6kGPs/iy0TzXpgxybHmngkSWohIg4CnpuZZ4+1lRdOZ0fEWIF3EHBlL+KTJPVOJffcRcTewBsz84Ry/WBgLx57VXFdFeeXJKlmHgaIiGcAy4CvR8Rny22fyMybgOOACyLid8Bm4P09iVSS1DNVPVBlF6Dx7u8HgIXAnhExp7zC6FXFCTiXnSRpTGa+vvz6C+ApLfa5HviTbsYlSeovVRV3K4FXRsQXgE3AE4EPAHsDyyNiA7C23E+SJEmSNEOVFHflPXcfabJpdfmSJEmSJHWQk5hLkiRJUg1Y3EmSJElSDVjcSZIkSVINWNxJkiRJUg1U9bRMDZBW0y4cM/eYLkciSZIkabrsuZMkSZKkGrC4kyRJkqQasLiTJEmSpBqwuJMkSZKkGrC4kyRJkqQasLiTJEmSpBpwKoQh0Wq6A0mSJEn1YM+dJEmSJNWAxZ0kSZIk1YDFnSRJkiTVgMWdJEmSJNWAxZ0kSZIk1YDFnSRJkiTVgMWdJEmSJNWAxZ0kSZIk1YCTmEuSJJVuWXpjy22Lzt2ji5FI0tTZcydJkiRJNWBxJ0mSJEk1YHEnSVKfiohZEfGxiPhmQ9viiPhGRPxTRPzdZO2SpOFhcSdJUv96I3AZ5T3yERHACcDBmXkIcH9E7N+qvVdBS5J6w+JOkqQ+lZmXZuYPG5p2A27IzE3l+iXAfhO0byEilkTEmohYs3bt2uoClyT1hMWdJEmDY0dgfcP6+rKtVfsWMnNZZo5k5sj8+fMrDVSS1H0Wd5IkDY51wNyG9XllW6t2SdIQsbiTJGlw3ArsGRFzyvWDgCsnaJckDREnMZckqf89DJCZoxFxGrA8IjYAa4GVmZnN2nsXriSpFyzuJEnqc5n5+obl1cDqJvs0bZckDQ+HZUqSJElSDVjcSZIkSVINOCyzx86757xehyBJ0lC5ZemNvQ5Bkiphz50kSZIk1cCUeu4iYpvM3FhVMJIk1Z25tLPshZOkR03acxcRf11+PQT4akR8uvKoJEmqEXOpJKkb2hmWuX359RWZeQAwq8J4JEmqI3OpJKly7RR38yLic8DXyvUnVBeOJEm1ZC6VJFWunXvujgaelpm3lOtnVhiPJEl1ZC6VJFWuneJuO+D9EbEpMz9Mm1cbI+JZwEfK1VHgZGA/4NBy/ZrMPHvqIUuSNHCmlUslSZqKdoZlngl8Gni4XD9ysgMiIoCzgL/IzD/LzCOA+4C3Awdl5puBvSJi0fTCliRpoEw5l0qSNFXt9Nzdm5k/K+q1tr0IuB04IyK2BVaX66syM8t9LqXoybul8cCIWAIsAViwYMFUzilJUr+aTi6VJGlK2um5e1JEvBjYKiL2phhaMpmFwJ7ABzPzcGBf4KXA+oZ91gM7jj8wM5dl5khmjsyfP7+NU0mS1Pemk0slSZqSdoq7DwMHA3sB7wKWtnHM/RS9dA+W65cBDwJzG/aZB6xrP1RJkgbWdHKpJElTMumwzMz8LXD8FN/3WuAdDesvAa4H3h0R55ZDMw8Ezpji+0qSNHCmmUslSZqSlsVdRFzeZHsAD2XmGyZ608y8KyJWRsQKYCNwW2Z+LSLmACsiYjPwo8y8aYbxS5LUt2aSSyVJmqqWxV1mHjCTN87MC4ALxrWtAFbM5H0lSRoUM82lkiRNxaTDMiNiZ4qhJAuBHwOfyMx7Ko5LkqTaMJdKkrqhnQeqfJSiB+5Q4ArgU5VGJElS/ZhLJUmVa6e4+6/M/GlmbsrM7wJ3VR2UJEk1Yy6VJFWuneJu+4jYDn4/rGRztSFJklQ75lJJUuUmveeOYgLyH0TE3cDOwK8jYhU+6UuSpHaZSyVJlWtnnrvXdiMQSZLqylwqSeqGdp6WuSvwduCJZdNoZp5aaVTqC+fdc17LbcfMPabn7ydJg8JcOjO3LL2x1yEAreNYdO4eXY5EkpprZ1jm2RRP+LqvXB+tLhxJkmqpo7k0IpZSDPV8CJgFHAW8HFgKbATuyMxjZ3IOSdLgaae4+3VmfqfqQCRJqrGO5dKI2AFYPHavXkQcB+wPfAA4IDM3RcTpEbF/Zq7qxDklSYOhneLutoh4P3A9kBRDSa6uNixJkmqlk7n0t8BdEbELcC/wDOA7wA2Zuanc5xLgYGCL4i4ilgBLABYsWDDN00uS+lU7xd1zKZLHduX6ZsDiTpKk9nUsl2ZmRsRFwNHAuvJ9ZgHrG3ZbD+zY5NhlwDKAkZGRnM75JUn9q53ibkNmHl95JBoorR6O4oNRJKmpjuXSiNgbeGNmnlCuHwzsBcxt2G0eReEnSRoi7Uxivikinlx5JJIk1Vcnc+kuQDSsPwAsBPaMiDll20HAlR06nyRpQLTTc7c78OWIGHuylxOuSpI0NZ3MpSuBV0bEF4BNFNMrfADYG1geERuAteV+kqQh0s4k5m/pRiCSJNVVJ3NpZibwkSabVpcvSdKQamcS872BdwHblE2jmXlUpVFJklQj5lJJUje0MyzzSIqx/ecBr6EY/qEpaPXwEUnS0DCXSpIq184DVR6kuML408z8JMWN3JIkqX3mUklS5dop7h4Abo2ID0XE7sDOFcckSVLdmEslSZVrp7g7E/gUxYSr7wVOrzQiSZLqx1wqSapcO8Xdrpn5CLAMuIFiaIkkSWqfuVSSVLl2HqhyBPBhiscu/xQ4A/hfVQalweXDYySpKXNpjd2y9MaW2xadu0cXI5E07NrpudsmInYEHsnMFcBvKo5JkqS6MZdKkirXTs/dDcDngD8v1x+uLBpJkurJXCpJqtykPXeZeX5m/nFm/qZc/2DlUUmSVCPmUklSN7QzLFOSJEmS1Ocs7iRJkiSpBloWdxHx5+XXA7sXjiRJ9WEulSR100QPVHlTRGwCDouIJzW0j2bmVyqOS5KkOjCXSpK6ZqJhme8DHgFmAbPHvSRJ0uTMpZKkrmnZc5eZvwB+ERF3ZuaVXYxJkqRaMJeqFSc+l1SFdua5uykivgA8BbgDOGHsUc6SJKkt5lJJUuXaKe7OBk7PzJsj4jnAx4F3VRuWJEm1Yi6VJFWunakQ7s/MmwEy82fAg9WGJElS7ZhLJUmVa6e4mztuffsqApEkqcbMpZKkyrUzLHN5RHwTWAPsC5xfbUiSJNWOuXRITfTgFEnqtEmLu8z83xHxPeDZwN9m5r2VRyVJUo2YSyVJ3dBOzx2ZeQ/wfyqORZKk2jKXSpKq1s49d5IkSZKkPjdpcRcRB3YjEEmS6qrTuTQinhUR/1i+LoiIp0bE4RFxWUR8PSL+spPnkyQNhnaGZb4DuGyqbxwRWwNfAO7LzCMjYjGwFNgI3JGZx071PSVJGlDTyqXNREQAZwFHZub6sm1b4O3A6zMzI+LiiFiUmbd04pySpMHQTnF3d0T8G3ANsBkYzcyPt3HcicDngEPKRHQCcEBmboqI0yNi/8xcNd3AJUkaINPNpc28CLgdOKMs6laX66syM8t9LgX2AyzuJGmItFPcXQzMalgfneyAiDiM4nHPN5dNuwE3ZOamcv0S4GDgMcVdRCwBlgAsWLCgjfAkSep7U86lE1gI7AkcmJkPRsTfA7sCv2zYZz2waPyB5lhJqrdJ77nLzO8BvwNmZeaV5XpLEbEPsHNm/mtD844UiWbM+rKt2fmWZeZIZo7Mnz9/0g8gSVK/m2ouncT9FL10D5brlwEPsuVE6fOAdU3iMMdKUo2180CVU4D/BRxern9ykkPeCjwnIj4LfAx4BcUQkkmTjiRJdTSNXDqRa4EXN6y/hGL45eLyNgiAA4GrZnAOSdIAamdY5vaZuTQizizXZ0+0c2YeN7YcEQsp7r07H1gVEXPKoZkHAVdOL2RJkgbOlHLpRDLzrohYGRErKB5Sdltmfi0i5gArImIz8KPMvKkDcUuSBkg7xd288uvYTdpNh1O2MApszszRiDgNWB4RG4C1wMopvI8kSYNsJrn0MTLzAuCCcW0rgBUzeV9J0mBrp7j7x4j4FvCUiHgR0PZQksy8HXhPubya4olekiQNm2nnUkmS2jVpcZeZVwKviYj5wN0Nj1mWJEltMJdKkrqhnQeqvCAiLqV4jPOXIuLZ1YclSVJ9mEslSd3QzrDMU4AjM/NXEbEz8HfAYZVGJUlSvZyCuVSSVLFJe+6AmzPzVwDl1zuqDUmSpNoxl0qSKtdOcfe7iHhhRMyKiD/E+ekkSZoqc6kkqXIth2VGxOXl9gBeQ/H45qCYU+fjXYlOkqQBZi6VJHVTy+IuMw/oZiCSJNWNuVSS1E2TPlAlInYF3g48sWwazcxTK41KkqQaMZe255alN/Y6BEkaaO08LfNs4ALgvnJ9tLpwJEmqJXOpJKly7RR3v87M71QdiCRJNWYulSRVrp3i7raIeD9wPcWN4KOZeXW1YUmSVCvmUklS5dop7p4L3AtsV65vBkxI45x3z3m9DkGS1L/MpZKkyrVT3G3IzOMrj0SSpPoyl0qSKtfOJOabIuLJlUciSVJ9mUslSZVrp+dud+DLETH2ZK+HMvMNFcYkSVLdmEslSZWbtLjLzLd0IxBJkurKXCpJ6oZ2JjE/DpjV0DSamR+vLiRJkurFXCpJ6oZ2hmVeTZGQZgEv4dEnfUmSpPaYSyVJlWtnWOb3Gla/HRGfrDAeSZJqx1wqSeqGdp6W+XsRMQt4akWxSJJUe+ZSSVJV2rnn7vJyvyi//kPVQUmSVCfmUklSN7QzLPOAbgQiTdV595zXctsxc4/pYiSSNDFzqSSpG1oWdxFxOFs+2WvMaGYury4kSZLqwVwqSeqmiXruRsetJzACvAkwIamjWvXC2QMnacCZSyVJXdOyuMvML48tR8S2wKkUSWrvLsQlSdLAqzKXRsTWwBeA+zLzyIhYDCwFNgJ3ZOaxMz2HJGmwTPq0zIg4FPgc8PnM/HBmbqg8KkmSaqSiXHpi+Z6zIiKAE4CDM/MQ4P6I2L8D55AkDZCWxV1EPCsiVgDbZeZbMvPHXYxLkqSBV1UujYjDgDXAzWXTbsANmbmpXL8E2K/JcUsiYk1ErFm7dm0nQpEk9ZGJ7rn7MfAt4MUR8aKyLYDNmXlU5ZFJkjT4Op5LI2IfYOfM/FJELCybdwTWN+y2vmzbQmYuA5YBjIyM5HTOL0nqXxMVd3vQvGdv/M3hkiSpuSpy6VuBHSLis8C2wAuBnwBzG/aZB6ybwTkkSQNoogeq3N7NQCRJqpsqcmlmHje2XPbcnQicD6yKiDnl0MyDgCs7fW5JUn+bdBJzSZLUt0YphniORsRpwPKI2ACsBVb2NjRJUrdZ3EmSNKDKnsH3lMurgdW9jUhVu2XpjU3bF527R5cjkdSPJp0KQZIkSZLU/yzuJEmSJKkGLO4kSZIkqQYs7iRJkiSpBizuJEmSJKkGfFqmJElSH2n1RExJmozFnfraefec19Hjjpl7zEzCkSRJkvqWwzIlSZIkqQYq67mLiL8HHgHmAd/IzC9GxGJgKbARuCMzj63q/JIkSZI0TCor7jLzKICICOCqiFgOnAAckJmbIuL0iNg/M1dVFYMkSZIkDYtuDMucA6wHdgNuyMxNZfslwH5dOL8kSZIk1V43HqhyOnA2sCNFkTdmfdm2hYhYAiwBWLBgQRfC0zCZ6AEtPmxFkiRJg6zS4i4ilgLXZebVEfEcYG7D5nnAuvHHZOYyYBnAyMhIVhmfJElSHUw0fcKic/foYiSSeqmyYZkRcTSwMTOXl023AntGxJxy/SDgyqrOL0mSJEnDpJKeu4h4OXA8cHlEfLZsPgk4DVgeERuAtcDKKs4vSZIkScOmkuIuM78PNLthbnX5kiRJkiR1kJOYS5IkSVINWNxJkiRJUg1Y3EmSJElSDVjcSZIkSVINdGMS81qZaBJsSZIkSeoVe+4kSZIkqQYs7iRJkiSpBhyWKUmSVGO3LL2xafuic/fociSSqmZxJ0nSgImIvwceAeYB38jML0bEYmApsBG4IzOP7WWMkqTus7iTJGnAZOZRABERwFURsRw4ATggMzdFxOkRsX9mruppoJKkrvKeO0mSBtccYD2wG3BDZm4q2y8B9hu/c0QsiYg1EbFm7dq13YtSktQV9txJk5ho+otj5h7TxUgk6TFOB84GdqQo8sasL9u2kJnLgGUAIyMj2Y0AJUndY8+dJEkDKCKWAtdl5tXAOmBuw+Z5ZZskaYhY3EmSNGAi4mhgY2YuL5tuBfaMiDnl+kHAlT0JTpLUMw7LlCRpgETEy4Hjgcsj4rNl80nAacDyiNgArAVW9ihESVKPWNxJkjRAMvP7wIImm1aXL0nSkHJYpiRJkiTVgD13kiSpa25ZemOvQ5Ck2rLnTpIkSZJqwJ47qSKt5sdzbjxJkiRVwZ47SZIkSaoBiztJkiRJqgGHZUqSJGnGJnpYzqJz9+hiJNLwsriTJEkaQtMtxnziqdS/LO6kUqsHoHT6GEmSJKkK3nMnSZIkSTVgz10T9sZIkiRJGjQWd5IkSdqC99VJg8niTpIkdZzFgSR1n/fcSZIkSVINWNxJkiRJUg04LFMacBM9AOiYucd0MRJJkiT1kj13kiRJklQD9txJA8IpOiRJddTq4TuLzt2jK+ep4lxSr9hzJ0mSJEk1YM+dJEmSKtXpqTG61dsnDRqLO6mPOPSy4ENiJEn9wKGcGjQOy5QkSZKkGhjanjt7SDQMOv1zPp1es07H0Or97NGTpHrp9FDObplu3K16Ajv9fp1m72Z/sedOkiRJkmqg6z13EXE4cCgwClyTmWdXeT576NRvBvlnsp9jn+59etP5TK3er9P3Ck7n/ab7b2TPZz10O8cOas+K6qubP5PdekhMN/mgmsHX1eIuIrYF3g68PjMzIi6OiEWZeUs345AkqW7MsdL09UNh1Wmd/Ez9UDT3+7yH/TI8tdvDMl8OrMrMLNcvBfbrcgySJNWROVaShlw8mgO6cLKIw4A5mXlRuf4/gZdk5pkN+ywBlpSrzwF+1rUAp2cn4O5eBzGJQYgRBiNOY+yMQYgRBiPOfonxGZk5v9dBDLNp5th19MfPzyDql/97g8rv3/T5vZu+Qf3etZ1ju33P3TrgeQ3r88q238vMZcCybgY1ExGxJjNHeh3HRAYhRhiMOI2xMwYhRhiMOAchRnXNlHOsPz/T5/duZvz+TZ/fu+kbhu9dt4dl/hBYHBFRrh8IXNXlGCRJqiNzrCQNua723GXmvRFxMbAiIjYDP8rMm7oZgyRJdWSOlSR1fSqEzFwBrOj2eSs0CENIByFGGIw4jbEzBiFGGIw4ByFGdck0cqw/P9Pn925m/P5Nn9+76av9966rD1SRJEmSJFWj2/fcSZIkSZIqYHEnSZIkSTXQ9XvuBlFEzAI+Cuybma8r2xYDS4GNwB2ZeexE7V2I8e+BRygeff2NzPxiH8b4GWA2sA1wc2ae0m8xlufeGvgCcF9mHtlvMUbEdRRPxQPYDLw/M7MP43wW8JFydRQ4mWJC5UPL9Wsy8+xy38ObtVcc3+7ABxuaXgYcASzqlxgbYl0K7As8BMwCjqKYsLpv/r01WHr58zxIBiG39rN+z6f9rN9zaD8b+pyZmb4meQEHAS8BrijXA/gWxWSxAKcD+7dq73KsAXy3n2Msz/t5igl0+y5G4BTgtcCF/fh9HPs5bPLv3jdxluf9KjCvoW1b4Js8eq/vxRSFVNP2Lv88zgL+tR9jBHag+KNybP248ndS3/x7+xqsVz/8nxu016Dk1n579Xs+7dfXoOXQfnqZM9Nhme3IzEsz84cNTbsBN2TmpnL9EoqrKa3au2kOsL6fY4yIucB8iv+AfRVjRBwGrAFuLpv68fs4KyLOjIjlEfGmPo3zRcDtwBllnO+muGq2KsvfoMClZSyt2rvpLeV5+zHG3wJ3RcQuEfEE4BnAr+ivf28Nln74Pzdo+j639psByaf9atByaD8Z+pzpsMzp2ZHil/yY9WVbq/ZuOh04e4JYehZjRDwbOJVHu8Zn9VOMEbEPsHNmfikiFpbNffd9zMz9ACJiNvDViPhpH8a5ENgTODAzHyyHNu0K/HJcLIuADU1iXNSFGBu9Ezi4fDWLpWcxZmZGxEXA0cA64Gr67P+OBk6zn5Nu/58bNH2bW/vRoOTTPraQwcqhfcOcaXE3XeuAuQ3r88q2Vu1dUY4xvi4zr46I5/RbjJl5K3B4OQZ/BXB+n8X4VmCHiPgsxTCHFwI/6bMYfy8zH46IVcDzgBtbxNOrOO+nuJL4YLl+GbD3BDE+rwcxAhARrwF+UCbQVrH0LMaI2Bt4Y2aeUK4fDOxFf/17a7D09P/coOn33NqnBiqf9qGByaH9xpzp0zKn61Zgz4iYU64fBFw5QXvlIuJoYGNmLu/XGMdk5maKqyi39VOMmXlcZh6Zme+huIn5aooCtG9ibOJlwI8miKdXcV4LvLhh/SXALcDiiIiy7UDgKoqHwzRr75b3AZ8pl1vF0ssYd6G4L2DMA5RXdfvo31uDpdf/5wbGIOXWfjKg+bSfDFIO7TdDnzPtuZuahwEyczQiTgOWR8QGYC2wsuwKfkx71UFFxMuB44HLy6tkACcB/RTjC4FjKYYPbAf8S2b+op++j+OMApv77d8aICI+T/HL6knAJZl5W9neN3Fm5l0RsTIiVlA8geq2zPxa+Qt0RURsBn6UmTeVsV/crL1qEfF84M7MvLuM+95WsfQqRop/r1dGxBeATcATgQ9QXMXti39vDZaJfs71qEHIrQOib/NpvxqUHNqnhj5njj1ZR5IkSZI0wByWKUmSJEk1YHEnSZIkSTVgcSdJkiRJNWBxJ0mSJEk1YHEnSZIkSTVgcadaiYjLK3zvf21Y/rcZvM+LIuLSiHhLZyKb0rmnHbckabiZYyc9tzlWPec8d6qbx1X43o9vWJ49g/d5LXBOZvZiktGZxC1JGm7m2ImZY9VzFneqtYiYDZxLMYnqXODMzLwxIr4K3E7xi/ipwHGZeWtE7A2cCPySItE8F3g9cBawW0SclZnHAztExPkUk4k/EzgyM9eNO/cRwKuB+4BZFJO47w/8MfD8iKAx+UTER4EdgIfL880B3kuRTLcBPpaZt0fESuD6MvYN5f7bA08G3pOZ90XEGoqJODcCC4C/yMz7Gs71dIqJeO+lmODzQ+XXc4DfUEyY+snpfM8lScPBHGuOVR/KTF++avMCrhi3fhTw1nJ5e+Cfy+XVwDPL5ZcCf1Mufw14crn8TOBnzd4b+A9gTrl8OEXiaTzvHsDyhvX9KRIHwCnAHzSJ/dvAkxrWn0iRBD8FrACWlu0/Bh5fLn8ZeFO5/C7gsHL5TmDrcvmNDcdeUX79EvC0cvl1FInn9zH68uXLly9f41/mWHOsr/5/2XOnutsLmBURLyjXx66sjWbmz8vlX1FccQTYNjN/A5CZP4+ILa4UNlifmZvK5TuBVzQ575UN61cBx0wS6xLgpIj4HcVVxTOAqzPz9Ih4IzD2GdZm5oPl8gaKRDT22XYol/8rMzeXy7dSDFNp9CzgfREBxdXTOzNzVURsGxGfBr6emVdMEq8kabiZY82x6jMWd6q7W4CfZ+Ylbe5/T0Q8NTP/OyKeDezUsC0mOG78tusprgguK9dfSXElsqXMvBU4LiL+CvgjYBHwkXLza4BWSTCbtO0REU/IzAeAF/NochrzS+DczPz1uBi+FhGXAN8BTDySpImYY82x6jMWd6qb3SPiwnL5euAfgE9HxBso7gn4emb+O/BQwzGj5QvgOOCsiLgX2Azc3bDfbyPiPOBsijH4zY4HIDNviojvRMQXKa78BcWwjKb7R8Qs4KJy352AC4G/Ay6MiHuA9TyaYFqdu3H5duBj5VXDHSiGzjQeeyJwfkSsp3hq7mnAQophJ6MUiUeSpEbm2II5Vn0rMptdkJAUEfsBb87MD/Q6lqmKiCsyc3Gv45AkqRlzrFQNe+6kBhHxKuBQiqtv2wB/2duIpu3hyXeRJKl7zLFS9ey5kyRJkqQa2KrXAUiSJEmSZs7iTpIkSZJqwOJOkiRJkmrA4k6SJEmSasDiTpIkSZJq4P8Hj18M+NsE+DYAAAAASUVORK5CYII=\n",
      "text/plain": [
       "<Figure size 1080x720 with 4 Axes>"
      ]
     },
     "metadata": {
      "needs_background": "light"
     },
     "output_type": "display_data"
    }
   ],
   "source": [
    "# 서브플롯 생성하기\n",
    "fig, axes = plt.subplots(nrows=2, ncols=2, figsize=(15, 10))\n",
    "\n",
    "# 샘플 길이의 히스토그램 그리기\n",
    "\n",
    "# 협박 대화\n",
    "axes[0][0].hist([len(s) for s in train_data['conversation'][train_data['class']=='협박 대화']],\n",
    "                bins=50, color='skyblue')\n",
    "axes[0][0].set_xlabel('Length of samples')\n",
    "axes[0][0].set_ylabel('Number of samples')\n",
    "axes[0][0].set_title('협박 대화')\n",
    "\n",
    "# 갈취 대화\n",
    "axes[0][1].hist([len(s) for s in train_data['conversation'][train_data['class']=='갈취 대화']],\n",
    "                bins=50, color='salmon')\n",
    "axes[0][1].set_xlabel('Length of samples')\n",
    "axes[0][1].set_ylabel('Number of samples')\n",
    "axes[0][1].set_title('갈취 대화')\n",
    "\n",
    "# 직장 내 괴롭힘 대화\n",
    "axes[1][0].hist([len(s) for s in train_data['conversation'][train_data['class']=='직장 내 괴롭힘 대화']],\n",
    "                bins=50, color='lightgreen')\n",
    "axes[1][0].set_xlabel('Length of samples')\n",
    "axes[1][0].set_ylabel('Number of samples')\n",
    "axes[1][0].set_title('직장 내 괴롭힘 대화')\n",
    "\n",
    "# 기타 괴롭힘 대화\n",
    "axes[1][1].hist([len(s) for s in train_data['conversation'][train_data['class']=='기타 괴롭힘 대화']],\n",
    "                bins=50, color='orchid')\n",
    "axes[1][1].set_xlabel('Length of samples')\n",
    "axes[1][1].set_ylabel('Number of samples')\n",
    "axes[1][1].set_title('기타 괴롭힘 대화')\n",
    "\n",
    "plt.subplots_adjust(wspace=0.3, hspace=0.5)\n",
    "plt.show()"
   ]
  },
  {
   "cell_type": "markdown",
<<<<<<< HEAD
   "id": "de4f1f98",
=======
   "id": "c8fc9357",
>>>>>>> 5e39140e2cb83cd422df11d7435d75beb7c529df
   "metadata": {
    "id": "1e11f330"
   },
   "source": [
    "#### 화자 별 특징 분석"
   ]
  },
  {
   "cell_type": "code",
   "execution_count": 12,
<<<<<<< HEAD
   "id": "68252931",
=======
   "id": "81d16990",
>>>>>>> 5e39140e2cb83cd422df11d7435d75beb7c529df
   "metadata": {
    "id": "32O8COJDAIPQ"
   },
   "outputs": [],
   "source": [
    "# A와 B의 대화를 담을 리스트 초기화하기\n",
    "A_conversations = []\n",
    "B_conversations = []"
   ]
  },
  {
   "cell_type": "code",
   "execution_count": 13,
<<<<<<< HEAD
   "id": "14c5e1bb",
=======
   "id": "5be43963",
>>>>>>> 5e39140e2cb83cd422df11d7435d75beb7c529df
   "metadata": {
    "id": "v6Lrkm1vCNYq"
   },
   "outputs": [],
   "source": [
    "# 대화 열을 반복하면서 각 대화를 분할하기\n",
    "for conversation in train_data['conversation']:\n",
    "    try:\n",
    "        lines = conversation.split('\\n')\n",
    "        # 홀수 줄은 A, 짝수 줄은 B에 추가하기\n",
    "        A_conv = '\\n'.join([line for idx, line in enumerate(lines) if idx % 2 == 0])\n",
    "        B_conv = '\\n'.join([line for idx, line in enumerate(lines) if idx % 2 == 1])\n",
    "        A_conversations.append(A_conv)\n",
    "        B_conversations.append(B_conv)\n",
    "    except ValueError:\n",
    "        # 대화가 정확히 두 부분으로 나뉘지 않는 경우 처리하기\n",
    "        A_conversations.append(conversation)\n",
    "        B_conversations.append('')"
   ]
  },
  {
   "cell_type": "code",
   "execution_count": 14,
<<<<<<< HEAD
   "id": "48c5e07b",
=======
   "id": "9430acd6",
>>>>>>> 5e39140e2cb83cd422df11d7435d75beb7c529df
   "metadata": {
    "id": "DKZu5DEkCSdx"
   },
   "outputs": [],
   "source": [
    "# A와 B를 위한 새로운 데이터프레임 생성하기\n",
    "A_data = pd.DataFrame({'idx': train_data['idx'], 'class': train_data['class'], 'conversation': A_conversations})\n",
    "B_data = pd.DataFrame({'idx': train_data['idx'], 'class': train_data['class'], 'conversation': B_conversations})"
   ]
  },
  {
   "cell_type": "code",
   "execution_count": 15,
<<<<<<< HEAD
   "id": "19dd4b93",
=======
   "id": "a6bcf886",
>>>>>>> 5e39140e2cb83cd422df11d7435d75beb7c529df
   "metadata": {
    "colab": {
     "base_uri": "https://localhost:8080/"
    },
    "id": "CVyoSDyeCUMU",
    "outputId": "0ab01503-89ec-4b9e-c74c-cc7821fa31ac"
   },
   "outputs": [
    {
     "name": "stdout",
     "output_type": "stream",
     "text": [
      "A 데이터셋의 첫 5개 행:\n"
     ]
    },
    {
     "data": {
      "text/html": [
       "<div>\n",
       "<style scoped>\n",
       "    .dataframe tbody tr th:only-of-type {\n",
       "        vertical-align: middle;\n",
       "    }\n",
       "\n",
       "    .dataframe tbody tr th {\n",
       "        vertical-align: top;\n",
       "    }\n",
       "\n",
       "    .dataframe thead th {\n",
       "        text-align: right;\n",
       "    }\n",
       "</style>\n",
       "<table border=\"1\" class=\"dataframe\">\n",
       "  <thead>\n",
       "    <tr style=\"text-align: right;\">\n",
       "      <th></th>\n",
       "      <th>idx</th>\n",
       "      <th>class</th>\n",
       "      <th>conversation</th>\n",
       "    </tr>\n",
       "  </thead>\n",
       "  <tbody>\n",
       "    <tr>\n",
       "      <th>0</th>\n",
       "      <td>0</td>\n",
       "      <td>일반 대화</td>\n",
       "      <td>학교 점심 뭐 나와?\\n학원 다녀?\\n친구들이랑 잘 지내?\\n교복은 어때?\\n교복은...</td>\n",
       "    </tr>\n",
       "    <tr>\n",
       "      <th>1</th>\n",
       "      <td>1</td>\n",
       "      <td>기타 괴롭힘 대화</td>\n",
       "      <td>어이 거기 뒤뚱거리는 놈 \\n그래 너 여기 뒤뚱거리는 놈이 너밖에 더 있냐?\\n네 ...</td>\n",
       "    </tr>\n",
       "    <tr>\n",
       "      <th>2</th>\n",
       "      <td>2</td>\n",
       "      <td>협박 대화</td>\n",
       "      <td>너 그따위로 운전하면 확 갈아마셔버린다.\\n 나와 이 자식아. 미안하단 말도 없는 ...</td>\n",
       "    </tr>\n",
       "    <tr>\n",
       "      <th>3</th>\n",
       "      <td>3</td>\n",
       "      <td>직장 내 괴롭힘 대화</td>\n",
       "      <td>길동씨 이번에 이것좀 처리해요\\n팀에서 내가 니가가 어딨어?\\n이번 인사고과기간인거...</td>\n",
       "    </tr>\n",
       "    <tr>\n",
       "      <th>4</th>\n",
       "      <td>4</td>\n",
       "      <td>일반 대화</td>\n",
       "      <td>비가 많이 오네.\\n날씨가 추워졌어.\\n바람이 많이 불어.\\n날씨가 추워졌어.\\n날...</td>\n",
       "    </tr>\n",
       "  </tbody>\n",
       "</table>\n",
       "</div>"
      ],
      "text/plain": [
       "   idx        class                                       conversation\n",
       "0    0        일반 대화  학교 점심 뭐 나와?\\n학원 다녀?\\n친구들이랑 잘 지내?\\n교복은 어때?\\n교복은...\n",
       "1    1    기타 괴롭힘 대화  어이 거기 뒤뚱거리는 놈 \\n그래 너 여기 뒤뚱거리는 놈이 너밖에 더 있냐?\\n네 ...\n",
       "2    2        협박 대화  너 그따위로 운전하면 확 갈아마셔버린다.\\n 나와 이 자식아. 미안하단 말도 없는 ...\n",
       "3    3  직장 내 괴롭힘 대화  길동씨 이번에 이것좀 처리해요\\n팀에서 내가 니가가 어딨어?\\n이번 인사고과기간인거...\n",
       "4    4        일반 대화  비가 많이 오네.\\n날씨가 추워졌어.\\n바람이 많이 불어.\\n날씨가 추워졌어.\\n날..."
      ]
     },
     "execution_count": 15,
     "metadata": {},
     "output_type": "execute_result"
    }
   ],
   "source": [
    "# A의 head() 출력하기\n",
    "print(\"A 데이터셋의 첫 5개 행:\")\n",
    "A_data.head()"
   ]
  },
  {
   "cell_type": "code",
   "execution_count": 16,
<<<<<<< HEAD
   "id": "f4731e7f",
=======
   "id": "ca67cb4f",
>>>>>>> 5e39140e2cb83cd422df11d7435d75beb7c529df
   "metadata": {
    "colab": {
     "base_uri": "https://localhost:8080/"
    },
    "id": "pd-QkkAPDnl4",
    "outputId": "dd539e0a-57f8-43e0-9de7-b03f3e2c49f5"
   },
   "outputs": [
    {
     "name": "stdout",
     "output_type": "stream",
     "text": [
      "B 데이터셋의 첫 5개 행:\n"
     ]
    },
    {
     "data": {
      "text/html": [
       "<div>\n",
       "<style scoped>\n",
       "    .dataframe tbody tr th:only-of-type {\n",
       "        vertical-align: middle;\n",
       "    }\n",
       "\n",
       "    .dataframe tbody tr th {\n",
       "        vertical-align: top;\n",
       "    }\n",
       "\n",
       "    .dataframe thead th {\n",
       "        text-align: right;\n",
       "    }\n",
       "</style>\n",
       "<table border=\"1\" class=\"dataframe\">\n",
       "  <thead>\n",
       "    <tr style=\"text-align: right;\">\n",
       "      <th></th>\n",
       "      <th>idx</th>\n",
       "      <th>class</th>\n",
       "      <th>conversation</th>\n",
       "    </tr>\n",
       "  </thead>\n",
       "  <tbody>\n",
       "    <tr>\n",
       "      <th>0</th>\n",
       "      <td>0</td>\n",
       "      <td>일반 대화</td>\n",
       "      <td>주로 한식이 나와.\\n응, 영어 학원 다녀.\\n응, 다들 친절해.\\n생각보다 편해....</td>\n",
       "    </tr>\n",
       "    <tr>\n",
       "      <th>1</th>\n",
       "      <td>1</td>\n",
       "      <td>기타 괴롭힘 대화</td>\n",
       "      <td>나?\\n놀리지마\\n그 따위로 말하지 말라고\\n나도 이름 있어\\n자꾸 그렇게 대꾸하지마</td>\n",
       "    </tr>\n",
       "    <tr>\n",
       "      <th>2</th>\n",
       "      <td>2</td>\n",
       "      <td>협박 대화</td>\n",
       "      <td>뭐라구?\\n 이 새끼가 어디서.\\n 이런 쓰레기를 봤나\\n 꺼져 새꺄\\n 보자보자...</td>\n",
       "    </tr>\n",
       "    <tr>\n",
       "      <th>3</th>\n",
       "      <td>3</td>\n",
       "      <td>직장 내 괴롭힘 대화</td>\n",
       "      <td>이거 제가 한게 아닌데요\\n그래도 이건 제가 쓴게 아닌데 \\n네? 아니 이건 제가 ...</td>\n",
       "    </tr>\n",
       "    <tr>\n",
       "      <th>4</th>\n",
       "      <td>4</td>\n",
       "      <td>일반 대화</td>\n",
       "      <td>우산 가져왔어?\\n맞아, 이제 겨울이야.\\n모자 날아갈 뻔했어.\\n맞아, 이제 겨울...</td>\n",
       "    </tr>\n",
       "  </tbody>\n",
       "</table>\n",
       "</div>"
      ],
      "text/plain": [
       "   idx        class                                       conversation\n",
       "0    0        일반 대화  주로 한식이 나와.\\n응, 영어 학원 다녀.\\n응, 다들 친절해.\\n생각보다 편해....\n",
       "1    1    기타 괴롭힘 대화    나?\\n놀리지마\\n그 따위로 말하지 말라고\\n나도 이름 있어\\n자꾸 그렇게 대꾸하지마\n",
       "2    2        협박 대화   뭐라구?\\n 이 새끼가 어디서.\\n 이런 쓰레기를 봤나\\n 꺼져 새꺄\\n 보자보자...\n",
       "3    3  직장 내 괴롭힘 대화  이거 제가 한게 아닌데요\\n그래도 이건 제가 쓴게 아닌데 \\n네? 아니 이건 제가 ...\n",
       "4    4        일반 대화  우산 가져왔어?\\n맞아, 이제 겨울이야.\\n모자 날아갈 뻔했어.\\n맞아, 이제 겨울..."
      ]
     },
     "execution_count": 16,
     "metadata": {},
     "output_type": "execute_result"
    }
   ],
   "source": [
    "# B의 head() 출력하기\n",
    "print(\"B 데이터셋의 첫 5개 행:\")\n",
    "B_data.head()"
   ]
  },
  {
   "cell_type": "code",
   "execution_count": 17,
<<<<<<< HEAD
   "id": "d3852a89",
=======
   "id": "2f86a125",
>>>>>>> 5e39140e2cb83cd422df11d7435d75beb7c529df
   "metadata": {},
   "outputs": [],
   "source": [
    "# Okt 토크나이저 활용하여 단어 추출\n",
    "okt=Okt()"
   ]
  },
  {
   "cell_type": "code",
   "execution_count": 18,
<<<<<<< HEAD
   "id": "e61aec15",
=======
   "id": "1b859ca5",
>>>>>>> 5e39140e2cb83cd422df11d7435d75beb7c529df
   "metadata": {},
   "outputs": [],
   "source": [
    "# 가장 많이 나오는 단어 추출하는 함수\n",
    "def get_top_words(dataframe, class_name, top_n=10):\n",
    "    # 특정 클래스의 대화만 추출하기\n",
    "    class_data = dataframe[dataframe['class'] == class_name]['conversation']\n",
    "    words = []\n",
    "\n",
    "    for conversation in class_data:\n",
    "        words.extend([word for word in okt.nouns(conversation)])\n",
    "\n",
    "    # 가장 많이 등장하는 단어 top_n 추출하기\n",
    "    counter = Counter(words)\n",
    "    common_words = counter.most_common(top_n)\n",
    "    return common_words"
   ]
  },
  {
   "cell_type": "code",
   "execution_count": 19,
<<<<<<< HEAD
   "id": "da04d90c",
=======
   "id": "1ce1c0ad",
>>>>>>> 5e39140e2cb83cd422df11d7435d75beb7c529df
   "metadata": {},
   "outputs": [],
   "source": [
    "# 가장 많이 나오는 단어 시각화하는 함수\n",
    "def plot_top_words(common_words_A, common_words_B, class_name):\n",
    "    words_A, counts_A = zip(*common_words_A)\n",
    "    words_B, counts_B = zip(*common_words_B)\n",
    "\n",
    "    fig, axes = plt.subplots(nrows=1, ncols=2, figsize=(18, 8))\n",
    "\n",
    "    axes[0].bar(words_A, counts_A, color=plt.cm.Paired.colors)\n",
    "    axes[0].set_title(f'Top {len(words_A)} Words in Class {class_name} (A)')\n",
    "    axes[0].set_xlabel('Words')\n",
    "    axes[0].set_ylabel('Counts')\n",
    "\n",
    "    axes[1].bar(words_B, counts_B, color=plt.cm.Paired.colors)\n",
    "    axes[1].set_title(f'Top {len(words_B)} Words in Class {class_name} (B)')\n",
    "    axes[1].set_xlabel('Words')\n",
    "    axes[1].set_ylabel('Counts')\n",
    "\n",
    "    plt.show()"
   ]
  },
  {
   "cell_type": "code",
   "execution_count": 20,
<<<<<<< HEAD
   "id": "4a858cc8",
=======
   "id": "f88dfe49",
>>>>>>> 5e39140e2cb83cd422df11d7435d75beb7c529df
   "metadata": {},
   "outputs": [],
   "source": [
    "# 클래스 목록 추출하기\n",
    "classes = train_data['class'].unique()"
   ]
  },
  {
   "cell_type": "code",
   "execution_count": 21,
<<<<<<< HEAD
   "id": "0f4b32a9",
=======
   "id": "b798e8f5",
>>>>>>> 5e39140e2cb83cd422df11d7435d75beb7c529df
   "metadata": {},
   "outputs": [
    {
     "name": "stdout",
     "output_type": "stream",
     "text": [
      "Class: 일반 대화\n",
      "A 데이터셋의 상위 10개 단어:\n",
      "[('뭐', 1782), ('친구', 1071), ('해', 952), ('영화', 943), ('여행', 909), ('자주', 646), ('거', 640), ('운동', 601), ('가족', 599), ('주말', 508)]\n",
      "\n",
      "B 데이터셋의 상위 10개 단어:\n",
      "[('응', 4621), ('주로', 934), ('정말', 709), ('해', 621), ('영화', 618), ('주말', 522), ('나', 413), ('친구', 369), ('다음', 340), ('집', 337)]\n"
     ]
    },
    {
     "data": {
      "image/png": "iVBORw0KGgoAAAANSUhEUgAABCcAAAHuCAYAAACs6mZ/AAAAOXRFWHRTb2Z0d2FyZQBNYXRwbG90bGliIHZlcnNpb24zLjQuMywgaHR0cHM6Ly9tYXRwbG90bGliLm9yZy/MnkTPAAAACXBIWXMAAAsTAAALEwEAmpwYAAA2eElEQVR4nO3de7hkV1kn4N+XdMIdTbBFbiEqomAUlQYvwwAR4oCAQUC8oNwkEVEcrgOoKBoEREXAETBh5K4MCCRcNaABBIWhAQfkOkGDgKJNYtAkGNPJN3/sfZLKyenu00nXWX1Ov+/znKer1t5V9dXpU1Wrfnuttau7AwAAADDKYaMLAAAAAA5twgkAAABgKOEEAAAAMJRwAgAAABhKOAEAAAAMJZwAAAAAhhJOwCGmql5cVXda5763r6pHLaGGX66qnzzQ9zvf92FV9ZtVtbOqPjRfPnxh+86Fyw+uql9YuH7Dqvrz+fKdquq5e3mc51bVX1fV++afn6iq61bVmfP2M6vqugv7P25h3zcstN+3qn55H8/pq6rqlHU+/wdV1R3Xsy8AjKI/sjX7I1V1ZFX91t72gT0RTrBlVdVvV9U75zff8+fL76yqHzyAj3HdqnppVb19jW0/WlUfnB//zKq65Rr7/EhV/faqtu+rqour6tar2v+4qr7lAJS9bf7Zp+7+YHe/4Oo8SFVtr6rfm38H750/OJ++vzVcDY9K0knukOT2SS5O8osL26+9cPmwXPl98LAkKx2HfdV4QpLv6+7vmX/+aL79kfP2I5McVlVfU1V/neSBC7e9yfx38dh1PE6SnJLkhYsNVfVtVXVBVd1/1b5/lOSxix0gAMbRH9kj/ZErbLr+SFW9Y77tWfO/T02S7v7PJO9ZVujD1rasFyMM191PSJKqOjbJS7v7rkt4mD/O9GXwZxcb58d8SpK7dPeXq+oHkvxhkrutuv2fJvm1JE9YaPuRed/7JXnWfH/XSnKr7v7kEp7DAVdVX5fkzCTP6O5Hb/DDn5Dk8d3dcy3PSfIXmT5Q1/IzVXWP+fL+vCf2ymPsY6cvJfneqrp2knsk+aokf9Xd/2+u7wF7u/38t3Sd7v7HVZuekORhSR6T5HWLRVXV25L8eJJXrvvZALAU+iPj6I9caacD3R/ZluTHuvuc+YDIu6vqDd39t0nelOQtVfWq9dQGK4yc4JBTVTeoqhdV1XvmtPePqurG87YHVdXvV9Vb53T9PVX1XXu5u/smef8a7fdP8pLu/nKSdPeZSY6qqu2LO3X3vyf5u6o6bqH5e5L8UpJ7LbTdPcnb5xpvXFWvrqp3V9W7quoFVXWDedtPVtUzq+ptVfW6ue3BVfU383N5TZKjF34Xp8xp959X1S+t8bu6U1W9eL5816p6WVX92fzY79/L7+apSZ7X3a/e0y9u4THuX1V/Mf9f/HVV3W1uv838OGfN6fzN12pb4y6/mOQbFq5/c5K/30sJf9Dd9+jueyRZ/cH8gPn3c+K+nsc+nuMNM3WOjkryT0l+vaoevM6bPyDJGavu7+ZJbtzdr01yblXdYdVtzshVnwsABxH9Ef2RVTZdf2TBTZJcP8mXkqS7L0vysSR7+5uFqzBygkPR7yb5ZHc/Mkmq6n6ZjjCfkOSITB/Cd+juXfOXvpckud1adzQfpV5r09cneduqtr9Lcssku1a1vyHJiUn+tqp2JPlgd59XVRdV1U3nhPq+Sf5g3v9VSV7U3X8y1/+4JM9JclKm1/SJSb53PkJyi0wdizvNz+c2ST6Y5DlzB+IB3X2bvfyuVg/xu1uS23X3uTXNE312po7KanfJdARmPf60u1c6LjdL8vok353kEUlesNihqKrfWd22hmcneW1dMQz1EUn2NrRw9TDKRX/S3T+/vqdxue+qqvclue1C2/FJ/qK7X5IkVfXuJH+e5OUrNdZ0tORJ3f2uVfe3I8krVrX99yTPny8/N8ljk/zEysb5//6r97NuADaW/oj+yKLN2B959fz/d4skD+nuLy5s+0CmKS0f3M+6OYQZOcGh6G5JfmflSne/PsnNqur6c9Pru3vXvO0DSXZX1VH7+Rh7GsJ22RptZ+SKoxL3zxVD9E9Pct+qOizJd3T3zrnGr1vpCMyem6kjs+LtK0dIMs1xfMvC8/lE5iMe81GSl1TVs6vqG9f5vN7d3efOl9+XKx8RWG29w/i+YT4C8p5MHZ2vndtfmOQe89GjbXtpu/KDdn8myQ8kuXD+OWEeYrjiQwuXP5nkgfNRnPckeXOS1R/G++tD3f09qx7nU0nuVlU3mq//eJKPLGx/8TxPdK3HPjrJeStX5qMed8rc2ezudya51dyRAmDz0B+J/shs0/VHZj/W3d+a5NuTPKGqFsOzf83C6BhYDyMnOBSt9SHVC+1HrNp2ZKZFjPbHPyS51aq2b0zyuas8cPeXalpw6iZJ7pxkZaXk05O8NNOHxl+tqnW1xU7Gv65qX30o5fLn193PrqqvSvK0qvr77n5+9u4/F267e+6orOU9meYzrk7Yr6Sqjsx0pOZhSd6b5HpJPjrf/9lJHlpV/zXJ26rqx/fQ9qU17vr8+T4PS/LTC0eTDk9yzsJzeF9V3SXTEZtX7a3WNRxW09zbw5LcMMmtMw2RvIru/mRNq1v/UVXdKlOn5/HrfJzzMn24//N8/eT5+lkLz+uGSX4+07xiADYH/ZErHlt/ZPP1Rxbv95yq+t+Zwqn/OzevFWbAXhk5waHoHUmeuHKlpgWA/qG7L5ybfrjmuZhVdeck53X3Rfv5GK9J8vD5gzY1LUB17soRgzWcnmm448e7+9Ik6e5/yrSS88MyDS1Md1+Q5J+qanGl5ccl+bM93O9fJzlh4fnsSHLX+XLN9/nlJM9L8pD9fI57c0qS/1FVP7yP/W6QqYPx3nl+4iOS7J7rO2yu7y+TfCHTIk5XaVvrTrt7d3ffubvvtPiTacTBcat2v0GmIair7U5yyV5qf12meZtnJPn9JPfMlVfeXl3TmZk6AB/INNTzlvPv53p7eYxkGg55xySpqiOSPCjJd3b3XVd+knxnpr/b68z7HZWpQwTAwUt/JPojq2rYFP2R1eb+x71y5VEad0yyc639YU+MnOBQcGnmD5jZ45I8e55nd2mSf0yyuBjQG5P84Txn/+IkD9/P+093f7aqfi3JW6vq0iT/luShe7mPNyT5TJJ7r2p/Y6aVsxc/rB6U5HlV9XPz9Y/litW1dy/WMs/r/B9J3lxVuzOl9G+Y97l1Vf1Jki9n+hBba07m4v1d6b5nax7B6e4vzB2gX63pnNlfyXSE5a3d/cyV+5rnir46yfuq6j+SvDXTAlKZn+N3Zzrack6mOZFrta2pqj6R5NxVzT0//33q7vdkOuKyp+1PXeMxr79G212SPH1V88szdWY+k+n3vzd/kuno1Zsynf7rras7p939lfn3+KAkL840J/j1+7hfADaW/oj+yOWlZXP3R5Lp7+3VVXVRplEwL+vuv5gf67BM4Yv1Jtgv1c7uAperqocmOba7nza4FK6hqvp4d992HftdO9MczLWGQHaS++xhqOZa93XdJKd39w9U1ZlJ7ruvo1xVdd8kx3X36g7D4j7/M8kzu/sL66jhsCT/O8mPd/fqzhsAm4D+yNZxKPZHqur+Sa7b3XudTgOrCSdgQVX9VJJjuvs3RtfCNVNVr8i0SvlqneQeC8NmD3o1LYL5hO7+lXXs++BMq7//n+VXBsAy6I9sHYdaf2Rev+NZ3f24jauMrUI4AQAAAAxlQUwAAABgKOEEAAAAMJRwAgAAABhqy51K9Gu+5mv62GOPHV0GABxUPvjBD36pu7ePruNQoC8CAGvbW39ky4UTxx57bHbu3Dm6DAA4qFTVZ0fXcKjQFwGAte2tP2JaBwAAADCUcAIAAAAYSjgBAAAADCWcAAAAAIYSTgAAAABDCScAAACAoYQTAAAAwFDCCQAAAGAo4QQAAAAwlHACAAAAGEo4AQAAAAwlnAAAAACGEk4AAAAAQwknAAAAgKGEEwAAAMBQwgkAAABgKOEEAAAAMJRwAgAAABhKOAEAAAAMtW10AQe7P/7w50eXkCT58e+8+egSAIBB9EcA2OqMnAAAAACGEk4AAAAAQwknAAAAgKGWtuZEVR2e5NeT3L6771FV25OcsrDLcUme392vqap3JDl7YduTu/v8qrpdkmckuSDJRUlO7u5LllUzAAAAsPGWuSDmvZO8Mcl3J0l370ryyJWNVfW6JG9eud7dj1x9B5mCiZ/q7vOq6hFJHprktCXWDAAAAGywpU3r6O4zuvv9a22rqjsm+UR3XzQ3XVBVp1TVK6rqpHmfayfZ3d3nzfucnuT4ZdULAAAAjDHqVKKPSfK4lSvdfd8kqapK8sKq+kySTyY5f+E25yU5eq07q6qTk5ycJMccc8wy6gUAAACWZMMXxKyqb0pyYXd/cfW27u4kb0ry7UnOTXLUwuajMwUUV9Hdp3b3ju7esX379iVUDQAAACzLiLN1PD7Jc/ey/c5JPtDdFyc5oqpWAooTk7xrybUBAAAAG2wjpnVcfnaNqvraJNu7+2OLO1TV7yS5fpJrJ3l/d7933vSkJKdV1b8l2Z3k0RtQLwAAALCBlh5OdPc9Fy7/S5L7r7HP4/dw248kecDyqgMAAABGGzGtAwAAAOBywgkAAABgKOEEAAAAMJRwAgAAABhKOAEAAAAMJZwAAAAAhhJOAAAAAEMJJwAAAIChhBMAAADAUMIJAAAAYCjhBAAAADCUcAIAAAAYSjgBAAAADCWcAAAAAIYSTgAAAABDCScAAACAoYQTAAAAwFDCCQAAAGAo4QQAAAAwlHACAAAAGEo4AQAAAAwlnAAAAACGEk4AAAAAQwknAAAAgKGEEwAAAMBQwgkAAABgKOEEAAAAMJRwAgAAABhKOAEAAAAMJZwAAAAAhhJOAAAAAEMJJwAAAIChhBMAAADAUMIJAAAAYCjhBAAAADCUcAIAAAAYSjgBAAAADCWcAAAAAIYSTgAAAABDCScAAACAobaNLgAAYJmqaluSlyf59+7+maq6e5LHJrkwyee7+3HzfvvVDgAcOEZOAABb3S8neWmSw6uqkjwlyf26+4FJLqqqE/a3fczTAICtSzgBAGxZVfUTSXYm+fTcdOskH+/ui+frpyc5/mq0AwAHkHACANiSquo7k3xdd795oflGSc5buH7e3La/7QDAAWTNCQBgq/qxJF9dVS9KcoMk35Xko0mOWtjn6CTnzj/7034lVXVykpOT5JhjjjlwzwAADhHCCQBgS+ruJ61crqpjM6098T+TvL2qrjVP1TgxybuSnJ3kuP1oX/1YpyY5NUl27NjRS31iALAFCScAgEPBpUl2d/elVXVKkldV1QVJdiU5s7t7f9pHPQkA2KqEEwDAltfdn0vyyPnyWUnOWmOf/WoHAA4cC2ICAAAAQwknAAAAgKGWNq2jqg5P8utJbt/d95jb3pFpYakVT+7u86vqdkmekeSCJBclObm7L9lT+7JqBgAAADbeMtecuHeSNyb57sXG7n7kGvs+I8lPdfd5VfWIJA9Nctpe2gEAAIAtYmnTOrr7jO5+/6rmC6rqlKp6RVWdlCRVde1Mq2efN+9zepLj99S+rHoBAACAMTb0bB3dfd8kqapK8sKq+kySTyY5f2G385IcPf+s1X4VVXVykpOT5JhjjjnAVQMAAADLNGRBzO7uJG9K8u1Jzk1y1MLmozMFEXtqX+v+Tu3uHd29Y/v27cspGgAAAFiKkWfruHOSD3T3xUmOqKqVIOLEJO/aU/uAOgEAAIAl2ohpHZefXaOqfifJ9ZNcO8n7u/u986YnJTmtqv4tye4kj95HOwAAALBFLD2c6O57Llx+/B72+UiSB6y3HQAAANg6Rk7rAAAAABBOAAAAAGMJJwAAAIChhBMAAADAUMIJAAAAYCjhBAAAADCUcAIAAAAYSjgBAAAADCWcAAAAAIYSTgAAAABDCScAAACAoYQTAAAAwFDCCQAAAGAo4QQAAAAwlHACAAAAGEo4AQAAAAwlnAAAAACGEk4AAAAAQwknAAAAgKGEEwAAAMBQwgkAAABgKOEEAAAAMJRwAgAAABhKOAEAAAAMJZwAAAAAhhJOAAAAAEMJJwAAAIChhBMAAADAUMIJAAAAYCjhBAAAADCUcAIAAAAYSjgBAAAADCWcAAAAAIYSTgAAAABDCScAAACAoYQTAAAAwFDCCQAAAGAo4QQAAAAwlHACAAAAGEo4AQAAAAwlnAAAAACGEk4AAAAAQwknAAAAgKGEEwAAAMBQwgkAAABgKOEEAAAAMJRwAgAAABhKOAEAAAAMJZwAAAAAhhJOAAAAAENtW9YdV9XhSX49ye27+x5z29OTHJ3kekk+2t2/Pbf/ryRHJrlwvvlvdfdnquqYJL+X5KK51pO6+/xl1QwAAABsvKWFE0nuneSNSb57paG7f3nlclX9WVW9sLsvTHJ4kqd09+dX3ccpSZ7Y3Z+uqrsneWKSX1pizQAAAMAGW1o40d1nJElVXWVbTY2XJfnK3HRhksdU1dck+WSSZ3f3ZUlu0t2fnvf580zhBAAAALCFjFpz4r8neckcQKS7f667n9DdD51reui83+XJRnd3rJEBAAAAW86Gf9mvqgcmObK7X7OHXc5I8u3z5csWbleL11fd58lVtbOqdu7ateuA1gsAAAAs14aGE1V1YpLbdvez97LbXZL8n/nyrqq61Xz5+5N8aK0bdPep3b2ju3ds3779wBUMAAAALN0yF8RccUmSVNUtk5ya5A1V9aJ523O7+5NV9YtJjs20MObnuvsF8/anJPntqrow09k8Hr0B9QIAAAAbaOnhRHffc/73s0luvId9nrGH9s8l+dHlVQcAAACMZoFJAAAAYCjhBAAAADCUcAIAAAAYSjgBAAAADCWcAAAAAIYSTgAAAABDCScAAACAoYQTAAAAwFDCCQAAAGAo4QQAAAAwlHACAAAAGEo4AQAAAAwlnAAAAACGEk4AAAAAQ20bXQAAwLJU1QuSHJHkekk+3d1Pq6q7J3lskguTfL67Hzfvu1/tAMCBY+QEALBldfejuvuk7v6JJF9fVd+c5ClJ7tfdD0xyUVWdUFW1P+2jng8AbFXCCQBgy6uqo5JsT/LVST7e3RfPm05PcnySW+9nOwBwAAknAIAtq6puVVWvSvKhJKcmOTzJeQu7nJfkRvPP/rSvfpyTq2pnVe3ctWvXgX0SAHAIEE4AAFtWd5/d3Q9K8k1JHpRp/YmjFnY5Osm588/+tK9+nFO7e0d379i+ffuBfRIAcAgQTgAAW1537840auKcJMdV1bXmTScmeVeSs/ezHQA4gJytAwDYkqrqu5I8LskFSW6Y5HXd/dmqOiXJq6rqgiS7kpzZ3b0/7UOeEABsYcIJAGBL6u4PJfnJNdrPSnLWNW0HAA4c0zoAAACAoYQTAAAAwFDCCQAAAGAo4QQAAAAwlHACAAAAGEo4AQAAAAwlnAAAAACGEk4AAAAAQwknAAAAgKGEEwAAAMBQwgkAAABgKOEEAAAAMJRwAgAAABhKOAEAAAAMJZwAAAAAhto2ugAOnGOf8pbRJSRJznnmvUaXAAAAwCZi5AQAAAAwlHACAAAAGEo4AQAAAAwlnAAAAACGEk4AAAAAQwknAAAAgKGEEwAAAMBQwgkAAABgKOEEAAAAMJRwAgAAABhKOAEAAAAMJZwAAAAAhlpaOFFVh1fVb1TVny603b2q3lJVr6mq51zddgAAAGDrWObIiXsneWOSbUlSVZXkKUnu190PTHJRVZ2wv+1LrBcAAAAYYGnhRHef0d3vX2i6dZKPd/fF8/XTkxx/NdoBAACALWQj15y4UZLzFq6fN7ftbzsAAACwhawrnKiqW8//XqeqHllV33Q1HuvcJEctXD96btvf9rXqO7mqdlbVzl27dl2N0gCAg90B6o8AAAeh9Y6cOGn+95eSfDnJM67GY52d5LiqutZ8/cQk77oa7VfR3ad2947u3rF9+/arURoAsAkciP4IAHAQ2rbO/a5XVTdKcll3/3FV3Wk/HuOSJOnuS6vqlCSvqqoLkuxKcmZ39/6078fjAgBbyzXpjwAAB7H1hhMfT/LSJD89X79kvQ/Q3fdcuHxWkrPW2Ge/2gGAQ9LV7o8AAAe39U7reGd336e7/2W+/vZlFQQAsAf6IwCwRe01nKiqr62qmyb5haq66fxzy1xxxAIAYKn0RwBg69vXtI6nJzkiyR3ny5Vkd5I3LLkuAIAV+iMAsMXtNZzo7pOTpKoe0t0v25iSAACuoD8CAFvfuhbE7O6XVdX1knzV3HRpd//z8soCALgy/REA2LrWFU5U1a8m+e4kX8wVQylP2uuNAAAOIP0RANi61nsq0Zt29w8utRIAgL3THwGALWq94cRlS62CQ8qbzvmt0SUkSe5z7BNHlwDA/tEfAYAtar3hxNFV9ZIk/2++fml3/+aSagIAWIv+CABsUesNJ16w6vqlB7oQONjseNm3jS4hSbLzIR8dXQLAwUJ/BAC2qPWereNdyy4EAGBv9EcAYOta79k63pLkiHn/2yT5P9194jILAwBYpD8CAFvXekdO3GvlclVdP8nBsaIhAHDI0B8BgK3rsP29QXdfkOm84gAAQ+iPAMDWst5pHT+a5PD56k2T3GxpFQEArEF/BAC2rvWOnDhi4efsJA9aWkUAAGvTHwGALWpd4UR3vzLJXyX59yQf7e6vLLUqAIBV9EcAYOta77SOhyW5a5L3JvmVqjqru1+6xLqA/bD7tFNHl5Ak2XbSyaNLALYw/REA2LrWO63j+O5+SHef2t0PSfL9yywKAGAN+iMAsEWtN5y4cNX1Cw50IQAA+6A/AgBb1HrDiW1VdUJVbauqH8gVK2UDAGwU/REA2KL2Gk5U1S3mi49LcnySNyS5c5JTllwXAEAS/REAOBTsa0HM30ryY93970l+caWxql6c5BHLLAwAYKY/AgBb3L6mdaye27miD3QhAAB7oD8CAFvcvsKJupq3AwA4UPRHAGCL29eH+ieq6j6LDVV1zySfWV5JAABXoj8CAFvcvtac+N0kp1XVg5N8Ksmtk1yS5CHLLgwAYKY/AgBb3F7Die7eneRhVXXTJLdI8pnu/tKGVAYAEP0RADgU7GvkRJKku/8xyT8uuRYAgD3SHwGArctCUgAAAMBQwgkAAABgKOEEAAAAMJRwAgAAABhKOAEAAAAMJZwAAAAAhhJOAAAAAEMJJwAAAIChhBMAAADAUMIJAAAAYCjhBAAAADCUcAIAAAAYSjgBAAAADCWcAAAAAIYSTgAAAABDCScAAACAobaNLgAAYFmq6oVJLktydJK3dPcrq+ruSR6b5MIkn+/ux8377lc7AHDgGDkBAGxZ3f2z3f1zSX4iyc9UVSV5SpL7dfcDk1xUVSfsb/ugpwMAW5ZwAgA4FFwryXlJbp3k49198dx+epLjr0Y7AHAACScAgEPB05M8O8mNMoUUK86b2/a3HQA4gIQTAMCWVlWPTfLh7n5vknOTHLWw+ei5bX/bVz/GyVW1s6p27tq16wA/AwDY+jZ0Qcyq+pYkj1lo+t4kJyX5gyTvn9t2J3l0d7cFqACAa6KqHpXkwu5+1dx0dpLjqupa81SNE5O862q0X0l3n5rk1CTZsWNHL/t5AcBWs6HhRHd/Mskjk6SqDk9yRpIPJDm3ux+5uO/CAlQ/2N0XV9XTq+qE7n77RtYMAGxOVfV9SZ6c5K1V9aK5+alJTknyqqq6IMmuJGfOB0XW3b7hTwYAtriRpxK9f5Iz5g/9w6vqmUmOSfLa7j49ay9Adb8kwgkAYJ+6+68y9S1WO2v+Wb3/frUDAAfOyHDioZnChnT38UlSVUckeW1VfSwWoAIAAIBDwpAFMavqbkne193/sdje3ZdkGhnxrVnnAlTz/VmECgAAADapUWfr+PkkL9jDtu9N8jdZWIBqbl9zAapkWoSqu3d0947t27cf6FoBAACAJdrwaR1VdbskX+juLy20vSzJV5JcP8np3X3O3G4BKgAAANjiNjyc6O7/m2nkxGLbQ/awrwWoAAAAYIsbNa0DAAAAIIlwAgAAABhMOAEAAAAMJZwAAAAAhhJOAAAAAEMJJwAAAIChhBMAAADAUMIJAAAAYCjhBAAAADCUcAIAAAAYSjgBAAAADCWcAAAAAIYSTgAAAABDCScAAACAoYQTAAAAwFDCCQAAAGAo4QQAAAAwlHACAAAAGEo4AQAAAAwlnAAAAACG2ja6AODQ8fmb3WJ0CUmSm3/hc6NLAAAAFggnAFa57J2PGV1CkuSwuz53dAkAALAhTOsAAAAAhhJOAAAAAEMJJwAAAIChhBMAAADAUMIJAAAAYCjhBAAAADCUcAIAAAAYSjgBAAAADLVtdAEAXANPq9EVTJ7WoysAAGATE04AsHQfeNMnRpeQJLnDfW4zugQAANZgWgcAAAAwlHACAAAAGEo4AQAAAAwlnAAAAACGEk4AAAAAQwknAAAAgKGEEwAAAMBQwgkAAABgKOEEAAAAMJRwAgAAABhKOAEAAAAMJZwAAAAAhhJOAAAAAEMJJwAAAIChhBMAAADAUMIJAAAAYCjhBAAAADCUcAIAAAAYattGPlhVfTjJ++eru5M8uru7qu6e5LFJLkzy+e5+3Lz/mu0AAADA1rGh4USSc7v7kYsNVVVJnpLkB7v74qp6elWdkOQda7V399s3uGYAAABgiTY6nDi8qp6Z5Jgkr+3u05PcOsnHu/vieZ/Tk9wvyT/soV04AcBS/NydTxtdQpLk99990ugSAAA21IaGE919fJJU1RFJXltVH0tyoyTnLex23ty2p3YAAABgCxmyIGZ3X5JpBMS3Jjk3yVELm4+e2/bUfhVVdXJV7ayqnbt27VpO0QAAAMBSjDxbx/cm+ZskZyc5rqquNbefmORde2m/iu4+tbt3dPeO7du3L7dqAAAA4IDa6LN1vCzJV5JcP8np3X3O3H5KkldV1QVJdiU5cz6Lx1XaN7JeAAAAYPk2es2Jh+yh/awkZ623HQAAANg6Rk7rAAAAABBOAAAAAGMJJwAAAIChhBMAAADAUMIJAAAAYCjhBAAAADCUcAIAAAAYSjgBAAAADCWcAAAAAIYSTgAAAABDCScAAACAoYQTAAAAwFDCCQAAAGAo4QQAAAAwlHACAAAAGEo4AQAAAAwlnAAAAACGEk4AAAAAQwknAAAAgKGEEwDAllVVh1fVb1TVny603b2q3lJVr6mq51zddgDgwBFOAABb2b2TvDHJtiSpqkrylCT36+4HJrmoqk7Y3/YhzwQAtjDhBACwZXX3Gd39/oWmWyf5eHdfPF8/PcnxV6MdADiAhBMAwKHkRknOW7h+3ty2v+1XUlUnV9XOqtq5a9euA140AGx1wgkA4FBybpKjFq4fPbftb/uVdPep3b2ju3ds3779gBcNAFudcAIAOJScneS4qrrWfP3EJO+6Gu0AwAG0bXQBAAAb4JIk6e5Lq+qUJK+qqguS7EpyZnf3/rQPeg4AsGUJJwCALa+777lw+awkZ62xz361AwAHjmkdAAAAwFBGTgAAcMAc+5S3jC4h5zzzXqNLAGA/GTkBAAAADCWcAAAAAIYSTgAAAABDCScAAACAoYQTAAAAwFDCCQAAAGAo4QQAAAAwlHACAAAAGEo4AQAAAAwlnAAAAACGEk4AAAAAQwknAAAAgKGEEwAAAMBQwgkAAABgKOEEAAAAMJRwAgAAABhKOAEAAAAMJZwAAAAAhhJOAAAAAEMJJwAAAIChto0uAAAANtqbzvmt0SUkSe5z7BNHlwBwUNjwcKKqXpjksiRHJ3lLd7+yqt6R5OyF3Z7c3edX1e2SPCPJBUkuSnJyd1+y0TUDAAAAy7Ph4UR3/2ySVFUleXeSV87tj1xj92ck+anuPq+qHpHkoUlO26BSAQAAgA0wcs2JayU5b758QVWdUlWvqKqTkqSqrp1kd3ev7HN6kuM3vkwAAABgmUauOfH0JM9Oku6+b3L5aIoXVtVnknwyyfkL+5+XaSoIAAAAsIUMGTlRVY9N8uHufu9ie3d3kjcl+fYk5yY5amHz0blipMXq+zu5qnZW1c5du3YtqWoAAABgGTY8nKiqRyW5sLtftYdd7pzkA919cZIjqmoloDgxybvWukF3n9rdO7p7x/bt2w980QAAAMDSbOi0jqr6viRPTvLWqnrR3PzUue36Sa6d5P0LIyqelOS0qvq3JLuTPHoj6wUAgJF2vOzbRpeQJNn5kI+OLgHY4jY0nOjuv0pyzBqbHr+H/T+S5AFLLQoAALjGdp926ugSsu2kk0eXAFxNI8/WAQAAACCcAAAAAMYSTgAAAABDCScAAACAoYQTAAAAwFDCCQAAAGAo4QQAAAAw1LbRBQAAAGyUz9/sFqNLSJLc/AufG10CHFSMnAAAAACGEk4AAAAAQwknAAAAgKGEEwAAAMBQwgkAAABgKOEEAAAAMJRwAgAAABhKOAEAAAAMJZwAAAAAhto2ugAAAACu7LJ3PmZ0CUmSw+763NElcIgwcgIAAAAYSjgBAAAADCWcAAAAAIay5gQAAABX39NqdAWTp/XoCrgGjJwAAAAAhhJOAAAAAEOZ1gEAAMCW94E3fWJ0CUmSO9znNnvd/nN3Pm2DKtm733/3SRv6eEZOAAAAAEMJJwAAAIChhBMAAADAUMIJAAAAYCjhBAAAADCUcAIAAAAYSjgBAAAADCWcAAAAAIYSTgAAAABDCScAAACAoYQTAAAAwFDCCQAAAGAo4QQAAAAwlHACAAAAGEo4AQAAAAwlnAAAAACGEk4AAAAAQwknAAAAgKGEEwAAAMBQwgkAAABgKOEEAAAAMJRwAgAAABhKOAEAAAAMJZwAAAAAhhJOAAAAAEMJJwAAAIChto0uYF+q6kFJfjTJpUn+urufPbgkAOAQoz8CAMt1UI+cqKobJPmpJCd29w8n+baq+qbBZQEAhxD9EQBYvoM6nEjyfUne3t09Xz8jyfED6wEADj36IwCwZHXF5+zBp6p+Ism1uvsl8/XvT/Ld3f3MVfudnOTk+eo3J/nUhha6b1+T5Euji1inzVKrOg+8zVKrOg+8zVKrOq+ZW3b39tFFbEbr6Y9sgr5IcvD+ba62WepMNk+tm6XOZPPUqs4Db7PUqs5rZo/9kYN9zYlzk3zrwvWj57Yr6e5Tk5y6UUXtr6ra2d07RtexHpulVnUeeJulVnUeeJulVnUy0D77Iwd7XyTZPH+bm6XOZPPUulnqTDZPreo88DZLrepcnoN9Wsf7k9y9qmq+/kNJ3j2wHgDg0KM/AgBLdlCPnOju86vqFUn+uKp2J/mb7v7k6LoAgEOH/ggALN9BHU4kSXf/cZI/Hl3HNXRQD/NcZbPUqs4Db7PUqs4Db7PUqk6G0R/ZUJulzmTz1LpZ6kw2T63qPPA2S63qXJKDekFMAAAAYOs72Nec2HKq6sVVdcPBNfxZVb2zqk5aaHvtyJqujqr6pqp6alUdX1UPG10Py7X4Nzq/jt658PORqnrJyPr2ZjO+vgCWpaputeo9/J1V9YWquvvo2rYy/SYOhv7IZv4esqov+l1V9caqekdVnVlVb6mqu42sb282y+/4oJ/WsVlV1duSXGe+emSS93X34zL9zoeGQt3939ZoPiJJ5uDkjCS1avvNktyhu89fbnV7VlU/nOS/z1d/Ksnhq37Y5Krq2knemiteI7dO8g3d/R+Z/0aTpLsfsXCbOyf5+SS/toGlrqmq3pLkevPVmyS5f3f/bRZqZ/9V1Wu7+0fmyy9OcquFzUcl+Uh3/9SQ4oD91t1nJ7lrklTVkUken+Svk5w1t21Lcmau2l+6eZK7d/c5G1XrZqbfdOha/NxcZXh/5GD/HjL3RT+W5HMLzb/Q3R9ZqLOSnJbkHt29a267bpLXVdXHuvuLy65zT6rqBUluO1/9xkzvmZ/KQfB/vx7CieW5uLvvmSRV9dVJnju0mllVvTDJbearxyT56e4+a2V7d/9bkuPXuN0fJLlkQ4pcQ1U9MsmPLTS9IsnzBpWzLqu+UP1hkm9IclmSH+ruC6rqfyV57Pw7P1jqPCPJVyV5QXe/pqpe3t0PrqpXbMSXvzmE+P65liOSvHJuW6vu/5rkkUlul+R/JTlv2fXtS3ffa+VyVT0rV/1wHaaqfj7TGQZW5vL9Y5Indfe/zNvfucbNOsl9u/vLG1DfjZK8bqHpxklu29Pcwz0FU9+f5DFJfmPZ9S2qqlslefGq5m9K8pDufsdebndQvOY59FTVo5P8SJJLM33h/0ySJ3b3VU7PvoE1XS/Jg5LcP8lXJ3ly5ven7t6d+bNg1W1+Y953uH29nke/3vWbDkg9m/m9/qD8IrpJvodcO8lfdvdD97RDd3dVXZapr7Jrbj46ybWS/OfSK9yL7n5UklTVMUl+fQ4mNg3hxPIcWVXHzZe/OsnugbVcrrt/Nrn8DfcXkrxznTe9XndfuKy69qW7X5TkRVX1vUku6O6PVtW3ZPpiOlRVPSjJwzO9no5Nck6mDtZxVXVUktfnii+phyV58/wme3g2cBRNVd0lyW9l6pz+3yQ/192X5ooU+BlJPjHv/l1V9cVMo36SMR9yD0/y8tWNVfU9mb6Qvj/Jz3f3v86jJ36tqs7p7oOl83VcpuR9uKq6Z6ZRKP9t/rKfqrpNptT/xHm3C7r73oNKzPwl6a4r16vqzJVaF1XV1ye5d5IfyBSk/X2S21bVv3b3P29Qrfs66vsrc40XZXqNn93dD88Gv+YhSarqhzK9Hx0/v+enqm6f5A+SPGBQTU/K9J70hiT3SHLdJD+a5EHzl5e/yfR59I+rbvofSX534yq9ypepb8z0ezw78+v5YH296zddc97rD7zN+j1kD34kyVOr6haZQrR/yTTCYvjBsqo6Mcl9kmyrqpt29+r30oOWcGJ5np7kO+bLneS35yODQ1XVYUkemuRuSf49U3Dyr/O2O2T68rqWb52PrL64u1+59ELXUFW/lemFf+OqOifJOzI9lx9O8nuDarpukgdnGjLVVXVCpoT/0VV1enf/a5Ljq+qbk9w5yT8kOXPed61hbcuqc1uSp2XqVF1YVc9L8pGq2pWp05okf5LkFkm+LslHk5y9UfWtNv++fjXJCQvNd5r/Bk/u7sWjQenudyd598ZVuHdzGPDOJKdV1Tfmit/xKJdlCpoOyxROZb5+2cI+B80Q36o6OvP70qr2+yT59iTvyfT6v3GSDya5S6YjLa/ewBr3eNQ309GTB64MPa+q0xdu+uaqek13P3+jauWQd1Gm6WbXmi8n03Soi0cV1N2/uarpwiR/OP+kqq6V5MPd/aMbXdtqC1+mviHJI5Lca54u8S3zLgft612/6YDUu9Xe6xf7Up/e6AffzN9DZneqqk8m+aMkn07y9lXbj5sPTn+kuz++0cXNQcmvJXl9dz+iqm6Z5FlV9cQk/7TR9VwdwoklqKqHZzoCcGSSG2Y66nxhpjlUI+u6TqYPo1d394Oq6tZJfqeqHpUk3f2BXPnI5d2TfEt3/88R9a7hJt39xCSpqldn+pB9aaYvKscOqml3pi97R2QaxnXDJPeuqm/L/IV0PmrxqEyn87lNkmcneeIG1/mNST60kDq/JMlF3f2UhQ/Tb810BOCTmdLgH0rydfOHwYZ9cZ07JL+Z5HuT/G5VPWqeu/eeTMP3T63a62yJoR9c89GAk5P8+MqUlFUdlg3X3X82jzh4R1WtdKr+PslJC7t9ev6/PirTF5nPz+0P6u4vbFixkyflykdH71RVH840d/rP57a7Zxry+x9JvpTkSxt1dGAdR3335t4j1+7h0NPd76iq7UleX9N0uST5QKb3qQ1XVU/N9MVkTzrTZ9DhC+9J102y8j70zO7+s6UWucr8pfh+SW6Uadrj86rqpeu46ejXu37TNbDJ3+sPr2nthOtmOuj0LZn+39/T3fcdUdAm+x5yeUdzfv/8pkyjYd+TKVzZ10GnIVN6uvtzSR4+H4R8c3d/NlMYmKoaOt1kvYQTy/H6TEO+Lsr0Rek+KxvW+WG2FN39lSSPqKpHVdV758T04XNdw46S74cbVNWxSb4mA4/4LOru/6yqp2c6Qv6fmd64vmFO+E+fd/vOJC/v7r+sqvdmGqGwYiOT9Vp1efXcvVskeUamURPPzzTn7ovd/WNzp2b5BU5TTx6RaT7nl2uaM/vLmYb+HWwfXFdRVfdK8tNJHrGntTJGWRniu7q9qg5PcoNMI1WSaRTCbZO8cGGfI7t7Qz7U5tERR3b3+xaa35PkZ5L814W2f5p/br7Qdn6uOgz8gFvHUd/jkrxsDoIq0yKvSfLFHCRT/Dg01DR968aZXivPWrX5DvPf6F9v1Os7Sbr7lCSnLNT4yiSP7O4LVu36gHn7sPf5qvq6JM9MsrO7f2YePfGsmtbwWfHhHLyvd/2ma1brZn6v/1SSP8v0Jfmzmf5OvzKyoE30PeTfktyiqt6dqa/8z0n+NtPvNHPo9J6qel2mwHLREUl+4CCYgnLLdbYddIQTSzD/0Z6fJFW1Mr/zWUm+J1cMAxzpjpmGI13+JtXdTxhXzro9OdMR9QuTPCVT2j5cd/9Vkr9aY9PKh9Qrkzyvqn4007DaxaGUG5WsfybTOhLXnzuAD880V/ZZuWJF32dlGjlxhyS/293n1RWn59x1lXtcjg8nefDKWgM9Ldb4Cxv02NdITStMH5dpiOfoTsnl5qOU98h0NHJ3plE0/5grXv+dK0YjLFrsfL8zU0CwNPNQz8dkqu/Rq7d39z/PR1Ffm6suNHpBpjOjLL3zvR9HfS/J9F6bJDepqudm6vCM7rBwaLle9r6AZOcgmxu/xtDu62Rax2txfYyNGiH35SSPX5lD3t1/l+Qn5zrPyDQC8WVVdbC+3vWbrqbN/l6/p379PkaebpSD+ntId1+WNRbkTa7y+zu8u++6avuLMh3wGf3aX2uh89FTjNdFOLF8lyVJdz85uXwF38v2eovl+5ckb11jeM+TVx2tvCzja71cd38i03C6JJfPA7x04WeYecjX7yX52rnp0kzrjqysPPywefTBI5McVdMCjhumu3dX1a8m+Yu5E/Wn89Gr1LRA1sqb8Rur6juSPGaennDBPOzu8RtU596Gwa21SvNB8zc61776KMuKYWe66e5Tquofkpzf3WdU1W8nedG80Nfl5v/nJ2VK1jvTHNDf6+6/3KBSb5/ks939nD3t0N1fytqreJ+a6QvY0hfEXO9R36r6kyRvXHXz0zJ9OVj62U8gSbp7Z1V9MNOQ+Htnem0fnmkkxRP74Dgl52W5Yg7/VUbIjTQf6f3K/Bn//EzD4zvTZ/yzFkacHJSvd/2mq28Lv9cP648s2JTfQ2aLv79brhEAHJPkYAhazs80JW5xYfGrrOV1MKq+6mLowH6qaRXp07p753z9+knenKlDeEqmI1NHZjrd5ecyjRC4a5LHjJ5/XtMCVPedL98y0wruj8k02uL6mc+M0BtwKlGWo6oemimcOH1lOO08D3FleyV5X6ZRK5+a226S6ejVgwesOXEltefzta9sf1GSp/WA84rvpcP6+CT3zZW/AByZ5C7dfTB0DjlE1LRq+12SPGEOoVeGo/9Gd5+41xuT5PLP+BfPwcnKl/y3Zfps/A+v9/232fpN3uthYxg5AQfGF5N8T1V9OtMCfd+R5LK5I3OPtW5QVXfKwZEILybXnSkV3p0rjg79Z8bPneSa+UKS51TVY+brd5qHJl6W5B7zHOD/SHLzeZTF7iQ3zTR3cvg85b0FE7NXZZ5KN8CVjvouOC7JiX0QnFKMQ94/ZZoudeuq+kymU/B+T6ajl6zPP2X6jP9Ups/4ldNxrrw/er3vv83Wb/JeDxvAyAk4AGo6VefPZkr1r5PkI0me35vovMIrqur2mc7icGymRV3fmWkawKZY5Zerp6pummmth2/NNOz700n+oLs/ObSwTaqqHpzkYbnq+hiP6+4PDSiJQ1hV/ZdMf4/HZlqj5axM7+vDw8fNYF44+GczTSu7TqbF8Z7f3Z+ft3u976et0m/yfw8HlnACAAAAGOqgWqEZAAAAOPQIJwAAAIChhBPAXlXVS6rqZgvXf6aq3r5qnzdczft+2zWtDwDY+vRHYOsTTgD78qdJfnDh+p2S/ENV3ShJqurGSXZdzfs+4hrWBgAcGvRHYIuzICawV1X1VZnO7/4j8+VnJnl7kht098ur6qczdQa+I8nXZzoN5QWZzlV+kyTPzvShf+b887tJ/iFTOPpd3f1fqurRSW6b6ewgpzlDBACwSH8Etr5towsADm7d/eWqOqKqrpXpiMXbkvxFkhcleXmS70/ymiTX6e6HJUlVnZTp1FpvT/JtSb6zuy+pqhcm+ZXu/mhV3TzTaUqT6ZzmD+3uq3vEAwDYwvRHYOszrQNYj7OS3CXJ3ZO8o7svTHJEVd0gSSf55nmfFe9Ocrv58s7uvmS+fMskH0uS+fzw/zy3/3SSX6iqZ1TVdZf6TACAzUp/BLYw4QSwHm9Mct8kh3f3V+a2dyV5WqajFn+T5PiF/e+c5EPz5d0L7Z9OclySVNXXJ7lxknT3F7v7qUn+NslDl1A/ALD56Y/AFmZaB7BP3f33VXXHJM9faH5Tkk8l+fru/pequmNVvSTTh/+/JfkfSW6a5NKF2zwryXOq6l8yzQP9uySpqudlmgd64yS/uOznAwBsPvojsLVZEBMAAAAYyrQOAAAAYCjhBAAAADCUcAIAAAAYSjgBAAAADCWcAAAAAIYSTgAAAABDCScAAACAoYQTAAAAwFD/H4IDogKBBn1HAAAAAElFTkSuQmCC\n",
      "text/plain": [
       "<Figure size 1296x576 with 2 Axes>"
      ]
     },
     "metadata": {
      "needs_background": "light"
     },
     "output_type": "display_data"
    },
    {
     "name": "stdout",
     "output_type": "stream",
     "text": [
      "Class: 기타 괴롭힘 대화\n",
      "A 데이터셋의 상위 10개 단어:\n",
      "[('너', 1169), ('내', 461), ('왜', 452), ('좀', 398), ('말', 387), ('뭐', 348), ('나', 346), ('거', 335), ('니', 312), ('진짜', 259)]\n",
      "\n",
      "B 데이터셋의 상위 10개 단어:\n",
      "[('왜', 461), ('나', 453), ('너', 440), ('내', 418), ('말', 385), ('네', 301), ('뭐', 259), ('진짜', 220), ('좀', 200), ('거', 190)]\n"
     ]
    },
    {
     "data": {
      "image/png": "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\n",
      "text/plain": [
       "<Figure size 1296x576 with 2 Axes>"
      ]
     },
     "metadata": {
      "needs_background": "light"
     },
     "output_type": "display_data"
    },
    {
     "name": "stdout",
     "output_type": "stream",
     "text": [
      "Class: 협박 대화\n",
      "A 데이터셋의 상위 10개 단어:\n",
      "[('너', 1077), ('내', 850), ('말', 462), ('니', 407), ('나', 405), ('이', 278), ('지금', 267), ('왜', 255), ('거', 238), ('진짜', 190)]\n",
      "\n",
      "B 데이터셋의 상위 10개 단어:\n",
      "[('내', 461), ('너', 442), ('왜', 366), ('제발', 354), ('나', 283), ('말', 260), ('네', 259), ('제', 200), ('뭐', 178), ('니', 173)]\n"
     ]
    },
    {
     "data": {
      "image/png": "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\n",
      "text/plain": [
       "<Figure size 1296x576 with 2 Axes>"
      ]
     },
     "metadata": {
      "needs_background": "light"
     },
     "output_type": "display_data"
    },
    {
     "name": "stdout",
     "output_type": "stream",
     "text": [
      "Class: 직장 내 괴롭힘 대화\n",
      "A 데이터셋의 상위 10개 단어:\n",
      "[('내', 571), ('좀', 464), ('너', 422), ('말', 408), ('뭐', 367), ('일', 363), ('거', 350), ('대리', 325), ('회사', 314), ('왜', 279)]\n",
      "\n",
      "B 데이터셋의 상위 10개 단어:\n",
      "[('네', 988), ('제', 388), ('저', 361), ('왜', 204), ('부장', 203), ('것', 186), ('일', 180), ('말', 173), ('지금', 144), ('회사', 141)]\n"
     ]
    },
    {
     "data": {
      "image/png": "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\n",
      "text/plain": [
       "<Figure size 1296x576 with 2 Axes>"
      ]
     },
     "metadata": {
      "needs_background": "light"
     },
     "output_type": "display_data"
    },
    {
     "name": "stdout",
     "output_type": "stream",
     "text": [
      "Class: 갈취 대화\n",
      "A 데이터셋의 상위 10개 단어:\n",
      "[('돈', 876), ('너', 797), ('내', 684), ('나', 560), ('좀', 501), ('거', 448), ('말', 314), ('이', 247), ('니', 236), ('지금', 232)]\n",
      "\n",
      "B 데이터셋의 상위 10개 단어:\n",
      "[('돈', 606), ('네', 439), ('왜', 358), ('저', 332), ('거', 292), ('진짜', 283), ('내', 278), ('나', 268), ('제발', 197), ('말', 174)]\n"
     ]
    },
    {
     "data": {
      "image/png": "iVBORw0KGgoAAAANSUhEUgAABCAAAAHuCAYAAABONn0GAAAAOXRFWHRTb2Z0d2FyZQBNYXRwbG90bGliIHZlcnNpb24zLjQuMywgaHR0cHM6Ly9tYXRwbG90bGliLm9yZy/MnkTPAAAACXBIWXMAAAsTAAALEwEAmpwYAAAw6klEQVR4nO3dfZhkZ1kn/u+dTMiCICQwy6shroDLGlbFAZRFIJp4IQhB1PASXtUElNU1EXWzgKJRYcMK6CKwCSuvMYgKARbURA1hVUQD8lsUEaMbILxoyLhIEogk3L8/6kxS06me6ST9THX1fD7X1dfUuet01d01PXWe+Z7nOVXdHQAAAICRDll2AwAAAMD2J4AAAAAAhhNAAAAAAMMJIAAAAIDhBBAAAADAcAIIAAAAYDgBBGxTVfXqqnrIBvf9pqr64QE9PK+qnrzZjzs99kur6k/nvj5TVbvmnvexC77nwmnfP6qqW8/VL6iqI9Z5npdV1XvnnudJVXWbqjp/uv/8qrrN3P6nze371rn6Y6vqefv5mW5fVWds8Oc/qaoeuJF9AWBZjEe253ikqm5VVS/e1z6wyI5lNwC3VFX9tyS7kvyrJP82yQenu87s7ndt0nPcJskrkty9u49fc9/jk/xkki8l+eckJ3f3x9bs831JHtTdz5mrPTjJhUnu190fnaufm+Rnu/sjt7DtHdngv/Hufn+S99+cJ6mqnUl+OsmDk3wxs2DzD7r7eTelh5uqu09d08dFSS6bNhc+b3cfu87DHZbk0HXuOz7JMd3dc8912yS3mjZvleSQqrpTknckqbnvvWtV/WmS30jyiUU9rXFGkhfNF6rqfknem+Rp3f3bc3f9epJfr6ond/d1+3lcAAYzHlmX8ciNv2dlxiNV9ftJbpvkC0luneSd3X1Gd//LFKA8ubvfuJ/Hg+sJIFh5ew6iVXV0ktd298MHPM25mf2H74fmi9Nznp7kYd39uar6jiS/luTb13z/7yb52STPmat937Tv43LDm/zhSe61CQf7A6Kq7pLk/CS/2N0/ssQ+jk3y+e7+zFz5F6vqx5OcmOQfMhtczR/U75Xk3t39T/t5+J4/2O9jp88m+Zaq+ldJHpHk9kn+pLv/durxe/fzMxyd5Nbd/ak1dz0nyTOS/FiS6wOI7u6q+p0kT0ziwA+wZMYjy2M8stdOmz0e2ZHkCd19aVUdmuQ9VfXW7v7LzIKOd1bVORvpDRJLMNjGqup2VfWqKZ29sKp+varuPN13UlX9alW9q6r+eNrn/vt4uMcmed+C+vckeU13fy5Juvv8JEdMKfz1uvvzSf6+qo6ZK39zkucmedRc7bgkF0w93rmq3lRV76mqi6rqFVV1u+m+J1fVC6vqd6rqt6faU6vqg9PP8uYkR869FmdMU/D+oKqeu+C1ekhVvXq6/fCqel1V/d703O/bx2vz/CS/3N1vWu+Fm3uO76mqP5z+Lt5bVd8+1e87Pc+FVfX7VXWPRbV9PO7Dk/xSkmetueu/dPe3dPcnuvtfuvs/dPc3T/v9VZInbuBgf5NU1VdmNgA6Ismnk/xcVT11g9/+vUnetubx7pHkzt39m0muqKoHrPmet03fB8AWZTxiPLLq45E5d81sNsRnk6S7v5zZz7Cv31nYixkQbGcvTfKR7n5WklTV4zI7U3x8ZlPcHpXkAd19+fQfu9ck+fpFDzSdbV5011cn+Z01tb9Pcs8kl6+pvzXJCUn+smZrA9/f3bur6uqqutuUND82yf+Y9j8nyau6+7em/k9L8pIkJ2f2b/eEJN8ynen4qswGDw+Zfp77ZjaF8SXTIOF7u/u++3it1k4R/PYkX9/dV9Rs3eaZmQ1G1npYZmdSNuJ39ywhqKq7J3lLkgcl+cEkr5gfNFTVL62trTUNAk5Pcu8k37Vg5sD8vrdP8vjMzgR8KMlXJHlyVR3a3b+7wf7Xun/NpjP+u7nasUn+sLtfMz3ve5L8QZLXT/f/YFU9IslPdfdFax5vV5I3rKn9pyS/Mt1+WZJTkzxpz53T3/0dbmb/ABwYxiPGI3v2XdXxyJumv7+vymxJ6PwMjz9P8oDczKUzHHzMgGA7+/bMkugkSXe/Jcnda7ZeLkne0t2XT/f9eZJra50L/+zDetPNvryg9rbccHbhe3LDdPrzkjy2qg5J8g3dffHU4132HOwnL8tssLLHBXvOdCT5pszW5O35ef4605mL6WzHa6rqzKr6mg3+XO/p7ium23+a5N/sY9+NTrn7N9OZjD/KbDDzr6f6K5M8YjoLtGMftevVbPT1ssxeg+9YcLD/eJJ/nNs+KsnVmS1XeEFmU1d/LcnXVtU3bLD/tT4wncH4wFztb5J8e1Xdcdp+YpL/M3f/q7v7mxcc7JPZGaLdezamsxcPyTSg7O53J7nXNFgCYHUYj8R4ZLJy45HJE7r765L8+yTPqar5gOyfMjfLBfZHAMF2tuhA1HP1w9bcd6sk19zE5/h4Zmv35n1NZhf42fuJZ2vyrqmquyZ5aJL3THedl9nZgwcn+ZM1va41P5D4pzX1tadErv/5uvvMJL+Q5D9W1Y+u87PM+5e57702679X/FFmKf4+VdWtMjvj8urMfvZH7+m3uy/p7qdn9lr+TlXdaVFt/vF65nuT3Gma4rnXV5KfyOxiSXsu0PQrSU7JbN3lZ5P8WWZnK47KjX8P1jqkqg6vqlvXbBrqtya5y6Idp7WyZ2R2cci/y+yM1I/v7/WZ7M7eB/BTpu0Lq+rdVfXuJF+Z5D9u8PEA2BqMR254buOR1RuPzD/upZldyHI+gFoUWMC6BBBsZ7+f2Rt/kusvuvPx7r5qKn13TWsjq+qhSXZ399U38TnenOT7pyl1qdlFn67Yk/wvcF5mUxM/3NMnF3T3pzO7YvYzMpsGmO6+Msmnq+rEue89LcnvrfO4701y/NzPsyvJw6fbew6sn0vyy0medhN/xn05I8lPVtV372e/22U2iPjjab3gDya5durvkKm//53kk5ldOOlGtUUP2t2v7u6HrP1K8luZHcz3vJaPTPIdSf5Dptequx/R3T8+nW3al9/ObB3l25L8apLvzOzva6Gerbv98cymJJ6Z5J7T6/MV+3me9yd54PSaHJbkpCTf2N0P3/OV5Bsz+7299bTfEUn+334eF4DlMh6J8cgqjkfWmsYfj8resy0emOTi/TwmXM81INhOrst0EJmcluTMad3bdUk+lWT+AjxvT/JrNVtDf02S77+Jj5/u/lhV/WySd1XVdZl97NXT9/EYb03yd0m+a0397ZldkfrkudpJSX65qp49bf9Vbrhq9bXzvUzrLH8yyf+qqmuTXDo917VJ7lNVv5Xkc5kdqBatkZx/vL0ee7LwTEx3f3Ia5PxMzT5T+guZnSl5V3e/cM9jTWs335TkT6vqi0nelWTP+sFfrqoHZXbW5NLM1iguqt1IVX1/ZoO6K9bcdU3m1i929xfmvmfRQ62ru5+/4Hlvu6D2sCQ/v6b8+swGLH+X2eu/L7+V5HmZXVH6xMxew70GoN39hel1PCmzszePzTRIBGDLMB4xHpnvd5XHI8ns9+1NVXV1ZrM0Xtfdfzg91yFJjonrP3ATVPvEFA5CVfX0JEd39wuW3Aq3QFX9TGYX9vqNm/A9b0vyI9398bnaBUlO7A1ehbpmn8N+Xnd/R1Wdn+Sx+ztbVVWPzezzu9cOCub3eXmSF3b3JzfQwyGZTYN84jQtFYAVYzyyPRys45Gq+p4kt+nutRethHUJIDgoVdVTkhzV3b+w7F64+arquMw+euvQBXe/qbtffoBbukVqduHJ53T3T29g36dmNtj5s/GdATCC8cj2cDCOR6brabyou087cJ2xHQggAAAAgOFchBIAAAAYTgABAAAADCeAAAAAAIZbyY/hvNOd7tRHH330stsAgC3n/e9//2e7e+ey+zgYGI8AwGLrjUdWMoA4+uijc/HFFy+7DQDYcqrqY8vu4WBhPAIAi603HrEEAwAAABhOAAEAAAAMJ4AAAAAAhhNAAAAAAMMJIAAAAIDhBBAAAADAcAIIAAAAYDgBBAAAADCcAAIAAAAYTgABAAAADCeAAAAAAIYTQAAAAADDCSAAAACA4QQQAAAAwHACCAAAAGA4AQQAAAAwnAACAAAAGE4AAQAAAAwngAAAAACG27HsBraKc//ismW3kCR54jfeY9ktAABLYjwCwHYmgAAAtq2q+pokz502r0vyM0mOTfL4afu93X3mtO9Ji+oAwOYQQAAA21JVVZIXJXlmd++eardL8pQk39ndXVVvqKp7J/nMonp3/+3SfgAA2GYEEADAdvWAJJ9I8otT8HDhtH1Bd/e0z9symxHxsXXqAggA2CQCCABguzo6yTFJHtPdX6yqVya5e5KPz+2zO8m9k1w53V5b30tVnZLklCQ56qijxnQNANuUT8EAALarqzOb1fDFafvtSb6Y5Ii5fY5McsX0tai+l+4+q7t3dfeunTt3jukaALYpAQQAsF29P8kD57YflNmSiuOm60MkyWOSvCfJ+9apAwCbxBIMAGBb6u5PV9X5VXVukquSXNrdb6mqw5OcW1XXJvlgd38kSarqDYvqAMDmEEAAANtWd5+d5Ow1tXOTnLtg34V1AGBzWIIBAAAADCeAAAAAAIYTQAAAAADDCSAAAACA4QQQAAAAwHACCAAAAGA4AQQAAAAwnAACAAAAGE4AAQAAAAwngAAAAACGE0AAAAAAwwkgAAAAgOEEEAAAAMBwAggAAABgOAEEAAAAMJwAAgAAABhOAAEAAAAMJ4AAAAAAhhNAAAAAAMMJIAAAAIDhBBAAAADAcAIIAAAAYDgBBAAAADDcjlEPXFWnJvmmJP+S5NAkP5TkwUlOTXJVksu6+7Rp3+MW1QEAAIDtYcgMiKq6Q5LjuvvJ3f39ST6c5Pgkpyd5XHefmOTqqjq+qmpRfURfAAAAwHKMWoLxuSSfrqq7VtWtk9wzyWeSfLi7r5n2OS/JsUnus04dAAAA2CaGLMHo7q6q1yT54SRXJPnjzJZh7J7bbXeSO05fi+oAAADANjEkgKiqf5/ku7r79Gn7cUnul+SIud2OzCycuGKd+trHPCXJKUly1FFHjWgbAAAAGGTURSjvmqTmtr+Q5Ogkx1TV4dNyixOSXJTkknXqe+nus5KclSS7du3qQX1veUef/s5lt5AkufSFj1p2CwAAAKyQUQHE+UkeWlWvT3JNktsk+dEk/z7JOVV1ZZLLk5w/Ldc4Y219UF8AAADAEgy7BkSS5y6468Lpa+3+C+sAAADA9jDqUzAAAAAArieAAAAAAIYTQAAAAADDCSAAAACA4QQQAAAAwHACCAAAAGA4AQQAAAAwnAACAAAAGE4AAQAAAAwngAAAAACGE0AAAAAAwwkgAAAAgOEEEAAAAMBwAggAAABgOAEEAAAAMJwAAgAAABhOAAEAAAAMJ4AAAAAAhhNAAAAAAMMJIAAAAIDhBBAAAADAcAIIAAAAYDgBBAAAADCcAAIAAAAYTgABAAAADCeAAAAAAIYTQAAAAADDCSAAAACA4QQQAAAAwHA7lt0AAMAIVfUXSd43bV6b5Ee6u6vquCSnJrkqyWXdfdq0/8I6ALA5BBAAwHZ1RXc/a75QVZXk9CSP7O5rqurnq+r4JL+/qN7dFyyhbwDYlizBAAC2q0Or6oVVdU5VPXaq3SfJh7v7mmn7vCTH7qMOAGwSMyAAgG2pu49Nkqo6LMlvVtVfJbljkt1zu+2eauvV91JVpyQ5JUmOOuqoMY0DwDZlBgQAsK1195eSXJDk65JckeSIubuPnGrr1dc+1lndvau7d+3cuXNc0wCwDQkgAICDwbck+WCSS5IcU1WHT/UTkly0jzoAsEkswQAAtqWqel2SLyS5bZLzuvvSqX5GknOq6soklyc5f/p0jBvVl9M5AGxPAggAYFvq7qetU78wyYUbrQMAm8MSDAAAAGA4AQQAAAAwnAACAAAAGE4AAQAAAAwngAAAAACGE0AAAAAAwwkgAAAAgOEEEAAAAMBwAggAAABgOAEEAAAAMJwAAgAAABhOAAEAAAAMJ4AAAAAAhhNAAAAAAMPtWHYDbF/vuPTFy24hSfLoo39i2S0AAAAc9MyAAAAAAIYTQAAAAADDCSAAAACA4QQQAAAAwHACCAAAAGA4AQQAAAAwnAACAAAAGE4AAQAAAAwngAAAAACGE0AAAAAAwwkgAAAAgOEEEAAAAMBwAggAAABgOAEEAAAAMJwAAgAAABhOAAEAAAAMJ4AAAAAAhhNAAAAAAMMJIAAAAIDhBBAAAADAcAIIAAAAYDgBBAAAADDcjmU3AADAajn69Hcuu4UkyaUvfNSyWwDgJjADAgAAABhOAAEAAAAMJ4AAAAAAhhNAAAAAAMMJIAAAAIDhBBAAAADAcAIIAAAAYDgBBAAAADCcAAIAAAAYTgABAAAADCeAAAAAAIYTQAAAAADD7Rj1wFX1NUmeO21el+Rnkhyb5PHT9nu7+8xp35MW1QEAAIDtYUgAUVWV5EVJntndu6fa7ZI8Jcl3dndX1Ruq6t5JPrOo3t1/O6I3AAAA4MAbNQPiAUk+keQXp+Dhwmn7gu7uaZ+3ZTYj4mPr1AUQAAAAsE2MCiCOTnJMksd09xer6pVJ7p7k43P77E5y7yRXTrfX1vdSVackOSVJjjrqqDFdAwAAAEOMugjl1ZnNavjitP32JF9McsTcPkcmuWL6WlTfS3ef1d27unvXzp07x3QNAAAADDEqgHh/kgfObT8osyUVx03Xh0iSxyR5T5L3rVMHAAAAtokhSzC6+9NVdX5VnZvkqiSXdvdbqurwJOdW1bVJPtjdH0mSqnrDojoAAACwPQz7GM7uPjvJ2Wtq5yY5d8G+C+sAAADA9jBqCQYAAADA9QQQAAAAwHDDlmAAACxbVe1I8vokn+/uZ1bVcUlOzewaVZd192nTfgvrAMDmMQMCANjOnpfktUkOnT5x6/Qkj+vuE5NcXVXHr1dfWscAsE0JIACAbamqnpTk4iQfnUr3SfLh7r5m2j4vybH7qAMAm0gAAQBsO1X1jUnu0t3/a658xyS757Z3T7X16gDAJnINCABgO3pCkjtU1auS3C7J/ZN8KMkRc/scmeSK6WtR/Uaq6pQkpyTJUUcdtfldA8A2JoAAALad7v6pPber6ujMrgXx8iQXVNXh03KLE5JclOSSJMcsqC963LOSnJUku3bt6qE/BABsMwIIAGC7uy7Jtd19XVWdkeScqroyyeVJzu/uXlRfYr8AsC0JIACAba27P5HkWdPtC5NcuGCfhXUAYPO4CCUAAAAwnAACAAAAGE4AAQAAAAwngAAAAACGcxFKDnq7Xne/ZbeQJLn4aR9adgsAAADDmAEBAAAADCeAAAAAAIYTQAAAAADDCSAAAACA4QQQAAAAwHACCAAAAGA4AQQAAAAwnAACAAAAGE4AAQAAAAwngAAAAACGE0AAAAAAwwkgAAAAgOEEEAAAAMBwAggAAABgOAEEAAAAMJwAAgAAABhOAAEAAAAMJ4AAAAAAhhNAAAAAAMPtWHYDAAAwyjsuffGyW0iSPPron1h2CwBLZwYEAAAAMJwAAgAAABhOAAEAAAAMJ4AAAAAAhhNAAAAAAMMJIAAAAIDhBBAAAADAcDuW3QCwMdeefdayW0iS7Dj5lGW3AAAArCAzIAAAAIDhBBAAAADAcAIIAAAAYDgBBAAAADDchgKIqrrP9Oetq+pZVXXvsW0BAOzNeAQAVttGZ0CcPP353CSfS/KLY9oBAFiX8QgArLCNBhBfUVV3TPLl7j43yT8O7AkAYBHjEQBYYTs2uN+Hk7w2yQ9M218a0g0AwPqMRwBghW10BsS7u/vR3b3nTMMFoxoCAFiH8QgArLB9zoCoqn897fOjVfWCqXxYZmce3jm2NQAA4xEODrted79lt5AkufhpH1p2C8A2tr8lGD+f2QH+gdPtSnJtkrcO7gsAYA/jEQDYBvYZQHT3KUlSVU/r7tcdmJYAAG5gPAIA28OGLkLZ3a+rqq9IcvupdF13/8O4tgAA9mY8AgCrbUMBRFX9TJIHJflMbpj2ePI+vwkAYBMZjwDAatvox3DerbsfObQTAIB9Mx4BgBW20Y/h/PLQLgAA9s94BABW2EZnQBxZVa9J8rfT9nXd/V8H9QQAsIjxCACssI0GEK9Ys33dZjcCALAfxiMAsMI2+ikYF41uBABgX4xHAGC1bfRTMN6Z5LBp//sm+bPuPmFkYwAA84xHAGC1bXQGxKP23K6q2yZ58bCOAAAWMB4BgNW20U/BuF53X5nZ524DACyF8QgArJ6NLsF4fJJDp827Jbn7sI4AABYwHgGA1bbRGRCHzX1dkuSkYR0BACxmPAIAK2yj14B4Y1XdO8n9knyou78wti1glV12969adgtJknt88hPLbgHYRMYjALDaNjQDoqqekeR5Se6U5Ker6ukjmwIAWMt4BABW20aXYBzb3U/r7rO6+2lJvm1kUwAACxiPAMAK22gAcdWa7Ss3uxEAgP0wHgGAFbaha0Ak2VFVxye5MLOzDYfuZ38AgM12k8cjVfWKzC5a+RVJPtrdL6iq45KcmlmgcVl3nzbtu7AOAGyOfc6AqKo9V5I7LcmxSd6a5KFJzhjcFwBAkls2HunuH+7uk7v7SUm+uqq+NsnpSR7X3Scmubqqjq+qWlQf8fMAwMFqf0swXpwk3f357v4v3f3o7n5ekhcM7wwAYOYWj0eq6ogkO5PcIcmHu/ua6a7zMgs17rNOHQDYJPsLINautdyjN7sRAIB13OzxSFXdq6rOSfKBJGdltmxj99wuu5PccfpaVF/7eKdU1cVVdfHll1++wfYBgGT/AUTdzO8DANgsN3s80t2XdPdJSe6d5KTMrgdxxNwuRya5YvpaVF/7eGd1967u3rVz584Ntg8AJPs/cP91VT16vlBV35nk78a1BACwl1s8HunuazOb/XBpkmOq6vDprhOSXJTkknXqAMAm2d+nYLw0ydlV9dQkf5PZ+sgvJXna6MYAACY3azxSVffP7MKVVyb5yiS/3d0fq6ozkpxTVVcmuTzJ+d3di+rDfiIAOAjtM4CYzhY8o6ruluSrkvxdd3/2gHQGAJCbPx7p7g8kefKC+oWZfZTnhuoAwObY3wyIJEl3fyrJpwb3AgCwLuMRWL5rzz5r2S0kSXacfMqyWwBuBheTBAAAAIYTQAAAAADDCSAAAACA4QQQAAAAwHACCAAAAGA4AQQAAAAw3IY+hvPmqKodSV6f5PPd/cyqOi7JqUmuSnJZd5827bewDgAAcHNddvevWnYLSZJ7fPITy24BtoyRMyCel+S1SQ6tqkpyepLHdfeJSa6uquPXqw/sCQAAAFiCIQFEVT0pycVJPjqV7pPkw919zbR9XpJj91EHAAAAtpFNX4JRVd+Y5C7d/etVdfRUvmOS3XO77Z5q69UBAAC2vS+/+8eW3UKS5JCHv2zZLXAQGHENiCckuUNVvSrJ7ZLcP8mHkhwxt8+RSa6YvhbVb6SqTklySpIcddRRm981AAAAMMymBxDd/VN7bk8zIJ6X5OVJLqiqw6flFickuSjJJUmOWVBf9LhnJTkrSXbt2tWb3TcAAAAwzrBPwZhcl+Ta7r6uqs5Ick5VXZnk8iTnd3cvqg/uCQAAADjAhgYQ3f2JJM+abl+Y5MIF+yysAwAAANvHyI/hBAAAAEgigAAAAAAOgNHXgAAAAGDVvaCW3cHMC3wewSozAwIAAAAYTgABAAAADCeAAAAAAIYTQAAAAADDCSAAAACA4QQQAAAAwHACCAAAAGA4AQQAAAAwnAACAAAAGE4AAQAAAAwngAAAAACGE0AAAAAAwwkgAAAAgOEEEAAAAMBwAggAAABgOAEEAAAAMJwAAgAAABhOAAEAAAAMJ4AAAAAAhhNAAAAAAMMJIAAAAIDhBBAAAADAcAIIAAAAYDgBBAAAADCcAAIAAAAYTgABAAAADCeAAAAAAIYTQAAAAADDCSAAAACA4QQQAAAAwHACCAAAAGA4AQQAAAAwnAACAAAAGE4AAQAAAAy3Y9kNACzLl9/9Y8tuIUlyyMNftuwWAABgODMgAAAAgOEEEAAAAMBwAggAAABgOAEEAAAAMJwAAgAAABhOAAEAAAAMJ4AAAAAAhtux7AYAAEapqlcm+XKSI5O8s7vfWFXHJTk1yVVJLuvu06Z9F9YBgM1hBgQAsG119w9197OTPCnJM6uqkpye5HHdfWKSq6vq+PXqy+scALYfAQQAcDA4PMnuJPdJ8uHuvmaqn5fk2H3UAYBNIoAAAA4GP5/kzCR3zCyI2GP3VFuvvpeqOqWqLq6qiy+//PKB7QLA9iOAAAC2tao6NclfdPcfJ7kiyRFzdx851dar76W7z+ruXd29a+fOnQO7BoDtx0UoAYBtq6p+OMlV3X3OVLokyTFVdfi03OKEJBftow7Aivnzd/z1sltIkjzg0fdddgtbjgACANiWqurBSf5zkndV1aum8vOTnJHknKq6MsnlSc7v7q6qG9WX0TcAbFcCCABgW+ruP0ly1IK7Lpy+1u6/sA4AbA7XgAAAAACGE0AAAAAAwwkgAAAAgOEEEAAAAMBwAggAAABgOAEEAAAAMJwAAgAAABhOAAEAAAAMJ4AAAAAAhhNAAAAAAMMJIAAAAIDhBBAAAADAcAIIAAAAYLgdy24AAAAADjbPfujZy24hSfKr7zn5gD2XGRAAAADAcGZAAKyCF9SyO0he0MvuAACAFWYGBAAAADCcAAIAAAAYTgABAAAADCeAAAAAAIZzEUoANs2fv+Ovl91CkuQBj77vslsAAGANMyAAAACA4cyAAOCg8+yHnr3sFpIkv/qek5fdAgDAAWMGBAAAADCcAAIAAAAYTgABAAAADCeAAAAAAIYTQAAAAADDCSAAAACA4QQQAAAAwHACCAAAAGA4AQQAAAAwnAACAAAAGE4AAQAAAAy3Y9QDV9Urk3w5yZFJ3tndb6yq45KcmuSqJJd192nTvgvrAAAAwPYwbAZEd/9Qdz87yZOSPLOqKsnpSR7X3Scmubqqjl+vPqovAAAA4MA7EEswDk+yO8l9kny4u6+Z6uclOXYfdQAAAGCbOBABxM8nOTPJHTMLIvbYPdXWq++lqk6pqour6uLLL798YLsAAADAZhsaQFTVqUn+orv/OMkVSY6Yu/vIqbZefS/dfVZ37+ruXTt37hzYNQAAALDZhgUQVfXDSa7q7nOm0iVJjqmqw6ftE5JctI86AAAAsE0M+RSMqnpwkv+c5F1V9aqp/PwkZyQ5p6quTHJ5kvO7u6vqRvURfQEAAADLMSSA6O4/SXLUgrsunL7W7r+wDgAAAGwPB+IilAAAAMBBTgABAAAADCeAAAAAAIYTQAAAAADDCSAAAACA4QQQAAAAwHACCAAAAGA4AQQAAAAwnAACAAAAGE4AAQAAAAwngAAAAACGE0AAAAAAwwkgAAAAgOEEEAAAAMBwAggAAABgOAEEAAAAMJwAAgAAABhOAAEAAAAMJ4AAALalqjq0qn6hqn53rnZcVb2zqt5cVS/ZXx0A2DwCCABgu/quJG9PsiNJqqqSnJ7kcd19YpKrq+r49erLahoAtisBBACwLXX327r7fXOl+yT5cHdfM22fl+TYfdQBgE0kgAAADhZ3TLJ7bnv3VFuvDgBsIgEEAHCwuCLJEXPbR0619eo3UlWnVNXFVXXx5ZdfPqxRANiOBBAAwMHikiTHVNXh0/YJSS7aR/1Guvus7t7V3bt27tw5vGEA2E52LLsBAIDBvpQk3X1dVZ2R5JyqujLJ5UnO7+5eVF9euwCwPQkgAIBtrbu/c+72hUkuXLDPwjoAsHkswQAAAACGE0AAAAAAwwkgAAAAgOEEEAAAAMBwAggAAABgOAEEAAAAMJwAAgAAABhOAAEAAAAMJ4AAAAAAhhNAAAAAAMMJIAAAAIDhBBAAAADAcAIIAAAAYDgBBAAAADCcAAIAAAAYTgABAAAADCeAAAAAAIYTQAAAAADDCSAAAACA4QQQAAAAwHACCAAAAGA4AQQAAAAwnAACAAAAGE4AAQAAAAwngAAAAACGE0AAAAAAwwkgAAAAgOEEEAAAAMBwAggAAABgOAEEAAAAMJwAAgAAABhOAAEAAAAMJ4AAAAAAhhNAAAAAAMMJIAAAAIDhBBAAAADAcAIIAAAAYDgBBAAAADCcAAIAAAAYTgABAAAADCeAAAAAAIYTQAAAAADDCSAAAACA4QQQAAAAwHACCAAAAGA4AQQAAAAwnAACAAAAGE4AAQAAAAwngAAAAACGE0AAAAAAwwkgAAAAgOEEEAAAAMBwAggAAABgOAEEAAAAMJwAAgAAABhOAAEAAAAMJ4AAAAAAhhNAAAAAAMMJIAAAAIDhBBAAAADAcAIIAAAAYLgdy25gj6o6Kcnjk1yX5L3dfeaSWwIADjLGIwAwzpaYAVFVt0vylCQndPd3J7lfVd17yW0BAAcR4xEAGGtLBBBJHpzkgu7uafttSY5dYj8AwMHHeAQABqobjrFLbKLqSUkO7+7XTNvfluRB3f3CuX1OSXLKtPm1Sf7mgDe6f3dK8tllN7EBq9Jnsjq96nPzrUqv+tx8q9LrVu3znt29c9lNrCLjkQNuVfpMVqdXfW6+VelVn5tvVXrdqn0uHI9slWtAXJHk6+a2j5xq1+vus5KcdSCbuqmq6uLu3rXsPvZnVfpMVqdXfW6+VelVn5tvVXpdlT65SYxHDqBV6TNZnV71uflWpVd9br5V6XVV+txjqyzBeF+S46qqpu3HJHnPEvsBAA4+xiMAMNCWmAHR3f+vqt6Q5NyqujbJB7v7I8vuCwA4eBiPAMBYWyKASJLuPjfJucvu4xba0lMy56xKn8nq9KrPzbcqvepz861Kr6vSJzeB8cgBtSp9JqvTqz4336r0qs/Ntyq9rkqfSbbIRSgBAACA7W2rXAOCJamq/1lVX7nsPvaoqiPWbH9rVZ1cVd9WVc9YVl83RVX95rJ7mFdV96qqd6/5+mRVPWLZvW3UVntNt4NVeE232vvTvPnequq8Bf/GLln7fgYka/9NV9Wtqursqjq+qp6yrL72Z248sqX7nLeV30PnbdXj0f5ev2W/vsbMrKotswRjVVXV/ZP8RpJPrrnrvd19+hJaWqiq3tzdJy6469BsrSDq15J899z2obmhx0OX0tE6quo3u/v7Ftx12AFvZh+6+5IkD0+SqrpNkmcnuVeS319iWwtV1TuTfMW0edck39Pdf5kt9pqukqr6uiSvzuzfz8VJfrS7r80Wek238vtTVf33JPebNr8qySnd/QeZ6627H7vO9x1+gNqElRmPJHld9j7OH5LZ+9Ge4/2WUFUvS/L1Sa5Ncmpu6G9L9ZkkVXVOkrtPm1+T5JHd/aFsgffQeVv1GF9VL0ly/2nzq5N8d3d/INPrV1Wvz+x34R1JHpLkqCT3yfJfX2NmVpIA4pb7yiT/o7v/27Ib2Y9bLbuBDar977JlrMSbZlUdlmRXku9Nct8kO5O8LcmDpo/tuWaZ/c3r7kftuV1VL8oK/T7s4+C6bL+U5HHd/emqek6Sp2Y2aNlKtuz7U3f/yJ7bVfXGJH+2wW+9XZLdQ5qCxVZlPLLl39er6mFJPtvdx1bVHZO8MskrltzWurr7pD23q+q8JB9eXjfr26rH+O4+LUmq6rZJXp/kg2vuf2pVPT3JJd39vKp6U3dfe8OH5SzN0hu4CVZlzHx4kpcn+fUkR2c2bn55d398uv83uvvxVfU/k5za3f+8tGYX2MJj0b0IIG65f0jyfVX1XZmluf+Q5MtJPtzdP7zUztYxTct62rT5b5fZCwfE85NcluRXk3xrZmfI7pbkYUk+n+T/LK+1fTomyV8tu4m1qur/S/JP0+Zdkjyru9+dLXhwnQ6kV3X3p6fSqzMbSG+1AGLLq6pvTvKJ7v78Br/lsO7+l5E9wRorNR6ZljH8QGZna/9+ye2sdWSSv02S7r6itsD/NDeiqr43yflJfryqHpmtPcbbUsf4aSnFGzL75JsvL9jle5I8uapul+RzB7Q5hqiquyc5Z9r810lemtnvwPyMrEOS3K2q9vxO7BnrLXX2yyqNRRcRQNxC3f3XSR6UXH927D929/9balP70d2vSfKaJKmq1y63mw05LckXkvz3ZTeyQQ+pqndnNlX7o8tspKrukeTN0+ZtMpsF8dHMgoc/T9JVtWOakr9lVNV3Jnl3krOr6msyG6hsFf93z5T76YzIHab6lvl734eVGERvNVV1tyS/kOR/r7nr3lX14n1837uTvLq73ziwPUiyeuOR7n5DkjdU1b9K8qpl97PGBZl9FOuOJA/IbOp9MhuPfDHJS5bV2Hqq6n5J/lOSt3b3mUnO3KpjvK12jK+qxyR5QpIfSXJCVf1Kkv88d/83JbkyyU9lNrNt/lj6v6ZlhL9yAFveF2PmDeruT+aGJcr/Nckfr7PrD2U2bk6SW8/Vl/l3v8pjUQHELVFVz0/y7XOl2yR5W1Xt+WiRTvJ93f3ZA97cjV3/ZjldB+Ae2ZoJ7qHTWdvbJPnazKaUviTJJZlNhdpKDp0GTrfJLH38t0n+KMkfLVoTviT3zmw96B5vS/J1c9ud5NLM1rhuCVV1rySnJHlid39xqp231KY2Ziv9vSdJuvuaqrptVd2tuz+V5OQkv7fsvhboqtqzXvUOma1l3hLHp+n38b8leWKSJ1XVs7v7V6e7/7a7H7605mCyYuORHdOx87aZHTe33Cy87r6yqp6Q5LVJXtrdf1JVD89sPHJpZsf8LaOqHpzkx5J8R5LnVNXTu/u1S21qHVvtGF9Vd8rsd/Gknn004H+vqgfkhmv43D7Jc5M8JclJmb3GF1fV8dP937XEoM+YeRNMs1/uluSRSR6TG8/I+tnu/vtp37fM1Zf5d7+epb+eG7ElBnirqrvPmFKmnd39lv3tv2QXVNXvZjYd858ze3PaimflPpjZf5L/KclfJvnIUrvZt7/J7D9z/5zkY0n+IrPUecvo7gur6rLMpt3P/3vvJL/X3S9aTmeLVdWjMpuS+4N7BiZb0DXTv/tkFuz96HR77YXftorTkrylqg7JbNbLLy25n0XeldlFUa9NckWS/5vZNOKlmmY+/EySp0+DjJdV1TOq6s5r9vtAZu8D8+6Z5Bu6eysGvWwzKzYe+XSSt2b2b/2D2ULT8Od191VV9ckkn6mqu2T2n7stZ7rQ8IlJnjwt+zqjqr5/Otm0pWzFY/wUyv16Vf1sVZ3V3Z/s7j9Pkqr6s8z+w/wTSb6U5KGZzTL5VGZnxZftgzFm3gw/l1kockpm13+Yn5F1cZL/ObcM64Lpz09luSfvVm0suhcBxC13+8zWCm5p3f3yzP5R7WWrLWvs7ufPb09nHHYupZn96O7nLKpvtdc0s1T8zd191p7C9EZ63tI6WmBKoI9JcuJWWxKyxhMyO8Ow5y/6GdNZxq04syDd/VdJvnnZfexLd5+d5Oy19ap62oLdD5hp1shT1tT2LF+bL3987RmHqnpVZlM1BRAcKKsyHjl5fns6K7qlVNVPJ/m2zNZ4vzLJJ5J8KMmWuWjzHtN7/I+tqf1asrXGIytwjL991qyf7+7rLzw6BdIvnabtJ8krquqBB7C/GzFmvuWq6tTMwpvXJfmVzAKm63X3m6alWHvGUXetqpdnFqRcdSB7XWOlxqJrCSBuuU8neXFVPXlN/ctJHrECFyG7NrNet6rrpq8vT3+ugi8tu4E1/jnJL1XVk9bUt1RKOl1J+L+uc/eWeU27u6vqedl7DeghmR283r6crm6Wrf7elGzt96f53u45dyZij3tmtl4YDpRVHY90Zu/xe473S9fdP5fZWdHrVdW3ZjZtfMv0uQFb5j10BY7x/5jkN6pq7Vn5n+3uC6dA+lNr7tsyr+/EmPkmqKqnJvlCd7962n5zZp96sdabc+OTdmdnNitqKScZVn0sWrPlTgBsVFX9Yfa++nEluai7f3pJLQEAcAvMXRT3jUmO7u5XV9WPJ3ls9g51bpXkYd29zABlZceiZkAA3HSf7+4Tlt0EAACbZtGMrGOSnNDdu5fW1WIrOxYVQADcdFctmHL/j9194jKaAQDglunuazL7xLB5Fyb57brxBStO6+4PHJjOFlrZsaglGAAAAMBwh+x/FwAAAIBbRgABAAAADCeAAJIkVfWaqrr73PYzq+qCNfu89WY+9u/c0v4AgO3PeAS2NwEEsMfvJnnk3PZDkny8qu6YJFV15ySX38zHPuwW9gYAHByMR2AbcxFKIElSVbdP8uru/r7p9guTXJDkdt39+qr6gcwO+N+Q5KuTXJvkyiQ/keSuSc7M7MB+/vT10iQfzyzovH93/4eq+pEk/y7J1UnO7u6PHMAfEQDY4oxHYHvzMZxAkqS7P1dVh1XV4ZmdefidJH+Y5FVJXp/k25K8Ocmtu/sZSVJVJyd5RmYDg/sl+cbu/lJVvTLJT3f3h6rqHknePT3NI5I8vbtv7pkLAGAbMx6B7c0SDGDehUkeluS4JL/f3VclOayqbpekk3zttM8e70ny9dPti7v7S9Pteyb5qyTp7suS/MNU/4EkP1pVv1hVtxn6kwAAq8p4BLYpAQQw7+1JHpvk0O7+wlS7KMkLMjv78MEkx87t/9AkH5huXztX/2iSY5Kkqr46yZ2TpLs/093PT/KXSZ4+oH8AYPUZj8A2ZQkGcL3u/r9V9cAkvzJXfkeSv0ny1d39j1X1wKp6TWYH+H9O8pNJ7pbkurnveVGSl1TVP2a2LvPvk6SqfjmzdZl3TvJfRv88AMDqMR6B7ctFKAEAAIDhLMEAAAAAhhNAAAAAAMMJIAAAAIDhBBAAAADAcAIIAAAAYDgBBAAAADCcAAIAAAAYTgABAAAADPf/A737T6sqi3yvAAAAAElFTkSuQmCC\n",
      "text/plain": [
       "<Figure size 1296x576 with 2 Axes>"
      ]
     },
     "metadata": {
      "needs_background": "light"
     },
     "output_type": "display_data"
    }
   ],
   "source": [
    "# 각 클래스별로 시각화\n",
    "for class_name in classes:\n",
    "    print(f\"Class: {class_name}\")\n",
    "    print(\"A 데이터셋의 상위 10개 단어:\")\n",
    "    top_words_A = get_top_words(A_data, class_name)\n",
    "    print(top_words_A)\n",
    "\n",
    "    print(\"\\nB 데이터셋의 상위 10개 단어:\")\n",
    "    top_words_B = get_top_words(B_data, class_name)\n",
    "    print(top_words_B)\n",
    "\n",
    "    plot_top_words(top_words_A, top_words_B, class_name)"
   ]
  },
  {
   "cell_type": "markdown",
<<<<<<< HEAD
   "id": "c56d4b9c",
=======
   "id": "8558b087",
>>>>>>> 5e39140e2cb83cd422df11d7435d75beb7c529df
   "metadata": {
    "id": "a2dc1dd9"
   },
   "source": [
    "## 전처리"
   ]
  },
  {
   "cell_type": "markdown",
<<<<<<< HEAD
   "id": "3d72b808",
=======
   "id": "e98ccf35",
>>>>>>> 5e39140e2cb83cd422df11d7435d75beb7c529df
   "metadata": {
    "id": "01b2fd43"
   },
   "source": [
    "### 기본 전처리"
   ]
  },
  {
   "cell_type": "markdown",
<<<<<<< HEAD
   "id": "eda9a14a",
=======
   "id": "0a5b6dea",
>>>>>>> 5e39140e2cb83cd422df11d7435d75beb7c529df
   "metadata": {
    "id": "OYxUovemAv20"
   },
   "source": [
    "#### 중복값 여부 찾아보기"
   ]
  },
  {
   "cell_type": "code",
   "execution_count": 22,
<<<<<<< HEAD
   "id": "8c6e2da7",
=======
   "id": "7b097589",
>>>>>>> 5e39140e2cb83cd422df11d7435d75beb7c529df
   "metadata": {
    "colab": {
     "base_uri": "https://localhost:8080/",
     "height": 89
    },
    "id": "cB1L0F_TAi_C",
    "outputId": "b61694e1-9aab-493d-92b0-2d51a5c1a8a8"
   },
   "outputs": [
    {
     "data": {
      "text/html": [
       "<div>\n",
       "<style scoped>\n",
       "    .dataframe tbody tr th:only-of-type {\n",
       "        vertical-align: middle;\n",
       "    }\n",
       "\n",
       "    .dataframe tbody tr th {\n",
       "        vertical-align: top;\n",
       "    }\n",
       "\n",
       "    .dataframe thead th {\n",
       "        text-align: right;\n",
       "    }\n",
       "</style>\n",
       "<table border=\"1\" class=\"dataframe\">\n",
       "  <thead>\n",
       "    <tr style=\"text-align: right;\">\n",
       "      <th></th>\n",
       "      <th>idx</th>\n",
       "      <th>class</th>\n",
       "      <th>conversation</th>\n",
       "    </tr>\n",
       "  </thead>\n",
       "  <tbody>\n",
       "  </tbody>\n",
       "</table>\n",
       "</div>"
      ],
      "text/plain": [
       "Empty DataFrame\n",
       "Columns: [idx, class, conversation]\n",
       "Index: []"
      ]
     },
     "execution_count": 22,
     "metadata": {},
     "output_type": "execute_result"
    }
   ],
   "source": [
    "# 중복값 찾기\n",
    "duplicates = train_data[train_data.duplicated()]\n",
    "duplicates"
   ]
  },
  {
   "cell_type": "markdown",
<<<<<<< HEAD
   "id": "3fc49ec3",
=======
   "id": "bd458a62",
>>>>>>> 5e39140e2cb83cd422df11d7435d75beb7c529df
   "metadata": {},
   "source": [
    "중복값 없음"
   ]
  },
  {
   "cell_type": "markdown",
<<<<<<< HEAD
   "id": "2eb3845d",
=======
   "id": "08cd7f55",
>>>>>>> 5e39140e2cb83cd422df11d7435d75beb7c529df
   "metadata": {
    "id": "j0pOinZUARe5"
   },
   "source": [
    "#### 결측치 여부 확인하기"
   ]
  },
  {
   "cell_type": "code",
   "execution_count": 23,
<<<<<<< HEAD
   "id": "1364ccca",
=======
   "id": "f9bd976a",
>>>>>>> 5e39140e2cb83cd422df11d7435d75beb7c529df
   "metadata": {
    "colab": {
     "base_uri": "https://localhost:8080/"
    },
    "id": "f5JBxYdiAMVC",
    "outputId": "e600fe25-72c4-47c4-e687-cacd5a91e6f9"
   },
   "outputs": [
    {
     "data": {
      "text/plain": [
       "idx             0\n",
       "class           0\n",
       "conversation    0\n",
       "dtype: int64"
      ]
     },
     "execution_count": 23,
     "metadata": {},
     "output_type": "execute_result"
    }
   ],
   "source": [
    "# 결측치 여부 확인하기\n",
    "train_data.isnull().sum()"
   ]
  },
  {
   "cell_type": "markdown",
<<<<<<< HEAD
   "id": "2a19d7fa",
=======
   "id": "74d1ceb5",
>>>>>>> 5e39140e2cb83cd422df11d7435d75beb7c529df
   "metadata": {},
   "source": [
    "결측치 없음"
   ]
  },
  {
   "cell_type": "markdown",
<<<<<<< HEAD
   "id": "73f05342",
=======
   "id": "ba8f0313",
>>>>>>> 5e39140e2cb83cd422df11d7435d75beb7c529df
   "metadata": {
    "id": "5StEP_y9HGHC"
   },
   "source": [
    "#### 클래스 컬럼 인코딩하기"
   ]
  },
  {
   "cell_type": "code",
   "execution_count": 24,
<<<<<<< HEAD
   "id": "f96a4c27",
=======
   "id": "0e5add91",
>>>>>>> 5e39140e2cb83cd422df11d7435d75beb7c529df
   "metadata": {
    "id": "GjX684X4HDdT"
   },
   "outputs": [],
   "source": [
    "# 'class'를 'type'으로 매핑하는 딕셔너리 생성하기\n",
    "class_to_type = {\n",
    "    '협박 대화': 0,\n",
    "    '갈취 대화': 1,\n",
    "    '직장 내 괴롭힘 대화': 2,\n",
    "    '기타 괴롭힘 대화': 3,\n",
    "    '일반 대화': 4\n",
    "}"
   ]
  },
  {
   "cell_type": "code",
   "execution_count": 25,
<<<<<<< HEAD
   "id": "bfeb4b02",
=======
   "id": "4c6cf37b",
>>>>>>> 5e39140e2cb83cd422df11d7435d75beb7c529df
   "metadata": {
    "id": "xRYGA8ftH-4V"
   },
   "outputs": [],
   "source": [
    "# 'class' 열을 기반으로 새로운 'type' 열 추가하기\n",
    "train_data['type'] = train_data['class'].map(class_to_type)"
   ]
  },
  {
   "cell_type": "code",
   "execution_count": 26,
<<<<<<< HEAD
   "id": "782cea14",
=======
   "id": "8fba3875",
>>>>>>> 5e39140e2cb83cd422df11d7435d75beb7c529df
   "metadata": {
    "colab": {
     "base_uri": "https://localhost:8080/",
     "height": 206
    },
    "id": "EtcFaPyJIHGk",
    "outputId": "d67bb466-6612-4dd5-e289-4031489f5299"
   },
   "outputs": [
    {
     "data": {
      "text/html": [
       "<div>\n",
       "<style scoped>\n",
       "    .dataframe tbody tr th:only-of-type {\n",
       "        vertical-align: middle;\n",
       "    }\n",
       "\n",
       "    .dataframe tbody tr th {\n",
       "        vertical-align: top;\n",
       "    }\n",
       "\n",
       "    .dataframe thead th {\n",
       "        text-align: right;\n",
       "    }\n",
       "</style>\n",
       "<table border=\"1\" class=\"dataframe\">\n",
       "  <thead>\n",
       "    <tr style=\"text-align: right;\">\n",
       "      <th></th>\n",
       "      <th>idx</th>\n",
       "      <th>class</th>\n",
       "      <th>conversation</th>\n",
       "      <th>type</th>\n",
       "    </tr>\n",
       "  </thead>\n",
       "  <tbody>\n",
       "    <tr>\n",
       "      <th>0</th>\n",
       "      <td>0</td>\n",
       "      <td>일반 대화</td>\n",
       "      <td>학교 점심 뭐 나와?\\n주로 한식이 나와.\\n학원 다녀?\\n응, 영어 학원 다녀.\\...</td>\n",
       "      <td>4</td>\n",
       "    </tr>\n",
       "    <tr>\n",
       "      <th>1</th>\n",
       "      <td>1</td>\n",
       "      <td>기타 괴롭힘 대화</td>\n",
       "      <td>어이 거기 뒤뚱거리는 놈 \\n나?\\n그래 너 여기 뒤뚱거리는 놈이 너밖에 더 있냐?...</td>\n",
       "      <td>3</td>\n",
       "    </tr>\n",
       "    <tr>\n",
       "      <th>2</th>\n",
       "      <td>2</td>\n",
       "      <td>협박 대화</td>\n",
       "      <td>너 그따위로 운전하면 확 갈아마셔버린다.\\n 뭐라구?\\n 나와 이 자식아. 미안하단...</td>\n",
       "      <td>0</td>\n",
       "    </tr>\n",
       "    <tr>\n",
       "      <th>3</th>\n",
       "      <td>3</td>\n",
       "      <td>직장 내 괴롭힘 대화</td>\n",
       "      <td>길동씨 이번에 이것좀 처리해요\\n이거 제가 한게 아닌데요\\n팀에서 내가 니가가 어딨...</td>\n",
       "      <td>2</td>\n",
       "    </tr>\n",
       "    <tr>\n",
       "      <th>4</th>\n",
       "      <td>4</td>\n",
       "      <td>일반 대화</td>\n",
       "      <td>비가 많이 오네.\\n우산 가져왔어?\\n날씨가 추워졌어.\\n맞아, 이제 겨울이야.\\n...</td>\n",
       "      <td>4</td>\n",
       "    </tr>\n",
       "  </tbody>\n",
       "</table>\n",
       "</div>"
      ],
      "text/plain": [
       "   idx        class                                       conversation  type\n",
       "0    0        일반 대화  학교 점심 뭐 나와?\\n주로 한식이 나와.\\n학원 다녀?\\n응, 영어 학원 다녀.\\...     4\n",
       "1    1    기타 괴롭힘 대화  어이 거기 뒤뚱거리는 놈 \\n나?\\n그래 너 여기 뒤뚱거리는 놈이 너밖에 더 있냐?...     3\n",
       "2    2        협박 대화  너 그따위로 운전하면 확 갈아마셔버린다.\\n 뭐라구?\\n 나와 이 자식아. 미안하단...     0\n",
       "3    3  직장 내 괴롭힘 대화  길동씨 이번에 이것좀 처리해요\\n이거 제가 한게 아닌데요\\n팀에서 내가 니가가 어딨...     2\n",
       "4    4        일반 대화  비가 많이 오네.\\n우산 가져왔어?\\n날씨가 추워졌어.\\n맞아, 이제 겨울이야.\\n...     4"
      ]
     },
     "execution_count": 26,
     "metadata": {},
     "output_type": "execute_result"
    }
   ],
   "source": [
    "# type 열 추가했는지 확인하기\n",
    "train_data.head()"
   ]
  },
  {
   "cell_type": "code",
   "execution_count": 27,
<<<<<<< HEAD
   "id": "6ce8170d",
=======
   "id": "69e85661",
>>>>>>> 5e39140e2cb83cd422df11d7435d75beb7c529df
   "metadata": {
    "id": "A1jo-6qkHstg"
   },
   "outputs": [
    {
     "data": {
      "text/html": [
       "<div>\n",
       "<style scoped>\n",
       "    .dataframe tbody tr th:only-of-type {\n",
       "        vertical-align: middle;\n",
       "    }\n",
       "\n",
       "    .dataframe tbody tr th {\n",
       "        vertical-align: top;\n",
       "    }\n",
       "\n",
       "    .dataframe thead th {\n",
       "        text-align: right;\n",
       "    }\n",
       "</style>\n",
       "<table border=\"1\" class=\"dataframe\">\n",
       "  <thead>\n",
       "    <tr style=\"text-align: right;\">\n",
       "      <th></th>\n",
       "      <th>conversation</th>\n",
       "      <th>type</th>\n",
       "    </tr>\n",
       "  </thead>\n",
       "  <tbody>\n",
       "    <tr>\n",
       "      <th>0</th>\n",
       "      <td>학교 점심 뭐 나와?\\n주로 한식이 나와.\\n학원 다녀?\\n응, 영어 학원 다녀.\\...</td>\n",
       "      <td>4</td>\n",
       "    </tr>\n",
       "    <tr>\n",
       "      <th>1</th>\n",
       "      <td>어이 거기 뒤뚱거리는 놈 \\n나?\\n그래 너 여기 뒤뚱거리는 놈이 너밖에 더 있냐?...</td>\n",
       "      <td>3</td>\n",
       "    </tr>\n",
       "    <tr>\n",
       "      <th>2</th>\n",
       "      <td>너 그따위로 운전하면 확 갈아마셔버린다.\\n 뭐라구?\\n 나와 이 자식아. 미안하단...</td>\n",
       "      <td>0</td>\n",
       "    </tr>\n",
       "    <tr>\n",
       "      <th>3</th>\n",
       "      <td>길동씨 이번에 이것좀 처리해요\\n이거 제가 한게 아닌데요\\n팀에서 내가 니가가 어딨...</td>\n",
       "      <td>2</td>\n",
       "    </tr>\n",
       "    <tr>\n",
       "      <th>4</th>\n",
       "      <td>비가 많이 오네.\\n우산 가져왔어?\\n날씨가 추워졌어.\\n맞아, 이제 겨울이야.\\n...</td>\n",
       "      <td>4</td>\n",
       "    </tr>\n",
       "  </tbody>\n",
       "</table>\n",
       "</div>"
      ],
      "text/plain": [
       "                                        conversation  type\n",
       "0  학교 점심 뭐 나와?\\n주로 한식이 나와.\\n학원 다녀?\\n응, 영어 학원 다녀.\\...     4\n",
       "1  어이 거기 뒤뚱거리는 놈 \\n나?\\n그래 너 여기 뒤뚱거리는 놈이 너밖에 더 있냐?...     3\n",
       "2  너 그따위로 운전하면 확 갈아마셔버린다.\\n 뭐라구?\\n 나와 이 자식아. 미안하단...     0\n",
       "3  길동씨 이번에 이것좀 처리해요\\n이거 제가 한게 아닌데요\\n팀에서 내가 니가가 어딨...     2\n",
       "4  비가 많이 오네.\\n우산 가져왔어?\\n날씨가 추워졌어.\\n맞아, 이제 겨울이야.\\n...     4"
      ]
     },
     "execution_count": 27,
     "metadata": {},
     "output_type": "execute_result"
    }
   ],
   "source": [
    "# 기존 idx, class 컬럼 삭제하기\n",
    "new_train_data = train_data.drop(['idx', 'class'], axis=1)\n",
    "# idx, class 컬럼 삭제했는지 확인하기\n",
    "new_train_data.head()"
   ]
  },
  {
   "cell_type": "code",
   "execution_count": 28,
<<<<<<< HEAD
   "id": "ac42f992",
=======
   "id": "c3b5f96d",
>>>>>>> 5e39140e2cb83cd422df11d7435d75beb7c529df
   "metadata": {
    "id": "bPud0R2yIasN"
   },
   "outputs": [],
   "source": [
    "# new_train_data를 train_data에 덮어 씌우기\n",
    "train_data = new_train_data"
   ]
  },
  {
   "cell_type": "markdown",
<<<<<<< HEAD
   "id": "9e62895a",
=======
   "id": "5143eb7a",
>>>>>>> 5e39140e2cb83cd422df11d7435d75beb7c529df
   "metadata": {
    "id": "62e949ca"
   },
   "source": [
    "### 텍스트 전처리"
   ]
  },
  {
   "cell_type": "markdown",
<<<<<<< HEAD
   "id": "0c903b99",
=======
   "id": "1614ea26",
>>>>>>> 5e39140e2cb83cd422df11d7435d75beb7c529df
   "metadata": {},
   "source": [
    "#### 한글 외 문자 삭제\n",
    "한글, '?', '!', '.', '.', 공백 유지"
   ]
  },
  {
   "cell_type": "code",
   "execution_count": 29,
<<<<<<< HEAD
   "id": "eeb9cc5b",
=======
   "id": "41d24f41",
>>>>>>> 5e39140e2cb83cd422df11d7435d75beb7c529df
   "metadata": {},
   "outputs": [],
   "source": [
    "# 전처리 함수\n",
    "def preprocess_sentence(sentence): \n",
    "    # \\n을 공백으로 바꾸기\n",
    "    sentence = re.sub(\"\\n\", \" \", sentence)\n",
    "    \n",
    "    # (ㄱ-ㅎ, ㅏ-ㅣ, \".\", \"?\", \"!\", \",\", ' ')를 제외한 모든 문자를 없애기\n",
    "    sentence = re.sub(\"[^ㄱ-ㅣ가-힣.?!, ]\", \"\", sentence)\n",
    "    \n",
    "    # 단어와 구두점(punctuation) 사이에 공백 추가\n",
    "    sentence = re.sub(r\"([?.!,])\", r\" \\1 \", sentence)\n",
    "    \n",
    "    return sentence"
   ]
  },
  {
   "cell_type": "code",
   "execution_count": 30,
<<<<<<< HEAD
   "id": "4cc7bd99",
=======
   "id": "6d4fea37",
>>>>>>> 5e39140e2cb83cd422df11d7435d75beb7c529df
   "metadata": {},
   "outputs": [
    {
     "data": {
      "text/html": [
       "<div>\n",
       "<style scoped>\n",
       "    .dataframe tbody tr th:only-of-type {\n",
       "        vertical-align: middle;\n",
       "    }\n",
       "\n",
       "    .dataframe tbody tr th {\n",
       "        vertical-align: top;\n",
       "    }\n",
       "\n",
       "    .dataframe thead th {\n",
       "        text-align: right;\n",
       "    }\n",
       "</style>\n",
       "<table border=\"1\" class=\"dataframe\">\n",
       "  <thead>\n",
       "    <tr style=\"text-align: right;\">\n",
       "      <th></th>\n",
       "      <th>conversation</th>\n",
       "      <th>type</th>\n",
       "    </tr>\n",
       "  </thead>\n",
       "  <tbody>\n",
       "    <tr>\n",
       "      <th>0</th>\n",
       "      <td>학교 점심 뭐 나와 ?  주로 한식이 나와 .  학원 다녀 ?  응 ,  영어 학원...</td>\n",
       "      <td>4</td>\n",
       "    </tr>\n",
       "    <tr>\n",
       "      <th>1</th>\n",
       "      <td>어이 거기 뒤뚱거리는 놈  나 ?  그래 너 여기 뒤뚱거리는 놈이 너밖에 더 있냐 ...</td>\n",
       "      <td>3</td>\n",
       "    </tr>\n",
       "    <tr>\n",
       "      <th>2</th>\n",
       "      <td>너 그따위로 운전하면 확 갈아마셔버린다 .   뭐라구 ?   나와 이 자식아 .  ...</td>\n",
       "      <td>0</td>\n",
       "    </tr>\n",
       "    <tr>\n",
       "      <th>3</th>\n",
       "      <td>길동씨 이번에 이것좀 처리해요 이거 제가 한게 아닌데요 팀에서 내가 니가가 어딨어 ...</td>\n",
       "      <td>2</td>\n",
       "    </tr>\n",
       "    <tr>\n",
       "      <th>4</th>\n",
       "      <td>비가 많이 오네 .  우산 가져왔어 ?  날씨가 추워졌어 .  맞아 ,  이제 겨울...</td>\n",
       "      <td>4</td>\n",
       "    </tr>\n",
       "    <tr>\n",
       "      <th>...</th>\n",
       "      <td>...</td>\n",
       "      <td>...</td>\n",
       "    </tr>\n",
       "    <tr>\n",
       "      <th>4945</th>\n",
       "      <td>오 깡패다 니 지금 뭐라했노 말하는것도 깡패네 닌 죽었다 시키야 어디서 건방지게 아...</td>\n",
       "      <td>0</td>\n",
       "    </tr>\n",
       "    <tr>\n",
       "      <th>4946</th>\n",
       "      <td>이거 니 주민등록증 아니야 ?  잃어버린줄 알았는데 . 고마워 !  고맙긴 뭘 근데...</td>\n",
       "      <td>1</td>\n",
       "    </tr>\n",
       "    <tr>\n",
       "      <th>4947</th>\n",
       "      <td>여행 준비 다 했어 ?  아직 ,  짐 싸는 중이야 .  여행 가방은 다 쌌어 ? ...</td>\n",
       "      <td>4</td>\n",
       "    </tr>\n",
       "    <tr>\n",
       "      <th>4948</th>\n",
       "      <td>그거 사줘 안사주면 죽어버릴거야  이러지마 돈없어 나한테 해준게 뭐있어 !  !  ...</td>\n",
       "      <td>0</td>\n",
       "    </tr>\n",
       "    <tr>\n",
       "      <th>4949</th>\n",
       "      <td>얘들아 .  이 년 몰골좀 봐 .   야 .  너 좀 씻고다녀 .  우웩 너희가 나...</td>\n",
       "      <td>3</td>\n",
       "    </tr>\n",
       "  </tbody>\n",
       "</table>\n",
       "<p>4950 rows × 2 columns</p>\n",
       "</div>"
      ],
      "text/plain": [
       "                                           conversation  type\n",
       "0     학교 점심 뭐 나와 ?  주로 한식이 나와 .  학원 다녀 ?  응 ,  영어 학원...     4\n",
       "1     어이 거기 뒤뚱거리는 놈  나 ?  그래 너 여기 뒤뚱거리는 놈이 너밖에 더 있냐 ...     3\n",
       "2     너 그따위로 운전하면 확 갈아마셔버린다 .   뭐라구 ?   나와 이 자식아 .  ...     0\n",
       "3     길동씨 이번에 이것좀 처리해요 이거 제가 한게 아닌데요 팀에서 내가 니가가 어딨어 ...     2\n",
       "4     비가 많이 오네 .  우산 가져왔어 ?  날씨가 추워졌어 .  맞아 ,  이제 겨울...     4\n",
       "...                                                 ...   ...\n",
       "4945  오 깡패다 니 지금 뭐라했노 말하는것도 깡패네 닌 죽었다 시키야 어디서 건방지게 아...     0\n",
       "4946  이거 니 주민등록증 아니야 ?  잃어버린줄 알았는데 . 고마워 !  고맙긴 뭘 근데...     1\n",
       "4947  여행 준비 다 했어 ?  아직 ,  짐 싸는 중이야 .  여행 가방은 다 쌌어 ? ...     4\n",
       "4948  그거 사줘 안사주면 죽어버릴거야  이러지마 돈없어 나한테 해준게 뭐있어 !  !  ...     0\n",
       "4949  얘들아 .  이 년 몰골좀 봐 .   야 .  너 좀 씻고다녀 .  우웩 너희가 나...     3\n",
       "\n",
       "[4950 rows x 2 columns]"
      ]
     },
     "execution_count": 30,
     "metadata": {},
     "output_type": "execute_result"
    }
   ],
   "source": [
    "# 전처리 데이터 새로운 column에 저장\n",
    "train_data['preprocessed'] = train_data['conversation'].apply(preprocess_sentence)\n",
    "\n",
    "train_data['preprocessed']\n",
    "\n",
    "# 기존 'conversation' column 전처리한 데이터로 바꾸기\n",
    "train_data['conversation'] = train_data['preprocessed']\n",
    "train_data.drop('preprocessed', axis=1)"
   ]
  },
  {
   "cell_type": "markdown",
<<<<<<< HEAD
   "id": "22e79512",
=======
   "id": "1c01fcbd",
>>>>>>> 5e39140e2cb83cd422df11d7435d75beb7c529df
   "metadata": {},
   "source": [
    "#### 불용어 삭제\n",
    "[불용어 리스트 출처](https://www.ranks.nl/stopwords/korean)"
   ]
  },
  {
   "cell_type": "code",
   "execution_count": 31,
<<<<<<< HEAD
   "id": "8f54bcc6",
=======
   "id": "1a515981",
>>>>>>> 5e39140e2cb83cd422df11d7435d75beb7c529df
   "metadata": {
    "scrolled": true
   },
   "outputs": [],
   "source": [
    "# 불용어 리스트 불러오기\n",
    "stopwords_path = \"ko_stopwords.txt\"\n",
    "with open(stopwords_path, 'r', encoding='utf-8') as file:\n",
    "    stopwords = file.read().splitlines()"
   ]
  },
  {
   "cell_type": "markdown",
<<<<<<< HEAD
   "id": "7514606d",
=======
   "id": "1140f79e",
>>>>>>> 5e39140e2cb83cd422df11d7435d75beb7c529df
   "metadata": {
    "id": "f2e6fa92"
   },
   "source": [
    "#### 토큰화"
   ]
  },
  {
   "cell_type": "code",
   "execution_count": 32,
<<<<<<< HEAD
   "id": "a532933d",
=======
   "id": "fba3f8cf",
>>>>>>> 5e39140e2cb83cd422df11d7435d75beb7c529df
   "metadata": {},
   "outputs": [],
   "source": [
    "## 시작 토큰, 종료 토큰 추가\n",
    "SPECIAL_TOKENS = ('<pad>', '<unk>', '<sos>', '<eos>')"
   ]
  },
  {
   "cell_type": "code",
   "execution_count": 33,
<<<<<<< HEAD
   "id": "fb3240b6",
=======
   "id": "71b83fb2",
>>>>>>> 5e39140e2cb83cd422df11d7435d75beb7c529df
   "metadata": {},
   "outputs": [],
   "source": [
    "def tokenizing_df(train_data,\n",
    "                 special_tokens = SPECIAL_TOKENS,\n",
    "                 ):\n",
    "    # Okt로 토큰화\n",
    "    tokenizer=Okt()\n",
    "    #tokenizer=Mecab()\n",
    "\n",
    "    def tokenize(conversation, tokenizer):\n",
    "        return [token for token in tokenizer.morphs(conversation) if token not in stopwords]\n",
    "\n",
    "    # 각 conversation을 토큰화하여 새로운 열 'tokenized'에 저장\n",
    "    tokenized = train_data['conversation'].apply(lambda x: tokenize(x, tokenizer))\n",
    "\n",
    "    # 시작 토큰과 종료 토큰을 추가하는 함수 정의\n",
    "    def add_special_tokens(tokens):\n",
    "        return [special_tokens[2]] + tokens + [special_tokens[3]]\n",
    "\n",
    "    # 'tokenized' 열에 함수 적용하여 시작 토큰과 종료 토큰 추가\n",
    "    return tokenized.apply(add_special_tokens)"
   ]
  },
  {
   "cell_type": "code",
   "execution_count": 34,
<<<<<<< HEAD
   "id": "18670e9c",
=======
   "id": "a9962460",
>>>>>>> 5e39140e2cb83cd422df11d7435d75beb7c529df
   "metadata": {},
   "outputs": [],
   "source": [
    "train_data['tokenized'] = tokenizing_df(train_data)"
   ]
  },
  {
   "cell_type": "markdown",
<<<<<<< HEAD
   "id": "6dc0e79d",
=======
   "id": "84feb1fc",
>>>>>>> 5e39140e2cb83cd422df11d7435d75beb7c529df
   "metadata": {},
   "source": [
    "---"
   ]
  },
  {
   "cell_type": "code",
   "execution_count": 37,
<<<<<<< HEAD
   "id": "3cb5cff6",
=======
   "id": "c44098e5",
>>>>>>> 5e39140e2cb83cd422df11d7435d75beb7c529df
   "metadata": {},
   "outputs": [],
   "source": [
    "# vocabulary 파일로 저장\n",
    "word_to_index_path = './vocab.json'\n",
    "import json\n",
    "def save_counter(counter):\n",
    "    with open(word_to_index_path, 'w') as f:\n",
    "        res = {word: idx for idx, (word, _) in enumerate(counter)}\n",
    "        json.dump(counter, f)\n",
    "\n",
    "def load_counter(word_to_index_path):\n",
    "    with open(word_to_index_path, 'r') as f:\n",
    "        return json.load(f)\n",
    "\n",
    "# ## 단어사전 생성\n",
    "# # 'tokenized' 열의 모든 토큰을 모아 등장 빈도 계산\n",
    "# all_tokens = [token for tokens in train_data['tokenized'] for token in tokens]\n",
    "# counter = Counter(all_tokens)\n",
    "# # 가장 많이 등장하는 단어 vocab_size 개수만큼 남기기\n",
    "# counter = counter.most_common(VOCAB_SIZE)\n",
    "    \n",
    "# save_counter(counter)\n",
    "counter = load_counter(word_to_index_path)"
   ]
  },
  {
   "cell_type": "code",
   "execution_count": 38,
<<<<<<< HEAD
   "id": "1a6c6507",
=======
   "id": "f06fcaf2",
>>>>>>> 5e39140e2cb83cd422df11d7435d75beb7c529df
   "metadata": {},
   "outputs": [],
   "source": [
    "word_to_index = {token: idx for idx, token in enumerate(SPECIAL_TOKENS[:2])}\n",
    "word_to_index.update({token: idx + len(SPECIAL_TOKENS[:2]) for idx, (token, _) in enumerate(counter)})"
   ]
  },
  {
   "cell_type": "code",
   "execution_count": 39,
<<<<<<< HEAD
   "id": "c84947d7",
=======
   "id": "1afe09d7",
>>>>>>> 5e39140e2cb83cd422df11d7435d75beb7c529df
   "metadata": {},
   "outputs": [
    {
     "name": "stdout",
     "output_type": "stream",
     "text": [
      "20002\n"
     ]
    }
   ],
   "source": [
    "# 단어사전 크기 20000으로 제한\n",
    "VOCAB_SIZE=len(word_to_index)\n",
    "print(VOCAB_SIZE)"
   ]
  },
  {
   "cell_type": "markdown",
<<<<<<< HEAD
   "id": "d3a0b27c",
=======
   "id": "8f7cae22",
>>>>>>> 5e39140e2cb83cd422df11d7435d75beb7c529df
   "metadata": {},
   "source": [
    "#### 정수인코딩"
   ]
  },
  {
   "cell_type": "code",
   "execution_count": 40,
<<<<<<< HEAD
   "id": "6f0a8419",
=======
   "id": "60369c05",
>>>>>>> 5e39140e2cb83cd422df11d7435d75beb7c529df
   "metadata": {},
   "outputs": [],
   "source": [
    "# 'tokenized' 열의 데이터를 정수 인코딩\n",
    "def encode_tokens(tokens, word_to_index):\n",
    "    unk_index = word_to_index['<unk>']\n",
    "    return [word_to_index.get(token, unk_index) for token in tokens]\n",
    "\n",
    "train_data['encoded'] = train_data['tokenized'].apply(lambda x: encode_tokens(x, word_to_index))"
   ]
  },
  {
   "cell_type": "markdown",
<<<<<<< HEAD
   "id": "6d770527",
=======
   "id": "fbc08cf6",
>>>>>>> 5e39140e2cb83cd422df11d7435d75beb7c529df
   "metadata": {
    "id": "e970c394"
   },
   "source": [
    "## 전처리 후 분석"
   ]
  },
  {
   "cell_type": "markdown",
<<<<<<< HEAD
   "id": "47df4270",
=======
   "id": "c1894c41",
>>>>>>> 5e39140e2cb83cd422df11d7435d75beb7c529df
   "metadata": {},
   "source": [
    "#### 토큰화된 데이터 길이 확인"
   ]
  },
  {
   "cell_type": "code",
   "execution_count": 41,
<<<<<<< HEAD
   "id": "e8161d28",
=======
   "id": "a50b7733",
>>>>>>> 5e39140e2cb83cd422df11d7435d75beb7c529df
   "metadata": {},
   "outputs": [
    {
     "name": "stdout",
     "output_type": "stream",
     "text": [
      "최대 길이: 311\n",
      "최소 길이: 14\n",
      "평균 길이: 77.63575757575758\n",
      "표준편차: 31.53093869760893\n"
     ]
    },
    {
     "data": {
      "image/png": "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\n",
      "text/plain": [
       "<Figure size 432x288 with 1 Axes>"
      ]
     },
     "metadata": {
      "needs_background": "light"
     },
     "output_type": "display_data"
    }
   ],
   "source": [
    "# 'encoded' 열의 각 리스트의 길이 계산\n",
    "lengths = train_data['encoded'].apply(len)\n",
    "\n",
    "print(f\"최대 길이: {lengths.max()}\")\n",
    "print(f\"최소 길이: {lengths.min()}\")\n",
    "print(f\"평균 길이: {lengths.mean()}\")\n",
    "print(f\"표준편차: {lengths.std()}\")\n",
    "\n",
    "# 길이 분포 시각화\n",
    "plt.hist(lengths, bins=50, color='skyblue')\n",
    "plt.show()"
   ]
  },
  {
   "cell_type": "markdown",
<<<<<<< HEAD
   "id": "304eb413",
=======
   "id": "8c1a76a3",
>>>>>>> 5e39140e2cb83cd422df11d7435d75beb7c529df
   "metadata": {},
   "source": [
    "#### 패딩 적용"
   ]
  },
  {
   "cell_type": "code",
   "execution_count": 42,
<<<<<<< HEAD
   "id": "bd1429c8",
=======
   "id": "c51ab6c9",
>>>>>>> 5e39140e2cb83cd422df11d7435d75beb7c529df
   "metadata": {},
   "outputs": [],
   "source": [
    "# 대화 최대 길이 150으로 설정\n",
    "MAX_LENGTH = 150"
   ]
  },
  {
   "cell_type": "markdown",
<<<<<<< HEAD
   "id": "cf6e526b",
=======
   "id": "ee112209",
>>>>>>> 5e39140e2cb83cd422df11d7435d75beb7c529df
   "metadata": {
    "id": "0b636ead"
   },
   "source": [
    "## 데이터 분할"
   ]
  },
  {
   "cell_type": "code",
   "execution_count": 43,
<<<<<<< HEAD
   "id": "d7b30675",
=======
   "id": "70fb781b",
>>>>>>> 5e39140e2cb83cd422df11d7435d75beb7c529df
   "metadata": {},
   "outputs": [
    {
     "name": "stdout",
     "output_type": "stream",
     "text": [
      "훈련 데이터의 개수 : 3960\n",
      "훈련 레이블의 개수 : 3960\n",
      "검증 데이터의 개수 : 495\n",
      "검증 레이블의 개수 : 495\n",
      "테스트 데이터의 개수 : 495\n",
      "테스트 레이블의 개수 : 495\n"
     ]
    }
   ],
   "source": [
    "X = pad_sequences(train_data['encoded'].tolist(), maxlen=MAX_LENGTH, padding='post', truncating='post')\n",
    "y = train_data['type'].values\n",
    "CLS_NUM = y.max() + 1\n",
    "\n",
    "X_train, X_val, y_train, y_val = train_test_split(X, y, test_size=0.2, shuffle=True, random_state=42)\n",
    "X_val, X_test, y_val, y_test = train_test_split(X_val, y_val, test_size=0.5, shuffle=True, random_state=42)\n",
    "\n",
    "print('훈련 데이터의 개수 :', len(X_train))\n",
    "print('훈련 레이블의 개수 :', len(y_train))\n",
    "print('검증 데이터의 개수 :', len(X_val))\n",
    "print('검증 레이블의 개수 :', len(y_val))\n",
    "print('테스트 데이터의 개수 :', len(X_test))\n",
    "print('테스트 레이블의 개수 :', len(y_test))"
   ]
  },
  {
   "cell_type": "markdown",
<<<<<<< HEAD
   "id": "0e0b0ad3",
=======
   "id": "83240928",
>>>>>>> 5e39140e2cb83cd422df11d7435d75beb7c529df
   "metadata": {},
   "source": [
    "# 모델링"
   ]
  },
  {
   "cell_type": "code",
   "execution_count": 44,
<<<<<<< HEAD
   "id": "b0b0c318",
=======
   "id": "e2cc236b",
>>>>>>> 5e39140e2cb83cd422df11d7435d75beb7c529df
   "metadata": {},
   "outputs": [],
   "source": [
    "!pip install wandb==0.16.0 -qq"
   ]
  },
  {
   "cell_type": "code",
   "execution_count": 45,
<<<<<<< HEAD
   "id": "cb135b20",
=======
   "id": "3ee766a0",
>>>>>>> 5e39140e2cb83cd422df11d7435d75beb7c529df
   "metadata": {
    "scrolled": true
   },
   "outputs": [
    {
     "name": "stderr",
     "output_type": "stream",
     "text": [
      "\u001b[34m\u001b[1mwandb\u001b[0m: Currently logged in as: \u001b[33mhojae-choi\u001b[0m (\u001b[33maiffel_minions\u001b[0m). Use \u001b[1m`wandb login --relogin`\u001b[0m to force relogin\n",
      "\u001b[34m\u001b[1mwandb\u001b[0m: \u001b[33mWARNING\u001b[0m If you're specifying your api key in code, ensure this code is not shared publicly.\n",
      "\u001b[34m\u001b[1mwandb\u001b[0m: \u001b[33mWARNING\u001b[0m Consider setting the WANDB_API_KEY environment variable, or running `wandb login` from the command line.\n",
      "\u001b[34m\u001b[1mwandb\u001b[0m: Appending key for api.wandb.ai to your netrc file: /aiffel/.netrc\n"
     ]
    },
    {
     "data": {
      "text/plain": [
       "True"
      ]
     },
     "execution_count": 45,
     "metadata": {},
     "output_type": "execute_result"
    }
   ],
   "source": [
    "import wandb\n",
    "from wandb.keras import WandbCallback\n",
    "\n",
    "wandb.login(key = '746fb761ab2f1b53db2dafef7340caad69224513')"
   ]
  },
  {
   "cell_type": "code",
   "execution_count": 46,
<<<<<<< HEAD
   "id": "426c5bab",
=======
   "id": "067ca401",
>>>>>>> 5e39140e2cb83cd422df11d7435d75beb7c529df
   "metadata": {},
   "outputs": [],
   "source": [
    "sweep_config = {\n",
    "    \"name\": \"sweep_test_nlp\",\n",
    "    \"metric\": {\"name\": \"val_loss\", \"goal\": \"minimize\"},\n",
    "    \"method\": \"random\",\n",
    "    \"parameters\": {\n",
    "        \"learning_rate\" : {\n",
    "            \"min\" : 0.001,\n",
    "            \"max\" : 0.1\n",
    "            },\n",
    "        \"epoch\" : {\n",
    "            \"distribution\" : \"int_uniform\",\n",
    "            \"min\" : 5,\n",
    "            \"max\" : 10\n",
    "            }\n",
    "                    \n",
    "        }\n",
    "    }"
   ]
  },
  {
   "cell_type": "code",
   "execution_count": 47,
<<<<<<< HEAD
   "id": "db64c62f",
=======
   "id": "ace18efc",
>>>>>>> 5e39140e2cb83cd422df11d7435d75beb7c529df
   "metadata": {},
   "outputs": [],
   "source": [
    "from  tensorflow import keras\n",
    "def build_model(config):\n",
    "    model=keras.models.Sequential()\n",
    "    model.add(keras.layers.Embedding(config.vocab, config.embeddings))\n",
    "    model.add(keras.layers.GRU(units = config.units_1, return_sequences = True))\n",
    "    model.add(keras.layers.GRU(units = config.units_2))\n",
    "    model.add(keras.layers.Dense(config.units_3, activation='relu'))\n",
    "    model.add(keras.layers.Dense(config.class_num, activation='softmax'))\n",
    "\n",
    "    return model\n",
    "    "
   ]
  },
  {
   "cell_type": "code",
   "execution_count": 48,
<<<<<<< HEAD
   "id": "3e2ada8d",
=======
   "id": "5eb90a74",
>>>>>>> 5e39140e2cb83cd422df11d7435d75beb7c529df
   "metadata": {},
   "outputs": [],
   "source": [
    "\n",
    "class Config(dict):\n",
    "    def __init__(self, *args, **kwargs):\n",
    "        super(Config, self).__init__(*args, **kwargs)\n",
    "        self.__dict__ = self"
   ]
  },
  {
   "cell_type": "code",
   "execution_count": 54,
<<<<<<< HEAD
   "id": "628041ba",
=======
   "id": "e1579590",
>>>>>>> 5e39140e2cb83cd422df11d7435d75beb7c529df
   "metadata": {},
   "outputs": [],
   "source": [
    "import tensorflow_addons as tfa\n",
    "from sklearn.metrics import (\n",
    "    accuracy_score, \n",
    "    precision_score, \n",
    "    recall_score, \n",
    "    f1_score, \n",
    "    confusion_matrix, \n",
    "    ConfusionMatrixDisplay, \n",
    "    classification_report\n",
    "    )\n",
    "\n",
    "\n",
    "def train():\n",
    "    default_config = {\n",
    "        \"vocab\" : VOCAB_SIZE,\n",
    "        \"embeddings\" : 64,\n",
    "        \"units_1\" : 256,\n",
    "        \"units_2\" : 256,\n",
    "        \"units_3\" : 1024,\n",
    "        \"class_num\" : CLS_NUM,\n",
    "        \"learning_rate\" : 0.005,\n",
    "        \"optimizer\" : \"adam\",\n",
    "        \"loss\" : \"sparse_categorical_crossentropy\",\n",
    "        \"metrics\" : [\"accuracy\"],\n",
    "        \"epoch\" : 10,\n",
    "        \"batch_size\" : 32\n",
    "    }\n",
    "\n",
    "    wandb.init(config = default_config)\n",
    "    config = wandb.config\n",
    "#     config = Config(default_config)\n",
    "\n",
    "    # Model\n",
    "    keras.backend.clear_session()\n",
    "    model = build_model(config)\n",
    "\n",
    "    # 머신 러닝 학습때 여러가지 optimzier를 사용할 경우나 learning rate를 조절할 경우에는 아래와 같은 형태의 코드를 응용합니다.\n",
    "    if config.optimizer == 'adam':\n",
    "        optimizer = keras.optimizers.Adam(learning_rate = config.learning_rate)\n",
    "    \n",
    "    model.compile(optimizer = optimizer,\n",
    "                  loss = config.loss,\n",
    "                  metrics = config.metrics)\n",
    "\n",
    "    # WandbCallback 함수는 후술합니다.\n",
    "    \n",
    "    history = model.fit(X_train, y_train,\n",
    "              epochs = config.epoch,\n",
    "              shuffle=True,\n",
    "              batch_size = config.batch_size,\n",
    "              validation_data = (X_val, y_val),\n",
    "              callbacks = [WandbCallback()],\n",
    "             )\n",
    "    \n",
    "    test_loss, test_accuracy = model.evaluate(X_test, y_test, verbose=2)\n",
    "    pred_test = model.predict(X_test).argmax(axis=1)\n",
    "    f1_score_res = f1_score(y_test, pred_test, average='micro')\n",
    "    # wandb.log 함수 안에 기록하고 싶은 정보를 담습니다.\n",
    "\n",
    "    wandb.log({\"Test Accuracy Rate: \" : round(test_accuracy * 100, 2),\n",
    "               \"Test F1 Score: \": round(f1_score_res * 100, 2),\n",
    "               \"Test Error Rate: \" : round((1 - test_accuracy) * 100, 2)})\n",
    "    return history"
   ]
  },
  {
   "cell_type": "code",
<<<<<<< HEAD
   "execution_count": 55,
   "id": "ec46b9b6",
=======
   "execution_count": 56,
   "id": "1ef199c3",
>>>>>>> 5e39140e2cb83cd422df11d7435d75beb7c529df
   "metadata": {},
   "outputs": [
    {
     "name": "stdout",
     "output_type": "stream",
     "text": [
      "Create sweep with ID: 41plscik\n",
      "Sweep URL: https://wandb.ai/aiffel_minions/DLthon_baseline_GRU/sweeps/41plscik\n"
     ]
    },
    {
     "name": "stderr",
     "output_type": "stream",
     "text": [
      "\u001b[34m\u001b[1mwandb\u001b[0m: Agent Starting Run: 9tid43ts with config:\n",
      "\u001b[34m\u001b[1mwandb\u001b[0m: \tepoch: 7\n",
      "\u001b[34m\u001b[1mwandb\u001b[0m: \tlearning_rate: 0.007387234853647828\n"
     ]
    },
    {
     "data": {
      "text/html": [
       "wandb version 0.17.3 is available!  To upgrade, please run:\n",
       " $ pip install wandb --upgrade"
      ],
      "text/plain": [
       "<IPython.core.display.HTML object>"
      ]
     },
     "metadata": {},
     "output_type": "display_data"
    },
    {
     "data": {
      "text/html": [
       "Tracking run with wandb version 0.16.0"
      ],
      "text/plain": [
       "<IPython.core.display.HTML object>"
      ]
     },
     "metadata": {},
     "output_type": "display_data"
    },
    {
     "data": {
      "text/html": [
       "Run data is saved locally in <code>/aiffel/aiffel/dlthon-minions/dlthon-stuart/wandb/run-20240625_055019-9tid43ts</code>"
      ],
      "text/plain": [
       "<IPython.core.display.HTML object>"
      ]
     },
     "metadata": {},
     "output_type": "display_data"
    },
    {
     "data": {
      "text/html": [
       "Syncing run <strong><a href='https://wandb.ai/aiffel_minions/DLthon_baseline_GRU/runs/9tid43ts' target=\"_blank\">absurd-sweep-1</a></strong> to <a href='https://wandb.ai/aiffel_minions/DLthon_baseline_GRU' target=\"_blank\">Weights & Biases</a> (<a href='https://wandb.me/run' target=\"_blank\">docs</a>)<br/>Sweep page: <a href='https://wandb.ai/aiffel_minions/DLthon_baseline_GRU/sweeps/41plscik' target=\"_blank\">https://wandb.ai/aiffel_minions/DLthon_baseline_GRU/sweeps/41plscik</a>"
      ],
      "text/plain": [
       "<IPython.core.display.HTML object>"
      ]
     },
     "metadata": {},
     "output_type": "display_data"
    },
    {
     "data": {
      "text/html": [
       " View project at <a href='https://wandb.ai/aiffel_minions/DLthon_baseline_GRU' target=\"_blank\">https://wandb.ai/aiffel_minions/DLthon_baseline_GRU</a>"
      ],
      "text/plain": [
       "<IPython.core.display.HTML object>"
      ]
     },
     "metadata": {},
     "output_type": "display_data"
    },
    {
     "data": {
      "text/html": [
       " View sweep at <a href='https://wandb.ai/aiffel_minions/DLthon_baseline_GRU/sweeps/41plscik' target=\"_blank\">https://wandb.ai/aiffel_minions/DLthon_baseline_GRU/sweeps/41plscik</a>"
      ],
      "text/plain": [
       "<IPython.core.display.HTML object>"
      ]
     },
     "metadata": {},
     "output_type": "display_data"
    },
    {
     "data": {
      "text/html": [
       " View run at <a href='https://wandb.ai/aiffel_minions/DLthon_baseline_GRU/runs/9tid43ts' target=\"_blank\">https://wandb.ai/aiffel_minions/DLthon_baseline_GRU/runs/9tid43ts</a>"
      ],
      "text/plain": [
       "<IPython.core.display.HTML object>"
      ]
     },
     "metadata": {},
     "output_type": "display_data"
    },
    {
     "name": "stdout",
     "output_type": "stream",
     "text": [
      "Epoch 1/7\n",
      "124/124 [==============================] - 6s 23ms/step - loss: 2.0138 - accuracy: 0.1992 - val_loss: 1.6069 - val_accuracy: 0.2667\n"
     ]
    },
    {
     "name": "stderr",
     "output_type": "stream",
     "text": [
      "WARNING:absl:Found untraced functions such as gru_cell_layer_call_and_return_conditional_losses, gru_cell_layer_call_fn, gru_cell_1_layer_call_and_return_conditional_losses, gru_cell_1_layer_call_fn, gru_cell_layer_call_fn while saving (showing 5 of 10). These functions will not be directly callable after loading.\n"
     ]
    },
    {
     "name": "stdout",
     "output_type": "stream",
     "text": [
      "INFO:tensorflow:Assets written to: /aiffel/aiffel/dlthon-minions/dlthon-stuart/wandb/run-20240625_055019-9tid43ts/files/model-best/assets\n"
     ]
    },
    {
     "name": "stderr",
     "output_type": "stream",
     "text": [
      "INFO:tensorflow:Assets written to: /aiffel/aiffel/dlthon-minions/dlthon-stuart/wandb/run-20240625_055019-9tid43ts/files/model-best/assets\n",
      "\u001b[34m\u001b[1mwandb\u001b[0m: Adding directory to artifact (/aiffel/aiffel/dlthon-minions/dlthon-stuart/wandb/run-20240625_055019-9tid43ts/files/model-best)... Done. 0.1s\n"
     ]
    },
    {
     "name": "stdout",
     "output_type": "stream",
     "text": [
      "Epoch 2/7\n",
      "124/124 [==============================] - 2s 18ms/step - loss: 1.6087 - accuracy: 0.2071 - val_loss: 1.6053 - val_accuracy: 0.2667\n"
     ]
    },
    {
     "name": "stderr",
     "output_type": "stream",
     "text": [
      "WARNING:absl:Found untraced functions such as gru_cell_layer_call_and_return_conditional_losses, gru_cell_layer_call_fn, gru_cell_1_layer_call_and_return_conditional_losses, gru_cell_1_layer_call_fn, gru_cell_layer_call_fn while saving (showing 5 of 10). These functions will not be directly callable after loading.\n"
     ]
    },
    {
     "name": "stdout",
     "output_type": "stream",
     "text": [
      "INFO:tensorflow:Assets written to: /aiffel/aiffel/dlthon-minions/dlthon-stuart/wandb/run-20240625_055019-9tid43ts/files/model-best/assets\n"
     ]
    },
    {
     "name": "stderr",
     "output_type": "stream",
     "text": [
      "INFO:tensorflow:Assets written to: /aiffel/aiffel/dlthon-minions/dlthon-stuart/wandb/run-20240625_055019-9tid43ts/files/model-best/assets\n",
      "\u001b[34m\u001b[1mwandb\u001b[0m: Adding directory to artifact (/aiffel/aiffel/dlthon-minions/dlthon-stuart/wandb/run-20240625_055019-9tid43ts/files/model-best)... Done. 0.1s\n"
     ]
    },
    {
     "name": "stdout",
     "output_type": "stream",
     "text": [
      "Epoch 3/7\n",
      "124/124 [==============================] - 2s 18ms/step - loss: 1.6088 - accuracy: 0.2139 - val_loss: 1.6046 - val_accuracy: 0.2667\n"
     ]
    },
    {
     "name": "stderr",
     "output_type": "stream",
     "text": [
      "WARNING:absl:Found untraced functions such as gru_cell_layer_call_and_return_conditional_losses, gru_cell_layer_call_fn, gru_cell_1_layer_call_and_return_conditional_losses, gru_cell_1_layer_call_fn, gru_cell_layer_call_fn while saving (showing 5 of 10). These functions will not be directly callable after loading.\n"
     ]
    },
    {
     "name": "stdout",
     "output_type": "stream",
     "text": [
      "INFO:tensorflow:Assets written to: /aiffel/aiffel/dlthon-minions/dlthon-stuart/wandb/run-20240625_055019-9tid43ts/files/model-best/assets\n"
     ]
    },
    {
     "name": "stderr",
     "output_type": "stream",
     "text": [
      "INFO:tensorflow:Assets written to: /aiffel/aiffel/dlthon-minions/dlthon-stuart/wandb/run-20240625_055019-9tid43ts/files/model-best/assets\n",
      "\u001b[34m\u001b[1mwandb\u001b[0m: Adding directory to artifact (/aiffel/aiffel/dlthon-minions/dlthon-stuart/wandb/run-20240625_055019-9tid43ts/files/model-best)... Done. 0.1s\n"
     ]
    },
    {
     "name": "stdout",
     "output_type": "stream",
     "text": [
      "Epoch 4/7\n",
      "124/124 [==============================] - 2s 18ms/step - loss: 1.6090 - accuracy: 0.2098 - val_loss: 1.6036 - val_accuracy: 0.2667\n"
     ]
    },
    {
     "name": "stderr",
     "output_type": "stream",
     "text": [
      "WARNING:absl:Found untraced functions such as gru_cell_layer_call_and_return_conditional_losses, gru_cell_layer_call_fn, gru_cell_1_layer_call_and_return_conditional_losses, gru_cell_1_layer_call_fn, gru_cell_layer_call_fn while saving (showing 5 of 10). These functions will not be directly callable after loading.\n"
     ]
    },
    {
     "name": "stdout",
     "output_type": "stream",
     "text": [
      "INFO:tensorflow:Assets written to: /aiffel/aiffel/dlthon-minions/dlthon-stuart/wandb/run-20240625_055019-9tid43ts/files/model-best/assets\n"
     ]
    },
    {
     "name": "stderr",
     "output_type": "stream",
     "text": [
      "INFO:tensorflow:Assets written to: /aiffel/aiffel/dlthon-minions/dlthon-stuart/wandb/run-20240625_055019-9tid43ts/files/model-best/assets\n",
      "\u001b[34m\u001b[1mwandb\u001b[0m: Adding directory to artifact (/aiffel/aiffel/dlthon-minions/dlthon-stuart/wandb/run-20240625_055019-9tid43ts/files/model-best)... Done. 0.1s\n"
     ]
    },
    {
     "name": "stdout",
     "output_type": "stream",
     "text": [
      "Epoch 5/7\n",
      "124/124 [==============================] - 2s 19ms/step - loss: 1.6088 - accuracy: 0.2083 - val_loss: 1.6035 - val_accuracy: 0.2667\n"
     ]
    },
    {
     "name": "stderr",
     "output_type": "stream",
     "text": [
      "WARNING:absl:Found untraced functions such as gru_cell_layer_call_and_return_conditional_losses, gru_cell_layer_call_fn, gru_cell_1_layer_call_and_return_conditional_losses, gru_cell_1_layer_call_fn, gru_cell_layer_call_fn while saving (showing 5 of 10). These functions will not be directly callable after loading.\n"
     ]
    },
    {
     "name": "stdout",
     "output_type": "stream",
     "text": [
      "INFO:tensorflow:Assets written to: /aiffel/aiffel/dlthon-minions/dlthon-stuart/wandb/run-20240625_055019-9tid43ts/files/model-best/assets\n"
     ]
    },
    {
     "name": "stderr",
     "output_type": "stream",
     "text": [
      "INFO:tensorflow:Assets written to: /aiffel/aiffel/dlthon-minions/dlthon-stuart/wandb/run-20240625_055019-9tid43ts/files/model-best/assets\n",
      "\u001b[34m\u001b[1mwandb\u001b[0m: Adding directory to artifact (/aiffel/aiffel/dlthon-minions/dlthon-stuart/wandb/run-20240625_055019-9tid43ts/files/model-best)... Done. 0.1s\n"
     ]
    },
    {
     "name": "stdout",
     "output_type": "stream",
     "text": [
      "Epoch 6/7\n",
      "124/124 [==============================] - 2s 18ms/step - loss: 1.6088 - accuracy: 0.2076 - val_loss: 1.6036 - val_accuracy: 0.2667\n",
      "Epoch 7/7\n",
      "124/124 [==============================] - 2s 17ms/step - loss: 1.6089 - accuracy: 0.2030 - val_loss: 1.6062 - val_accuracy: 0.2667\n",
      "16/16 - 0s - loss: 1.6112 - accuracy: 0.2323\n"
     ]
    },
    {
     "data": {
      "application/vnd.jupyter.widget-view+json": {
       "model_id": "",
       "version_major": 2,
       "version_minor": 0
      },
      "text/plain": [
       "VBox(children=(Label(value='157.419 MB of 157.419 MB uploaded (0.063 MB deduped)\\r'), FloatProgress(value=1.0,…"
      ]
     },
     "metadata": {},
     "output_type": "display_data"
    },
    {
     "data": {
      "text/html": [
       "<style>\n",
       "    table.wandb td:nth-child(1) { padding: 0 10px; text-align: left ; width: auto;} td:nth-child(2) {text-align: left ; width: 100%}\n",
       "    .wandb-row { display: flex; flex-direction: row; flex-wrap: wrap; justify-content: flex-start; width: 100% }\n",
       "    .wandb-col { display: flex; flex-direction: column; flex-basis: 100%; flex: 1; padding: 10px; }\n",
       "    </style>\n",
       "<div class=\"wandb-row\"><div class=\"wandb-col\"><h3>Run history:</h3><br/><table class=\"wandb\"><tr><td>Test Accuracy Rate: </td><td>▁</td></tr><tr><td>Test Error Rate: </td><td>▁</td></tr><tr><td>Test F1 Score: </td><td>▁</td></tr><tr><td>accuracy</td><td>▁▅█▆▅▅▃</td></tr><tr><td>epoch</td><td>▁▂▃▅▆▇█</td></tr><tr><td>loss</td><td>█▁▁▁▁▁▁</td></tr><tr><td>val_accuracy</td><td>▁▁▁▁▁▁▁</td></tr><tr><td>val_loss</td><td>█▅▃▁▁▁▇</td></tr></table><br/></div><div class=\"wandb-col\"><h3>Run summary:</h3><br/><table class=\"wandb\"><tr><td>Test Accuracy Rate: </td><td>23.23</td></tr><tr><td>Test Error Rate: </td><td>76.77</td></tr><tr><td>Test F1 Score: </td><td>23.23</td></tr><tr><td>accuracy</td><td>0.20303</td></tr><tr><td>best_epoch</td><td>4</td></tr><tr><td>best_val_loss</td><td>1.60353</td></tr><tr><td>epoch</td><td>6</td></tr><tr><td>loss</td><td>1.60893</td></tr><tr><td>val_accuracy</td><td>0.26667</td></tr><tr><td>val_loss</td><td>1.6062</td></tr></table><br/></div></div>"
      ],
      "text/plain": [
       "<IPython.core.display.HTML object>"
      ]
     },
     "metadata": {},
     "output_type": "display_data"
    },
    {
     "data": {
      "text/html": [
       " View run <strong style=\"color:#cdcd00\">absurd-sweep-1</strong> at: <a href='https://wandb.ai/aiffel_minions/DLthon_baseline_GRU/runs/9tid43ts' target=\"_blank\">https://wandb.ai/aiffel_minions/DLthon_baseline_GRU/runs/9tid43ts</a><br/>Synced 5 W&B file(s), 1 media file(s), 20 artifact file(s) and 1 other file(s)"
      ],
      "text/plain": [
       "<IPython.core.display.HTML object>"
      ]
     },
     "metadata": {},
     "output_type": "display_data"
    },
    {
     "data": {
      "text/html": [
       "Find logs at: <code>./wandb/run-20240625_055019-9tid43ts/logs</code>"
      ],
      "text/plain": [
       "<IPython.core.display.HTML object>"
      ]
     },
     "metadata": {},
     "output_type": "display_data"
    },
    {
     "name": "stderr",
     "output_type": "stream",
     "text": [
      "\u001b[34m\u001b[1mwandb\u001b[0m: Agent Starting Run: 5ntm5lh2 with config:\n",
      "\u001b[34m\u001b[1mwandb\u001b[0m: \tepoch: 9\n",
      "\u001b[34m\u001b[1mwandb\u001b[0m: \tlearning_rate: 0.01923099504947712\n"
     ]
    },
    {
     "data": {
      "text/html": [
       "wandb version 0.17.3 is available!  To upgrade, please run:\n",
       " $ pip install wandb --upgrade"
      ],
      "text/plain": [
       "<IPython.core.display.HTML object>"
      ]
     },
     "metadata": {},
     "output_type": "display_data"
    },
    {
     "data": {
      "text/html": [
       "Tracking run with wandb version 0.16.0"
      ],
      "text/plain": [
       "<IPython.core.display.HTML object>"
      ]
     },
     "metadata": {},
     "output_type": "display_data"
    },
    {
     "data": {
      "text/html": [
       "Run data is saved locally in <code>/aiffel/aiffel/dlthon-minions/dlthon-stuart/wandb/run-20240625_055131-5ntm5lh2</code>"
      ],
      "text/plain": [
       "<IPython.core.display.HTML object>"
      ]
     },
     "metadata": {},
     "output_type": "display_data"
    },
    {
     "data": {
      "text/html": [
       "Syncing run <strong><a href='https://wandb.ai/aiffel_minions/DLthon_baseline_GRU/runs/5ntm5lh2' target=\"_blank\">dark-sweep-2</a></strong> to <a href='https://wandb.ai/aiffel_minions/DLthon_baseline_GRU' target=\"_blank\">Weights & Biases</a> (<a href='https://wandb.me/run' target=\"_blank\">docs</a>)<br/>Sweep page: <a href='https://wandb.ai/aiffel_minions/DLthon_baseline_GRU/sweeps/41plscik' target=\"_blank\">https://wandb.ai/aiffel_minions/DLthon_baseline_GRU/sweeps/41plscik</a>"
      ],
      "text/plain": [
       "<IPython.core.display.HTML object>"
      ]
     },
     "metadata": {},
     "output_type": "display_data"
    },
    {
     "data": {
      "text/html": [
       " View project at <a href='https://wandb.ai/aiffel_minions/DLthon_baseline_GRU' target=\"_blank\">https://wandb.ai/aiffel_minions/DLthon_baseline_GRU</a>"
      ],
      "text/plain": [
       "<IPython.core.display.HTML object>"
      ]
     },
     "metadata": {},
     "output_type": "display_data"
    },
    {
     "data": {
      "text/html": [
       " View sweep at <a href='https://wandb.ai/aiffel_minions/DLthon_baseline_GRU/sweeps/41plscik' target=\"_blank\">https://wandb.ai/aiffel_minions/DLthon_baseline_GRU/sweeps/41plscik</a>"
      ],
      "text/plain": [
       "<IPython.core.display.HTML object>"
      ]
     },
     "metadata": {},
     "output_type": "display_data"
    },
    {
     "data": {
      "text/html": [
       " View run at <a href='https://wandb.ai/aiffel_minions/DLthon_baseline_GRU/runs/5ntm5lh2' target=\"_blank\">https://wandb.ai/aiffel_minions/DLthon_baseline_GRU/runs/5ntm5lh2</a>"
      ],
      "text/plain": [
       "<IPython.core.display.HTML object>"
      ]
     },
     "metadata": {},
     "output_type": "display_data"
    },
    {
     "name": "stdout",
     "output_type": "stream",
     "text": [
      "Epoch 1/9\n",
      "124/124 [==============================] - 6s 24ms/step - loss: 2.5457 - accuracy: 0.2217 - val_loss: 1.5787 - val_accuracy: 0.1576\n"
     ]
    },
    {
     "name": "stderr",
     "output_type": "stream",
     "text": [
      "WARNING:absl:Found untraced functions such as gru_cell_layer_call_and_return_conditional_losses, gru_cell_layer_call_fn, gru_cell_1_layer_call_and_return_conditional_losses, gru_cell_1_layer_call_fn, gru_cell_layer_call_fn while saving (showing 5 of 10). These functions will not be directly callable after loading.\n"
     ]
    },
    {
     "name": "stdout",
     "output_type": "stream",
     "text": [
      "INFO:tensorflow:Assets written to: /aiffel/aiffel/dlthon-minions/dlthon-stuart/wandb/run-20240625_055131-5ntm5lh2/files/model-best/assets\n"
     ]
    },
    {
     "name": "stderr",
     "output_type": "stream",
     "text": [
      "INFO:tensorflow:Assets written to: /aiffel/aiffel/dlthon-minions/dlthon-stuart/wandb/run-20240625_055131-5ntm5lh2/files/model-best/assets\n",
      "\u001b[34m\u001b[1mwandb\u001b[0m: Adding directory to artifact (/aiffel/aiffel/dlthon-minions/dlthon-stuart/wandb/run-20240625_055131-5ntm5lh2/files/model-best)... Done. 0.1s\n"
     ]
    },
    {
     "name": "stdout",
     "output_type": "stream",
     "text": [
      "Epoch 2/9\n",
      "124/124 [==============================] - 2s 19ms/step - loss: 1.5851 - accuracy: 0.2545 - val_loss: 1.5647 - val_accuracy: 0.2929\n"
     ]
    },
    {
     "name": "stderr",
     "output_type": "stream",
     "text": [
      "WARNING:absl:Found untraced functions such as gru_cell_layer_call_and_return_conditional_losses, gru_cell_layer_call_fn, gru_cell_1_layer_call_and_return_conditional_losses, gru_cell_1_layer_call_fn, gru_cell_layer_call_fn while saving (showing 5 of 10). These functions will not be directly callable after loading.\n"
     ]
    },
    {
     "name": "stdout",
     "output_type": "stream",
     "text": [
      "INFO:tensorflow:Assets written to: /aiffel/aiffel/dlthon-minions/dlthon-stuart/wandb/run-20240625_055131-5ntm5lh2/files/model-best/assets\n"
     ]
    },
    {
     "name": "stderr",
     "output_type": "stream",
     "text": [
      "INFO:tensorflow:Assets written to: /aiffel/aiffel/dlthon-minions/dlthon-stuart/wandb/run-20240625_055131-5ntm5lh2/files/model-best/assets\n",
      "\u001b[34m\u001b[1mwandb\u001b[0m: Adding directory to artifact (/aiffel/aiffel/dlthon-minions/dlthon-stuart/wandb/run-20240625_055131-5ntm5lh2/files/model-best)... Done. 0.1s\n"
     ]
    },
    {
     "name": "stdout",
     "output_type": "stream",
     "text": [
      "Epoch 3/9\n",
      "124/124 [==============================] - 2s 18ms/step - loss: 1.6028 - accuracy: 0.2268 - val_loss: 1.5982 - val_accuracy: 0.2202\n",
      "Epoch 4/9\n",
      "124/124 [==============================] - 2s 17ms/step - loss: 1.6123 - accuracy: 0.2134 - val_loss: 1.6024 - val_accuracy: 0.2667\n",
      "Epoch 5/9\n",
      "124/124 [==============================] - 2s 17ms/step - loss: 1.6106 - accuracy: 0.1997 - val_loss: 1.6060 - val_accuracy: 0.2182\n",
      "Epoch 6/9\n",
      "124/124 [==============================] - 2s 17ms/step - loss: 1.6107 - accuracy: 0.1997 - val_loss: 1.6056 - val_accuracy: 0.1838\n",
      "Epoch 7/9\n",
      "124/124 [==============================] - 2s 17ms/step - loss: 1.6095 - accuracy: 0.2086 - val_loss: 1.6022 - val_accuracy: 0.2667\n",
      "Epoch 8/9\n",
      "124/124 [==============================] - 2s 17ms/step - loss: 1.6004 - accuracy: 0.2424 - val_loss: 1.7646 - val_accuracy: 0.1636\n",
      "Epoch 9/9\n",
      "124/124 [==============================] - 2s 18ms/step - loss: 1.5736 - accuracy: 0.2798 - val_loss: 1.6178 - val_accuracy: 0.2222\n",
      "16/16 - 0s - loss: 1.6158 - accuracy: 0.2444\n"
     ]
    },
    {
     "data": {
      "application/vnd.jupyter.widget-view+json": {
       "model_id": "",
       "version_major": 2,
       "version_minor": 0
      },
      "text/plain": [
       "VBox(children=(Label(value='78.043 MB of 78.043 MB uploaded (0.016 MB deduped)\\r'), FloatProgress(value=1.0, m…"
      ]
     },
     "metadata": {},
     "output_type": "display_data"
    },
    {
     "data": {
      "text/html": [
       "<style>\n",
       "    table.wandb td:nth-child(1) { padding: 0 10px; text-align: left ; width: auto;} td:nth-child(2) {text-align: left ; width: 100%}\n",
       "    .wandb-row { display: flex; flex-direction: row; flex-wrap: wrap; justify-content: flex-start; width: 100% }\n",
       "    .wandb-col { display: flex; flex-direction: column; flex-basis: 100%; flex: 1; padding: 10px; }\n",
       "    </style>\n",
       "<div class=\"wandb-row\"><div class=\"wandb-col\"><h3>Run history:</h3><br/><table class=\"wandb\"><tr><td>Test Accuracy Rate: </td><td>▁</td></tr><tr><td>Test Error Rate: </td><td>▁</td></tr><tr><td>Test F1 Score: </td><td>▁</td></tr><tr><td>accuracy</td><td>▃▆▃▂▁▁▂▅█</td></tr><tr><td>epoch</td><td>▁▂▃▄▅▅▆▇█</td></tr><tr><td>loss</td><td>█▁▁▁▁▁▁▁▁</td></tr><tr><td>val_accuracy</td><td>▁█▄▇▄▂▇▁▄</td></tr><tr><td>val_loss</td><td>▁▁▂▂▂▂▂█▃</td></tr></table><br/></div><div class=\"wandb-col\"><h3>Run summary:</h3><br/><table class=\"wandb\"><tr><td>Test Accuracy Rate: </td><td>24.44</td></tr><tr><td>Test Error Rate: </td><td>75.56</td></tr><tr><td>Test F1 Score: </td><td>24.44</td></tr><tr><td>accuracy</td><td>0.2798</td></tr><tr><td>best_epoch</td><td>1</td></tr><tr><td>best_val_loss</td><td>1.56472</td></tr><tr><td>epoch</td><td>8</td></tr><tr><td>loss</td><td>1.57357</td></tr><tr><td>val_accuracy</td><td>0.22222</td></tr><tr><td>val_loss</td><td>1.61783</td></tr></table><br/></div></div>"
      ],
      "text/plain": [
       "<IPython.core.display.HTML object>"
      ]
     },
     "metadata": {},
     "output_type": "display_data"
    },
    {
     "data": {
      "text/html": [
       " View run <strong style=\"color:#cdcd00\">dark-sweep-2</strong> at: <a href='https://wandb.ai/aiffel_minions/DLthon_baseline_GRU/runs/5ntm5lh2' target=\"_blank\">https://wandb.ai/aiffel_minions/DLthon_baseline_GRU/runs/5ntm5lh2</a><br/>Synced 5 W&B file(s), 1 media file(s), 8 artifact file(s) and 1 other file(s)"
      ],
      "text/plain": [
       "<IPython.core.display.HTML object>"
      ]
     },
     "metadata": {},
     "output_type": "display_data"
    },
    {
     "data": {
      "text/html": [
       "Find logs at: <code>./wandb/run-20240625_055131-5ntm5lh2/logs</code>"
      ],
      "text/plain": [
       "<IPython.core.display.HTML object>"
      ]
     },
     "metadata": {},
     "output_type": "display_data"
    },
    {
     "name": "stderr",
     "output_type": "stream",
     "text": [
      "\u001b[34m\u001b[1mwandb\u001b[0m: Agent Starting Run: 3gakhobx with config:\n",
      "\u001b[34m\u001b[1mwandb\u001b[0m: \tepoch: 9\n",
      "\u001b[34m\u001b[1mwandb\u001b[0m: \tlearning_rate: 0.03355625233322972\n"
     ]
    },
    {
     "data": {
      "text/html": [
       "wandb version 0.17.3 is available!  To upgrade, please run:\n",
       " $ pip install wandb --upgrade"
      ],
      "text/plain": [
       "<IPython.core.display.HTML object>"
      ]
     },
     "metadata": {},
     "output_type": "display_data"
    },
    {
     "data": {
      "text/html": [
       "Tracking run with wandb version 0.16.0"
      ],
      "text/plain": [
       "<IPython.core.display.HTML object>"
      ]
     },
     "metadata": {},
     "output_type": "display_data"
    },
    {
     "data": {
      "text/html": [
       "Run data is saved locally in <code>/aiffel/aiffel/dlthon-minions/dlthon-stuart/wandb/run-20240625_055224-3gakhobx</code>"
      ],
      "text/plain": [
       "<IPython.core.display.HTML object>"
      ]
     },
     "metadata": {},
     "output_type": "display_data"
    },
    {
     "data": {
      "text/html": [
       "Syncing run <strong><a href='https://wandb.ai/aiffel_minions/DLthon_baseline_GRU/runs/3gakhobx' target=\"_blank\">comic-sweep-3</a></strong> to <a href='https://wandb.ai/aiffel_minions/DLthon_baseline_GRU' target=\"_blank\">Weights & Biases</a> (<a href='https://wandb.me/run' target=\"_blank\">docs</a>)<br/>Sweep page: <a href='https://wandb.ai/aiffel_minions/DLthon_baseline_GRU/sweeps/41plscik' target=\"_blank\">https://wandb.ai/aiffel_minions/DLthon_baseline_GRU/sweeps/41plscik</a>"
      ],
      "text/plain": [
       "<IPython.core.display.HTML object>"
      ]
     },
     "metadata": {},
     "output_type": "display_data"
    },
    {
     "data": {
      "text/html": [
       " View project at <a href='https://wandb.ai/aiffel_minions/DLthon_baseline_GRU' target=\"_blank\">https://wandb.ai/aiffel_minions/DLthon_baseline_GRU</a>"
      ],
      "text/plain": [
       "<IPython.core.display.HTML object>"
      ]
     },
     "metadata": {},
     "output_type": "display_data"
    },
    {
     "data": {
      "text/html": [
       " View sweep at <a href='https://wandb.ai/aiffel_minions/DLthon_baseline_GRU/sweeps/41plscik' target=\"_blank\">https://wandb.ai/aiffel_minions/DLthon_baseline_GRU/sweeps/41plscik</a>"
      ],
      "text/plain": [
       "<IPython.core.display.HTML object>"
      ]
     },
     "metadata": {},
     "output_type": "display_data"
    },
    {
     "data": {
      "text/html": [
       " View run at <a href='https://wandb.ai/aiffel_minions/DLthon_baseline_GRU/runs/3gakhobx' target=\"_blank\">https://wandb.ai/aiffel_minions/DLthon_baseline_GRU/runs/3gakhobx</a>"
      ],
      "text/plain": [
       "<IPython.core.display.HTML object>"
      ]
     },
     "metadata": {},
     "output_type": "display_data"
    },
    {
     "name": "stdout",
     "output_type": "stream",
     "text": [
      "Epoch 1/9\n",
      "124/124 [==============================] - 7s 23ms/step - loss: nan - accuracy: 0.1813 - val_loss: nan - val_accuracy: 0.1677\n",
      "Epoch 2/9\n",
      "124/124 [==============================] - 2s 17ms/step - loss: nan - accuracy: 0.1813 - val_loss: nan - val_accuracy: 0.1677\n",
      "Epoch 3/9\n",
      "124/124 [==============================] - 2s 17ms/step - loss: nan - accuracy: 0.1813 - val_loss: nan - val_accuracy: 0.1677\n",
      "Epoch 4/9\n",
      "124/124 [==============================] - 2s 17ms/step - loss: nan - accuracy: 0.1813 - val_loss: nan - val_accuracy: 0.1677\n",
      "Epoch 5/9\n",
      "124/124 [==============================] - 2s 17ms/step - loss: nan - accuracy: 0.1813 - val_loss: nan - val_accuracy: 0.1677\n",
      "Epoch 6/9\n",
      "124/124 [==============================] - 2s 17ms/step - loss: nan - accuracy: 0.1813 - val_loss: nan - val_accuracy: 0.1677\n",
      "Epoch 7/9\n",
      "124/124 [==============================] - 2s 17ms/step - loss: nan - accuracy: 0.1813 - val_loss: nan - val_accuracy: 0.1677\n",
      "Epoch 8/9\n",
      "124/124 [==============================] - 2s 17ms/step - loss: nan - accuracy: 0.1813 - val_loss: nan - val_accuracy: 0.1677\n",
      "Epoch 9/9\n",
      "124/124 [==============================] - 2s 17ms/step - loss: nan - accuracy: 0.1813 - val_loss: nan - val_accuracy: 0.1677\n",
      "16/16 - 0s - loss: nan - accuracy: 0.1919\n"
     ]
    },
    {
     "data": {
      "application/vnd.jupyter.widget-view+json": {
       "model_id": "",
       "version_major": 2,
       "version_minor": 0
      },
      "text/plain": [
       "VBox(children=(Label(value='0.002 MB of 0.002 MB uploaded\\r'), FloatProgress(value=1.0, max=1.0)))"
      ]
     },
     "metadata": {},
     "output_type": "display_data"
    },
    {
     "data": {
      "text/html": [
       "<style>\n",
       "    table.wandb td:nth-child(1) { padding: 0 10px; text-align: left ; width: auto;} td:nth-child(2) {text-align: left ; width: 100%}\n",
       "    .wandb-row { display: flex; flex-direction: row; flex-wrap: wrap; justify-content: flex-start; width: 100% }\n",
       "    .wandb-col { display: flex; flex-direction: column; flex-basis: 100%; flex: 1; padding: 10px; }\n",
       "    </style>\n",
       "<div class=\"wandb-row\"><div class=\"wandb-col\"><h3>Run history:</h3><br/><table class=\"wandb\"><tr><td>Test Accuracy Rate: </td><td>▁</td></tr><tr><td>Test Error Rate: </td><td>▁</td></tr><tr><td>Test F1 Score: </td><td>▁</td></tr><tr><td>accuracy</td><td>▁▁▁▁▁▁▁▁▁</td></tr><tr><td>epoch</td><td>▁▂▃▄▅▅▆▇█</td></tr><tr><td>val_accuracy</td><td>▁▁▁▁▁▁▁▁▁</td></tr></table><br/></div><div class=\"wandb-col\"><h3>Run summary:</h3><br/><table class=\"wandb\"><tr><td>Test Accuracy Rate: </td><td>19.19</td></tr><tr><td>Test Error Rate: </td><td>80.81</td></tr><tr><td>Test F1 Score: </td><td>19.19</td></tr><tr><td>accuracy</td><td>0.18131</td></tr><tr><td>epoch</td><td>8</td></tr><tr><td>loss</td><td>nan</td></tr><tr><td>val_accuracy</td><td>0.16768</td></tr><tr><td>val_loss</td><td>nan</td></tr></table><br/></div></div>"
      ],
      "text/plain": [
       "<IPython.core.display.HTML object>"
      ]
     },
     "metadata": {},
     "output_type": "display_data"
    },
    {
     "data": {
      "text/html": [
       " View run <strong style=\"color:#cdcd00\">comic-sweep-3</strong> at: <a href='https://wandb.ai/aiffel_minions/DLthon_baseline_GRU/runs/3gakhobx' target=\"_blank\">https://wandb.ai/aiffel_minions/DLthon_baseline_GRU/runs/3gakhobx</a><br/>Synced 5 W&B file(s), 1 media file(s), 0 artifact file(s) and 0 other file(s)"
      ],
      "text/plain": [
       "<IPython.core.display.HTML object>"
      ]
     },
     "metadata": {},
     "output_type": "display_data"
    },
    {
     "data": {
      "text/html": [
       "Find logs at: <code>./wandb/run-20240625_055224-3gakhobx/logs</code>"
      ],
      "text/plain": [
       "<IPython.core.display.HTML object>"
      ]
     },
     "metadata": {},
     "output_type": "display_data"
    },
    {
     "name": "stderr",
     "output_type": "stream",
     "text": [
      "\u001b[34m\u001b[1mwandb\u001b[0m: Agent Starting Run: s7ow9haa with config:\n",
      "\u001b[34m\u001b[1mwandb\u001b[0m: \tepoch: 8\n",
      "\u001b[34m\u001b[1mwandb\u001b[0m: \tlearning_rate: 0.0026261889635298607\n"
     ]
    },
    {
     "data": {
      "text/html": [
       "wandb version 0.17.3 is available!  To upgrade, please run:\n",
       " $ pip install wandb --upgrade"
      ],
      "text/plain": [
       "<IPython.core.display.HTML object>"
      ]
     },
     "metadata": {},
     "output_type": "display_data"
    },
    {
     "data": {
      "text/html": [
       "Tracking run with wandb version 0.16.0"
      ],
      "text/plain": [
       "<IPython.core.display.HTML object>"
      ]
     },
     "metadata": {},
     "output_type": "display_data"
    },
    {
     "data": {
      "text/html": [
       "Run data is saved locally in <code>/aiffel/aiffel/dlthon-minions/dlthon-stuart/wandb/run-20240625_055259-s7ow9haa</code>"
      ],
      "text/plain": [
       "<IPython.core.display.HTML object>"
      ]
     },
     "metadata": {},
     "output_type": "display_data"
    },
    {
     "data": {
      "text/html": [
       "Syncing run <strong><a href='https://wandb.ai/aiffel_minions/DLthon_baseline_GRU/runs/s7ow9haa' target=\"_blank\">firm-sweep-4</a></strong> to <a href='https://wandb.ai/aiffel_minions/DLthon_baseline_GRU' target=\"_blank\">Weights & Biases</a> (<a href='https://wandb.me/run' target=\"_blank\">docs</a>)<br/>Sweep page: <a href='https://wandb.ai/aiffel_minions/DLthon_baseline_GRU/sweeps/41plscik' target=\"_blank\">https://wandb.ai/aiffel_minions/DLthon_baseline_GRU/sweeps/41plscik</a>"
      ],
      "text/plain": [
       "<IPython.core.display.HTML object>"
      ]
     },
     "metadata": {},
     "output_type": "display_data"
    },
    {
     "data": {
      "text/html": [
       " View project at <a href='https://wandb.ai/aiffel_minions/DLthon_baseline_GRU' target=\"_blank\">https://wandb.ai/aiffel_minions/DLthon_baseline_GRU</a>"
      ],
      "text/plain": [
       "<IPython.core.display.HTML object>"
      ]
     },
     "metadata": {},
     "output_type": "display_data"
    },
    {
     "data": {
      "text/html": [
       " View sweep at <a href='https://wandb.ai/aiffel_minions/DLthon_baseline_GRU/sweeps/41plscik' target=\"_blank\">https://wandb.ai/aiffel_minions/DLthon_baseline_GRU/sweeps/41plscik</a>"
      ],
      "text/plain": [
       "<IPython.core.display.HTML object>"
      ]
     },
     "metadata": {},
     "output_type": "display_data"
    },
    {
     "data": {
      "text/html": [
       " View run at <a href='https://wandb.ai/aiffel_minions/DLthon_baseline_GRU/runs/s7ow9haa' target=\"_blank\">https://wandb.ai/aiffel_minions/DLthon_baseline_GRU/runs/s7ow9haa</a>"
      ],
      "text/plain": [
       "<IPython.core.display.HTML object>"
      ]
     },
     "metadata": {},
     "output_type": "display_data"
    },
    {
     "name": "stdout",
     "output_type": "stream",
     "text": [
      "Epoch 1/8\n",
      "124/124 [==============================] - 6s 23ms/step - loss: 1.6131 - accuracy: 0.2020 - val_loss: 1.6081 - val_accuracy: 0.1616\n"
     ]
    },
    {
     "name": "stderr",
     "output_type": "stream",
     "text": [
      "WARNING:absl:Found untraced functions such as gru_cell_layer_call_and_return_conditional_losses, gru_cell_layer_call_fn, gru_cell_1_layer_call_and_return_conditional_losses, gru_cell_1_layer_call_fn, gru_cell_layer_call_fn while saving (showing 5 of 10). These functions will not be directly callable after loading.\n"
     ]
    },
    {
     "name": "stdout",
     "output_type": "stream",
     "text": [
      "INFO:tensorflow:Assets written to: /aiffel/aiffel/dlthon-minions/dlthon-stuart/wandb/run-20240625_055259-s7ow9haa/files/model-best/assets\n"
     ]
    },
    {
     "name": "stderr",
     "output_type": "stream",
     "text": [
      "INFO:tensorflow:Assets written to: /aiffel/aiffel/dlthon-minions/dlthon-stuart/wandb/run-20240625_055259-s7ow9haa/files/model-best/assets\n",
      "\u001b[34m\u001b[1mwandb\u001b[0m: Adding directory to artifact (/aiffel/aiffel/dlthon-minions/dlthon-stuart/wandb/run-20240625_055259-s7ow9haa/files/model-best)... Done. 0.1s\n"
     ]
    },
    {
     "name": "stdout",
     "output_type": "stream",
     "text": [
      "Epoch 2/8\n",
      "124/124 [==============================] - 2s 19ms/step - loss: 1.6123 - accuracy: 0.2058 - val_loss: 1.6006 - val_accuracy: 0.2606\n"
     ]
    },
    {
     "name": "stderr",
     "output_type": "stream",
     "text": [
      "WARNING:absl:Found untraced functions such as gru_cell_layer_call_and_return_conditional_losses, gru_cell_layer_call_fn, gru_cell_1_layer_call_and_return_conditional_losses, gru_cell_1_layer_call_fn, gru_cell_layer_call_fn while saving (showing 5 of 10). These functions will not be directly callable after loading.\n"
     ]
    },
    {
     "name": "stdout",
     "output_type": "stream",
     "text": [
      "INFO:tensorflow:Assets written to: /aiffel/aiffel/dlthon-minions/dlthon-stuart/wandb/run-20240625_055259-s7ow9haa/files/model-best/assets\n"
     ]
    },
    {
     "name": "stderr",
     "output_type": "stream",
     "text": [
      "INFO:tensorflow:Assets written to: /aiffel/aiffel/dlthon-minions/dlthon-stuart/wandb/run-20240625_055259-s7ow9haa/files/model-best/assets\n",
      "\u001b[34m\u001b[1mwandb\u001b[0m: Adding directory to artifact (/aiffel/aiffel/dlthon-minions/dlthon-stuart/wandb/run-20240625_055259-s7ow9haa/files/model-best)... Done. 0.1s\n"
     ]
    },
    {
     "name": "stdout",
     "output_type": "stream",
     "text": [
      "Epoch 3/8\n",
      "124/124 [==============================] - 2s 19ms/step - loss: 1.6090 - accuracy: 0.2015 - val_loss: 1.6008 - val_accuracy: 0.2303\n",
      "Epoch 4/8\n",
      "124/124 [==============================] - 2s 18ms/step - loss: 1.7230 - accuracy: 0.2121 - val_loss: 1.6152 - val_accuracy: 0.2162\n",
      "Epoch 5/8\n",
      "124/124 [==============================] - 2s 17ms/step - loss: 1.6101 - accuracy: 0.2073 - val_loss: 1.6078 - val_accuracy: 0.1616\n",
      "Epoch 6/8\n",
      "124/124 [==============================] - 2s 17ms/step - loss: 1.6085 - accuracy: 0.2035 - val_loss: 1.6062 - val_accuracy: 0.2667\n",
      "Epoch 7/8\n",
      "124/124 [==============================] - 2s 17ms/step - loss: 1.6082 - accuracy: 0.2139 - val_loss: 1.6054 - val_accuracy: 0.2667\n",
      "Epoch 8/8\n",
      "124/124 [==============================] - 2s 17ms/step - loss: 1.6084 - accuracy: 0.2139 - val_loss: 1.6053 - val_accuracy: 0.2667\n",
      "16/16 - 0s - loss: 1.6101 - accuracy: 0.2323\n"
     ]
    },
    {
     "data": {
      "application/vnd.jupyter.widget-view+json": {
       "model_id": "",
       "version_major": 2,
       "version_minor": 0
      },
      "text/plain": [
       "VBox(children=(Label(value='78.043 MB of 78.043 MB uploaded (0.016 MB deduped)\\r'), FloatProgress(value=1.0, m…"
      ]
     },
     "metadata": {},
     "output_type": "display_data"
    },
    {
     "data": {
      "text/html": [
       "<style>\n",
       "    table.wandb td:nth-child(1) { padding: 0 10px; text-align: left ; width: auto;} td:nth-child(2) {text-align: left ; width: 100%}\n",
       "    .wandb-row { display: flex; flex-direction: row; flex-wrap: wrap; justify-content: flex-start; width: 100% }\n",
       "    .wandb-col { display: flex; flex-direction: column; flex-basis: 100%; flex: 1; padding: 10px; }\n",
       "    </style>\n",
       "<div class=\"wandb-row\"><div class=\"wandb-col\"><h3>Run history:</h3><br/><table class=\"wandb\"><tr><td>Test Accuracy Rate: </td><td>▁</td></tr><tr><td>Test Error Rate: </td><td>▁</td></tr><tr><td>Test F1 Score: </td><td>▁</td></tr><tr><td>accuracy</td><td>▁▃▁▇▄▂██</td></tr><tr><td>epoch</td><td>▁▂▃▄▅▆▇█</td></tr><tr><td>loss</td><td>▁▁▁█▁▁▁▁</td></tr><tr><td>val_accuracy</td><td>▁█▆▅▁███</td></tr><tr><td>val_loss</td><td>▅▁▁█▄▄▃▃</td></tr></table><br/></div><div class=\"wandb-col\"><h3>Run summary:</h3><br/><table class=\"wandb\"><tr><td>Test Accuracy Rate: </td><td>23.23</td></tr><tr><td>Test Error Rate: </td><td>76.77</td></tr><tr><td>Test F1 Score: </td><td>23.23</td></tr><tr><td>accuracy</td><td>0.21389</td></tr><tr><td>best_epoch</td><td>1</td></tr><tr><td>best_val_loss</td><td>1.60064</td></tr><tr><td>epoch</td><td>7</td></tr><tr><td>loss</td><td>1.6084</td></tr><tr><td>val_accuracy</td><td>0.26667</td></tr><tr><td>val_loss</td><td>1.6053</td></tr></table><br/></div></div>"
      ],
      "text/plain": [
       "<IPython.core.display.HTML object>"
      ]
     },
     "metadata": {},
     "output_type": "display_data"
    },
    {
     "data": {
      "text/html": [
       " View run <strong style=\"color:#cdcd00\">firm-sweep-4</strong> at: <a href='https://wandb.ai/aiffel_minions/DLthon_baseline_GRU/runs/s7ow9haa' target=\"_blank\">https://wandb.ai/aiffel_minions/DLthon_baseline_GRU/runs/s7ow9haa</a><br/>Synced 5 W&B file(s), 1 media file(s), 8 artifact file(s) and 1 other file(s)"
      ],
      "text/plain": [
       "<IPython.core.display.HTML object>"
      ]
     },
     "metadata": {},
     "output_type": "display_data"
    },
    {
     "data": {
      "text/html": [
       "Find logs at: <code>./wandb/run-20240625_055259-s7ow9haa/logs</code>"
      ],
      "text/plain": [
       "<IPython.core.display.HTML object>"
      ]
     },
     "metadata": {},
     "output_type": "display_data"
    },
    {
     "name": "stderr",
     "output_type": "stream",
     "text": [
      "\u001b[34m\u001b[1mwandb\u001b[0m: Agent Starting Run: 2xo3c4jw with config:\n",
      "\u001b[34m\u001b[1mwandb\u001b[0m: \tepoch: 10\n",
      "\u001b[34m\u001b[1mwandb\u001b[0m: \tlearning_rate: 0.007448133338675523\n"
     ]
    },
    {
     "data": {
      "text/html": [
       "wandb version 0.17.3 is available!  To upgrade, please run:\n",
       " $ pip install wandb --upgrade"
      ],
      "text/plain": [
       "<IPython.core.display.HTML object>"
      ]
     },
     "metadata": {},
     "output_type": "display_data"
    },
    {
     "data": {
      "text/html": [
       "Tracking run with wandb version 0.16.0"
      ],
      "text/plain": [
       "<IPython.core.display.HTML object>"
      ]
     },
     "metadata": {},
     "output_type": "display_data"
    },
    {
     "data": {
      "text/html": [
       "Run data is saved locally in <code>/aiffel/aiffel/dlthon-minions/dlthon-stuart/wandb/run-20240625_055350-2xo3c4jw</code>"
      ],
      "text/plain": [
       "<IPython.core.display.HTML object>"
      ]
     },
     "metadata": {},
     "output_type": "display_data"
    },
    {
     "data": {
      "text/html": [
       "Syncing run <strong><a href='https://wandb.ai/aiffel_minions/DLthon_baseline_GRU/runs/2xo3c4jw' target=\"_blank\">woven-sweep-5</a></strong> to <a href='https://wandb.ai/aiffel_minions/DLthon_baseline_GRU' target=\"_blank\">Weights & Biases</a> (<a href='https://wandb.me/run' target=\"_blank\">docs</a>)<br/>Sweep page: <a href='https://wandb.ai/aiffel_minions/DLthon_baseline_GRU/sweeps/41plscik' target=\"_blank\">https://wandb.ai/aiffel_minions/DLthon_baseline_GRU/sweeps/41plscik</a>"
      ],
      "text/plain": [
       "<IPython.core.display.HTML object>"
      ]
     },
     "metadata": {},
     "output_type": "display_data"
    },
    {
     "data": {
      "text/html": [
       " View project at <a href='https://wandb.ai/aiffel_minions/DLthon_baseline_GRU' target=\"_blank\">https://wandb.ai/aiffel_minions/DLthon_baseline_GRU</a>"
      ],
      "text/plain": [
       "<IPython.core.display.HTML object>"
      ]
     },
     "metadata": {},
     "output_type": "display_data"
    },
    {
     "data": {
      "text/html": [
       " View sweep at <a href='https://wandb.ai/aiffel_minions/DLthon_baseline_GRU/sweeps/41plscik' target=\"_blank\">https://wandb.ai/aiffel_minions/DLthon_baseline_GRU/sweeps/41plscik</a>"
      ],
      "text/plain": [
       "<IPython.core.display.HTML object>"
      ]
     },
     "metadata": {},
     "output_type": "display_data"
    },
    {
     "data": {
      "text/html": [
       " View run at <a href='https://wandb.ai/aiffel_minions/DLthon_baseline_GRU/runs/2xo3c4jw' target=\"_blank\">https://wandb.ai/aiffel_minions/DLthon_baseline_GRU/runs/2xo3c4jw</a>"
      ],
      "text/plain": [
       "<IPython.core.display.HTML object>"
      ]
     },
     "metadata": {},
     "output_type": "display_data"
    },
    {
     "name": "stdout",
     "output_type": "stream",
     "text": [
      "Epoch 1/10\n",
      "124/124 [==============================] - 6s 24ms/step - loss: 1.6243 - accuracy: 0.1965 - val_loss: 1.6015 - val_accuracy: 0.1677\n"
     ]
    },
    {
     "name": "stderr",
     "output_type": "stream",
     "text": [
      "WARNING:absl:Found untraced functions such as gru_cell_layer_call_and_return_conditional_losses, gru_cell_layer_call_fn, gru_cell_1_layer_call_and_return_conditional_losses, gru_cell_1_layer_call_fn, gru_cell_layer_call_fn while saving (showing 5 of 10). These functions will not be directly callable after loading.\n"
     ]
    },
    {
     "name": "stdout",
     "output_type": "stream",
     "text": [
      "INFO:tensorflow:Assets written to: /aiffel/aiffel/dlthon-minions/dlthon-stuart/wandb/run-20240625_055350-2xo3c4jw/files/model-best/assets\n"
     ]
    },
    {
     "name": "stderr",
     "output_type": "stream",
     "text": [
      "INFO:tensorflow:Assets written to: /aiffel/aiffel/dlthon-minions/dlthon-stuart/wandb/run-20240625_055350-2xo3c4jw/files/model-best/assets\n",
      "\u001b[34m\u001b[1mwandb\u001b[0m: Adding directory to artifact (/aiffel/aiffel/dlthon-minions/dlthon-stuart/wandb/run-20240625_055350-2xo3c4jw/files/model-best)... Done. 0.1s\n"
     ]
    },
    {
     "name": "stdout",
     "output_type": "stream",
     "text": [
      "Epoch 2/10\n",
      "124/124 [==============================] - 2s 19ms/step - loss: 2.5871 - accuracy: 0.2010 - val_loss: 2.4154 - val_accuracy: 0.1515\n",
      "Epoch 3/10\n",
      "124/124 [==============================] - 2s 18ms/step - loss: 1.6520 - accuracy: 0.1967 - val_loss: 1.6055 - val_accuracy: 0.2667\n",
      "Epoch 4/10\n",
      "124/124 [==============================] - 2s 17ms/step - loss: 1.6087 - accuracy: 0.2043 - val_loss: 1.6029 - val_accuracy: 0.2667\n",
      "Epoch 5/10\n",
      "124/124 [==============================] - 2s 17ms/step - loss: 1.6085 - accuracy: 0.2106 - val_loss: 1.6043 - val_accuracy: 0.2667\n",
      "Epoch 6/10\n",
      "124/124 [==============================] - 2s 17ms/step - loss: 1.6087 - accuracy: 0.2071 - val_loss: 1.6051 - val_accuracy: 0.2667\n",
      "Epoch 7/10\n",
      "124/124 [==============================] - 2s 17ms/step - loss: 1.6086 - accuracy: 0.2139 - val_loss: 1.6048 - val_accuracy: 0.2667\n",
      "Epoch 8/10\n",
      "124/124 [==============================] - 2s 17ms/step - loss: 1.6088 - accuracy: 0.2121 - val_loss: 1.6063 - val_accuracy: 0.2667\n",
      "Epoch 9/10\n",
      "124/124 [==============================] - 2s 17ms/step - loss: 1.6088 - accuracy: 0.2051 - val_loss: 1.6032 - val_accuracy: 0.2667\n",
      "Epoch 10/10\n",
      "124/124 [==============================] - 2s 17ms/step - loss: 1.6088 - accuracy: 0.2111 - val_loss: 1.6049 - val_accuracy: 0.2667\n",
      "16/16 - 0s - loss: 1.6081 - accuracy: 0.2323\n"
     ]
    },
    {
     "data": {
      "application/vnd.jupyter.widget-view+json": {
       "model_id": "",
       "version_major": 2,
       "version_minor": 0
      },
      "text/plain": [
       "VBox(children=(Label(value='51.585 MB of 51.585 MB uploaded\\r'), FloatProgress(value=1.0, max=1.0)))"
      ]
     },
     "metadata": {},
     "output_type": "display_data"
    },
    {
     "data": {
      "text/html": [
       "<style>\n",
       "    table.wandb td:nth-child(1) { padding: 0 10px; text-align: left ; width: auto;} td:nth-child(2) {text-align: left ; width: 100%}\n",
       "    .wandb-row { display: flex; flex-direction: row; flex-wrap: wrap; justify-content: flex-start; width: 100% }\n",
       "    .wandb-col { display: flex; flex-direction: column; flex-basis: 100%; flex: 1; padding: 10px; }\n",
       "    </style>\n",
       "<div class=\"wandb-row\"><div class=\"wandb-col\"><h3>Run history:</h3><br/><table class=\"wandb\"><tr><td>Test Accuracy Rate: </td><td>▁</td></tr><tr><td>Test Error Rate: </td><td>▁</td></tr><tr><td>Test F1 Score: </td><td>▁</td></tr><tr><td>accuracy</td><td>▁▃▁▄▇▅█▇▄▇</td></tr><tr><td>epoch</td><td>▁▂▃▃▄▅▆▆▇█</td></tr><tr><td>loss</td><td>▁█▁▁▁▁▁▁▁▁</td></tr><tr><td>val_accuracy</td><td>▂▁████████</td></tr><tr><td>val_loss</td><td>▁█▁▁▁▁▁▁▁▁</td></tr></table><br/></div><div class=\"wandb-col\"><h3>Run summary:</h3><br/><table class=\"wandb\"><tr><td>Test Accuracy Rate: </td><td>23.23</td></tr><tr><td>Test Error Rate: </td><td>76.77</td></tr><tr><td>Test F1 Score: </td><td>23.23</td></tr><tr><td>accuracy</td><td>0.21111</td></tr><tr><td>best_epoch</td><td>0</td></tr><tr><td>best_val_loss</td><td>1.60149</td></tr><tr><td>epoch</td><td>9</td></tr><tr><td>loss</td><td>1.60877</td></tr><tr><td>val_accuracy</td><td>0.26667</td></tr><tr><td>val_loss</td><td>1.60485</td></tr></table><br/></div></div>"
      ],
      "text/plain": [
       "<IPython.core.display.HTML object>"
      ]
     },
     "metadata": {},
     "output_type": "display_data"
    },
    {
     "data": {
      "text/html": [
       " View run <strong style=\"color:#cdcd00\">woven-sweep-5</strong> at: <a href='https://wandb.ai/aiffel_minions/DLthon_baseline_GRU/runs/2xo3c4jw' target=\"_blank\">https://wandb.ai/aiffel_minions/DLthon_baseline_GRU/runs/2xo3c4jw</a><br/>Synced 5 W&B file(s), 1 media file(s), 4 artifact file(s) and 1 other file(s)"
      ],
      "text/plain": [
       "<IPython.core.display.HTML object>"
      ]
     },
     "metadata": {},
     "output_type": "display_data"
    },
    {
     "data": {
      "text/html": [
       "Find logs at: <code>./wandb/run-20240625_055350-2xo3c4jw/logs</code>"
      ],
      "text/plain": [
       "<IPython.core.display.HTML object>"
      ]
     },
     "metadata": {},
     "output_type": "display_data"
    },
    {
     "name": "stderr",
     "output_type": "stream",
     "text": [
      "\u001b[34m\u001b[1mwandb\u001b[0m: Agent Starting Run: 07hbr1yj with config:\n",
      "\u001b[34m\u001b[1mwandb\u001b[0m: \tepoch: 5\n",
      "\u001b[34m\u001b[1mwandb\u001b[0m: \tlearning_rate: 0.05068434984125432\n"
     ]
    },
    {
     "data": {
      "text/html": [
       "wandb version 0.17.3 is available!  To upgrade, please run:\n",
       " $ pip install wandb --upgrade"
      ],
      "text/plain": [
       "<IPython.core.display.HTML object>"
      ]
     },
     "metadata": {},
     "output_type": "display_data"
    },
    {
     "data": {
      "text/html": [
       "Tracking run with wandb version 0.16.0"
      ],
      "text/plain": [
       "<IPython.core.display.HTML object>"
      ]
     },
     "metadata": {},
     "output_type": "display_data"
    },
    {
     "data": {
      "text/html": [
       "Run data is saved locally in <code>/aiffel/aiffel/dlthon-minions/dlthon-stuart/wandb/run-20240625_055447-07hbr1yj</code>"
      ],
      "text/plain": [
       "<IPython.core.display.HTML object>"
      ]
     },
     "metadata": {},
     "output_type": "display_data"
    },
    {
     "data": {
      "text/html": [
       "Syncing run <strong><a href='https://wandb.ai/aiffel_minions/DLthon_baseline_GRU/runs/07hbr1yj' target=\"_blank\">pretty-sweep-6</a></strong> to <a href='https://wandb.ai/aiffel_minions/DLthon_baseline_GRU' target=\"_blank\">Weights & Biases</a> (<a href='https://wandb.me/run' target=\"_blank\">docs</a>)<br/>Sweep page: <a href='https://wandb.ai/aiffel_minions/DLthon_baseline_GRU/sweeps/41plscik' target=\"_blank\">https://wandb.ai/aiffel_minions/DLthon_baseline_GRU/sweeps/41plscik</a>"
      ],
      "text/plain": [
       "<IPython.core.display.HTML object>"
      ]
     },
     "metadata": {},
     "output_type": "display_data"
    },
    {
     "data": {
      "text/html": [
       " View project at <a href='https://wandb.ai/aiffel_minions/DLthon_baseline_GRU' target=\"_blank\">https://wandb.ai/aiffel_minions/DLthon_baseline_GRU</a>"
      ],
      "text/plain": [
       "<IPython.core.display.HTML object>"
      ]
     },
     "metadata": {},
     "output_type": "display_data"
    },
    {
     "data": {
      "text/html": [
       " View sweep at <a href='https://wandb.ai/aiffel_minions/DLthon_baseline_GRU/sweeps/41plscik' target=\"_blank\">https://wandb.ai/aiffel_minions/DLthon_baseline_GRU/sweeps/41plscik</a>"
      ],
      "text/plain": [
       "<IPython.core.display.HTML object>"
      ]
     },
     "metadata": {},
     "output_type": "display_data"
    },
    {
     "data": {
      "text/html": [
       " View run at <a href='https://wandb.ai/aiffel_minions/DLthon_baseline_GRU/runs/07hbr1yj' target=\"_blank\">https://wandb.ai/aiffel_minions/DLthon_baseline_GRU/runs/07hbr1yj</a>"
      ],
      "text/plain": [
       "<IPython.core.display.HTML object>"
      ]
     },
     "metadata": {},
     "output_type": "display_data"
    },
    {
     "name": "stdout",
     "output_type": "stream",
     "text": [
      "Epoch 1/5\n",
      "124/124 [==============================] - 6s 24ms/step - loss: 12.0839 - accuracy: 0.1992 - val_loss: 1.9031 - val_accuracy: 0.1636\n"
     ]
    },
    {
     "name": "stderr",
     "output_type": "stream",
     "text": [
      "WARNING:absl:Found untraced functions such as gru_cell_layer_call_and_return_conditional_losses, gru_cell_layer_call_fn, gru_cell_1_layer_call_and_return_conditional_losses, gru_cell_1_layer_call_fn, gru_cell_layer_call_fn while saving (showing 5 of 10). These functions will not be directly callable after loading.\n"
     ]
    },
    {
     "name": "stdout",
     "output_type": "stream",
     "text": [
      "INFO:tensorflow:Assets written to: /aiffel/aiffel/dlthon-minions/dlthon-stuart/wandb/run-20240625_055447-07hbr1yj/files/model-best/assets\n"
     ]
    },
    {
     "name": "stderr",
     "output_type": "stream",
     "text": [
      "INFO:tensorflow:Assets written to: /aiffel/aiffel/dlthon-minions/dlthon-stuart/wandb/run-20240625_055447-07hbr1yj/files/model-best/assets\n",
      "\u001b[34m\u001b[1mwandb\u001b[0m: Adding directory to artifact (/aiffel/aiffel/dlthon-minions/dlthon-stuart/wandb/run-20240625_055447-07hbr1yj/files/model-best)... Done. 0.1s\n"
     ]
    },
    {
     "name": "stdout",
     "output_type": "stream",
     "text": [
      "Epoch 2/5\n",
      "124/124 [==============================] - 2s 19ms/step - loss: 1.6799 - accuracy: 0.2038 - val_loss: 1.6262 - val_accuracy: 0.2182\n"
     ]
    },
    {
     "name": "stderr",
     "output_type": "stream",
     "text": [
      "WARNING:absl:Found untraced functions such as gru_cell_layer_call_and_return_conditional_losses, gru_cell_layer_call_fn, gru_cell_1_layer_call_and_return_conditional_losses, gru_cell_1_layer_call_fn, gru_cell_layer_call_fn while saving (showing 5 of 10). These functions will not be directly callable after loading.\n"
     ]
    },
    {
     "name": "stdout",
     "output_type": "stream",
     "text": [
      "INFO:tensorflow:Assets written to: /aiffel/aiffel/dlthon-minions/dlthon-stuart/wandb/run-20240625_055447-07hbr1yj/files/model-best/assets\n"
     ]
    },
    {
     "name": "stderr",
     "output_type": "stream",
     "text": [
      "INFO:tensorflow:Assets written to: /aiffel/aiffel/dlthon-minions/dlthon-stuart/wandb/run-20240625_055447-07hbr1yj/files/model-best/assets\n",
      "\u001b[34m\u001b[1mwandb\u001b[0m: Adding directory to artifact (/aiffel/aiffel/dlthon-minions/dlthon-stuart/wandb/run-20240625_055447-07hbr1yj/files/model-best)... Done. 0.1s\n"
     ]
    },
    {
     "name": "stdout",
     "output_type": "stream",
     "text": [
      "Epoch 3/5\n",
      "124/124 [==============================] - 2s 19ms/step - loss: 1.6119 - accuracy: 0.2129 - val_loss: 1.6104 - val_accuracy: 0.1818\n"
     ]
    },
    {
     "name": "stderr",
     "output_type": "stream",
     "text": [
      "WARNING:absl:Found untraced functions such as gru_cell_layer_call_and_return_conditional_losses, gru_cell_layer_call_fn, gru_cell_1_layer_call_and_return_conditional_losses, gru_cell_1_layer_call_fn, gru_cell_layer_call_fn while saving (showing 5 of 10). These functions will not be directly callable after loading.\n"
     ]
    },
    {
     "name": "stdout",
     "output_type": "stream",
     "text": [
      "INFO:tensorflow:Assets written to: /aiffel/aiffel/dlthon-minions/dlthon-stuart/wandb/run-20240625_055447-07hbr1yj/files/model-best/assets\n"
     ]
    },
    {
     "name": "stderr",
     "output_type": "stream",
     "text": [
      "INFO:tensorflow:Assets written to: /aiffel/aiffel/dlthon-minions/dlthon-stuart/wandb/run-20240625_055447-07hbr1yj/files/model-best/assets\n",
      "\u001b[34m\u001b[1mwandb\u001b[0m: Adding directory to artifact (/aiffel/aiffel/dlthon-minions/dlthon-stuart/wandb/run-20240625_055447-07hbr1yj/files/model-best)... Done. 0.1s\n"
     ]
    },
    {
     "name": "stdout",
     "output_type": "stream",
     "text": [
      "Epoch 4/5\n",
      "124/124 [==============================] - 2s 19ms/step - loss: 1.6165 - accuracy: 0.2043 - val_loss: 1.6156 - val_accuracy: 0.1838\n",
      "Epoch 5/5\n",
      "124/124 [==============================] - 2s 17ms/step - loss: 1.6196 - accuracy: 0.2005 - val_loss: 1.6172 - val_accuracy: 0.1798\n",
      "16/16 - 0s - loss: 1.6263 - accuracy: 0.1616\n"
     ]
    },
    {
     "data": {
      "application/vnd.jupyter.widget-view+json": {
       "model_id": "",
       "version_major": 2,
       "version_minor": 0
      },
      "text/plain": [
       "VBox(children=(Label(value='104.502 MB of 104.502 MB uploaded (0.031 MB deduped)\\r'), FloatProgress(value=1.0,…"
      ]
     },
     "metadata": {},
     "output_type": "display_data"
    },
    {
     "data": {
      "text/html": [
       "<style>\n",
       "    table.wandb td:nth-child(1) { padding: 0 10px; text-align: left ; width: auto;} td:nth-child(2) {text-align: left ; width: 100%}\n",
       "    .wandb-row { display: flex; flex-direction: row; flex-wrap: wrap; justify-content: flex-start; width: 100% }\n",
       "    .wandb-col { display: flex; flex-direction: column; flex-basis: 100%; flex: 1; padding: 10px; }\n",
       "    </style>\n",
       "<div class=\"wandb-row\"><div class=\"wandb-col\"><h3>Run history:</h3><br/><table class=\"wandb\"><tr><td>Test Accuracy Rate: </td><td>▁</td></tr><tr><td>Test Error Rate: </td><td>▁</td></tr><tr><td>Test F1 Score: </td><td>▁</td></tr><tr><td>accuracy</td><td>▁▃█▄▂</td></tr><tr><td>epoch</td><td>▁▃▅▆█</td></tr><tr><td>loss</td><td>█▁▁▁▁</td></tr><tr><td>val_accuracy</td><td>▁█▃▄▃</td></tr><tr><td>val_loss</td><td>█▁▁▁▁</td></tr></table><br/></div><div class=\"wandb-col\"><h3>Run summary:</h3><br/><table class=\"wandb\"><tr><td>Test Accuracy Rate: </td><td>16.16</td></tr><tr><td>Test Error Rate: </td><td>83.84</td></tr><tr><td>Test F1 Score: </td><td>16.16</td></tr><tr><td>accuracy</td><td>0.20051</td></tr><tr><td>best_epoch</td><td>2</td></tr><tr><td>best_val_loss</td><td>1.61038</td></tr><tr><td>epoch</td><td>4</td></tr><tr><td>loss</td><td>1.61957</td></tr><tr><td>val_accuracy</td><td>0.1798</td></tr><tr><td>val_loss</td><td>1.6172</td></tr></table><br/></div></div>"
      ],
      "text/plain": [
       "<IPython.core.display.HTML object>"
      ]
     },
     "metadata": {},
     "output_type": "display_data"
    },
    {
     "data": {
      "text/html": [
       " View run <strong style=\"color:#cdcd00\">pretty-sweep-6</strong> at: <a href='https://wandb.ai/aiffel_minions/DLthon_baseline_GRU/runs/07hbr1yj' target=\"_blank\">https://wandb.ai/aiffel_minions/DLthon_baseline_GRU/runs/07hbr1yj</a><br/>Synced 5 W&B file(s), 1 media file(s), 12 artifact file(s) and 1 other file(s)"
      ],
      "text/plain": [
       "<IPython.core.display.HTML object>"
      ]
     },
     "metadata": {},
     "output_type": "display_data"
    },
    {
     "data": {
      "text/html": [
       "Find logs at: <code>./wandb/run-20240625_055447-07hbr1yj/logs</code>"
      ],
      "text/plain": [
       "<IPython.core.display.HTML object>"
      ]
     },
     "metadata": {},
     "output_type": "display_data"
    },
    {
     "name": "stderr",
     "output_type": "stream",
     "text": [
      "\u001b[34m\u001b[1mwandb\u001b[0m: Agent Starting Run: 9g5fqjnl with config:\n",
      "\u001b[34m\u001b[1mwandb\u001b[0m: \tepoch: 10\n",
      "\u001b[34m\u001b[1mwandb\u001b[0m: \tlearning_rate: 0.0801490362490086\n"
     ]
    },
    {
     "data": {
      "text/html": [
       "wandb version 0.17.3 is available!  To upgrade, please run:\n",
       " $ pip install wandb --upgrade"
      ],
      "text/plain": [
       "<IPython.core.display.HTML object>"
      ]
     },
     "metadata": {},
     "output_type": "display_data"
    },
    {
     "data": {
      "text/html": [
       "Tracking run with wandb version 0.16.0"
      ],
      "text/plain": [
       "<IPython.core.display.HTML object>"
      ]
     },
     "metadata": {},
     "output_type": "display_data"
    },
    {
     "data": {
      "text/html": [
       "Run data is saved locally in <code>/aiffel/aiffel/dlthon-minions/dlthon-stuart/wandb/run-20240625_055543-9g5fqjnl</code>"
      ],
      "text/plain": [
       "<IPython.core.display.HTML object>"
      ]
     },
     "metadata": {},
     "output_type": "display_data"
    },
    {
     "data": {
      "text/html": [
       "Syncing run <strong><a href='https://wandb.ai/aiffel_minions/DLthon_baseline_GRU/runs/9g5fqjnl' target=\"_blank\">graceful-sweep-7</a></strong> to <a href='https://wandb.ai/aiffel_minions/DLthon_baseline_GRU' target=\"_blank\">Weights & Biases</a> (<a href='https://wandb.me/run' target=\"_blank\">docs</a>)<br/>Sweep page: <a href='https://wandb.ai/aiffel_minions/DLthon_baseline_GRU/sweeps/41plscik' target=\"_blank\">https://wandb.ai/aiffel_minions/DLthon_baseline_GRU/sweeps/41plscik</a>"
      ],
      "text/plain": [
       "<IPython.core.display.HTML object>"
      ]
     },
     "metadata": {},
     "output_type": "display_data"
    },
    {
     "data": {
      "text/html": [
       " View project at <a href='https://wandb.ai/aiffel_minions/DLthon_baseline_GRU' target=\"_blank\">https://wandb.ai/aiffel_minions/DLthon_baseline_GRU</a>"
      ],
      "text/plain": [
       "<IPython.core.display.HTML object>"
      ]
     },
     "metadata": {},
     "output_type": "display_data"
    },
    {
     "data": {
      "text/html": [
       " View sweep at <a href='https://wandb.ai/aiffel_minions/DLthon_baseline_GRU/sweeps/41plscik' target=\"_blank\">https://wandb.ai/aiffel_minions/DLthon_baseline_GRU/sweeps/41plscik</a>"
      ],
      "text/plain": [
       "<IPython.core.display.HTML object>"
      ]
     },
     "metadata": {},
     "output_type": "display_data"
    },
    {
     "data": {
      "text/html": [
       " View run at <a href='https://wandb.ai/aiffel_minions/DLthon_baseline_GRU/runs/9g5fqjnl' target=\"_blank\">https://wandb.ai/aiffel_minions/DLthon_baseline_GRU/runs/9g5fqjnl</a>"
      ],
      "text/plain": [
       "<IPython.core.display.HTML object>"
      ]
     },
     "metadata": {},
     "output_type": "display_data"
    },
    {
     "name": "stdout",
     "output_type": "stream",
     "text": [
      "Epoch 1/10\n",
      "124/124 [==============================] - 7s 25ms/step - loss: 15.2627 - accuracy: 0.2030 - val_loss: 1.6009 - val_accuracy: 0.2667\n"
     ]
    },
    {
     "name": "stderr",
     "output_type": "stream",
     "text": [
      "WARNING:absl:Found untraced functions such as gru_cell_layer_call_and_return_conditional_losses, gru_cell_layer_call_fn, gru_cell_1_layer_call_and_return_conditional_losses, gru_cell_1_layer_call_fn, gru_cell_layer_call_fn while saving (showing 5 of 10). These functions will not be directly callable after loading.\n"
     ]
    },
    {
     "name": "stdout",
     "output_type": "stream",
     "text": [
      "INFO:tensorflow:Assets written to: /aiffel/aiffel/dlthon-minions/dlthon-stuart/wandb/run-20240625_055543-9g5fqjnl/files/model-best/assets\n"
     ]
    },
    {
     "name": "stderr",
     "output_type": "stream",
     "text": [
      "INFO:tensorflow:Assets written to: /aiffel/aiffel/dlthon-minions/dlthon-stuart/wandb/run-20240625_055543-9g5fqjnl/files/model-best/assets\n",
      "\u001b[34m\u001b[1mwandb\u001b[0m: Adding directory to artifact (/aiffel/aiffel/dlthon-minions/dlthon-stuart/wandb/run-20240625_055543-9g5fqjnl/files/model-best)... Done. 0.1s\n"
     ]
    },
    {
     "name": "stdout",
     "output_type": "stream",
     "text": [
      "Epoch 2/10\n",
      "124/124 [==============================] - 2s 19ms/step - loss: 1.6137 - accuracy: 0.1972 - val_loss: 1.6054 - val_accuracy: 0.2667\n",
      "Epoch 3/10\n",
      "124/124 [==============================] - 2s 17ms/step - loss: 1.6116 - accuracy: 0.2136 - val_loss: 1.6156 - val_accuracy: 0.2182\n",
      "Epoch 4/10\n",
      "124/124 [==============================] - 2s 17ms/step - loss: 1.6155 - accuracy: 0.2045 - val_loss: 1.5945 - val_accuracy: 0.2667\n"
     ]
    },
    {
     "name": "stderr",
     "output_type": "stream",
     "text": [
      "WARNING:absl:Found untraced functions such as gru_cell_layer_call_and_return_conditional_losses, gru_cell_layer_call_fn, gru_cell_1_layer_call_and_return_conditional_losses, gru_cell_1_layer_call_fn, gru_cell_layer_call_fn while saving (showing 5 of 10). These functions will not be directly callable after loading.\n"
     ]
    },
    {
     "name": "stdout",
     "output_type": "stream",
     "text": [
      "INFO:tensorflow:Assets written to: /aiffel/aiffel/dlthon-minions/dlthon-stuart/wandb/run-20240625_055543-9g5fqjnl/files/model-best/assets\n"
     ]
    },
    {
     "name": "stderr",
     "output_type": "stream",
     "text": [
      "INFO:tensorflow:Assets written to: /aiffel/aiffel/dlthon-minions/dlthon-stuart/wandb/run-20240625_055543-9g5fqjnl/files/model-best/assets\n",
      "\u001b[34m\u001b[1mwandb\u001b[0m: Adding directory to artifact (/aiffel/aiffel/dlthon-minions/dlthon-stuart/wandb/run-20240625_055543-9g5fqjnl/files/model-best)... Done. 0.1s\n"
     ]
    },
    {
     "name": "stdout",
     "output_type": "stream",
     "text": [
      "Epoch 5/10\n",
      "124/124 [==============================] - 2s 19ms/step - loss: 1.6122 - accuracy: 0.2109 - val_loss: 1.6004 - val_accuracy: 0.1838\n",
      "Epoch 6/10\n",
      "124/124 [==============================] - 2s 17ms/step - loss: 1.6121 - accuracy: 0.2152 - val_loss: 1.6080 - val_accuracy: 0.1636\n",
      "Epoch 7/10\n",
      "124/124 [==============================] - 2s 17ms/step - loss: 1.6143 - accuracy: 0.2035 - val_loss: 1.6149 - val_accuracy: 0.2667\n",
      "Epoch 8/10\n",
      "124/124 [==============================] - 2s 17ms/step - loss: 1.6163 - accuracy: 0.2068 - val_loss: 1.6209 - val_accuracy: 0.1838\n",
      "Epoch 9/10\n",
      "124/124 [==============================] - 2s 17ms/step - loss: 1.6126 - accuracy: 0.2101 - val_loss: 1.6137 - val_accuracy: 0.2182\n",
      "Epoch 10/10\n",
      "124/124 [==============================] - 2s 17ms/step - loss: 1.6156 - accuracy: 0.2114 - val_loss: 1.6035 - val_accuracy: 0.2182\n",
      "16/16 - 0s - loss: 1.6018 - accuracy: 0.2343\n"
     ]
    },
    {
     "data": {
      "application/vnd.jupyter.widget-view+json": {
       "model_id": "",
       "version_major": 2,
       "version_minor": 0
      },
      "text/plain": [
       "VBox(children=(Label(value='78.043 MB of 78.043 MB uploaded (0.016 MB deduped)\\r'), FloatProgress(value=1.0, m…"
      ]
     },
     "metadata": {},
     "output_type": "display_data"
    },
    {
     "data": {
      "text/html": [
       "<style>\n",
       "    table.wandb td:nth-child(1) { padding: 0 10px; text-align: left ; width: auto;} td:nth-child(2) {text-align: left ; width: 100%}\n",
       "    .wandb-row { display: flex; flex-direction: row; flex-wrap: wrap; justify-content: flex-start; width: 100% }\n",
       "    .wandb-col { display: flex; flex-direction: column; flex-basis: 100%; flex: 1; padding: 10px; }\n",
       "    </style>\n",
       "<div class=\"wandb-row\"><div class=\"wandb-col\"><h3>Run history:</h3><br/><table class=\"wandb\"><tr><td>Test Accuracy Rate: </td><td>▁</td></tr><tr><td>Test Error Rate: </td><td>▁</td></tr><tr><td>Test F1 Score: </td><td>▁</td></tr><tr><td>accuracy</td><td>▃▁▇▄▆█▃▅▆▇</td></tr><tr><td>epoch</td><td>▁▂▃▃▄▅▆▆▇█</td></tr><tr><td>loss</td><td>█▁▁▁▁▁▁▁▁▁</td></tr><tr><td>val_accuracy</td><td>██▅█▂▁█▂▅▅</td></tr><tr><td>val_loss</td><td>▃▄▇▁▃▅▆█▆▃</td></tr></table><br/></div><div class=\"wandb-col\"><h3>Run summary:</h3><br/><table class=\"wandb\"><tr><td>Test Accuracy Rate: </td><td>23.43</td></tr><tr><td>Test Error Rate: </td><td>76.57</td></tr><tr><td>Test F1 Score: </td><td>23.43</td></tr><tr><td>accuracy</td><td>0.21136</td></tr><tr><td>best_epoch</td><td>3</td></tr><tr><td>best_val_loss</td><td>1.59448</td></tr><tr><td>epoch</td><td>9</td></tr><tr><td>loss</td><td>1.61559</td></tr><tr><td>val_accuracy</td><td>0.21818</td></tr><tr><td>val_loss</td><td>1.60353</td></tr></table><br/></div></div>"
      ],
      "text/plain": [
       "<IPython.core.display.HTML object>"
      ]
     },
     "metadata": {},
     "output_type": "display_data"
    },
    {
     "data": {
      "text/html": [
       " View run <strong style=\"color:#cdcd00\">graceful-sweep-7</strong> at: <a href='https://wandb.ai/aiffel_minions/DLthon_baseline_GRU/runs/9g5fqjnl' target=\"_blank\">https://wandb.ai/aiffel_minions/DLthon_baseline_GRU/runs/9g5fqjnl</a><br/>Synced 5 W&B file(s), 1 media file(s), 8 artifact file(s) and 1 other file(s)"
      ],
      "text/plain": [
       "<IPython.core.display.HTML object>"
      ]
     },
     "metadata": {},
     "output_type": "display_data"
    },
    {
     "data": {
      "text/html": [
       "Find logs at: <code>./wandb/run-20240625_055543-9g5fqjnl/logs</code>"
      ],
      "text/plain": [
       "<IPython.core.display.HTML object>"
      ]
     },
     "metadata": {},
     "output_type": "display_data"
    },
    {
     "name": "stderr",
     "output_type": "stream",
     "text": [
      "\u001b[34m\u001b[1mwandb\u001b[0m: Agent Starting Run: vbjc24yo with config:\n",
      "\u001b[34m\u001b[1mwandb\u001b[0m: \tepoch: 5\n",
      "\u001b[34m\u001b[1mwandb\u001b[0m: \tlearning_rate: 0.006195290868003809\n"
     ]
    },
    {
     "data": {
      "text/html": [
       "wandb version 0.17.3 is available!  To upgrade, please run:\n",
       " $ pip install wandb --upgrade"
      ],
      "text/plain": [
       "<IPython.core.display.HTML object>"
      ]
     },
     "metadata": {},
     "output_type": "display_data"
    },
    {
     "data": {
      "text/html": [
       "Tracking run with wandb version 0.16.0"
      ],
      "text/plain": [
       "<IPython.core.display.HTML object>"
      ]
     },
     "metadata": {},
     "output_type": "display_data"
    },
    {
     "data": {
      "text/html": [
       "Run data is saved locally in <code>/aiffel/aiffel/dlthon-minions/dlthon-stuart/wandb/run-20240625_055639-vbjc24yo</code>"
      ],
      "text/plain": [
       "<IPython.core.display.HTML object>"
      ]
     },
     "metadata": {},
     "output_type": "display_data"
    },
    {
     "data": {
      "text/html": [
       "Syncing run <strong><a href='https://wandb.ai/aiffel_minions/DLthon_baseline_GRU/runs/vbjc24yo' target=\"_blank\">divine-sweep-8</a></strong> to <a href='https://wandb.ai/aiffel_minions/DLthon_baseline_GRU' target=\"_blank\">Weights & Biases</a> (<a href='https://wandb.me/run' target=\"_blank\">docs</a>)<br/>Sweep page: <a href='https://wandb.ai/aiffel_minions/DLthon_baseline_GRU/sweeps/41plscik' target=\"_blank\">https://wandb.ai/aiffel_minions/DLthon_baseline_GRU/sweeps/41plscik</a>"
      ],
      "text/plain": [
       "<IPython.core.display.HTML object>"
      ]
     },
     "metadata": {},
     "output_type": "display_data"
    },
    {
     "data": {
      "text/html": [
       " View project at <a href='https://wandb.ai/aiffel_minions/DLthon_baseline_GRU' target=\"_blank\">https://wandb.ai/aiffel_minions/DLthon_baseline_GRU</a>"
      ],
      "text/plain": [
       "<IPython.core.display.HTML object>"
      ]
     },
     "metadata": {},
     "output_type": "display_data"
    },
    {
     "data": {
      "text/html": [
       " View sweep at <a href='https://wandb.ai/aiffel_minions/DLthon_baseline_GRU/sweeps/41plscik' target=\"_blank\">https://wandb.ai/aiffel_minions/DLthon_baseline_GRU/sweeps/41plscik</a>"
      ],
      "text/plain": [
       "<IPython.core.display.HTML object>"
      ]
     },
     "metadata": {},
     "output_type": "display_data"
    },
    {
     "data": {
      "text/html": [
       " View run at <a href='https://wandb.ai/aiffel_minions/DLthon_baseline_GRU/runs/vbjc24yo' target=\"_blank\">https://wandb.ai/aiffel_minions/DLthon_baseline_GRU/runs/vbjc24yo</a>"
      ],
      "text/plain": [
       "<IPython.core.display.HTML object>"
      ]
     },
     "metadata": {},
     "output_type": "display_data"
    },
    {
     "name": "stdout",
     "output_type": "stream",
     "text": [
      "Epoch 1/5\n",
      "124/124 [==============================] - 7s 26ms/step - loss: 1.6476 - accuracy: 0.2033 - val_loss: 1.5960 - val_accuracy: 0.2606\n"
     ]
    },
    {
     "name": "stderr",
     "output_type": "stream",
     "text": [
      "WARNING:absl:Found untraced functions such as gru_cell_layer_call_and_return_conditional_losses, gru_cell_layer_call_fn, gru_cell_1_layer_call_and_return_conditional_losses, gru_cell_1_layer_call_fn, gru_cell_layer_call_fn while saving (showing 5 of 10). These functions will not be directly callable after loading.\n"
     ]
    },
    {
     "name": "stdout",
     "output_type": "stream",
     "text": [
      "INFO:tensorflow:Assets written to: /aiffel/aiffel/dlthon-minions/dlthon-stuart/wandb/run-20240625_055639-vbjc24yo/files/model-best/assets\n"
     ]
    },
    {
     "name": "stderr",
     "output_type": "stream",
     "text": [
      "INFO:tensorflow:Assets written to: /aiffel/aiffel/dlthon-minions/dlthon-stuart/wandb/run-20240625_055639-vbjc24yo/files/model-best/assets\n",
      "\u001b[34m\u001b[1mwandb\u001b[0m: Adding directory to artifact (/aiffel/aiffel/dlthon-minions/dlthon-stuart/wandb/run-20240625_055639-vbjc24yo/files/model-best)... Done. 0.1s\n"
     ]
    },
    {
     "name": "stdout",
     "output_type": "stream",
     "text": [
      "Epoch 2/5\n",
      "124/124 [==============================] - 2s 19ms/step - loss: 1.6085 - accuracy: 0.2078 - val_loss: 1.6034 - val_accuracy: 0.2646\n",
      "Epoch 3/5\n",
      "124/124 [==============================] - 2s 18ms/step - loss: 1.6163 - accuracy: 0.2129 - val_loss: 1.6006 - val_accuracy: 0.2646\n",
      "Epoch 4/5\n",
      "124/124 [==============================] - 2s 18ms/step - loss: 1.4392 - accuracy: 0.3167 - val_loss: 1.1076 - val_accuracy: 0.4646\n"
     ]
    },
    {
     "name": "stderr",
     "output_type": "stream",
     "text": [
      "WARNING:absl:Found untraced functions such as gru_cell_layer_call_and_return_conditional_losses, gru_cell_layer_call_fn, gru_cell_1_layer_call_and_return_conditional_losses, gru_cell_1_layer_call_fn, gru_cell_layer_call_fn while saving (showing 5 of 10). These functions will not be directly callable after loading.\n"
     ]
    },
    {
     "name": "stdout",
     "output_type": "stream",
     "text": [
      "INFO:tensorflow:Assets written to: /aiffel/aiffel/dlthon-minions/dlthon-stuart/wandb/run-20240625_055639-vbjc24yo/files/model-best/assets\n"
     ]
    },
    {
     "name": "stderr",
     "output_type": "stream",
     "text": [
      "INFO:tensorflow:Assets written to: /aiffel/aiffel/dlthon-minions/dlthon-stuart/wandb/run-20240625_055639-vbjc24yo/files/model-best/assets\n",
      "\u001b[34m\u001b[1mwandb\u001b[0m: Adding directory to artifact (/aiffel/aiffel/dlthon-minions/dlthon-stuart/wandb/run-20240625_055639-vbjc24yo/files/model-best)... Done. 0.1s\n"
     ]
    },
    {
     "name": "stdout",
     "output_type": "stream",
     "text": [
      "Epoch 5/5\n",
      "124/124 [==============================] - 2s 19ms/step - loss: 1.1589 - accuracy: 0.3975 - val_loss: 1.0879 - val_accuracy: 0.4848\n"
     ]
    },
    {
     "name": "stderr",
     "output_type": "stream",
     "text": [
      "WARNING:absl:Found untraced functions such as gru_cell_layer_call_and_return_conditional_losses, gru_cell_layer_call_fn, gru_cell_1_layer_call_and_return_conditional_losses, gru_cell_1_layer_call_fn, gru_cell_layer_call_fn while saving (showing 5 of 10). These functions will not be directly callable after loading.\n"
     ]
    },
    {
     "name": "stdout",
     "output_type": "stream",
     "text": [
      "INFO:tensorflow:Assets written to: /aiffel/aiffel/dlthon-minions/dlthon-stuart/wandb/run-20240625_055639-vbjc24yo/files/model-best/assets\n"
     ]
    },
    {
     "name": "stderr",
     "output_type": "stream",
     "text": [
      "INFO:tensorflow:Assets written to: /aiffel/aiffel/dlthon-minions/dlthon-stuart/wandb/run-20240625_055639-vbjc24yo/files/model-best/assets\n",
      "\u001b[34m\u001b[1mwandb\u001b[0m: Adding directory to artifact (/aiffel/aiffel/dlthon-minions/dlthon-stuart/wandb/run-20240625_055639-vbjc24yo/files/model-best)... Done. 0.1s\n"
     ]
    },
    {
     "name": "stdout",
     "output_type": "stream",
     "text": [
      "16/16 - 0s - loss: 1.0683 - accuracy: 0.4646\n"
     ]
    },
    {
     "data": {
      "application/vnd.jupyter.widget-view+json": {
       "model_id": "",
       "version_major": 2,
       "version_minor": 0
      },
      "text/plain": [
       "VBox(children=(Label(value='104.502 MB of 104.502 MB uploaded (0.031 MB deduped)\\r'), FloatProgress(value=1.0,…"
      ]
     },
     "metadata": {},
     "output_type": "display_data"
    },
    {
     "data": {
      "text/html": [
       "<style>\n",
       "    table.wandb td:nth-child(1) { padding: 0 10px; text-align: left ; width: auto;} td:nth-child(2) {text-align: left ; width: 100%}\n",
       "    .wandb-row { display: flex; flex-direction: row; flex-wrap: wrap; justify-content: flex-start; width: 100% }\n",
       "    .wandb-col { display: flex; flex-direction: column; flex-basis: 100%; flex: 1; padding: 10px; }\n",
       "    </style>\n",
       "<div class=\"wandb-row\"><div class=\"wandb-col\"><h3>Run history:</h3><br/><table class=\"wandb\"><tr><td>Test Accuracy Rate: </td><td>▁</td></tr><tr><td>Test Error Rate: </td><td>▁</td></tr><tr><td>Test F1 Score: </td><td>▁</td></tr><tr><td>accuracy</td><td>▁▁▁▅█</td></tr><tr><td>epoch</td><td>▁▃▅▆█</td></tr><tr><td>loss</td><td>█▇█▅▁</td></tr><tr><td>val_accuracy</td><td>▁▁▁▇█</td></tr><tr><td>val_loss</td><td>███▁▁</td></tr></table><br/></div><div class=\"wandb-col\"><h3>Run summary:</h3><br/><table class=\"wandb\"><tr><td>Test Accuracy Rate: </td><td>46.46</td></tr><tr><td>Test Error Rate: </td><td>53.54</td></tr><tr><td>Test F1 Score: </td><td>46.46</td></tr><tr><td>accuracy</td><td>0.39747</td></tr><tr><td>best_epoch</td><td>4</td></tr><tr><td>best_val_loss</td><td>1.08788</td></tr><tr><td>epoch</td><td>4</td></tr><tr><td>loss</td><td>1.15892</td></tr><tr><td>val_accuracy</td><td>0.48485</td></tr><tr><td>val_loss</td><td>1.08788</td></tr></table><br/></div></div>"
      ],
      "text/plain": [
       "<IPython.core.display.HTML object>"
      ]
     },
     "metadata": {},
     "output_type": "display_data"
    },
    {
     "data": {
      "text/html": [
       " View run <strong style=\"color:#cdcd00\">divine-sweep-8</strong> at: <a href='https://wandb.ai/aiffel_minions/DLthon_baseline_GRU/runs/vbjc24yo' target=\"_blank\">https://wandb.ai/aiffel_minions/DLthon_baseline_GRU/runs/vbjc24yo</a><br/>Synced 5 W&B file(s), 1 media file(s), 12 artifact file(s) and 1 other file(s)"
      ],
      "text/plain": [
       "<IPython.core.display.HTML object>"
      ]
     },
     "metadata": {},
     "output_type": "display_data"
    },
    {
     "data": {
      "text/html": [
       "Find logs at: <code>./wandb/run-20240625_055639-vbjc24yo/logs</code>"
      ],
      "text/plain": [
       "<IPython.core.display.HTML object>"
      ]
     },
     "metadata": {},
     "output_type": "display_data"
    },
    {
     "name": "stderr",
     "output_type": "stream",
     "text": [
      "\u001b[34m\u001b[1mwandb\u001b[0m: Agent Starting Run: qkgiph05 with config:\n",
      "\u001b[34m\u001b[1mwandb\u001b[0m: \tepoch: 9\n",
      "\u001b[34m\u001b[1mwandb\u001b[0m: \tlearning_rate: 0.03771140066528913\n"
     ]
    },
    {
     "data": {
      "text/html": [
       "wandb version 0.17.3 is available!  To upgrade, please run:\n",
       " $ pip install wandb --upgrade"
      ],
      "text/plain": [
       "<IPython.core.display.HTML object>"
      ]
     },
     "metadata": {},
     "output_type": "display_data"
    },
    {
     "data": {
      "text/html": [
       "Tracking run with wandb version 0.16.0"
      ],
      "text/plain": [
       "<IPython.core.display.HTML object>"
      ]
     },
     "metadata": {},
     "output_type": "display_data"
    },
    {
     "data": {
      "text/html": [
       "Run data is saved locally in <code>/aiffel/aiffel/dlthon-minions/dlthon-stuart/wandb/run-20240625_055737-qkgiph05</code>"
      ],
      "text/plain": [
       "<IPython.core.display.HTML object>"
      ]
     },
     "metadata": {},
     "output_type": "display_data"
    },
    {
     "data": {
      "text/html": [
       "Syncing run <strong><a href='https://wandb.ai/aiffel_minions/DLthon_baseline_GRU/runs/qkgiph05' target=\"_blank\">dandy-sweep-9</a></strong> to <a href='https://wandb.ai/aiffel_minions/DLthon_baseline_GRU' target=\"_blank\">Weights & Biases</a> (<a href='https://wandb.me/run' target=\"_blank\">docs</a>)<br/>Sweep page: <a href='https://wandb.ai/aiffel_minions/DLthon_baseline_GRU/sweeps/41plscik' target=\"_blank\">https://wandb.ai/aiffel_minions/DLthon_baseline_GRU/sweeps/41plscik</a>"
      ],
      "text/plain": [
       "<IPython.core.display.HTML object>"
      ]
     },
     "metadata": {},
     "output_type": "display_data"
    },
    {
     "data": {
      "text/html": [
       " View project at <a href='https://wandb.ai/aiffel_minions/DLthon_baseline_GRU' target=\"_blank\">https://wandb.ai/aiffel_minions/DLthon_baseline_GRU</a>"
      ],
      "text/plain": [
       "<IPython.core.display.HTML object>"
      ]
     },
     "metadata": {},
     "output_type": "display_data"
    },
    {
     "data": {
      "text/html": [
       " View sweep at <a href='https://wandb.ai/aiffel_minions/DLthon_baseline_GRU/sweeps/41plscik' target=\"_blank\">https://wandb.ai/aiffel_minions/DLthon_baseline_GRU/sweeps/41plscik</a>"
      ],
      "text/plain": [
       "<IPython.core.display.HTML object>"
      ]
     },
     "metadata": {},
     "output_type": "display_data"
    },
    {
     "data": {
      "text/html": [
       " View run at <a href='https://wandb.ai/aiffel_minions/DLthon_baseline_GRU/runs/qkgiph05' target=\"_blank\">https://wandb.ai/aiffel_minions/DLthon_baseline_GRU/runs/qkgiph05</a>"
      ],
      "text/plain": [
       "<IPython.core.display.HTML object>"
      ]
     },
     "metadata": {},
     "output_type": "display_data"
    },
    {
     "name": "stdout",
     "output_type": "stream",
     "text": [
      "Epoch 1/9\n",
      "124/124 [==============================] - 7s 25ms/step - loss: nan - accuracy: 0.1806 - val_loss: nan - val_accuracy: 0.1677\n",
      "Epoch 2/9\n",
      "124/124 [==============================] - 2s 17ms/step - loss: nan - accuracy: 0.1813 - val_loss: nan - val_accuracy: 0.1677\n",
      "Epoch 3/9\n",
      "124/124 [==============================] - 2s 17ms/step - loss: nan - accuracy: 0.1813 - val_loss: nan - val_accuracy: 0.1677\n",
      "Epoch 4/9\n",
      "124/124 [==============================] - 2s 17ms/step - loss: nan - accuracy: 0.1813 - val_loss: nan - val_accuracy: 0.1677\n",
      "Epoch 5/9\n",
      "124/124 [==============================] - 2s 17ms/step - loss: nan - accuracy: 0.1813 - val_loss: nan - val_accuracy: 0.1677\n",
      "Epoch 6/9\n",
      "124/124 [==============================] - 2s 17ms/step - loss: nan - accuracy: 0.1813 - val_loss: nan - val_accuracy: 0.1677\n",
      "Epoch 7/9\n",
      "124/124 [==============================] - 2s 18ms/step - loss: nan - accuracy: 0.1813 - val_loss: nan - val_accuracy: 0.1677\n",
      "Epoch 8/9\n",
      "124/124 [==============================] - 2s 17ms/step - loss: nan - accuracy: 0.1813 - val_loss: nan - val_accuracy: 0.1677\n",
      "Epoch 9/9\n",
      "124/124 [==============================] - 2s 17ms/step - loss: nan - accuracy: 0.1813 - val_loss: nan - val_accuracy: 0.1677\n",
      "16/16 - 0s - loss: nan - accuracy: 0.1919\n"
     ]
    },
    {
     "data": {
      "application/vnd.jupyter.widget-view+json": {
       "model_id": "",
       "version_major": 2,
       "version_minor": 0
      },
      "text/plain": [
       "VBox(children=(Label(value='0.010 MB of 0.010 MB uploaded\\r'), FloatProgress(value=1.0, max=1.0)))"
      ]
     },
     "metadata": {},
     "output_type": "display_data"
    },
    {
     "data": {
      "text/html": [
       "<style>\n",
       "    table.wandb td:nth-child(1) { padding: 0 10px; text-align: left ; width: auto;} td:nth-child(2) {text-align: left ; width: 100%}\n",
       "    .wandb-row { display: flex; flex-direction: row; flex-wrap: wrap; justify-content: flex-start; width: 100% }\n",
       "    .wandb-col { display: flex; flex-direction: column; flex-basis: 100%; flex: 1; padding: 10px; }\n",
       "    </style>\n",
       "<div class=\"wandb-row\"><div class=\"wandb-col\"><h3>Run history:</h3><br/><table class=\"wandb\"><tr><td>Test Accuracy Rate: </td><td>▁</td></tr><tr><td>Test Error Rate: </td><td>▁</td></tr><tr><td>Test F1 Score: </td><td>▁</td></tr><tr><td>accuracy</td><td>▁████████</td></tr><tr><td>epoch</td><td>▁▂▃▄▅▅▆▇█</td></tr><tr><td>val_accuracy</td><td>▁▁▁▁▁▁▁▁▁</td></tr></table><br/></div><div class=\"wandb-col\"><h3>Run summary:</h3><br/><table class=\"wandb\"><tr><td>Test Accuracy Rate: </td><td>19.19</td></tr><tr><td>Test Error Rate: </td><td>80.81</td></tr><tr><td>Test F1 Score: </td><td>19.19</td></tr><tr><td>accuracy</td><td>0.18131</td></tr><tr><td>epoch</td><td>8</td></tr><tr><td>loss</td><td>nan</td></tr><tr><td>val_accuracy</td><td>0.16768</td></tr><tr><td>val_loss</td><td>nan</td></tr></table><br/></div></div>"
      ],
      "text/plain": [
       "<IPython.core.display.HTML object>"
      ]
     },
     "metadata": {},
     "output_type": "display_data"
    },
    {
     "data": {
      "text/html": [
       " View run <strong style=\"color:#cdcd00\">dandy-sweep-9</strong> at: <a href='https://wandb.ai/aiffel_minions/DLthon_baseline_GRU/runs/qkgiph05' target=\"_blank\">https://wandb.ai/aiffel_minions/DLthon_baseline_GRU/runs/qkgiph05</a><br/>Synced 5 W&B file(s), 1 media file(s), 0 artifact file(s) and 0 other file(s)"
      ],
      "text/plain": [
       "<IPython.core.display.HTML object>"
      ]
     },
     "metadata": {},
     "output_type": "display_data"
    },
    {
     "data": {
      "text/html": [
       "Find logs at: <code>./wandb/run-20240625_055737-qkgiph05/logs</code>"
      ],
      "text/plain": [
       "<IPython.core.display.HTML object>"
      ]
     },
     "metadata": {},
     "output_type": "display_data"
    },
    {
     "name": "stderr",
     "output_type": "stream",
     "text": [
      "\u001b[34m\u001b[1mwandb\u001b[0m: Agent Starting Run: g6tnt1be with config:\n",
      "\u001b[34m\u001b[1mwandb\u001b[0m: \tepoch: 9\n",
      "\u001b[34m\u001b[1mwandb\u001b[0m: \tlearning_rate: 0.016761689929706787\n"
     ]
    },
    {
     "data": {
      "text/html": [
       "wandb version 0.17.3 is available!  To upgrade, please run:\n",
       " $ pip install wandb --upgrade"
      ],
      "text/plain": [
       "<IPython.core.display.HTML object>"
      ]
     },
     "metadata": {},
     "output_type": "display_data"
    },
    {
     "data": {
      "text/html": [
       "Tracking run with wandb version 0.16.0"
      ],
      "text/plain": [
       "<IPython.core.display.HTML object>"
      ]
     },
     "metadata": {},
     "output_type": "display_data"
    },
    {
     "data": {
      "text/html": [
       "Run data is saved locally in <code>/aiffel/aiffel/dlthon-minions/dlthon-stuart/wandb/run-20240625_055812-g6tnt1be</code>"
      ],
      "text/plain": [
       "<IPython.core.display.HTML object>"
      ]
     },
     "metadata": {},
     "output_type": "display_data"
    },
    {
     "data": {
      "text/html": [
       "Syncing run <strong><a href='https://wandb.ai/aiffel_minions/DLthon_baseline_GRU/runs/g6tnt1be' target=\"_blank\">lilac-sweep-10</a></strong> to <a href='https://wandb.ai/aiffel_minions/DLthon_baseline_GRU' target=\"_blank\">Weights & Biases</a> (<a href='https://wandb.me/run' target=\"_blank\">docs</a>)<br/>Sweep page: <a href='https://wandb.ai/aiffel_minions/DLthon_baseline_GRU/sweeps/41plscik' target=\"_blank\">https://wandb.ai/aiffel_minions/DLthon_baseline_GRU/sweeps/41plscik</a>"
      ],
      "text/plain": [
       "<IPython.core.display.HTML object>"
      ]
     },
     "metadata": {},
     "output_type": "display_data"
    },
    {
     "data": {
      "text/html": [
       " View project at <a href='https://wandb.ai/aiffel_minions/DLthon_baseline_GRU' target=\"_blank\">https://wandb.ai/aiffel_minions/DLthon_baseline_GRU</a>"
      ],
      "text/plain": [
       "<IPython.core.display.HTML object>"
      ]
     },
     "metadata": {},
     "output_type": "display_data"
    },
    {
     "data": {
      "text/html": [
       " View sweep at <a href='https://wandb.ai/aiffel_minions/DLthon_baseline_GRU/sweeps/41plscik' target=\"_blank\">https://wandb.ai/aiffel_minions/DLthon_baseline_GRU/sweeps/41plscik</a>"
      ],
      "text/plain": [
       "<IPython.core.display.HTML object>"
      ]
     },
     "metadata": {},
     "output_type": "display_data"
    },
    {
     "data": {
      "text/html": [
       " View run at <a href='https://wandb.ai/aiffel_minions/DLthon_baseline_GRU/runs/g6tnt1be' target=\"_blank\">https://wandb.ai/aiffel_minions/DLthon_baseline_GRU/runs/g6tnt1be</a>"
      ],
      "text/plain": [
       "<IPython.core.display.HTML object>"
      ]
     },
     "metadata": {},
     "output_type": "display_data"
    },
    {
     "name": "stdout",
     "output_type": "stream",
     "text": [
      "Epoch 1/9\n",
      "124/124 [==============================] - 6s 23ms/step - loss: 2.9104 - accuracy: 0.2066 - val_loss: 1.5697 - val_accuracy: 0.2970\n"
     ]
    },
    {
     "name": "stderr",
     "output_type": "stream",
     "text": [
      "WARNING:absl:Found untraced functions such as gru_cell_layer_call_and_return_conditional_losses, gru_cell_layer_call_fn, gru_cell_1_layer_call_and_return_conditional_losses, gru_cell_1_layer_call_fn, gru_cell_layer_call_fn while saving (showing 5 of 10). These functions will not be directly callable after loading.\n"
     ]
    },
    {
     "name": "stdout",
     "output_type": "stream",
     "text": [
      "INFO:tensorflow:Assets written to: /aiffel/aiffel/dlthon-minions/dlthon-stuart/wandb/run-20240625_055812-g6tnt1be/files/model-best/assets\n"
     ]
    },
    {
     "name": "stderr",
     "output_type": "stream",
     "text": [
      "INFO:tensorflow:Assets written to: /aiffel/aiffel/dlthon-minions/dlthon-stuart/wandb/run-20240625_055812-g6tnt1be/files/model-best/assets\n",
      "\u001b[34m\u001b[1mwandb\u001b[0m: Adding directory to artifact (/aiffel/aiffel/dlthon-minions/dlthon-stuart/wandb/run-20240625_055812-g6tnt1be/files/model-best)... Done. 0.1s\n"
     ]
    },
    {
     "name": "stdout",
     "output_type": "stream",
     "text": [
      "Epoch 2/9\n",
      "124/124 [==============================] - 2s 19ms/step - loss: 1.7071 - accuracy: 0.2207 - val_loss: 1.5878 - val_accuracy: 0.2707\n",
      "Epoch 3/9\n",
      "124/124 [==============================] - 2s 17ms/step - loss: 1.5326 - accuracy: 0.2912 - val_loss: 1.4382 - val_accuracy: 0.3515\n"
     ]
    },
    {
     "name": "stderr",
     "output_type": "stream",
     "text": [
      "WARNING:absl:Found untraced functions such as gru_cell_layer_call_and_return_conditional_losses, gru_cell_layer_call_fn, gru_cell_1_layer_call_and_return_conditional_losses, gru_cell_1_layer_call_fn, gru_cell_layer_call_fn while saving (showing 5 of 10). These functions will not be directly callable after loading.\n"
     ]
    },
    {
     "name": "stdout",
     "output_type": "stream",
     "text": [
      "INFO:tensorflow:Assets written to: /aiffel/aiffel/dlthon-minions/dlthon-stuart/wandb/run-20240625_055812-g6tnt1be/files/model-best/assets\n"
     ]
    },
    {
     "name": "stderr",
     "output_type": "stream",
     "text": [
      "INFO:tensorflow:Assets written to: /aiffel/aiffel/dlthon-minions/dlthon-stuart/wandb/run-20240625_055812-g6tnt1be/files/model-best/assets\n",
      "\u001b[34m\u001b[1mwandb\u001b[0m: Adding directory to artifact (/aiffel/aiffel/dlthon-minions/dlthon-stuart/wandb/run-20240625_055812-g6tnt1be/files/model-best)... Done. 0.1s\n"
     ]
    },
    {
     "name": "stdout",
     "output_type": "stream",
     "text": [
      "Epoch 4/9\n",
      "124/124 [==============================] - 2s 19ms/step - loss: 1.3520 - accuracy: 0.3955 - val_loss: 1.0342 - val_accuracy: 0.4929\n"
     ]
    },
    {
     "name": "stderr",
     "output_type": "stream",
     "text": [
      "WARNING:absl:Found untraced functions such as gru_cell_layer_call_and_return_conditional_losses, gru_cell_layer_call_fn, gru_cell_1_layer_call_and_return_conditional_losses, gru_cell_1_layer_call_fn, gru_cell_layer_call_fn while saving (showing 5 of 10). These functions will not be directly callable after loading.\n"
     ]
    },
    {
     "name": "stdout",
     "output_type": "stream",
     "text": [
      "INFO:tensorflow:Assets written to: /aiffel/aiffel/dlthon-minions/dlthon-stuart/wandb/run-20240625_055812-g6tnt1be/files/model-best/assets\n"
     ]
    },
    {
     "name": "stderr",
     "output_type": "stream",
     "text": [
      "INFO:tensorflow:Assets written to: /aiffel/aiffel/dlthon-minions/dlthon-stuart/wandb/run-20240625_055812-g6tnt1be/files/model-best/assets\n",
      "\u001b[34m\u001b[1mwandb\u001b[0m: Adding directory to artifact (/aiffel/aiffel/dlthon-minions/dlthon-stuart/wandb/run-20240625_055812-g6tnt1be/files/model-best)... Done. 0.1s\n"
     ]
    },
    {
     "name": "stdout",
     "output_type": "stream",
     "text": [
      "Epoch 5/9\n",
      "124/124 [==============================] - 2s 19ms/step - loss: 0.8831 - accuracy: 0.5813 - val_loss: 0.8849 - val_accuracy: 0.5455\n"
     ]
    },
    {
     "name": "stderr",
     "output_type": "stream",
     "text": [
      "WARNING:absl:Found untraced functions such as gru_cell_layer_call_and_return_conditional_losses, gru_cell_layer_call_fn, gru_cell_1_layer_call_and_return_conditional_losses, gru_cell_1_layer_call_fn, gru_cell_layer_call_fn while saving (showing 5 of 10). These functions will not be directly callable after loading.\n"
     ]
    },
    {
     "name": "stdout",
     "output_type": "stream",
     "text": [
      "INFO:tensorflow:Assets written to: /aiffel/aiffel/dlthon-minions/dlthon-stuart/wandb/run-20240625_055812-g6tnt1be/files/model-best/assets\n"
     ]
    },
    {
     "name": "stderr",
     "output_type": "stream",
     "text": [
      "INFO:tensorflow:Assets written to: /aiffel/aiffel/dlthon-minions/dlthon-stuart/wandb/run-20240625_055812-g6tnt1be/files/model-best/assets\n",
      "\u001b[34m\u001b[1mwandb\u001b[0m: Adding directory to artifact (/aiffel/aiffel/dlthon-minions/dlthon-stuart/wandb/run-20240625_055812-g6tnt1be/files/model-best)... Done. 0.1s\n"
     ]
    },
    {
     "name": "stdout",
     "output_type": "stream",
     "text": [
      "Epoch 6/9\n",
      "124/124 [==============================] - 2s 19ms/step - loss: 0.7923 - accuracy: 0.6318 - val_loss: 0.9446 - val_accuracy: 0.5576\n",
      "Epoch 7/9\n",
      "124/124 [==============================] - 2s 18ms/step - loss: 0.8871 - accuracy: 0.6348 - val_loss: 1.3192 - val_accuracy: 0.5253\n",
      "Epoch 8/9\n",
      "124/124 [==============================] - 2s 18ms/step - loss: 0.9548 - accuracy: 0.5848 - val_loss: 0.9090 - val_accuracy: 0.6020\n",
      "Epoch 9/9\n",
      "124/124 [==============================] - 2s 18ms/step - loss: 0.7133 - accuracy: 0.6801 - val_loss: 0.8592 - val_accuracy: 0.6788\n"
     ]
    },
    {
     "name": "stderr",
     "output_type": "stream",
     "text": [
      "WARNING:absl:Found untraced functions such as gru_cell_layer_call_and_return_conditional_losses, gru_cell_layer_call_fn, gru_cell_1_layer_call_and_return_conditional_losses, gru_cell_1_layer_call_fn, gru_cell_layer_call_fn while saving (showing 5 of 10). These functions will not be directly callable after loading.\n"
     ]
    },
    {
     "name": "stdout",
     "output_type": "stream",
     "text": [
      "INFO:tensorflow:Assets written to: /aiffel/aiffel/dlthon-minions/dlthon-stuart/wandb/run-20240625_055812-g6tnt1be/files/model-best/assets\n"
     ]
    },
    {
     "name": "stderr",
     "output_type": "stream",
     "text": [
      "INFO:tensorflow:Assets written to: /aiffel/aiffel/dlthon-minions/dlthon-stuart/wandb/run-20240625_055812-g6tnt1be/files/model-best/assets\n",
      "\u001b[34m\u001b[1mwandb\u001b[0m: Adding directory to artifact (/aiffel/aiffel/dlthon-minions/dlthon-stuart/wandb/run-20240625_055812-g6tnt1be/files/model-best)... Done. 0.1s\n"
     ]
    },
    {
     "name": "stdout",
     "output_type": "stream",
     "text": [
      "16/16 - 0s - loss: 0.9369 - accuracy: 0.6141\n"
     ]
    },
    {
     "data": {
      "application/vnd.jupyter.widget-view+json": {
       "model_id": "",
       "version_major": 2,
       "version_minor": 0
      },
      "text/plain": [
       "VBox(children=(Label(value='157.419 MB of 157.419 MB uploaded (0.063 MB deduped)\\r'), FloatProgress(value=1.0,…"
      ]
     },
     "metadata": {},
     "output_type": "display_data"
    },
    {
     "data": {
      "text/html": [
       "<style>\n",
       "    table.wandb td:nth-child(1) { padding: 0 10px; text-align: left ; width: auto;} td:nth-child(2) {text-align: left ; width: 100%}\n",
       "    .wandb-row { display: flex; flex-direction: row; flex-wrap: wrap; justify-content: flex-start; width: 100% }\n",
       "    .wandb-col { display: flex; flex-direction: column; flex-basis: 100%; flex: 1; padding: 10px; }\n",
       "    </style>\n",
       "<div class=\"wandb-row\"><div class=\"wandb-col\"><h3>Run history:</h3><br/><table class=\"wandb\"><tr><td>Test Accuracy Rate: </td><td>▁</td></tr><tr><td>Test Error Rate: </td><td>▁</td></tr><tr><td>Test F1 Score: </td><td>▁</td></tr><tr><td>accuracy</td><td>▁▁▂▄▇▇▇▇█</td></tr><tr><td>epoch</td><td>▁▂▃▄▅▅▆▇█</td></tr><tr><td>loss</td><td>█▄▄▃▂▁▂▂▁</td></tr><tr><td>val_accuracy</td><td>▁▁▂▅▆▆▅▇█</td></tr><tr><td>val_loss</td><td>██▇▃▁▂▅▁▁</td></tr></table><br/></div><div class=\"wandb-col\"><h3>Run summary:</h3><br/><table class=\"wandb\"><tr><td>Test Accuracy Rate: </td><td>61.41</td></tr><tr><td>Test Error Rate: </td><td>38.59</td></tr><tr><td>Test F1 Score: </td><td>61.41</td></tr><tr><td>accuracy</td><td>0.68005</td></tr><tr><td>best_epoch</td><td>8</td></tr><tr><td>best_val_loss</td><td>0.85924</td></tr><tr><td>epoch</td><td>8</td></tr><tr><td>loss</td><td>0.71334</td></tr><tr><td>val_accuracy</td><td>0.67879</td></tr><tr><td>val_loss</td><td>0.85924</td></tr></table><br/></div></div>"
      ],
      "text/plain": [
       "<IPython.core.display.HTML object>"
      ]
     },
     "metadata": {},
     "output_type": "display_data"
    },
    {
     "data": {
      "text/html": [
       " View run <strong style=\"color:#cdcd00\">lilac-sweep-10</strong> at: <a href='https://wandb.ai/aiffel_minions/DLthon_baseline_GRU/runs/g6tnt1be' target=\"_blank\">https://wandb.ai/aiffel_minions/DLthon_baseline_GRU/runs/g6tnt1be</a><br/>Synced 5 W&B file(s), 1 media file(s), 20 artifact file(s) and 1 other file(s)"
      ],
      "text/plain": [
       "<IPython.core.display.HTML object>"
      ]
     },
     "metadata": {},
     "output_type": "display_data"
    },
    {
     "data": {
      "text/html": [
       "Find logs at: <code>./wandb/run-20240625_055812-g6tnt1be/logs</code>"
      ],
      "text/plain": [
       "<IPython.core.display.HTML object>"
      ]
     },
     "metadata": {},
     "output_type": "display_data"
    }
   ],
   "source": [
    "# entity와 project에 본인의 아이디와 프로젝트명을 입력하세요\n",
    "\n",
    "sweep_id = wandb.sweep(sweep_config,\n",
    "                       entity = 'aiffel_minions',\n",
    "                       project = 'DLthon_baseline_GRU',\n",
    "                      )\n",
    "\n",
    "# run the sweep\n",
    "wandb.agent(sweep_id,\n",
    "            function=train,\n",
    "            count=10)"
   ]
  },
  {
   "cell_type": "code",
   "execution_count": 51,
<<<<<<< HEAD
   "id": "9d67db3c",
=======
   "id": "eb73cfc4",
>>>>>>> 5e39140e2cb83cd422df11d7435d75beb7c529df
   "metadata": {
    "scrolled": true
   },
   "outputs": [],
   "source": [
    "# train()"
   ]
  },
  {
   "cell_type": "code",
   "execution_count": null,
<<<<<<< HEAD
   "id": "2aca43cb",
=======
   "id": "2198bd37",
>>>>>>> 5e39140e2cb83cd422df11d7435d75beb7c529df
   "metadata": {},
   "outputs": [],
   "source": []
  }
 ],
 "metadata": {
  "colab": {
   "provenance": []
  },
  "kernelspec": {
   "display_name": "Python 3 (ipykernel)",
   "language": "python",
   "name": "python3"
  },
  "language_info": {
   "codemirror_mode": {
    "name": "ipython",
    "version": 3
   },
   "file_extension": ".py",
   "mimetype": "text/x-python",
   "name": "python",
   "nbconvert_exporter": "python",
   "pygments_lexer": "ipython3",
   "version": "3.9.7"
  }
 },
 "nbformat": 4,
 "nbformat_minor": 5
}
