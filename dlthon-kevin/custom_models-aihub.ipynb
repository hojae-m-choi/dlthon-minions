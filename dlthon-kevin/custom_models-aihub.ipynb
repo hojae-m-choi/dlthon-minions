{
 "cells": [
  {
   "cell_type": "markdown",
   "id": "5a210647",
   "metadata": {
    "id": "a63262ad"
   },
   "source": [
    "# 데이터"
   ]
  },
  {
   "cell_type": "code",
   "execution_count": 49,
   "id": "2180a437",
   "metadata": {
    "id": "cf7ba9f6"
   },
   "outputs": [],
   "source": [
    "# 라이브러리 불러오기\n",
    "import os\n",
    "import numpy as np\n",
    "import pandas as pd\n",
    "import matplotlib.pyplot as plt\n",
    "import seaborn as sns\n",
    "import tensorflow as tf\n",
    "from tensorflow import keras\n",
    "\n",
    "import re\n",
    "from collections import Counter\n",
    "import sentencepiece as spm\n",
    "from konlpy.tag import Okt\n",
    "from konlpy.tag import Mecab\n",
    "import csv \n",
    "from tensorflow.keras.preprocessing.sequence import pad_sequences\n",
    "from sklearn.model_selection import train_test_split\n",
    "\n",
    "from tensorflow.keras.models import Sequential\n",
    "import tensorflow_addons as tfa\n",
    "from itertools import combinations\n",
    "from sklearn.metrics import (\n",
    "    accuracy_score, \n",
    "    precision_score, \n",
    "    recall_score, \n",
    "    f1_score, \n",
    "    confusion_matrix\n",
    ")\n",
    "\n",
    "from keras.utils.vis_utils import plot_model"
   ]
  },
  {
   "cell_type": "code",
   "execution_count": 50,
   "id": "6810b4d0",
   "metadata": {
    "id": "SlAOhRs09rt2"
   },
   "outputs": [],
   "source": [
    "# 한글 폰트에 문제가 생겼을 때\n",
    "\n",
    "# 한글 폰트 설치\n",
    "!apt-get update -qq\n",
    "!apt-get install -qq fonts-nanum\n",
    "\n",
    "# 설치한 폰트를 matplotlib에서 사용할 수 있도록 설정\n",
    "import matplotlib.font_manager as fm\n",
    "import matplotlib.pyplot as plt\n",
    "\n",
    "# 나눔 폰트 경로 설정\n",
    "font_path = '/usr/share/fonts/truetype/nanum/NanumGothic.ttf'\n",
    "\n",
    "# 폰트 매니저에 폰트 추가\n",
    "fm.fontManager.addfont(font_path)\n",
    "plt.rc('font', family='NanumGothic')  # 폰트 설정"
   ]
  },
  {
   "cell_type": "markdown",
   "id": "93438fde",
   "metadata": {
    "id": "482d4066"
   },
   "source": [
    "## 데이터 업로드"
   ]
  },
  {
   "cell_type": "code",
   "execution_count": 51,
   "id": "030436aa",
   "metadata": {},
   "outputs": [
    {
     "data": {
      "text/plain": [
       "(3950, 3)"
      ]
     },
     "execution_count": 51,
     "metadata": {},
     "output_type": "execute_result"
    }
   ],
   "source": [
    "train_data = pd.read_csv('/aiffel/aiffel/dlthon-minions/share/data/train.csv')\n",
    "train_data.shape"
   ]
  },
  {
   "cell_type": "code",
   "execution_count": 52,
   "id": "0485a669",
   "metadata": {},
   "outputs": [
    {
     "data": {
      "text/plain": [
       "(1005, 3)"
      ]
     },
     "execution_count": 52,
     "metadata": {},
     "output_type": "execute_result"
    }
   ],
   "source": [
    "additional_train_data = pd.read_csv('/aiffel/aiffel/dlthon-minions/share/data/additional_train.csv')\n",
    "additional_train_data.shape"
   ]
  },
  {
   "cell_type": "code",
   "execution_count": 53,
   "id": "2bf55117",
   "metadata": {},
   "outputs": [
    {
     "data": {
      "text/html": [
       "<div>\n",
       "<style scoped>\n",
       "    .dataframe tbody tr th:only-of-type {\n",
       "        vertical-align: middle;\n",
       "    }\n",
       "\n",
       "    .dataframe tbody tr th {\n",
       "        vertical-align: top;\n",
       "    }\n",
       "\n",
       "    .dataframe thead th {\n",
       "        text-align: right;\n",
       "    }\n",
       "</style>\n",
       "<table border=\"1\" class=\"dataframe\">\n",
       "  <thead>\n",
       "    <tr style=\"text-align: right;\">\n",
       "      <th></th>\n",
       "      <th>idx</th>\n",
       "      <th>conversation</th>\n",
       "      <th>class</th>\n",
       "    </tr>\n",
       "  </thead>\n",
       "  <tbody>\n",
       "    <tr>\n",
       "      <th>877</th>\n",
       "      <td>877</td>\n",
       "      <td>잘 있었는가 아직 저녁 식사 안하셨지예?\\n잘 있었나 방금 어머니 아버지랑 저녁 먹...</td>\n",
       "      <td>일상 대화</td>\n",
       "    </tr>\n",
       "    <tr>\n",
       "      <th>748</th>\n",
       "      <td>748</td>\n",
       "      <td>남자 친구 군대 복무기간은 몇 개월 이였어 ?\\n2년이엇던 거 같은데 하하?\\n군대...</td>\n",
       "      <td>일상 대화</td>\n",
       "    </tr>\n",
       "    <tr>\n",
       "      <th>209</th>\n",
       "      <td>209</td>\n",
       "      <td>형은 기억나는 선생님 계시나?\\n어 키키 영어 선생님 키키 하도 혼나서 기억난다\\n...</td>\n",
       "      <td>일상 대화</td>\n",
       "    </tr>\n",
       "    <tr>\n",
       "      <th>157</th>\n",
       "      <td>157</td>\n",
       "      <td>와 스타벅스 난리났네 지금\\n왜왜? 아 그 행사 때문에 직원들 항의하는거?\\n엉 진...</td>\n",
       "      <td>일상 대화</td>\n",
       "    </tr>\n",
       "    <tr>\n",
       "      <th>790</th>\n",
       "      <td>790</td>\n",
       "      <td>오늘 우리 강아지 친구 집에 놀러 왔어 키키\\n아 정말요 하하\\n강아지가 엄청 좋아...</td>\n",
       "      <td>일상 대화</td>\n",
       "    </tr>\n",
       "    <tr>\n",
       "      <th>27</th>\n",
       "      <td>27</td>\n",
       "      <td>처형 치질 수술하신다면서요?\\n민망하게 ㅋ\\n아무래도 더 늦기 전에\\n저도 치질 수...</td>\n",
       "      <td>일상 대화</td>\n",
       "    </tr>\n",
       "    <tr>\n",
       "      <th>274</th>\n",
       "      <td>274</td>\n",
       "      <td>너 요즘 나 혼자 산다 보고 있어?\\n아니요\\n예전에는 봤는데 요새는 안 보네요 키...</td>\n",
       "      <td>일상 대화</td>\n",
       "    </tr>\n",
       "    <tr>\n",
       "      <th>270</th>\n",
       "      <td>270</td>\n",
       "      <td>대중교통 이용 잘 하는편이야 ?\\n보통 버스 마니 타는거 같애~\\n버스정류장은 근처...</td>\n",
       "      <td>일상 대화</td>\n",
       "    </tr>\n",
       "    <tr>\n",
       "      <th>80</th>\n",
       "      <td>80</td>\n",
       "      <td>너 요즘 그것이 알고 싶다 프로그램 봐?\\n나는 그거 맨날 보는 프로그램이야\\n진짜...</td>\n",
       "      <td>일상 대화</td>\n",
       "    </tr>\n",
       "    <tr>\n",
       "      <th>716</th>\n",
       "      <td>716</td>\n",
       "      <td>나 오늘 군대에서 제설 했어 키키!\\n응? 벌써 제설을 했다고?\\n응 눈이 너무 많...</td>\n",
       "      <td>일상 대화</td>\n",
       "    </tr>\n",
       "  </tbody>\n",
       "</table>\n",
       "</div>"
      ],
      "text/plain": [
       "     idx                                       conversation  class\n",
       "877  877  잘 있었는가 아직 저녁 식사 안하셨지예?\\n잘 있었나 방금 어머니 아버지랑 저녁 먹...  일상 대화\n",
       "748  748  남자 친구 군대 복무기간은 몇 개월 이였어 ?\\n2년이엇던 거 같은데 하하?\\n군대...  일상 대화\n",
       "209  209  형은 기억나는 선생님 계시나?\\n어 키키 영어 선생님 키키 하도 혼나서 기억난다\\n...  일상 대화\n",
       "157  157  와 스타벅스 난리났네 지금\\n왜왜? 아 그 행사 때문에 직원들 항의하는거?\\n엉 진...  일상 대화\n",
       "790  790  오늘 우리 강아지 친구 집에 놀러 왔어 키키\\n아 정말요 하하\\n강아지가 엄청 좋아...  일상 대화\n",
       "27    27  처형 치질 수술하신다면서요?\\n민망하게 ㅋ\\n아무래도 더 늦기 전에\\n저도 치질 수...  일상 대화\n",
       "274  274  너 요즘 나 혼자 산다 보고 있어?\\n아니요\\n예전에는 봤는데 요새는 안 보네요 키...  일상 대화\n",
       "270  270  대중교통 이용 잘 하는편이야 ?\\n보통 버스 마니 타는거 같애~\\n버스정류장은 근처...  일상 대화\n",
       "80    80  너 요즘 그것이 알고 싶다 프로그램 봐?\\n나는 그거 맨날 보는 프로그램이야\\n진짜...  일상 대화\n",
       "716  716  나 오늘 군대에서 제설 했어 키키!\\n응? 벌써 제설을 했다고?\\n응 눈이 너무 많...  일상 대화"
      ]
     },
     "execution_count": 53,
     "metadata": {},
     "output_type": "execute_result"
    }
   ],
   "source": [
    "additional_train_data.sample(10)"
   ]
  },
  {
   "cell_type": "code",
   "execution_count": 54,
   "id": "f30065e8",
   "metadata": {},
   "outputs": [
    {
     "data": {
      "text/plain": [
       "Index(['idx', 'class', 'conversation'], dtype='object')"
      ]
     },
     "execution_count": 54,
     "metadata": {},
     "output_type": "execute_result"
    }
   ],
   "source": [
    "additional_train_data = additional_train_data[['idx', 'class', 'conversation']]\n",
    "additional_train_data.columns"
   ]
  },
  {
   "cell_type": "code",
   "execution_count": 55,
   "id": "53339b85",
   "metadata": {},
   "outputs": [
    {
     "data": {
      "text/plain": [
       "(4955, 3)"
      ]
     },
     "execution_count": 55,
     "metadata": {},
     "output_type": "execute_result"
    }
   ],
   "source": [
    "train_data = pd.concat([train_data, additional_train_data], ignore_index=True)\n",
    "train_data.shape"
   ]
  },
  {
   "cell_type": "code",
   "execution_count": 56,
   "id": "d5289b04",
   "metadata": {},
   "outputs": [],
   "source": [
    "train_data = train_data.sample(frac=1, random_state=1).reset_index(drop=True)"
   ]
  },
  {
   "cell_type": "code",
   "execution_count": 57,
   "id": "718c6c2a",
   "metadata": {
    "colab": {
     "base_uri": "https://localhost:8080/"
    },
    "id": "662ed8cb",
    "outputId": "bf7af049-16d1-411f-e51b-7e2388e895c9"
   },
   "outputs": [
    {
     "name": "stdout",
     "output_type": "stream",
     "text": [
      "<class 'pandas.core.frame.DataFrame'>\n",
      "RangeIndex: 4955 entries, 0 to 4954\n",
      "Data columns (total 3 columns):\n",
      " #   Column        Non-Null Count  Dtype \n",
      "---  ------        --------------  ----- \n",
      " 0   idx           4955 non-null   int64 \n",
      " 1   class         4955 non-null   object\n",
      " 2   conversation  4955 non-null   object\n",
      "dtypes: int64(1), object(2)\n",
      "memory usage: 116.3+ KB\n"
     ]
    }
   ],
   "source": [
    "train_data.info()"
   ]
  },
  {
   "cell_type": "markdown",
   "id": "4fd82e79",
   "metadata": {
    "id": "a2dc1dd9"
   },
   "source": [
    "## 전처리"
   ]
  },
  {
   "cell_type": "markdown",
   "id": "60b8449f",
   "metadata": {
    "id": "01b2fd43"
   },
   "source": [
    "### 기본 전처리"
   ]
  },
  {
   "cell_type": "markdown",
   "id": "2ab30870",
   "metadata": {
    "id": "OYxUovemAv20"
   },
   "source": [
    "#### 중복값 여부 찾아보기"
   ]
  },
  {
   "cell_type": "code",
   "execution_count": 58,
   "id": "bd627489",
   "metadata": {
    "colab": {
     "base_uri": "https://localhost:8080/",
     "height": 89
    },
    "id": "cB1L0F_TAi_C",
    "outputId": "b61694e1-9aab-493d-92b0-2d51a5c1a8a8"
   },
   "outputs": [
    {
     "data": {
      "text/html": [
       "<div>\n",
       "<style scoped>\n",
       "    .dataframe tbody tr th:only-of-type {\n",
       "        vertical-align: middle;\n",
       "    }\n",
       "\n",
       "    .dataframe tbody tr th {\n",
       "        vertical-align: top;\n",
       "    }\n",
       "\n",
       "    .dataframe thead th {\n",
       "        text-align: right;\n",
       "    }\n",
       "</style>\n",
       "<table border=\"1\" class=\"dataframe\">\n",
       "  <thead>\n",
       "    <tr style=\"text-align: right;\">\n",
       "      <th></th>\n",
       "      <th>idx</th>\n",
       "      <th>class</th>\n",
       "      <th>conversation</th>\n",
       "    </tr>\n",
       "  </thead>\n",
       "  <tbody>\n",
       "  </tbody>\n",
       "</table>\n",
       "</div>"
      ],
      "text/plain": [
       "Empty DataFrame\n",
       "Columns: [idx, class, conversation]\n",
       "Index: []"
      ]
     },
     "execution_count": 58,
     "metadata": {},
     "output_type": "execute_result"
    }
   ],
   "source": [
    "# 중복값 찾기\n",
    "duplicates = train_data[train_data.duplicated()]\n",
    "duplicates"
   ]
  },
  {
   "cell_type": "markdown",
   "id": "43b5536e",
   "metadata": {},
   "source": [
    "중복값 없음"
   ]
  },
  {
   "cell_type": "markdown",
   "id": "2fb87373",
   "metadata": {
    "id": "j0pOinZUARe5"
   },
   "source": [
    "#### 결측치 여부 확인하기"
   ]
  },
  {
   "cell_type": "code",
   "execution_count": 59,
   "id": "738170b3",
   "metadata": {
    "colab": {
     "base_uri": "https://localhost:8080/"
    },
    "id": "f5JBxYdiAMVC",
    "outputId": "e600fe25-72c4-47c4-e687-cacd5a91e6f9"
   },
   "outputs": [
    {
     "data": {
      "text/plain": [
       "idx             0\n",
       "class           0\n",
       "conversation    0\n",
       "dtype: int64"
      ]
     },
     "execution_count": 59,
     "metadata": {},
     "output_type": "execute_result"
    }
   ],
   "source": [
    "# 결측치 여부 확인하기\n",
    "train_data.isnull().sum()"
   ]
  },
  {
   "cell_type": "markdown",
   "id": "b9f0c568",
   "metadata": {},
   "source": [
    "결측치 없음"
   ]
  },
  {
   "cell_type": "markdown",
   "id": "4db98219",
   "metadata": {},
   "source": [
    "#### 'class' column 라벨 인코딩"
   ]
  },
  {
   "cell_type": "code",
   "execution_count": 60,
   "id": "03fa3daf",
   "metadata": {},
   "outputs": [],
   "source": [
    "# 'class'를 'type'으로 매핑하는 딕셔너리 생성하기\n",
    "class_to_type = {\n",
    "    '협박 대화': 0,\n",
    "    '갈취 대화': 1,\n",
    "    '직장 내 괴롭힘 대화': 2,\n",
    "    '기타 괴롭힘 대화': 3,\n",
    "    '일상 대화': 4\n",
    "}\n",
    "\n",
    "# 'class' 열을 기반으로 새로운 'type' 열 추가하기\n",
    "train_data['type'] = train_data['class'].map(class_to_type)\n",
    "\n",
    "# 기존 idx, class 컬럼 삭제하기\n",
    "train_data = train_data.drop(['idx', 'class'], axis=1)"
   ]
  },
  {
   "cell_type": "markdown",
   "id": "94da422f",
   "metadata": {
    "id": "62e949ca"
   },
   "source": [
    "### 텍스트 전처리"
   ]
  },
  {
   "cell_type": "markdown",
   "id": "1d28ccab",
   "metadata": {},
   "source": [
    "#### 한글 외 문자 삭제\n",
    "- 한글, '?', '!', '.', '.', 공백 유지\n",
    "- 대화 순서 나타내는 '1: ', '2: ',... 지우기"
   ]
  },
  {
   "cell_type": "code",
   "execution_count": 61,
   "id": "ce632a5a",
   "metadata": {},
   "outputs": [],
   "source": [
    "# 전처리 함수\n",
    "def preprocess_sentence(sentence): \n",
    "    # \\n을 공백으로 바꾸기\n",
    "    sentence = re.sub(\"\\n\", \" \", sentence)\n",
    "    \n",
    "    # (ㄱ-ㅎ, ㅏ-ㅣ, \".\", \"?\", \"!\", \",\", ' ')를 제외한 모든 문자를 없애기\n",
    "    sentence = re.sub(\"[^ㄱ-ㅣ가-힣.?!, ]\", \"\", sentence)\n",
    "    \n",
    "    # 단어와 구두점(punctuation) 사이에 공백 추가\n",
    "    sentence = re.sub(r\"([?.!,])\", r\" \\1 \", sentence)\n",
    "    \n",
    "    return sentence"
   ]
  },
  {
   "cell_type": "code",
   "execution_count": 62,
   "id": "b9b94db6",
   "metadata": {},
   "outputs": [
    {
     "data": {
      "text/plain": [
       "0       야 이게 뭐냐 ?  드 드론 .  드 드드 드론 .  새끼 말 더듬는 거 봐 .  ...\n",
       "1       너 죽여버린다 .   잘못했어요 .  살려주세요 .   뭘 살려줘 .  이 칼로 찔...\n",
       "2       너는 왜 못생겼어 ?  응 ?  너는 왜 못생겼나구 너무 신기하다 인생 그렇게 살지...\n",
       "3       이 동네에서 직방 켜봤더니 집이 없네 키키 이 동네는 방이 있겠나 .  .  .  ...\n",
       "4       아 여성분들이 모여계시네 .  여기 뭐하는 모임입니까 ?  왜 그러시는데요 ?  아...\n",
       "                              ...                        \n",
       "4950    왜 돈 안갚아 ?  죄송해요 이번달까지만 기다려주세요 .  나 그렇게 한가한 사람 ...\n",
       "4951    너 지금 어디야  ?   그걸 왜 궁금해하시죠 ?   너 에 올린글 다봤어 기분 더...\n",
       "4952    너 좋은 게임기로 논다 ?  이번에 엄마가 생일선물로 사줬어요 .  아 진짜 ?  ...\n",
       "4953    직장생활은 할만하나 ?  키키 난 집에  있으니까 직장생활이라고 할 게 없네 그렇죠...\n",
       "4954    야 니네아빠 전과자라며 ?  ?  어떻게 알았어 ?  ?  그게 중요해 ?  니네아...\n",
       "Name: preprocessed, Length: 4955, dtype: object"
      ]
     },
     "execution_count": 62,
     "metadata": {},
     "output_type": "execute_result"
    }
   ],
   "source": [
    "# 전처리 데이터 새로운 column에 저장\n",
    "train_data['preprocessed'] = train_data['conversation'].apply(preprocess_sentence)\n",
    "train_data['preprocessed']"
   ]
  },
  {
   "cell_type": "code",
   "execution_count": 63,
   "id": "1664c098",
   "metadata": {},
   "outputs": [
    {
     "data": {
      "text/html": [
       "<div>\n",
       "<style scoped>\n",
       "    .dataframe tbody tr th:only-of-type {\n",
       "        vertical-align: middle;\n",
       "    }\n",
       "\n",
       "    .dataframe tbody tr th {\n",
       "        vertical-align: top;\n",
       "    }\n",
       "\n",
       "    .dataframe thead th {\n",
       "        text-align: right;\n",
       "    }\n",
       "</style>\n",
       "<table border=\"1\" class=\"dataframe\">\n",
       "  <thead>\n",
       "    <tr style=\"text-align: right;\">\n",
       "      <th></th>\n",
       "      <th>conversation</th>\n",
       "      <th>type</th>\n",
       "    </tr>\n",
       "  </thead>\n",
       "  <tbody>\n",
       "    <tr>\n",
       "      <th>0</th>\n",
       "      <td>야 이게 뭐냐 ?  드 드론 .  드 드드 드론 .  새끼 말 더듬는 거 봐 .  ...</td>\n",
       "      <td>1</td>\n",
       "    </tr>\n",
       "    <tr>\n",
       "      <th>1</th>\n",
       "      <td>너 죽여버린다 .   잘못했어요 .  살려주세요 .   뭘 살려줘 .  이 칼로 찔...</td>\n",
       "      <td>0</td>\n",
       "    </tr>\n",
       "    <tr>\n",
       "      <th>2</th>\n",
       "      <td>너는 왜 못생겼어 ?  응 ?  너는 왜 못생겼나구 너무 신기하다 인생 그렇게 살지...</td>\n",
       "      <td>3</td>\n",
       "    </tr>\n",
       "    <tr>\n",
       "      <th>3</th>\n",
       "      <td>이 동네에서 직방 켜봤더니 집이 없네 키키 이 동네는 방이 있겠나 .  .  .  ...</td>\n",
       "      <td>4</td>\n",
       "    </tr>\n",
       "    <tr>\n",
       "      <th>4</th>\n",
       "      <td>아 여성분들이 모여계시네 .  여기 뭐하는 모임입니까 ?  왜 그러시는데요 ?  아...</td>\n",
       "      <td>3</td>\n",
       "    </tr>\n",
       "    <tr>\n",
       "      <th>...</th>\n",
       "      <td>...</td>\n",
       "      <td>...</td>\n",
       "    </tr>\n",
       "    <tr>\n",
       "      <th>4950</th>\n",
       "      <td>왜 돈 안갚아 ?  죄송해요 이번달까지만 기다려주세요 .  나 그렇게 한가한 사람 ...</td>\n",
       "      <td>0</td>\n",
       "    </tr>\n",
       "    <tr>\n",
       "      <th>4951</th>\n",
       "      <td>너 지금 어디야  ?   그걸 왜 궁금해하시죠 ?   너 에 올린글 다봤어 기분 더...</td>\n",
       "      <td>0</td>\n",
       "    </tr>\n",
       "    <tr>\n",
       "      <th>4952</th>\n",
       "      <td>너 좋은 게임기로 논다 ?  이번에 엄마가 생일선물로 사줬어요 .  아 진짜 ?  ...</td>\n",
       "      <td>1</td>\n",
       "    </tr>\n",
       "    <tr>\n",
       "      <th>4953</th>\n",
       "      <td>직장생활은 할만하나 ?  키키 난 집에  있으니까 직장생활이라고 할 게 없네 그렇죠...</td>\n",
       "      <td>4</td>\n",
       "    </tr>\n",
       "    <tr>\n",
       "      <th>4954</th>\n",
       "      <td>야 니네아빠 전과자라며 ?  ?  어떻게 알았어 ?  ?  그게 중요해 ?  니네아...</td>\n",
       "      <td>1</td>\n",
       "    </tr>\n",
       "  </tbody>\n",
       "</table>\n",
       "<p>4955 rows × 2 columns</p>\n",
       "</div>"
      ],
      "text/plain": [
       "                                           conversation  type\n",
       "0     야 이게 뭐냐 ?  드 드론 .  드 드드 드론 .  새끼 말 더듬는 거 봐 .  ...     1\n",
       "1     너 죽여버린다 .   잘못했어요 .  살려주세요 .   뭘 살려줘 .  이 칼로 찔...     0\n",
       "2     너는 왜 못생겼어 ?  응 ?  너는 왜 못생겼나구 너무 신기하다 인생 그렇게 살지...     3\n",
       "3     이 동네에서 직방 켜봤더니 집이 없네 키키 이 동네는 방이 있겠나 .  .  .  ...     4\n",
       "4     아 여성분들이 모여계시네 .  여기 뭐하는 모임입니까 ?  왜 그러시는데요 ?  아...     3\n",
       "...                                                 ...   ...\n",
       "4950  왜 돈 안갚아 ?  죄송해요 이번달까지만 기다려주세요 .  나 그렇게 한가한 사람 ...     0\n",
       "4951  너 지금 어디야  ?   그걸 왜 궁금해하시죠 ?   너 에 올린글 다봤어 기분 더...     0\n",
       "4952  너 좋은 게임기로 논다 ?  이번에 엄마가 생일선물로 사줬어요 .  아 진짜 ?  ...     1\n",
       "4953  직장생활은 할만하나 ?  키키 난 집에  있으니까 직장생활이라고 할 게 없네 그렇죠...     4\n",
       "4954  야 니네아빠 전과자라며 ?  ?  어떻게 알았어 ?  ?  그게 중요해 ?  니네아...     1\n",
       "\n",
       "[4955 rows x 2 columns]"
      ]
     },
     "execution_count": 63,
     "metadata": {},
     "output_type": "execute_result"
    }
   ],
   "source": [
    "# 기존 'conversation' column 전처리한 데이터로 바꾸기\n",
    "train_data['conversation'] = train_data['preprocessed']\n",
    "train_data.drop('preprocessed', axis=1)"
   ]
  },
  {
   "cell_type": "markdown",
   "id": "8d2f7c61",
   "metadata": {},
   "source": [
    "#### 불용어 삭제\n",
    "[불용어 리스트 출처](https://www.ranks.nl/stopwords/korean)"
   ]
  },
  {
   "cell_type": "code",
   "execution_count": 64,
   "id": "89b454c9",
   "metadata": {},
   "outputs": [],
   "source": [
    "# 불용어 리스트 불러오기\n",
    "stopwords_path = \"/aiffel/aiffel/dlthon-minions/share/preprocess/ko_stopwords.txt\"\n",
    "with open(stopwords_path, 'r', encoding='utf-8') as file:\n",
    "    stopwords = file.read().splitlines()"
   ]
  },
  {
   "cell_type": "markdown",
   "id": "ee1c3582",
   "metadata": {
    "id": "f2e6fa92"
   },
   "source": [
    "#### 토큰화"
   ]
  },
  {
   "cell_type": "markdown",
   "id": "bd04dbd2",
   "metadata": {},
   "source": [
    "```!pip install konlpy```"
   ]
  },
  {
   "cell_type": "code",
   "execution_count": 65,
   "id": "efbd72a2",
   "metadata": {},
   "outputs": [],
   "source": [
    "# 단어사전 크기 20000으로 제한\n",
    "VOCAB_SIZE=20000"
   ]
  },
  {
   "cell_type": "markdown",
   "id": "6044d3e4",
   "metadata": {},
   "source": [
    "Okt 토크나이저 활용"
   ]
  },
  {
   "cell_type": "code",
   "execution_count": 66,
   "id": "1d177e67",
   "metadata": {},
   "outputs": [],
   "source": [
    "# Okt로 토큰화\n",
    "tokenizer=Okt()\n",
    "\n",
    "def tokenize(conversation, tokenizer):\n",
    "    return [token for token in tokenizer.morphs(conversation) if token not in stopwords]\n",
    "\n",
    "# 각 conversation을 토큰화하여 새로운 열 'tokenized'에 저장\n",
    "train_data['tokenized'] = train_data['conversation'].apply(lambda x: tokenize(x, tokenizer))\n",
    "tokenized_df = train_data[['type', 'tokenized']]"
   ]
  },
  {
   "cell_type": "code",
   "execution_count": 67,
   "id": "b6bd2f41",
   "metadata": {},
   "outputs": [],
   "source": [
    "# vocabulary 파일로 저장\n",
    "def save_vocab(tokenized, vocab_path):\n",
    "    # 'tokenized' 열의 모든 토큰을 모아 등장 빈도 계산\n",
    "    all_tokens = [token for tokens in tokenized for token in tokens]\n",
    "    counter = Counter(all_tokens)\n",
    "    # 가장 많이 등장하는 단어 vocab_size 개수만큼 남기기\n",
    "    counter = counter.most_common(VOCAB_SIZE)\n",
    "    \n",
    "    with open(vocab_path, 'w') as f:\n",
    "        f.write(\"<pad>: 0\\n\")\n",
    "        f.write(\"<unk>: 1\\n\")\n",
    "        for idx, (word, _) in enumerate(counter):\n",
    "            line = f\"{word}: {idx+2}\\n\"\n",
    "            f.write(line)\n",
    "            \n",
    "vocab_path = '/aiffel/aiffel/dlthon-minions/share/preprocess/additional_vocab.txt'\n",
    "save_vocab(train_data['tokenized'], vocab_path)"
   ]
  },
  {
   "cell_type": "markdown",
   "id": "41f8a527",
   "metadata": {},
   "source": [
    "#### 단어사전 생성"
   ]
  },
  {
   "cell_type": "code",
   "execution_count": 68,
   "id": "8d56d84b",
   "metadata": {},
   "outputs": [],
   "source": [
    "def create_word_to_index(vocab_path):\n",
    "    # 인코딩에 활용할 단어사전 딕셔너리 생성\n",
    "    word_to_index = {}\n",
    "    with open(vocab_path, 'r') as f:\n",
    "        lines = f.readlines()\n",
    "        for line in lines:\n",
    "            line = line.strip()\n",
    "            tmp = line.split(\": \")\n",
    "            word = tmp[0]\n",
    "            idx = int(tmp[1])\n",
    "            word_to_index.update({word: idx})\n",
    "    return word_to_index"
   ]
  },
  {
   "cell_type": "code",
   "execution_count": 69,
   "id": "b62efddc",
   "metadata": {},
   "outputs": [
    {
     "data": {
      "text/plain": [
       "{'<pad>': 0,\n",
       " '<unk>': 1,\n",
       " '.': 2,\n",
       " '?': 3,\n",
       " '!': 4,\n",
       " '내': 5,\n",
       " '는': 6,\n",
       " '은': 7,\n",
       " '말': 8,\n",
       " '진짜': 9,\n",
       " '다': 10,\n",
       " '뭐': 11,\n",
       " '돈': 12,\n",
       " '만': 13,\n",
       " '잘': 14,\n",
       " '해': 15,\n",
       " '니': 16,\n",
       " '한': 17,\n",
       " '요': 18,\n",
       " '지금': 19,\n",
       " '게': 20,\n",
       " '고': 21,\n",
       " '죄송합니다': 22,\n",
       " '하고': 23,\n",
       " '한테': 24,\n",
       " '그냥': 25,\n",
       " '이야': 26,\n",
       " '할': 27,\n",
       " '더': 28,\n",
       " '너무': 29,\n",
       " '하는': 30,\n",
       " 'ㅠㅠ': 31,\n",
       " '님': 32,\n",
       " '나도': 33,\n",
       " '지': 34,\n",
       " '랑': 35,\n",
       " '집': 36,\n",
       " '생각': 37,\n",
       " '그런': 38,\n",
       " '알': 39,\n",
       " '오늘': 40,\n",
       " '난': 41,\n",
       " '하면': 42,\n",
       " '그렇게': 43,\n",
       " '제발': 44,\n",
       " '많이': 45,\n",
       " '수': 46,\n",
       " '있어': 47,\n",
       " '맞아': 48,\n",
       " '애': 49,\n",
       " '친구': 50,\n",
       " '돼': 51,\n",
       " '면': 52,\n",
       " '정말': 53,\n",
       " '없어': 54,\n",
       " '아니야': 55,\n",
       " '그거': 56,\n",
       " '줄': 57,\n",
       " '그건': 58,\n",
       " '한번': 59,\n",
       " '엄마': 60,\n",
       " '빨리': 61,\n",
       " '요즘': 62,\n",
       " '인데': 63,\n",
       " '새끼': 64,\n",
       " '그게': 65,\n",
       " '해서': 66,\n",
       " '씨': 67,\n",
       " '서': 68,\n",
       " '회사': 69,\n",
       " 'ㅜㅜ': 70,\n",
       " '이제': 71,\n",
       " '이렇게': 72,\n",
       " '전': 73,\n",
       " '거야': 74,\n",
       " '같아': 75,\n",
       " '하지': 76,\n",
       " '라고': 77,\n",
       " '넌': 78,\n",
       " '걸': 79,\n",
       " '적': 80,\n",
       " '니까': 81,\n",
       " '이랑': 82,\n",
       " '라': 83,\n",
       " '있는': 84,\n",
       " '보고': 85,\n",
       " '대리': 86,\n",
       " '같은': 87,\n",
       " '일이': 88,\n",
       " '뭘': 89,\n",
       " '만원': 90,\n",
       " '건': 91,\n",
       " '소리': 92,\n",
       " '살': 93,\n",
       " '했어': 94,\n",
       " '내일': 95,\n",
       " '번': 96,\n",
       " '다시': 97,\n",
       " '하는데': 98,\n",
       " '앞': 99,\n",
       " '좋은': 100,\n",
       " '아직': 101,\n",
       " '인': 102,\n",
       " '신고': 103,\n",
       " '때문': 104,\n",
       " '엄청': 105,\n",
       " '정도': 106,\n",
       " '없어요': 107,\n",
       " '오빠': 108,\n",
       " '날': 109,\n",
       " '가서': 110,\n",
       " '김': 111,\n",
       " '말씀': 112,\n",
       " '데': 113,\n",
       " '하겠습니다': 114,\n",
       " '했는데': 115,\n",
       " '뭔': 116,\n",
       " '자네': 117,\n",
       " '부장': 118,\n",
       " '보다': 119,\n",
       " '밖에': 120,\n",
       " '미안해': 121,\n",
       " '해야': 122,\n",
       " '가족': 123,\n",
       " '말고': 124,\n",
       " '옷': 125,\n",
       " '얘기': 126,\n",
       " '아닙니다': 127,\n",
       " '눈': 128,\n",
       " '이지': 129,\n",
       " '내놔': 130,\n",
       " '꼭': 131,\n",
       " '알겠습니다': 132,\n",
       " '아니고': 133,\n",
       " '없는': 134,\n",
       " '저번': 135,\n",
       " '줘': 136,\n",
       " '싫어': 137,\n",
       " '엔': 138,\n",
       " '이나': 139,\n",
       " '얼굴': 140,\n",
       " '누가': 141,\n",
       " '달': 142,\n",
       " '죠': 143,\n",
       " '거지': 144,\n",
       " '장난': 145,\n",
       " '듯': 146,\n",
       " '동생': 147,\n",
       " '게임': 148,\n",
       " '아니라': 149,\n",
       " '부모님': 150,\n",
       " '냐': 151,\n",
       " '이라': 152,\n",
       " '머리': 153,\n",
       " '선생님': 154,\n",
       " '이건': 155,\n",
       " '아빠': 156,\n",
       " '죽여': 157,\n",
       " '같은데': 158,\n",
       " '어제': 159,\n",
       " '개': 160,\n",
       " '밥': 161,\n",
       " '시': 162,\n",
       " '주': 163,\n",
       " '얘': 164,\n",
       " '차': 165,\n",
       " '가지': 166,\n",
       " '래': 167,\n",
       " '곳': 168,\n",
       " ',': 169,\n",
       " '알겠어': 170,\n",
       " '없어서': 171,\n",
       " '먹고': 172,\n",
       " '에도': 173,\n",
       " 'ㅠ': 174,\n",
       " '계속': 175,\n",
       " '기분': 176,\n",
       " '에요': 177,\n",
       " '분': 178,\n",
       " '형': 179,\n",
       " '정신': 180,\n",
       " '갑자기': 181,\n",
       " '학교': 182,\n",
       " '헐': 183,\n",
       " '부탁': 184,\n",
       " '아무': 185,\n",
       " '중': 186,\n",
       " '과장': 187,\n",
       " '건가': 188,\n",
       " '놈': 189,\n",
       " '문제': 190,\n",
       " '보면': 191,\n",
       " '팀': 192,\n",
       " '딸': 193,\n",
       " '있지': 194,\n",
       " '그만': 195,\n",
       " '두': 196,\n",
       " '자꾸': 197,\n",
       " '그니까': 198,\n",
       " '잖아': 199,\n",
       " '사진': 200,\n",
       " '있는데': 201,\n",
       " '누나': 202,\n",
       " '에는': 203,\n",
       " '어디서': 204,\n",
       " '아주': 205,\n",
       " '원': 206,\n",
       " '완전': 207,\n",
       " '하네': 208,\n",
       " '대': 209,\n",
       " '그치': 210,\n",
       " '공부': 211,\n",
       " '사장': 212,\n",
       " '준비': 213,\n",
       " '달라': 214,\n",
       " '업무': 215,\n",
       " '제대로': 216,\n",
       " '결혼': 217,\n",
       " '이네': 218,\n",
       " '그걸': 219,\n",
       " '남자': 220,\n",
       " '싶어': 221,\n",
       " '엉': 222,\n",
       " '비': 223,\n",
       " '입니다': 224,\n",
       " '응응': 225,\n",
       " '해야지': 226,\n",
       " '몸': 227,\n",
       " '손': 228,\n",
       " '이라도': 229,\n",
       " '여행': 230,\n",
       " '손님': 231,\n",
       " '갈': 232,\n",
       " '이다': 233,\n",
       " '웅': 234,\n",
       " '고객': 235,\n",
       " '몰라': 236,\n",
       " '그만해': 237,\n",
       " '마': 238,\n",
       " '휴가': 239,\n",
       " '아냐': 240,\n",
       " '열심히': 241,\n",
       " '칼': 242,\n",
       " '해도': 243,\n",
       " '아들': 244,\n",
       " '잘못': 245,\n",
       " '맨날': 246,\n",
       " '해봐': 247,\n",
       " '하라': 248,\n",
       " '쳐': 249,\n",
       " '않아': 250,\n",
       " '라도': 251,\n",
       " '있나': 252,\n",
       " '경찰': 253,\n",
       " '입': 254,\n",
       " '이고': 255,\n",
       " '여자': 256,\n",
       " '그러게': 257,\n",
       " '그것': 258,\n",
       " '죄송해요': 259,\n",
       " '볼': 260,\n",
       " '냄새': 261,\n",
       " '마음': 262,\n",
       " '있어요': 263,\n",
       " '이라고': 264,\n",
       " '아니요': 265,\n",
       " '강아지': 266,\n",
       " '없는데': 267,\n",
       " '같아요': 268,\n",
       " '학원': 269,\n",
       " '있어서': 270,\n",
       " '마세요': 271,\n",
       " '그럴': 272,\n",
       " '본': 273,\n",
       " '병원': 274,\n",
       " '살려주세요': 275,\n",
       " '나중': 276,\n",
       " '죽': 277,\n",
       " '인가': 278,\n",
       " '커피': 279,\n",
       " '자식': 280,\n",
       " '든': 281,\n",
       " '요새': 282,\n",
       " '들어': 283,\n",
       " '처럼': 284,\n",
       " '미안': 285,\n",
       " '처음': 286,\n",
       " '가요': 287,\n",
       " '되는': 288,\n",
       " '돼요': 289,\n",
       " '씩': 290,\n",
       " '먼저': 291,\n",
       " '군대': 292,\n",
       " '나이': 293,\n",
       " '영화': 294,\n",
       " '원래': 295,\n",
       " '하게': 296,\n",
       " '같습니다': 297,\n",
       " '언니': 298,\n",
       " '어쩔': 299,\n",
       " '주세요': 300,\n",
       " '별로': 301,\n",
       " '하냐': 302,\n",
       " '한다': 303,\n",
       " '쪽': 304,\n",
       " '한다고': 305,\n",
       " '했지': 306,\n",
       " '식': 307,\n",
       " '알아서': 308,\n",
       " '얼른': 309,\n",
       " '하루': 310,\n",
       " '제일': 311,\n",
       " '생활': 312,\n",
       " '수도': 313,\n",
       " '하기': 314,\n",
       " '가는': 315,\n",
       " '큰': 316,\n",
       " '걱정': 317,\n",
       " '많아': 318,\n",
       " '코로나': 319,\n",
       " '음': 320,\n",
       " '사과': 321,\n",
       " '하세요': 322,\n",
       " '할게': 323,\n",
       " '보': 324,\n",
       " '이에요': 325,\n",
       " '죽어': 326,\n",
       " '뭔가': 327,\n",
       " '똑바로': 328,\n",
       " '약속': 329,\n",
       " '명': 330,\n",
       " '있으면': 331,\n",
       " '하자': 332,\n",
       " '이미': 333,\n",
       " '먹어': 334,\n",
       " '말로': 335,\n",
       " '환불': 336,\n",
       " '술': 337,\n",
       " '가야': 338,\n",
       " '했잖아': 339,\n",
       " '오래': 340,\n",
       " '주말': 341,\n",
       " '해줘': 342,\n",
       " '뭐라고': 343,\n",
       " '사실': 344,\n",
       " '될': 345,\n",
       " '돼지': 346,\n",
       " '자주': 347,\n",
       " '대박': 348,\n",
       " '나오면': 349,\n",
       " '아니에요': 350,\n",
       " '막': 351,\n",
       " '박': 352,\n",
       " '머': 353,\n",
       " '싫으면': 354,\n",
       " '거짓말': 355,\n",
       " '봤어': 356,\n",
       " '절대': 357,\n",
       " '남': 358,\n",
       " '알바': 359,\n",
       " '처리': 360,\n",
       " '장님': 361,\n",
       " '연락': 362,\n",
       " '하는거야': 363,\n",
       " '대로': 364,\n",
       " '배': 365,\n",
       " '건데': 366,\n",
       " '맞고': 367,\n",
       " '아아': 368,\n",
       " '반': 369,\n",
       " '가방': 370,\n",
       " '없네': 371,\n",
       " '에이': 372,\n",
       " '남편': 373,\n",
       " '운동': 374,\n",
       " '빌려': 375,\n",
       " '있잖아': 376,\n",
       " '퇴근': 377,\n",
       " '없이': 378,\n",
       " '간': 379,\n",
       " '따': 380,\n",
       " '아닌데': 381,\n",
       " '사랑': 382,\n",
       " '세상': 383,\n",
       " '기억': 384,\n",
       " '가면': 385,\n",
       " '사고': 386,\n",
       " '아직도': 387,\n",
       " '없고': 388,\n",
       " '길동': 389,\n",
       " '되지': 390,\n",
       " '그러세요': 391,\n",
       " '해주세요': 392,\n",
       " '마다': 393,\n",
       " '함': 394,\n",
       " '가고': 395,\n",
       " '마지막': 396,\n",
       " '뒤': 397,\n",
       " '리': 398,\n",
       " '없지': 399,\n",
       " '직장': 400,\n",
       " '없습니다': 401,\n",
       " '자리': 402,\n",
       " 'ㅜ': 403,\n",
       " '쟤': 404,\n",
       " '와서': 405,\n",
       " '다리': 406,\n",
       " '시작': 407,\n",
       " '남자친구': 408,\n",
       " '맞아요': 409,\n",
       " '된': 410,\n",
       " '보는': 411,\n",
       " '이름': 412,\n",
       " '짓': 413,\n",
       " '하니까': 414,\n",
       " '노력': 415,\n",
       " '싶다': 416,\n",
       " '조용히': 417,\n",
       " '보자': 418,\n",
       " '있고': 419,\n",
       " '수가': 420,\n",
       " '예전': 421,\n",
       " '할거야': 422,\n",
       " '봤는데': 423,\n",
       " '확': 424,\n",
       " '버릴거야': 425,\n",
       " '니깐': 426,\n",
       " '대신': 427,\n",
       " '벌써': 428,\n",
       " '아는': 429,\n",
       " '음식': 430,\n",
       " '됐고': 431,\n",
       " '봐요': 432,\n",
       " '직원': 433,\n",
       " '아저씨': 434,\n",
       " '이야기': 435,\n",
       " '하더라': 436,\n",
       " '이리': 437,\n",
       " '보기': 438,\n",
       " '써': 439,\n",
       " '선물': 440,\n",
       " '합니다': 441,\n",
       " '맞다': 442,\n",
       " 'ㅋ': 443,\n",
       " '아침': 444,\n",
       " '쓰고': 445,\n",
       " '있습니다': 446,\n",
       " '그래요': 447,\n",
       " '맘': 448,\n",
       " '하는거': 449,\n",
       " '이유': 450,\n",
       " '역시': 451,\n",
       " '있을': 452,\n",
       " '눈치': 453,\n",
       " '확인': 454,\n",
       " '바': 455,\n",
       " '들고': 456,\n",
       " '널': 457,\n",
       " '좋지': 458,\n",
       " '주면': 459,\n",
       " '척': 460,\n",
       " '소문': 461,\n",
       " '약': 462,\n",
       " '인생': 463,\n",
       " '사정': 464,\n",
       " '꺼': 465,\n",
       " '장애인': 466,\n",
       " '예요': 467,\n",
       " '입고': 468,\n",
       " '아닌': 469,\n",
       " '찐': 470,\n",
       " '피': 471,\n",
       " '일로': 472,\n",
       " '기': 473,\n",
       " '힘들어': 474,\n",
       " '있냐': 475,\n",
       " '상사': 476,\n",
       " '되면': 477,\n",
       " '지갑': 478,\n",
       " '없으면': 479,\n",
       " '협박': 480,\n",
       " '오해': 481,\n",
       " '했습니다': 482,\n",
       " '어머니': 483,\n",
       " '물': 484,\n",
       " '타': 485,\n",
       " '월급': 486,\n",
       " '관리': 487,\n",
       " '저녁': 488,\n",
       " '할게요': 489,\n",
       " '러시': 490,\n",
       " '일도': 491,\n",
       " '선배': 492,\n",
       " '밤': 493,\n",
       " '사는': 494,\n",
       " '고양이': 495,\n",
       " '학생': 496,\n",
       " '겁니다': 497,\n",
       " '신경': 498,\n",
       " '런가': 499,\n",
       " '올': 500,\n",
       " '담배': 501,\n",
       " '고마워': 502,\n",
       " '끼리': 503,\n",
       " '시험': 504,\n",
       " '보네': 505,\n",
       " '목숨': 506,\n",
       " '욕': 507,\n",
       " '정리': 508,\n",
       " '뿐': 509,\n",
       " '먹으면': 510,\n",
       " '가게': 511,\n",
       " '간다': 512,\n",
       " '어차피': 513,\n",
       " '빌려줘': 514,\n",
       " '말대꾸': 515,\n",
       " '끝': 516,\n",
       " '먹는': 517,\n",
       " '관심': 518,\n",
       " '라는': 519,\n",
       " '장': 520,\n",
       " '이면': 521,\n",
       " '꺼져': 522,\n",
       " '다행': 523,\n",
       " '받고': 524,\n",
       " '없다': 525,\n",
       " '다녀': 526,\n",
       " '상황': 527,\n",
       " '용돈': 528,\n",
       " '전화': 529,\n",
       " '하긴': 530,\n",
       " '보내': 531,\n",
       " '온': 532,\n",
       " '생일': 533,\n",
       " '많은': 534,\n",
       " '열': 535,\n",
       " '했다고': 536,\n",
       " '배달': 537,\n",
       " '병신': 538,\n",
       " '영상': 539,\n",
       " '항상': 540,\n",
       " '문': 541,\n",
       " '빵': 542,\n",
       " '피부': 543,\n",
       " '아줌마': 544,\n",
       " '했다': 545,\n",
       " '됐어': 546,\n",
       " '느낌': 547,\n",
       " '주고': 548,\n",
       " '세': 549,\n",
       " '좋겠다': 550,\n",
       " '물건': 551,\n",
       " '폰': 552,\n",
       " '받아': 553,\n",
       " '가만히': 554,\n",
       " '인지': 555,\n",
       " '타고': 556,\n",
       " '죽고': 557,\n",
       " '정': 558,\n",
       " '출근': 559,\n",
       " '땐': 560,\n",
       " '드릴게요': 561,\n",
       " '속': 562,\n",
       " '하는게': 563,\n",
       " '매일': 564,\n",
       " '싶은데': 565,\n",
       " '대체': 566,\n",
       " '상관': 567,\n",
       " '좋게': 568,\n",
       " '흑': 569,\n",
       " '기회': 570,\n",
       " '미친': 571,\n",
       " '꼴': 572,\n",
       " '가격': 573,\n",
       " '하잖아': 574,\n",
       " '갔다': 575,\n",
       " '카드': 576,\n",
       " '라면': 577,\n",
       " '않으면': 578,\n",
       " '운전': 579,\n",
       " '인거': 580,\n",
       " '그러지': 581,\n",
       " '놔': 582,\n",
       " '어릴': 583,\n",
       " '편이': 584,\n",
       " '맛': 585,\n",
       " '무시': 586,\n",
       " '백신': 587,\n",
       " '애가': 588,\n",
       " '버스': 589,\n",
       " '실수': 590,\n",
       " '거리': 591,\n",
       " '오랜': 592,\n",
       " '되잖아': 593,\n",
       " '라서': 594,\n",
       " '안녕하세요': 595,\n",
       " '두고': 596,\n",
       " '넘': 597,\n",
       " '가봐': 598,\n",
       " '째': 599,\n",
       " '있다고': 600,\n",
       " '놀러': 601,\n",
       " '옆': 602,\n",
       " '입금': 603,\n",
       " '어휴': 604,\n",
       " '어머': 605,\n",
       " '인정': 606,\n",
       " '글': 607,\n",
       " '안될까': 608,\n",
       " '대학': 609,\n",
       " '장기': 610,\n",
       " '많아서': 611,\n",
       " '하려고': 612,\n",
       " '바람': 613,\n",
       " '가자': 614,\n",
       " '드라마': 615,\n",
       " '같': 616,\n",
       " '번만': 617,\n",
       " '되게': 618,\n",
       " '좋아해': 619,\n",
       " '여자친구': 620,\n",
       " '일주일': 621,\n",
       " '나를': 622,\n",
       " '주변': 623,\n",
       " '겨울': 624,\n",
       " '하니': 625,\n",
       " '애기': 626,\n",
       " '아뇨': 627,\n",
       " '신': 628,\n",
       " '주제': 629,\n",
       " '께': 630,\n",
       " '서로': 631,\n",
       " '회식': 632,\n",
       " '시켜': 633,\n",
       " '따로': 634,\n",
       " '오면': 635,\n",
       " '안해': 636,\n",
       " '나와': 637,\n",
       " '아니지': 638,\n",
       " '보니': 639,\n",
       " '승진': 640,\n",
       " '남친': 641,\n",
       " '하다': 642,\n",
       " '보고서': 643,\n",
       " '나서': 644,\n",
       " '난리': 645,\n",
       " '날씨': 646,\n",
       " '아님': 647,\n",
       " '아닌가': 648,\n",
       " '만은': 649,\n",
       " '위': 650,\n",
       " '걔': 651,\n",
       " '봐도': 652,\n",
       " '새': 653,\n",
       " '넵': 654,\n",
       " '점심': 655,\n",
       " '없다고': 656,\n",
       " '주시': 657,\n",
       " '피해': 658,\n",
       " '이해': 659,\n",
       " '장사': 660,\n",
       " '인사': 661,\n",
       " '아버지': 662,\n",
       " '않나': 663,\n",
       " '길': 664,\n",
       " '미리': 665,\n",
       " '아파트': 666,\n",
       " '이러세요': 667,\n",
       " '아니잖아': 668,\n",
       " '웃기': 669,\n",
       " '사와': 670,\n",
       " '봐야': 671,\n",
       " '별': 672,\n",
       " '감사합니다': 673,\n",
       " '교육': 674,\n",
       " '산': 675,\n",
       " '버린다': 676,\n",
       " '회의': 677,\n",
       " '싶은': 678,\n",
       " '없잖아': 679,\n",
       " '가을': 680,\n",
       " '무서워': 681,\n",
       " '해결': 682,\n",
       " '값': 683,\n",
       " '좋은데': 684,\n",
       " '사이': 685,\n",
       " '새로': 686,\n",
       " '고생': 687,\n",
       " '증거': 688,\n",
       " '둬': 689,\n",
       " '이냐': 690,\n",
       " '동네': 691,\n",
       " 'ㅎ': 692,\n",
       " '부모': 693,\n",
       " '직접': 694,\n",
       " '평생': 695,\n",
       " '없나': 696,\n",
       " '나온': 697,\n",
       " '옛날': 698,\n",
       " '빌려주라': 699,\n",
       " '모르는': 700,\n",
       " '괜찮아': 701,\n",
       " '싶지': 702,\n",
       " '도대체': 703,\n",
       " '점': 704,\n",
       " '맞지': 705,\n",
       " '행동': 706,\n",
       " '야근': 707,\n",
       " '고민': 708,\n",
       " '다니는': 709,\n",
       " '우와': 710,\n",
       " '챙겨': 711,\n",
       " '금방': 712,\n",
       " '같아서': 713,\n",
       " '이러지': 714,\n",
       " '보지': 715,\n",
       " '되는데': 716,\n",
       " '서울': 717,\n",
       " '맞는': 718,\n",
       " '할머니': 719,\n",
       " '아파': 720,\n",
       " '수술': 721,\n",
       " '겁': 722,\n",
       " '솔직히': 723,\n",
       " '될까': 724,\n",
       " '오는': 725,\n",
       " '테': 726,\n",
       " '인터넷': 727,\n",
       " '나라': 728,\n",
       " '수업': 729,\n",
       " '대화': 730,\n",
       " '있는거': 731,\n",
       " '텐데': 732,\n",
       " '않을까': 733,\n",
       " '이래서': 734,\n",
       " '기다려': 735,\n",
       " '중국': 736,\n",
       " '돌려줘': 737,\n",
       " '아무리': 738,\n",
       " '마스크': 739,\n",
       " '나오는': 740,\n",
       " '하시는': 741,\n",
       " '꽤': 742,\n",
       " '먹을': 743,\n",
       " '불': 744,\n",
       " '그러지마': 745,\n",
       " '여서': 746,\n",
       " '가져와': 747,\n",
       " '부분': 748,\n",
       " '이사': 749,\n",
       " '억': 750,\n",
       " '이세': 751,\n",
       " '되고': 752,\n",
       " '카페': 753,\n",
       " '보여': 754,\n",
       " '신발': 755,\n",
       " '쓰레기': 756,\n",
       " '누구세요': 757,\n",
       " '하지말고': 758,\n",
       " '가끔': 759,\n",
       " '긴': 760,\n",
       " '그런거': 761,\n",
       " '방': 762,\n",
       " '좋아하는': 763,\n",
       " '가라': 764,\n",
       " '돼서': 765,\n",
       " '필요': 766,\n",
       " '신입': 767,\n",
       " '다음주': 768,\n",
       " '임': 769,\n",
       " '죄': 770,\n",
       " '능력': 771,\n",
       " '드릴': 772,\n",
       " '나가': 773,\n",
       " '엥': 774,\n",
       " '주문': 775,\n",
       " '번호': 776,\n",
       " '후': 777,\n",
       " '존나': 778,\n",
       " '싶어서': 779,\n",
       " '핸드폰': 780,\n",
       " '그러고': 781,\n",
       " '했나': 782,\n",
       " '갖고': 783,\n",
       " '연차': 784,\n",
       " '발': 785,\n",
       " '어딨어': 786,\n",
       " '개인': 787,\n",
       " '네네': 788,\n",
       " '당연히': 789,\n",
       " '위해': 790,\n",
       " '나와서': 791,\n",
       " '데리': 792,\n",
       " '밖': 793,\n",
       " '뒤져서': 794,\n",
       " '안되는': 795,\n",
       " '군': 796,\n",
       " '상': 797,\n",
       " '하시면': 798,\n",
       " '가만': 799,\n",
       " '방법': 800,\n",
       " '인턴': 801,\n",
       " '저리': 802,\n",
       " '버리고': 803,\n",
       " '우린': 804,\n",
       " '괜히': 805,\n",
       " '아까': 806,\n",
       " '할까': 807,\n",
       " '사용': 808,\n",
       " '있네': 809,\n",
       " '기사': 810,\n",
       " '화': 811,\n",
       " '손가락': 812,\n",
       " '그러냐': 813,\n",
       " '싶으면': 814,\n",
       " '아가씨': 815,\n",
       " '최대한': 816,\n",
       " '하던데': 817,\n",
       " '모든': 818,\n",
       " '계좌': 819,\n",
       " '받은': 820,\n",
       " '만들어': 821,\n",
       " '생긴': 822,\n",
       " '웃겨': 823,\n",
       " '이라는': 824,\n",
       " '했냐': 825,\n",
       " '힘들': 826,\n",
       " '최고': 827,\n",
       " '아무래도': 828,\n",
       " '형님': 829,\n",
       " '놓고': 830,\n",
       " '총': 831,\n",
       " '코': 832,\n",
       " '치고': 833,\n",
       " '살려줘': 834,\n",
       " '중이': 835,\n",
       " '으': 836,\n",
       " '그런게': 837,\n",
       " '우리나라': 838,\n",
       " '한국': 839,\n",
       " '싫은데': 840,\n",
       " '이러면': 841,\n",
       " '하신': 842,\n",
       " '하더라고': 843,\n",
       " '주머니': 844,\n",
       " '안보': 845,\n",
       " '가기': 846,\n",
       " '정보': 847,\n",
       " '대답': 848,\n",
       " '무조건': 849,\n",
       " '쯤': 850,\n",
       " '다닐': 851,\n",
       " '추천': 852,\n",
       " '왔어': 853,\n",
       " '되나': 854,\n",
       " '개월': 855,\n",
       " '않고': 856,\n",
       " '봄': 857,\n",
       " '편하게': 858,\n",
       " '현금': 859,\n",
       " '살이': 860,\n",
       " '끝나고': 861,\n",
       " '그렇다고': 862,\n",
       " '해줄게': 863,\n",
       " '미국': 864,\n",
       " '편': 865,\n",
       " '악': 866,\n",
       " '하다가': 867,\n",
       " '듣고': 868,\n",
       " '프로젝트': 869,\n",
       " '잠': 870,\n",
       " '마무리': 871,\n",
       " '적당히': 872,\n",
       " '화장실': 873,\n",
       " '일찍': 874,\n",
       " '어어': 875,\n",
       " '비행기': 876,\n",
       " '인가요': 877,\n",
       " '선택': 878,\n",
       " '차이': 879,\n",
       " '제주도': 880,\n",
       " '여보': 881,\n",
       " '던데': 882,\n",
       " '그랬어': 883,\n",
       " '해라': 884,\n",
       " '어른': 885,\n",
       " '소': 886,\n",
       " '통': 887,\n",
       " '여친': 888,\n",
       " '받아서': 889,\n",
       " '성적': 890,\n",
       " '좋아서': 891,\n",
       " '귀': 892,\n",
       " '편의점': 893,\n",
       " '없는데요': 894,\n",
       " '어서': 895,\n",
       " '성격': 896,\n",
       " '어머님': 897,\n",
       " '목소리': 898,\n",
       " '집은': 899,\n",
       " '며칠': 900,\n",
       " '모르겠어': 901,\n",
       " '이라서': 902,\n",
       " '아니냐': 903,\n",
       " '사회': 904,\n",
       " '당연하지': 905,\n",
       " '여름': 906,\n",
       " '기본': 907,\n",
       " '다야': 908,\n",
       " '도움': 909,\n",
       " '재미': 910,\n",
       " '준': 911,\n",
       " '크게': 912,\n",
       " '노래': 913,\n",
       " '계획': 914,\n",
       " '사원': 915,\n",
       " '신지': 916,\n",
       " '수정': 917,\n",
       " '안녕': 918,\n",
       " '라니': 919,\n",
       " '만이': 920,\n",
       " '똑같이': 921,\n",
       " '죽는': 922,\n",
       " '좋': 923,\n",
       " '했던': 924,\n",
       " '미쳤어': 925,\n",
       " '께서': 926,\n",
       " '산다': 927,\n",
       " '키': 928,\n",
       " '스트레스': 929,\n",
       " '생겨서': 930,\n",
       " '주는': 931,\n",
       " '만큼': 932,\n",
       " '티': 933,\n",
       " '조': 934,\n",
       " '할래': 935,\n",
       " '겁나': 936,\n",
       " '건강': 937,\n",
       " '까지는': 938,\n",
       " '힘': 939,\n",
       " '시키는': 940,\n",
       " '그러는거야': 941,\n",
       " '내려': 942,\n",
       " '이니까': 943,\n",
       " '중요한': 944,\n",
       " '알겠어요': 945,\n",
       " '대가리': 946,\n",
       " '봐서': 947,\n",
       " '방금': 948,\n",
       " '않은': 949,\n",
       " '이상한': 950,\n",
       " '누군지': 951,\n",
       " '아니라고': 952,\n",
       " '덜': 953,\n",
       " '이딴': 954,\n",
       " '쿠팡': 955,\n",
       " '아마': 956,\n",
       " '잔': 957,\n",
       " '한거야': 958,\n",
       " '내용': 959,\n",
       " '나름': 960,\n",
       " '자료': 961,\n",
       " '기간': 962,\n",
       " '임마': 963,\n",
       " '비싼': 964,\n",
       " '울': 965,\n",
       " '했으면': 966,\n",
       " '리가': 967,\n",
       " '뉴스': 968,\n",
       " '옹': 969,\n",
       " '있나요': 970,\n",
       " '잖아요': 971,\n",
       " '검사': 972,\n",
       " '빼': 973,\n",
       " '티비': 974,\n",
       " '됐다': 975,\n",
       " '드리겠습니다': 976,\n",
       " '기도': 977,\n",
       " '이용': 978,\n",
       " '보험': 979,\n",
       " '늦게': 980,\n",
       " '시계': 981,\n",
       " '여러': 982,\n",
       " '서류': 983,\n",
       " '포기': 984,\n",
       " '된다': 985,\n",
       " '젠': 986,\n",
       " '현실': 987,\n",
       " '싫어요': 988,\n",
       " '아닌가요': 989,\n",
       " '여보세요': 990,\n",
       " '쵸': 991,\n",
       " '돈좀': 992,\n",
       " '에서도': 993,\n",
       " '하러': 994,\n",
       " '있을까': 995,\n",
       " '안됩니다': 996,\n",
       " '이자': 997,\n",
       " '다시는': 998,\n",
       " '저런': 999,\n",
       " ...}"
      ]
     },
     "execution_count": 69,
     "metadata": {},
     "output_type": "execute_result"
    }
   ],
   "source": [
    "word_to_index=create_word_to_index(vocab_path)\n",
    "word_to_index"
   ]
  },
  {
   "cell_type": "markdown",
   "id": "80fd0f98",
   "metadata": {},
   "source": [
    "#### 정수인코딩"
   ]
  },
  {
   "cell_type": "code",
   "execution_count": 70,
   "id": "a4dacc81",
   "metadata": {},
   "outputs": [
    {
     "name": "stderr",
     "output_type": "stream",
     "text": [
      "/tmp/ipykernel_10109/1106553519.py:6: SettingWithCopyWarning: \n",
      "A value is trying to be set on a copy of a slice from a DataFrame.\n",
      "Try using .loc[row_indexer,col_indexer] = value instead\n",
      "\n",
      "See the caveats in the documentation: https://pandas.pydata.org/pandas-docs/stable/user_guide/indexing.html#returning-a-view-versus-a-copy\n",
      "  tokenized_df['encoded'] = tokenized_df['tokenized'].apply(lambda x: encode_tokens(x, word_to_index))\n"
     ]
    }
   ],
   "source": [
    "# 'tokenized' 열의 데이터를 정수 인코딩\n",
    "def encode_tokens(tokens, word_to_index):\n",
    "    unk_index = word_to_index['<unk>']\n",
    "    return [word_to_index.get(token, unk_index) for token in tokens]\n",
    "\n",
    "tokenized_df['encoded'] = tokenized_df['tokenized'].apply(lambda x: encode_tokens(x, word_to_index))"
   ]
  },
  {
   "cell_type": "code",
   "execution_count": 71,
   "id": "d779e0e6",
   "metadata": {},
   "outputs": [
    {
     "data": {
      "text/html": [
       "<div>\n",
       "<style scoped>\n",
       "    .dataframe tbody tr th:only-of-type {\n",
       "        vertical-align: middle;\n",
       "    }\n",
       "\n",
       "    .dataframe tbody tr th {\n",
       "        vertical-align: top;\n",
       "    }\n",
       "\n",
       "    .dataframe thead th {\n",
       "        text-align: right;\n",
       "    }\n",
       "</style>\n",
       "<table border=\"1\" class=\"dataframe\">\n",
       "  <thead>\n",
       "    <tr style=\"text-align: right;\">\n",
       "      <th></th>\n",
       "      <th>type</th>\n",
       "      <th>tokenized</th>\n",
       "      <th>encoded</th>\n",
       "    </tr>\n",
       "  </thead>\n",
       "  <tbody>\n",
       "    <tr>\n",
       "      <th>0</th>\n",
       "      <td>1</td>\n",
       "      <td>[게, 뭐, 냐, ?, 드, 드론, ., 드, 드드, 드론, ., 새끼, 말, 더듬...</td>\n",
       "      <td>[20, 11, 151, 3, 2573, 11399, 2, 2573, 16929, ...</td>\n",
       "    </tr>\n",
       "    <tr>\n",
       "      <th>1</th>\n",
       "      <td>0</td>\n",
       "      <td>[죽여, 버린다, ., 잘, ., 살려주세요, ., 뭘, 살려줘, ., 칼, 찔러,...</td>\n",
       "      <td>[157, 676, 2, 14, 2, 275, 2, 89, 834, 2, 242, ...</td>\n",
       "    </tr>\n",
       "    <tr>\n",
       "      <th>2</th>\n",
       "      <td>3</td>\n",
       "      <td>[는, 생겼어, ?, ?, 는, 생겼나구, 너무, 신기하다, 인생, 그렇게, 살지마...</td>\n",
       "      <td>[6, 1240, 3, 3, 6, 16932, 29, 2040, 463, 43, 4...</td>\n",
       "    </tr>\n",
       "    <tr>\n",
       "      <th>3</th>\n",
       "      <td>4</td>\n",
       "      <td>[동네, 직방, 켜, 봤더니, 집, 없네, 동네, 는, 방이, 있겠나, ., ., ...</td>\n",
       "      <td>[691, 6257, 3483, 11401, 36, 371, 691, 6, 5467...</td>\n",
       "    </tr>\n",
       "    <tr>\n",
       "      <th>4</th>\n",
       "      <td>3</td>\n",
       "      <td>[여성, 분들, 모여계시네, ., 뭐, 하는, 모임, 입, 니까, ?, 그러시는데요...</td>\n",
       "      <td>[2878, 1266, 16946, 2, 11, 30, 2577, 254, 81, ...</td>\n",
       "    </tr>\n",
       "  </tbody>\n",
       "</table>\n",
       "</div>"
      ],
      "text/plain": [
       "   type                                          tokenized  \\\n",
       "0     1  [게, 뭐, 냐, ?, 드, 드론, ., 드, 드드, 드론, ., 새끼, 말, 더듬...   \n",
       "1     0  [죽여, 버린다, ., 잘, ., 살려주세요, ., 뭘, 살려줘, ., 칼, 찔러,...   \n",
       "2     3  [는, 생겼어, ?, ?, 는, 생겼나구, 너무, 신기하다, 인생, 그렇게, 살지마...   \n",
       "3     4  [동네, 직방, 켜, 봤더니, 집, 없네, 동네, 는, 방이, 있겠나, ., ., ...   \n",
       "4     3  [여성, 분들, 모여계시네, ., 뭐, 하는, 모임, 입, 니까, ?, 그러시는데요...   \n",
       "\n",
       "                                             encoded  \n",
       "0  [20, 11, 151, 3, 2573, 11399, 2, 2573, 16929, ...  \n",
       "1  [157, 676, 2, 14, 2, 275, 2, 89, 834, 2, 242, ...  \n",
       "2  [6, 1240, 3, 3, 6, 16932, 29, 2040, 463, 43, 4...  \n",
       "3  [691, 6257, 3483, 11401, 36, 371, 691, 6, 5467...  \n",
       "4  [2878, 1266, 16946, 2, 11, 30, 2577, 254, 81, ...  "
      ]
     },
     "execution_count": 71,
     "metadata": {},
     "output_type": "execute_result"
    }
   ],
   "source": [
    "tokenized_df.head()"
   ]
  },
  {
   "cell_type": "markdown",
   "id": "f0927b8d",
   "metadata": {
    "id": "e970c394"
   },
   "source": [
    "## 전처리 후 분석"
   ]
  },
  {
   "cell_type": "markdown",
   "id": "90247d75",
   "metadata": {},
   "source": [
    "#### 패딩 적용"
   ]
  },
  {
   "cell_type": "code",
   "execution_count": 72,
   "id": "9a11b98b",
   "metadata": {},
   "outputs": [],
   "source": [
    "# 대화 최대 길이 150으로 설정\n",
    "MAX_LENGTH = 150"
   ]
  },
  {
   "cell_type": "code",
   "execution_count": 73,
   "id": "a5877dac",
   "metadata": {},
   "outputs": [],
   "source": [
    "X = pad_sequences(tokenized_df['encoded'], maxlen=MAX_LENGTH, padding='post', truncating='post')"
   ]
  },
  {
   "cell_type": "markdown",
   "id": "92eb4e81",
   "metadata": {
    "id": "0b636ead"
   },
   "source": [
    "## 데이터 분할"
   ]
  },
  {
   "cell_type": "code",
   "execution_count": 74,
   "id": "d3719d3f",
   "metadata": {},
   "outputs": [
    {
     "name": "stdout",
     "output_type": "stream",
     "text": [
      "훈련 데이터의 개수 : 3964\n",
      "훈련 레이블의 개수 : 3964\n",
      "검증 데이터의 개수 : 495\n",
      "검증 레이블의 개수 : 495\n",
      "테스트 데이터의 개수 : 496\n",
      "테스트 레이블의 개수 : 496\n"
     ]
    }
   ],
   "source": [
    "y = tokenized_df['type']\n",
    "\n",
    "X_train, X_val, y_train, y_val = train_test_split(X, y, test_size=0.2, shuffle=True, random_state=42)\n",
    "X_val, X_test, y_val, y_test = train_test_split(X_val, y_val, test_size=0.5, shuffle=True, random_state=42)\n",
    "\n",
    "print('훈련 데이터의 개수 :', len(X_train))\n",
    "print('훈련 레이블의 개수 :', len(y_train))\n",
    "print('검증 데이터의 개수 :', len(X_val))\n",
    "print('검증 레이블의 개수 :', len(y_val))\n",
    "print('테스트 데이터의 개수 :', len(X_test))\n",
    "print('테스트 레이블의 개수 :', len(y_test))"
   ]
  },
  {
   "cell_type": "code",
   "execution_count": 75,
   "id": "3a7c17e0",
   "metadata": {},
   "outputs": [
    {
     "data": {
      "text/plain": [
       "[(3, 869), (4, 811), (1, 798), (2, 783), (0, 703)]"
      ]
     },
     "execution_count": 75,
     "metadata": {},
     "output_type": "execute_result"
    }
   ],
   "source": [
    "# 테스트 데이터셋 클래스 불균형 확인\n",
    "counter = Counter(y_train)\n",
    "counter.most_common()"
   ]
  },
  {
   "cell_type": "markdown",
   "id": "08e18b12",
   "metadata": {},
   "source": [
    "# 모델링"
   ]
  },
  {
   "cell_type": "code",
   "execution_count": 76,
   "id": "c2f4aec0",
   "metadata": {},
   "outputs": [
    {
     "name": "stdout",
     "output_type": "stream",
     "text": [
      "Requirement already satisfied: wandb==0.16.0 in /opt/conda/lib/python3.9/site-packages (0.16.0)\n",
      "Requirement already satisfied: psutil>=5.0.0 in /opt/conda/lib/python3.9/site-packages (from wandb==0.16.0) (5.8.0)\n",
      "Requirement already satisfied: PyYAML in /opt/conda/lib/python3.9/site-packages (from wandb==0.16.0) (6.0)\n",
      "Requirement already satisfied: appdirs>=1.4.3 in /opt/conda/lib/python3.9/site-packages (from wandb==0.16.0) (1.4.4)\n",
      "Requirement already satisfied: requests<3,>=2.0.0 in /opt/conda/lib/python3.9/site-packages (from wandb==0.16.0) (2.26.0)\n",
      "Requirement already satisfied: GitPython!=3.1.29,>=1.0.0 in /opt/conda/lib/python3.9/site-packages (from wandb==0.16.0) (3.1.43)\n",
      "Requirement already satisfied: protobuf!=4.21.0,<5,>=3.15.0 in /opt/conda/lib/python3.9/site-packages (from wandb==0.16.0) (3.19.1)\n",
      "Requirement already satisfied: docker-pycreds>=0.4.0 in /opt/conda/lib/python3.9/site-packages (from wandb==0.16.0) (0.4.0)\n",
      "Requirement already satisfied: setuptools in /opt/conda/lib/python3.9/site-packages (from wandb==0.16.0) (59.4.0)\n",
      "Requirement already satisfied: typing-extensions in /opt/conda/lib/python3.9/site-packages (from wandb==0.16.0) (4.0.1)\n",
      "Requirement already satisfied: sentry-sdk>=1.0.0 in /opt/conda/lib/python3.9/site-packages (from wandb==0.16.0) (2.7.0)\n",
      "Requirement already satisfied: Click!=8.0.0,>=7.1 in /opt/conda/lib/python3.9/site-packages (from wandb==0.16.0) (8.0.3)\n",
      "Requirement already satisfied: setproctitle in /opt/conda/lib/python3.9/site-packages (from wandb==0.16.0) (1.3.3)\n",
      "Requirement already satisfied: six>=1.4.0 in /opt/conda/lib/python3.9/site-packages (from docker-pycreds>=0.4.0->wandb==0.16.0) (1.16.0)\n",
      "Requirement already satisfied: gitdb<5,>=4.0.1 in /opt/conda/lib/python3.9/site-packages (from GitPython!=3.1.29,>=1.0.0->wandb==0.16.0) (4.0.11)\n",
      "Requirement already satisfied: charset-normalizer~=2.0.0 in /opt/conda/lib/python3.9/site-packages (from requests<3,>=2.0.0->wandb==0.16.0) (2.0.8)\n",
      "Requirement already satisfied: certifi>=2017.4.17 in /opt/conda/lib/python3.9/site-packages (from requests<3,>=2.0.0->wandb==0.16.0) (2021.10.8)\n",
      "Requirement already satisfied: idna<4,>=2.5 in /opt/conda/lib/python3.9/site-packages (from requests<3,>=2.0.0->wandb==0.16.0) (2.10)\n",
      "Requirement already satisfied: urllib3<1.27,>=1.21.1 in /opt/conda/lib/python3.9/site-packages (from requests<3,>=2.0.0->wandb==0.16.0) (1.26.19)\n",
      "Requirement already satisfied: smmap<6,>=3.0.1 in /opt/conda/lib/python3.9/site-packages (from gitdb<5,>=4.0.1->GitPython!=3.1.29,>=1.0.0->wandb==0.16.0) (5.0.1)\n",
      "\u001b[33mWARNING: Running pip as the 'root' user can result in broken permissions and conflicting behaviour with the system package manager. It is recommended to use a virtual environment instead: https://pip.pypa.io/warnings/venv\u001b[0m\n"
     ]
    }
   ],
   "source": [
    "!pip install wandb==0.16.0"
   ]
  },
  {
   "cell_type": "code",
   "execution_count": 77,
   "id": "798dd361",
   "metadata": {},
   "outputs": [
    {
     "name": "stderr",
     "output_type": "stream",
     "text": [
      "\u001b[34m\u001b[1mwandb\u001b[0m: Currently logged in as: \u001b[33m4rldur0\u001b[0m (\u001b[33m4-rldur0\u001b[0m). Use \u001b[1m`wandb login --relogin`\u001b[0m to force relogin\n",
      "\u001b[34m\u001b[1mwandb\u001b[0m: \u001b[33mWARNING\u001b[0m If you're specifying your api key in code, ensure this code is not shared publicly.\n",
      "\u001b[34m\u001b[1mwandb\u001b[0m: \u001b[33mWARNING\u001b[0m Consider setting the WANDB_API_KEY environment variable, or running `wandb login` from the command line.\n",
      "\u001b[34m\u001b[1mwandb\u001b[0m: Appending key for api.wandb.ai to your netrc file: /aiffel/.netrc\n"
     ]
    },
    {
     "data": {
      "text/plain": [
       "True"
      ]
     },
     "execution_count": 77,
     "metadata": {},
     "output_type": "execute_result"
    }
   ],
   "source": [
    "import wandb\n",
    "\n",
    "key='809618c39f10bc0019fd6fd710cb28c698c30197'\n",
    "wandb.login(key = key)"
   ]
  },
  {
   "cell_type": "code",
   "execution_count": 78,
   "id": "15cbd29e",
   "metadata": {},
   "outputs": [],
   "source": [
    "sweep_config = {\n",
    "    \"name\": \"sweep_test_nlp\",\n",
    "    \"metric\": {\"name\": \"val_loss\", \"goal\": \"minimize\"},\n",
    "    \"method\": \"random\",\n",
    "    \"parameters\": {\n",
    "        \"learning_rate\" : {\n",
    "            \"values\": [0.03447]\n",
    "            },\n",
    "        \"epoch\" : {\n",
    "            \"values\": [8]\n",
    "            },\n",
    "        \"batch_size\": {\n",
    "            \"values\": [16]\n",
    "            },\n",
    "        \"optimizer\": {\n",
    "            \"values\": [\"adam\"]\n",
    "            },\n",
    "        \"dropout_rate\":{\n",
    "            \"values\": [0.1]\n",
    "            }\n",
    "        }\n",
    "    }\n",
    "\n",
    "default_config = {\n",
    "        \"vocab\" : VOCAB_SIZE,\n",
    "        \"embeddings\" : 128,\n",
    "        \"units_128\" : 128,\n",
    "        \"units_256\" : 256,\n",
    "        \"units_512\" : 512,\n",
    "        \"units_1024\" : 1024,\n",
    "        \"units_2048\" : 2048,\n",
    "        \"kernel_3\" : 3,\n",
    "        \"kernel_5\" : 5,\n",
    "        \"class_num\" : 5,\n",
    "        \"loss\" : \"sparse_categorical_crossentropy\",\n",
    "        \"metrics\" : [\"accuracy\"],\n",
    "    }"
   ]
  },
  {
   "cell_type": "code",
   "execution_count": 79,
   "id": "ba7cda49",
   "metadata": {},
   "outputs": [],
   "source": [
    "def build_model_baseline(config):\n",
    "    model=keras.models.Sequential()\n",
    "    model.add(keras.layers.Embedding(config.vocab, config.embeddings))\n",
    "    model.add(keras.layers.GRU(units = config.units_256, return_sequences = True))\n",
    "    model.add(keras.layers.GRU(units = config.units_512))\n",
    "    model.add(keras.layers.Dense(config.units_1024, activation='relu'))\n",
    "    model.add(keras.layers.Dense(config.class_num, activation='softmax'))  \n",
    "    return model"
   ]
  },
  {
   "cell_type": "code",
   "execution_count": 80,
   "id": "6a38da4d",
   "metadata": {},
   "outputs": [],
   "source": [
    "def build_model_1DCNN(config):\n",
    "    model = keras.models.Sequential()\n",
    "    model.add(keras.layers.Embedding(config.vocab, config.embeddings))\n",
    "    model.add(keras.layers.Conv1D(config.embeddings, config.kernel_5, activation='relu'))\n",
    "    model.add(keras.layers.MaxPooling1D(pool_size=4))\n",
    "    model.add(keras.layers.GlobalMaxPooling1D())\n",
    "    model.add(keras.layers.Dense(config.units_128, activation='relu'))\n",
    "    model.add(keras.layers.Dense(config.class_num, activation='softmax')) \n",
    "    return model"
   ]
  },
  {
   "cell_type": "code",
   "execution_count": 81,
   "id": "07550f90",
   "metadata": {},
   "outputs": [],
   "source": [
    "def build_model_1DCNN_GRU(config):\n",
    "    model = keras.models.Sequential()\n",
    "    model.add(keras.layers.Embedding(config.vocab, config.embeddings))\n",
    "    model.add(keras.layers.SpatialDropout1D(config.dropout_rate))\n",
    "    model.add(keras.layers.Conv1D(config.embeddings, config.kernel_5, activation='relu'))\n",
    "    model.add(keras.layers.MaxPooling1D(pool_size=4))\n",
    "    model.add(keras.layers.GRU(config.units_128, dropout=config.dropout_rate, recurrent_dropout=config.dropout_rate))\n",
    "    model.add(keras.layers.Dense(config.class_num, activation='softmax'))\n",
    "    return model"
   ]
  },
  {
   "cell_type": "code",
   "execution_count": 82,
   "id": "15b57985",
   "metadata": {},
   "outputs": [],
   "source": [
    "import numpy as np\n",
    "import matplotlib.pyplot as plt\n",
    "import seaborn as sns\n",
    "from tensorflow import keras\n",
    "import wandb\n",
    "\n",
    "# heatmap으로 비교 결과를 그려주는 함수\n",
    "def plot_table(cm):\n",
    "    title = \"Overall Prediction Result\"\n",
    "    # 실제 클래스명으로 변환\n",
    "    classes = [\n",
    "        '협박 대화',\n",
    "        '갈취 대화',\n",
    "        '직장 내 괴롭힘 대화',\n",
    "        '기타 괴롭힘 대화',\n",
    "        '일반 대화'\n",
    "    ]\n",
    "    plt.figure(figsize=(10, 7))\n",
    "    sns.heatmap(cm, annot=True, fmt=\"d\", cmap=\"Blues\", xticklabels=classes, yticklabels=classes, annot_kws={'size': 30})\n",
    "    plt.xlabel('Predicted')\n",
    "    plt.ylabel('Actual')\n",
    "    plt.title(title)\n",
    "    return plt\n",
    "\n",
    "# epoch이 모두 끝나면 각 클래스별 GT와 예측값을 비교한 표 시각화\n",
    "# 5x5의 표의 [i,j]의 위치는 실제값은 i번째 클래스이고, 예측값은 j번째 클래스임을 나타냄\n",
    "class CompareResultsCallback(keras.callbacks.Callback):\n",
    "    def __init__(self, X_test, y_test, class_num):\n",
    "        super().__init__()\n",
    "        self.X_test = X_test\n",
    "        self.y_test = y_test\n",
    "        self.class_num = class_num\n",
    "        # 전체 표 초기화\n",
    "        self.table = np.zeros((self.class_num, self.class_num), dtype=np.int32)\n",
    "\n",
    "    def on_train_end(self, epoch, logs=None):\n",
    "        # 마지막 epoch에서만 계산\n",
    "        pred_test = self.model.predict(self.X_test).argmax(axis=1)\n",
    "        self.y_test = np.array(self.y_test)\n",
    "        pred_test = np.array(pred_test)\n",
    "            \n",
    "        # 5개의 클래스에서 두 개씩 뽑아내어 비교\n",
    "        # 실제값이 class_a일 때, 예측값을 claas_b로 예측한 횟수\n",
    "        for class_a in range(self.class_num):\n",
    "            for class_b in range(self.class_num):\n",
    "                num = len(np.where((self.y_test == class_a) & (pred_test == class_b))[0])\n",
    "                self.table[class_a, class_b] += num\n",
    "\n",
    "        # 표 그리기\n",
    "        cr_plot = plot_table(self.table)\n",
    "            \n",
    "        # wandb에 로그로 저장\n",
    "        cr_image = wandb.Image(cr_plot)\n",
    "        wandb.log({\"Overall Prediction Result\": cr_image})\n"
   ]
  },
  {
   "cell_type": "code",
   "execution_count": 83,
   "id": "d0d047f9",
   "metadata": {},
   "outputs": [],
   "source": [
    "# 학습 함수 정의\n",
    "# CompareResultsCallback 테스트 데이터셋을 활용하므로 인자로 넣어줌\n",
    "def train(default_config, X_test, y_test):\n",
    "\n",
    "    wandb.init(config = default_config)\n",
    "    config = wandb.config\n",
    "    \n",
    "    keras.backend.clear_session()\n",
    "\n",
    "    # Model\n",
    "    model = build_model_1DCNN(config)\n",
    "\n",
    "    # Compile\n",
    "    model.compile(optimizer = config.optimizer,\n",
    "                  loss = config.loss,\n",
    "                  metrics = config.metrics)\n",
    "    \n",
    "    # 비교 결과 그리는 콜백\n",
    "    cr_callback = CompareResultsCallback(X_test, y_test, config.class_num)\n",
    "    # earlystopping 콜백\n",
    "    es_callback = keras.callbacks.EarlyStopping(monitor='val_loss', patience=2)\n",
    "    \n",
    "    # 학습\n",
    "    history = model.fit(X_train, y_train,\n",
    "              epochs = config.epoch,\n",
    "              batch_size = config.batch_size,\n",
    "              validation_data = (X_val, y_val),\n",
    "              callbacks=[wandb.keras.WandbCallback(), cr_callback, es_callback])\n",
    "    \n",
    "    # test dataset으로 accuracy 계산    \n",
    "    test_loss, test_accuracy = model.evaluate(X_test, y_test, verbose=2)\n",
    "    pred_test = model.predict(X_test).argmax(axis=1)\n",
    "    # test dataset으로 f1 score 계산\n",
    "    f1_score_res = f1_score(y_test, pred_test, average='micro')\n",
    "\n",
    "    # wandb에 log 추가\n",
    "    wandb.log({\n",
    "        \"Test Accuracy Rate\": test_accuracy,\n",
    "        \"Test F1 Score\": f1_score_res,\n",
    "        \"Test Error Rate\": 1 - test_accuracy\n",
    "    })\n",
    "    \n",
    "    return history"
   ]
  },
  {
   "cell_type": "code",
   "execution_count": 84,
   "id": "f0e6c1d3",
   "metadata": {
    "scrolled": false
   },
   "outputs": [
    {
     "name": "stdout",
     "output_type": "stream",
     "text": [
      "Create sweep with ID: fwbnwgrt\n",
      "Sweep URL: https://wandb.ai/aiffel_minions/DLthon_CNN_Additional_data/sweeps/fwbnwgrt\n"
     ]
    },
    {
     "name": "stderr",
     "output_type": "stream",
     "text": [
      "\u001b[34m\u001b[1mwandb\u001b[0m: Agent Starting Run: c655jbtu with config:\n",
      "\u001b[34m\u001b[1mwandb\u001b[0m: \tbatch_size: 16\n",
      "\u001b[34m\u001b[1mwandb\u001b[0m: \tdropout_rate: 0.1\n",
      "\u001b[34m\u001b[1mwandb\u001b[0m: \tepoch: 8\n",
      "\u001b[34m\u001b[1mwandb\u001b[0m: \tlearning_rate: 0.03447\n",
      "\u001b[34m\u001b[1mwandb\u001b[0m: \toptimizer: adam\n",
      "\u001b[34m\u001b[1mwandb\u001b[0m: Currently logged in as: \u001b[33m4rldur0\u001b[0m (\u001b[33maiffel_minions\u001b[0m). Use \u001b[1m`wandb login --relogin`\u001b[0m to force relogin\n"
     ]
    },
    {
     "data": {
      "text/html": [
       "wandb version 0.17.3 is available!  To upgrade, please run:\n",
       " $ pip install wandb --upgrade"
      ],
      "text/plain": [
       "<IPython.core.display.HTML object>"
      ]
     },
     "metadata": {},
     "output_type": "display_data"
    },
    {
     "data": {
      "text/html": [
       "Tracking run with wandb version 0.16.0"
      ],
      "text/plain": [
       "<IPython.core.display.HTML object>"
      ]
     },
     "metadata": {},
     "output_type": "display_data"
    },
    {
     "data": {
      "text/html": [
       "Run data is saved locally in <code>/aiffel/aiffel/dlthon-minions/dlthon-kevin/wandb/run-20240627_033035-c655jbtu</code>"
      ],
      "text/plain": [
       "<IPython.core.display.HTML object>"
      ]
     },
     "metadata": {},
     "output_type": "display_data"
    },
    {
     "data": {
      "text/html": [
       "Syncing run <strong><a href='https://wandb.ai/aiffel_minions/DLthon_CNN_Additional_data/runs/c655jbtu' target=\"_blank\">stellar-sweep-1</a></strong> to <a href='https://wandb.ai/aiffel_minions/DLthon_CNN_Additional_data' target=\"_blank\">Weights & Biases</a> (<a href='https://wandb.me/run' target=\"_blank\">docs</a>)<br/>Sweep page: <a href='https://wandb.ai/aiffel_minions/DLthon_CNN_Additional_data/sweeps/fwbnwgrt' target=\"_blank\">https://wandb.ai/aiffel_minions/DLthon_CNN_Additional_data/sweeps/fwbnwgrt</a>"
      ],
      "text/plain": [
       "<IPython.core.display.HTML object>"
      ]
     },
     "metadata": {},
     "output_type": "display_data"
    },
    {
     "data": {
      "text/html": [
       " View project at <a href='https://wandb.ai/aiffel_minions/DLthon_CNN_Additional_data' target=\"_blank\">https://wandb.ai/aiffel_minions/DLthon_CNN_Additional_data</a>"
      ],
      "text/plain": [
       "<IPython.core.display.HTML object>"
      ]
     },
     "metadata": {},
     "output_type": "display_data"
    },
    {
     "data": {
      "text/html": [
       " View sweep at <a href='https://wandb.ai/aiffel_minions/DLthon_CNN_Additional_data/sweeps/fwbnwgrt' target=\"_blank\">https://wandb.ai/aiffel_minions/DLthon_CNN_Additional_data/sweeps/fwbnwgrt</a>"
      ],
      "text/plain": [
       "<IPython.core.display.HTML object>"
      ]
     },
     "metadata": {},
     "output_type": "display_data"
    },
    {
     "data": {
      "text/html": [
       " View run at <a href='https://wandb.ai/aiffel_minions/DLthon_CNN_Additional_data/runs/c655jbtu' target=\"_blank\">https://wandb.ai/aiffel_minions/DLthon_CNN_Additional_data/runs/c655jbtu</a>"
      ],
      "text/plain": [
       "<IPython.core.display.HTML object>"
      ]
     },
     "metadata": {},
     "output_type": "display_data"
    },
    {
     "name": "stderr",
     "output_type": "stream",
     "text": [
      "\u001b[34m\u001b[1mwandb\u001b[0m: \u001b[33mWARNING\u001b[0m The save_model argument by default saves the model in the HDF5 format that cannot save custom objects like subclassed models and custom layers. This behavior will be deprecated in a future release in favor of the SavedModel format. Meanwhile, the HDF5 model is saved as W&B files and the SavedModel as W&B Artifacts.\n"
     ]
    },
    {
     "name": "stdout",
     "output_type": "stream",
     "text": [
      "Epoch 1/8\n",
      "  2/248 [..............................] - ETA: 1:17 - loss: 1.6200 - accuracy: 0.0625 WARNING:tensorflow:Callback method `on_train_batch_end` is slow compared to the batch time (batch time: 0.0040s vs `on_train_batch_end` time: 0.0527s). Check your callbacks.\n",
      "248/248 [==============================] - 5s 7ms/step - loss: 1.0024 - accuracy: 0.5956 - val_loss: 0.4766 - val_accuracy: 0.8343\n",
      "INFO:tensorflow:Assets written to: /aiffel/aiffel/dlthon-minions/dlthon-kevin/wandb/run-20240627_033035-c655jbtu/files/model-best/assets\n"
     ]
    },
    {
     "name": "stderr",
     "output_type": "stream",
     "text": [
      "\u001b[34m\u001b[1mwandb\u001b[0m: Adding directory to artifact (/aiffel/aiffel/dlthon-minions/dlthon-kevin/wandb/run-20240627_033035-c655jbtu/files/model-best)... Done. 0.1s\n"
     ]
    },
    {
     "name": "stdout",
     "output_type": "stream",
     "text": [
      "Epoch 2/8\n",
      "248/248 [==============================] - 1s 5ms/step - loss: 0.2791 - accuracy: 0.9067 - val_loss: 0.3472 - val_accuracy: 0.8707\n",
      "INFO:tensorflow:Assets written to: /aiffel/aiffel/dlthon-minions/dlthon-kevin/wandb/run-20240627_033035-c655jbtu/files/model-best/assets\n"
     ]
    },
    {
     "name": "stderr",
     "output_type": "stream",
     "text": [
      "\u001b[34m\u001b[1mwandb\u001b[0m: Adding directory to artifact (/aiffel/aiffel/dlthon-minions/dlthon-kevin/wandb/run-20240627_033035-c655jbtu/files/model-best)... Done. 0.1s\n"
     ]
    },
    {
     "name": "stdout",
     "output_type": "stream",
     "text": [
      "Epoch 3/8\n",
      "248/248 [==============================] - 1s 5ms/step - loss: 0.0364 - accuracy: 0.9937 - val_loss: 0.3288 - val_accuracy: 0.8869\n",
      "INFO:tensorflow:Assets written to: /aiffel/aiffel/dlthon-minions/dlthon-kevin/wandb/run-20240627_033035-c655jbtu/files/model-best/assets\n"
     ]
    },
    {
     "name": "stderr",
     "output_type": "stream",
     "text": [
      "\u001b[34m\u001b[1mwandb\u001b[0m: Adding directory to artifact (/aiffel/aiffel/dlthon-minions/dlthon-kevin/wandb/run-20240627_033035-c655jbtu/files/model-best)... Done. 0.1s\n"
     ]
    },
    {
     "name": "stdout",
     "output_type": "stream",
     "text": [
      "Epoch 4/8\n",
      "248/248 [==============================] - 1s 5ms/step - loss: 0.0032 - accuracy: 1.0000 - val_loss: 0.3403 - val_accuracy: 0.8788\n",
      "Epoch 5/8\n",
      "248/248 [==============================] - 1s 5ms/step - loss: 0.0012 - accuracy: 1.0000 - val_loss: 0.3536 - val_accuracy: 0.8808\n",
      "16/16 - 0s - loss: 0.3572 - accuracy: 0.8972\n"
     ]
    },
    {
     "data": {
      "application/vnd.jupyter.widget-view+json": {
       "model_id": "",
       "version_major": 2,
       "version_minor": 0
      },
      "text/plain": [
       "VBox(children=(Label(value='122.239 MB of 122.239 MB uploaded (0.024 MB deduped)\\r'), FloatProgress(value=1.0,…"
      ]
     },
     "metadata": {},
     "output_type": "display_data"
    },
    {
     "data": {
      "text/html": [
       "<style>\n",
       "    table.wandb td:nth-child(1) { padding: 0 10px; text-align: left ; width: auto;} td:nth-child(2) {text-align: left ; width: 100%}\n",
       "    .wandb-row { display: flex; flex-direction: row; flex-wrap: wrap; justify-content: flex-start; width: 100% }\n",
       "    .wandb-col { display: flex; flex-direction: column; flex-basis: 100%; flex: 1; padding: 10px; }\n",
       "    </style>\n",
       "<div class=\"wandb-row\"><div class=\"wandb-col\"><h3>Run history:</h3><br/><table class=\"wandb\"><tr><td>Test Accuracy Rate</td><td>▁</td></tr><tr><td>Test Error Rate</td><td>▁</td></tr><tr><td>Test F1 Score</td><td>▁</td></tr><tr><td>accuracy</td><td>▁▆███</td></tr><tr><td>epoch</td><td>▁▃▅▆█</td></tr><tr><td>loss</td><td>█▃▁▁▁</td></tr><tr><td>val_accuracy</td><td>▁▆█▇▇</td></tr><tr><td>val_loss</td><td>█▂▁▂▂</td></tr></table><br/></div><div class=\"wandb-col\"><h3>Run summary:</h3><br/><table class=\"wandb\"><tr><td>Test Accuracy Rate</td><td>0.89718</td></tr><tr><td>Test Error Rate</td><td>0.10282</td></tr><tr><td>Test F1 Score</td><td>0.89718</td></tr><tr><td>accuracy</td><td>1.0</td></tr><tr><td>best_epoch</td><td>2</td></tr><tr><td>best_val_loss</td><td>0.32877</td></tr><tr><td>epoch</td><td>4</td></tr><tr><td>loss</td><td>0.00115</td></tr><tr><td>val_accuracy</td><td>0.88081</td></tr><tr><td>val_loss</td><td>0.35364</td></tr></table><br/></div></div>"
      ],
      "text/plain": [
       "<IPython.core.display.HTML object>"
      ]
     },
     "metadata": {},
     "output_type": "display_data"
    },
    {
     "data": {
      "text/html": [
       " View run <strong style=\"color:#cdcd00\">stellar-sweep-1</strong> at: <a href='https://wandb.ai/aiffel_minions/DLthon_CNN_Additional_data/runs/c655jbtu' target=\"_blank\">https://wandb.ai/aiffel_minions/DLthon_CNN_Additional_data/runs/c655jbtu</a><br/>Synced 5 W&B file(s), 2 media file(s), 12 artifact file(s) and 1 other file(s)"
      ],
      "text/plain": [
       "<IPython.core.display.HTML object>"
      ]
     },
     "metadata": {},
     "output_type": "display_data"
    },
    {
     "data": {
      "text/html": [
       "Find logs at: <code>./wandb/run-20240627_033035-c655jbtu/logs</code>"
      ],
      "text/plain": [
       "<IPython.core.display.HTML object>"
      ]
     },
     "metadata": {},
     "output_type": "display_data"
    },
    {
     "data": {
      "image/png": "[encoded data removed]",
      "text/plain": [
       "<Figure size 720x504 with 2 Axes>"
      ]
     },
     "metadata": {
      "needs_background": "light"
     },
     "output_type": "display_data"
    }
   ],
   "source": [
    "# train()에 인자가 있으므로 wrapper function 정의\n",
    "def sweep_train():\n",
    "    train(default_config=default_config, X_test=X_test, y_test=y_test)\n",
    "\n",
    "# 팀프로젝트 내에서 sweep 실행\n",
    "sweep_id = wandb.sweep(sweep_config,\n",
    "                       entity = 'aiffel_minions',\n",
    "                       project = 'DLthon_CNN_Additional_data')\n",
    "\n",
    "\n",
    "wandb.agent(sweep_id,\n",
    "            function=sweep_train,\n",
    "            count=1)"
   ]
  },
  {
   "cell_type": "code",
   "execution_count": null,
   "id": "598b44b2",
   "metadata": {},
   "outputs": [],
   "source": []
  }
 ],
 "metadata": {
  "colab": {
   "provenance": []
  },
  "kernelspec": {
   "display_name": "Python 3 (ipykernel)",
   "language": "python",
   "name": "python3"
  },
  "language_info": {
   "codemirror_mode": {
    "name": "ipython",
    "version": 3
   },
   "file_extension": ".py",
   "mimetype": "text/x-python",
   "name": "python",
   "nbconvert_exporter": "python",
   "pygments_lexer": "ipython3",
   "version": "3.9.7"
  }
 },
 "nbformat": 4,
 "nbformat_minor": 5
}
